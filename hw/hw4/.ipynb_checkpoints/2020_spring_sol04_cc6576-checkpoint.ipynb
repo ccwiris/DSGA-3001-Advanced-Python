{
 "cells": [
  {
   "cell_type": "markdown",
   "metadata": {},
   "source": [
    "# Advanced Python for Data Science\n",
    "### DS-GA-3001.001/.002\n",
    "\n",
    "### Homework Assignment 04\n",
    "### Due date: 03/02/2020, 10:00AM\n",
    "### Student's Name: Chengwei Chen\n",
    "### Student's e-mail: cc6576@nyu.edu"
   ]
  },
  {
   "cell_type": "markdown",
   "metadata": {},
   "source": [
    "# Problem 1 (100 points)\n",
    "\n",
    "The task is to optimize your solutions by using \"line_profiler\". \n",
    "\n",
    "Your submission \"2020_spring_sol04_yourid.ipynb\" will contain:\n",
    "- the first part is your original solution (a solution that you originally wrote); \n",
    "- the second part is your final, optimized solution after using line_profiler; \n",
    "- both of which will include the line_profiler results, and your detailed comments.\n",
    "\n",
    "\n",
    "The problem is to simulate a random motion of $n$ objects over a discrete time. \n",
    "\n",
    "Concretely, there is:\n",
    "- a unit square $[0,1]^2$, \n",
    "- $n$ points within the unit square, \n",
    "- and the time is discrete $t=0, 1, 2, \\dots$. \n",
    "\n",
    "At time $t=0$, the positions of $n$ points are randomly and uniformly distributed within the unit square; call these positions $\\{p_0, p_1, p_2,\\dots, p_{n-1}\\}$. \n",
    "\n",
    "At every time step $t \\geq 0$, every point $i$, chooses to randomly move in one of four directions: left, right, up, down. The distance is also random uniform number on $[0, \\delta]$, where $\\delta$ is given. \n",
    "\n",
    "That is, at every time step $t$ and for every $i$ we generate a random move as: \n",
    "$$ p_i := p_i + r_i \\cdot u_i$$\n",
    "where \n",
    "$$ r_i \\sim uniform[0, \\delta],$$ \n",
    "and \n",
    "$u_i$ represents a random direction, i.e. a randomly chosen vector among $(-1, 0), (1, 0), (0, -1), (0, 1)$.\n",
    "\n",
    "**Dynamics**\n",
    "\n",
    "Now, one would like to examine and plot the diagram of the minimum distance $d_{\\min}$ among these $n$ points over $T$ iterations.\n",
    "\n",
    "The task is to complete the rest of this notebook, where definitions of the functions main_orignal and main_optimized are given below. "
   ]
  },
  {
   "cell_type": "code",
   "execution_count": 1,
   "metadata": {},
   "outputs": [],
   "source": [
    "import numpy as np\n",
    "import random\n",
    "import matplotlib.pyplot as plt\n",
    "from itertools import combinations\n",
    "from itertools import starmap\n",
    "from operator import add\n",
    "import math"
   ]
  },
  {
   "cell_type": "code",
   "execution_count": 3,
   "metadata": {},
   "outputs": [],
   "source": [
    "%load_ext line_profiler"
   ]
  },
  {
   "cell_type": "markdown",
   "metadata": {},
   "source": [
    "---\n",
    "\n",
    "### The original code description: \n",
    "\n",
    "** TO BE POPULATED **\n",
    "\n",
    "** EXPLAIN THE SOLUTION: solution is explained in each function ** \n",
    "\n",
    "---\n"
   ]
  },
  {
   "cell_type": "code",
   "execution_count": 2,
   "metadata": {},
   "outputs": [],
   "source": [
    "def distance_calculate(points):\n",
    "    \"\"\"\n",
    "    points: n points generated randomly in the unit square\n",
    "    return: min_distance\n",
    "    Algorithm: in a unit square, the maximum distance is the diagonal which is square root of 2.\n",
    "    We first initialize the min_distance as square root of 2, then calculate the distance of each pair of points \n",
    "    based on a formula: sqrt((x1-x2)^2)+(y1-y2)^2). If the distance is less than min_distance, change min_distance \n",
    "    to that distance. After we calculate distance of all pairs of points, function will return the min_distance \n",
    "    at T iteration.\n",
    "    \"\"\"\n",
    "    min_distance = np.sqrt(2)  \n",
    "    for p1 in points:\n",
    "        for p2 in points:\n",
    "            if set(p1) != set(p2):\n",
    "                d = np.sqrt((p1[0] - p2[0])**2 + (p1[1] - p2[1])**2)\n",
    "                if d < min_distance:\n",
    "                    min_distance = d\n",
    "    return min_distance"
   ]
  },
  {
   "cell_type": "code",
   "execution_count": 3,
   "metadata": {},
   "outputs": [],
   "source": [
    "direction = [\"Left\", \"Right\", \"Up\", \"Down\"]\n",
    "def direction_move(points, delta):\n",
    "    \"\"\"\n",
    "    points: n points generated randomly in the unit square\n",
    "    u_i: randomly choose from four directions(Left, Right, Up, Down)\n",
    "    Left:(-1,0) Right:(1:0) Up:(0,1) Down:(0,-1)\n",
    "    delta(r_i): randomly choose from uniform distribution from [0,delta]\n",
    "    After we have calculated the minimum distance among n points at T iteration, \n",
    "    we need to move the points to four directions at random for calculating a \n",
    "    new minimum distance at T+1 iteration. \n",
    "    Note: we cannot move the point out of boundary. Maximum range is 1.\n",
    "    \"\"\"\n",
    "    for p in points:\n",
    "        r_i = np.random.uniform(0,delta)\n",
    "        u_i = random.choice(direction)\n",
    "        if(u_i == \"Left\"):\n",
    "            p[0] = min(max(p[0] - r_i, 0), 1)\n",
    "            p[1] = min(max(p[1], 0), 1)\n",
    "        elif(u_i == \"Right\"):\n",
    "            p[0] = min(max(p[0] + r_i, 0), 1)\n",
    "            p[1] = min(max(p[1], 0), 1)\n",
    "        elif(u_i == \"Up\"):\n",
    "            p[0] = min(max(p[0], 0), 1)\n",
    "            p[1] = min(max(p[1] + r_i, 0), 1)\n",
    "        else:\n",
    "            p[0] = min(max(p[0], 0), 1)\n",
    "            p[1] = min(max(p[1] - r_i, 0), 1)"
   ]
  },
  {
   "cell_type": "code",
   "execution_count": 4,
   "metadata": {},
   "outputs": [],
   "source": [
    "def main_original(n, delta, T): \n",
    "    \"\"\" \n",
    "    n: is the number of uniformly at random generated points in the unit square \n",
    "    delta: a maximal move of a point in one of four random directions: left, right, up, or down \n",
    "    T: number of iterations\n",
    "    return: \n",
    "    lst_of_min_distances: of the minimum distances among all n points over times: t=0, 1, 2, \\dots, T - 1,\n",
    "    it is a list of reals of length T\"\"\"\n",
    "    ## random position in unit square\n",
    "    p_is = np.random.rand(n,2)\n",
    "    \n",
    "    lst_min_distances = []\n",
    "    ## T iteration\n",
    "    for t in range(T):\n",
    "        min_dist = distance_calculate(p_is)\n",
    "        lst_min_distances.append(min_dist)\n",
    "        direction_move(list(p_is), delta)\n",
    "        \n",
    "    return lst_min_distances"
   ]
  },
  {
   "cell_type": "code",
   "execution_count": 5,
   "metadata": {},
   "outputs": [],
   "source": [
    "n = 1000\n",
    "delta = 1.0 / n\n",
    "T = 25"
   ]
  },
  {
   "cell_type": "code",
   "execution_count": 8,
   "metadata": {},
   "outputs": [],
   "source": [
    "%lprun -f main_original lst_min_dist = main_original(n, delta, T)"
   ]
  },
  {
   "cell_type": "code",
   "execution_count": 9,
   "metadata": {},
   "outputs": [
    {
     "name": "stdout",
     "output_type": "stream",
     "text": [
      "len: 25\n"
     ]
    },
    {
     "data": {
      "image/png": "[encoded data removed]",
      "text/plain": [
       "<Figure size 432x288 with 1 Axes>"
      ]
     },
     "metadata": {
      "needs_background": "light"
     },
     "output_type": "display_data"
    }
   ],
   "source": [
    "# plot the diagram of the minimum distances:\n",
    "# where we rescale distance with by factor $\\sqrt{n}$:\n",
    "print(\"len:\", len(lst_min_dist))\n",
    "plt.plot(range(T), np.array(lst_min_dist) * np.sqrt(n))\n",
    "plt.show()"
   ]
  },
  {
   "cell_type": "markdown",
   "metadata": {},
   "source": [
    "**From the line_profiler result, the total time is 218.335 s. The function 'distance_calculate' takes 99.8% of total time, and 'direction_move' takes 0.2% of total time. It's exactly what I expected because two for-loops' run time is O(n^2). I think next we could optimize the algorithm by rewriting the 'direction_move' and 'distance_calculate' function.**"
   ]
  },
  {
   "cell_type": "markdown",
   "metadata": {},
   "source": [
    "---\n",
    "\n",
    "### The optimized code description: \n",
    "\n",
    "** TO BE POPULATED **\n",
    "\n",
    "** EXPLAIN THE SOLUTION: solution is explained in each function. ** \n",
    "\n",
    "---\n"
   ]
  },
  {
   "cell_type": "code",
   "execution_count": 121,
   "metadata": {},
   "outputs": [],
   "source": [
    "import scipy.spatial.distance as dist"
   ]
  },
  {
   "cell_type": "code",
   "execution_count": 122,
   "metadata": {},
   "outputs": [],
   "source": [
    "def distance_calculate(points):\n",
    "    \"\"\"\n",
    "    optimize the 'distance_calculate' function by applying build-in function which would largely decrease runtime.\n",
    "    \"\"\"\n",
    "    min_distance = min(dist.pdist(points,\"euclidean\"))\n",
    "    return min_distance"
   ]
  },
  {
   "cell_type": "code",
   "execution_count": 123,
   "metadata": {},
   "outputs": [],
   "source": [
    "direction = [\"Left\", \"Right\", \"Up\", \"Down\"]\n",
    "def direction_move(points, delta):\n",
    "    \"\"\"\n",
    "    points: n points generated randomly in the unit square\n",
    "    u_i: randomly choose from four directions(Left, Right, Up, Down)\n",
    "    Left:(-1,0) Right:(1:0) Up:(0,1) Down:(0,-1)\n",
    "    delta(r_i): randomly choose from uniform distribution from [0,delta]\n",
    "    simplifying the function and removing redundant line to make it more efficient\n",
    "    \"\"\"\n",
    "    for p in points:\n",
    "        r_i = np.random.uniform(0,delta)\n",
    "        u_i = random.choice(direction)\n",
    "        if(u_i == \"Left\"):\n",
    "            p[0] = max(p[0]-r_i, 0)\n",
    "        elif(u_i == \"Right\"):\n",
    "            p[0] = min(p[0]+r_i, 1)\n",
    "        elif(u_i == \"Up\"):\n",
    "            p[1] = min(p[1]+r_i, 1)\n",
    "        else:\n",
    "            p[1] = max(p[1]-r_i, 0)"
   ]
  },
  {
   "cell_type": "code",
   "execution_count": 124,
   "metadata": {},
   "outputs": [],
   "source": [
    "def main_optimized(n, delta, T): \n",
    "    \"\"\" \n",
    "    n: is the number of uniformly at random generated points in the unit square \n",
    "    delta: a maximal move of a point in one of four random directions: left, right, up, or down \n",
    "    T: number of iterations\n",
    "    return: \n",
    "    lst_of_min_distances: of the minimum distances among all n points over times: t=0, 1, 2, \\dots, T - 1,\n",
    "    it is a list of reals of length T\"\"\"\n",
    "    p_is = np.random.rand(n,2)\n",
    "    lst_min_distances = []\n",
    "    for t in range(T):\n",
    "        min_distance = distance_calculate(p_is)\n",
    "        lst_min_distances.append(min_distance)\n",
    "        direction_move(p_is, delta)\n",
    "    \n",
    "    return lst_min_distances"
   ]
  },
  {
   "cell_type": "code",
   "execution_count": 125,
   "metadata": {},
   "outputs": [],
   "source": [
    "n = 1000\n",
    "delta = 1.0 / n\n",
    "T = 50"
   ]
  },
  {
   "cell_type": "code",
   "execution_count": 126,
   "metadata": {},
   "outputs": [],
   "source": [
    "%lprun -f main_optimized lst_min_dist = main_optimized(n, delta, T)"
   ]
  },
  {
   "cell_type": "code",
   "execution_count": 127,
   "metadata": {},
   "outputs": [
    {
     "name": "stdout",
     "output_type": "stream",
     "text": [
      "len: 50\n"
     ]
    },
    {
     "data": {
      "image/png": "[encoded data removed]",
      "text/plain": [
       "<Figure size 432x288 with 1 Axes>"
      ]
     },
     "metadata": {
      "needs_background": "light"
     },
     "output_type": "display_data"
    }
   ],
   "source": [
    "# plot the diagram of the minimum distances:\n",
    "# where we rescale distance by a factor $\\sqrt{n}$:\n",
    "print(\"len:\", len(lst_min_dist))\n",
    "plt.plot(range(T), np.array(lst_min_dist) / np.sqrt(n))\n",
    "plt.show()"
   ]
  },
  {
   "cell_type": "markdown",
   "metadata": {},
   "source": [
    "**I improved the runtime from 218.335 s to 4.47363 s by applying build-in function method for calculating pair distance and simplifying the 'direction_move' function. The time the function 'distance_calculate' took decreases from 99.8% to 87.7%.**"
   ]
  },
  {
   "cell_type": "code",
   "execution_count": null,
   "metadata": {},
   "outputs": [],
   "source": []
  }
 ],
 "metadata": {
  "kernelspec": {
   "display_name": "Python 3",
   "language": "python",
   "name": "python3"
  },
  "language_info": {
   "codemirror_mode": {
    "name": "ipython",
    "version": 3
   },
   "file_extension": ".py",
   "mimetype": "text/x-python",
   "name": "python",
   "nbconvert_exporter": "python",
   "pygments_lexer": "ipython3",
   "version": "3.7.1"
  }
 },
 "nbformat": 4,
 "nbformat_minor": 2
}
