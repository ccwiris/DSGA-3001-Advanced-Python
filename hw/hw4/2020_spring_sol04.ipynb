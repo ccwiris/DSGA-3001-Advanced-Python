{
 "cells": [
  {
   "cell_type": "markdown",
   "metadata": {},
   "source": [
    "# Advanced Python for Data Science\n",
    "### DS-GA-3001.001/.002\n",
    "\n",
    "### Homework Assignment 04\n",
    "### Due date: 03/02/2020, 10:00AM\n",
    "### Student's Name:\n",
    "### Student's e-mail:"
   ]
  },
  {
   "cell_type": "markdown",
   "metadata": {},
   "source": [
    "# Problem 1 (100 points)\n",
    "\n",
    "The task is to optimize your solutions by using \"line_profiler\". \n",
    "\n",
    "Your submission \"2020_spring_sol04_yourid.ipynb\" will contain:\n",
    "- the first part is your original solution (a solution that you originally wrote); \n",
    "- the second part is your final, optimized solution after using line_profiler; \n",
    "- both of which will include the line_profiler results, and your detailed comments.\n",
    "\n",
    "\n",
    "The problem is to simulate a random motion of $n$ objects over a discrete time. \n",
    "\n",
    "Concretely, there is:\n",
    "- a unit square $[0,1]^2$, \n",
    "- $n$ points within the unit square, \n",
    "- and the time is discrete $t=0, 1, 2, \\dots$. \n",
    "\n",
    "At time $t=0$, the positions of $n$ points are randomly and uniformly distributed within the unit square; call these positions $\\{p_0, p_1, p_2,\\dots, p_{n-1}\\}$. \n",
    "\n",
    "At every time step $t \\geq 0$, every point $i$, chooses to randomly move in one of four directions: left, right, up, down. The distance is also random uniform number on $[0, \\delta]$, where $\\delta$ is given. \n",
    "\n",
    "That is, at every time step $t$ and for every $i$ we generate a random move as: \n",
    "$$ p_i := p_i + r_i \\cdot u_i$$\n",
    "where \n",
    "$$ r_i \\sim uniform[0, \\delta],$$ \n",
    "and \n",
    "$u_i$ represents a random direction, i.e. a randomly chosen vector among $(-1, 0), (1, 0), (0, -1), (0, 1)$.\n",
    "\n",
    "**Dynamics**\n",
    "\n",
    "Now, one would like to examine and plot the diagram of the minimum distance $d_{\\min}$ among these $n$ points over $T$ iterations.\n",
    "\n",
    "The task is to complete the rest of this notebook, where definitions of the functions main_orignal and main_optimized are given below. "
   ]
  },
  {
   "cell_type": "code",
   "execution_count": 1,
   "metadata": {},
   "outputs": [],
   "source": [
    "import numpy as np\n",
    "import random\n",
    "import matplotlib.pyplot as plt"
   ]
  },
  {
   "cell_type": "code",
   "execution_count": 2,
   "metadata": {},
   "outputs": [],
   "source": [
    "%load_ext line_profiler"
   ]
  },
  {
   "cell_type": "markdown",
   "metadata": {},
   "source": [
    "The main idea of the original solution:\n",
    "- Initialize n points, moving directions and an empty list to store minimal distance for each step\n",
    "- Loop over each step:\\\n",
    "    1) loop over each point to get new point\n",
    "         1.1 Get random move r_i from uniform distribution[0, delta]\n",
    "         1.2 Randomly choose a direction\n",
    "         1.3 Calculate new coordinate for the point\n",
    "         1.4 Constrain the moved point within the unit square\n",
    "    2) loop over each pair to get minimal distance"
   ]
  },
  {
   "cell_type": "code",
   "execution_count": 3,
   "metadata": {},
   "outputs": [],
   "source": [
    "def main_original(n, delta, T): \n",
    "    \"\"\" \n",
    "    n: is the number of uniformly at random generated points in the unit square \n",
    "    delta: a maximal move of a point in one of four random directions: left, right, up, or down \n",
    "    T: number of iterations\n",
    "    return: \n",
    "    lst_of_min_distances: of the minimum distances among all n points over times: t=0, 1, 2, \\dots, T - 1,\n",
    "    it is a list of reals of length T\"\"\"\n",
    "    \n",
    "    # initialize n points\n",
    "    point_list = [[random.random(), random.random()] for i in range(n)]\n",
    "    \n",
    "    # initialize moving directions\n",
    "    direction_list= [[-1,0], [1,0], [0,-1], [0,1]]\n",
    "    \n",
    "    lst_of_min_distances = []\n",
    "\n",
    "    for step in range(T):\n",
    "        for idx in range(len(point_list)):\n",
    "            p_i = point_list[idx]\n",
    "            r_i = random.uniform(0, delta)\n",
    "            u_i = np.array(random.choice(direction_list))\n",
    "            # calculate new coordinates for each point\n",
    "            p_i_new = p_i + r_i * u_i\n",
    "            # constrain the points to be within the unit square\n",
    "            point_list[idx] = [min(max(p_i_new[0], 0), 1), min(max(p_i_new[1], 0), 1)]\n",
    "        \n",
    "        # naive way to find the minimal distance\n",
    "        min_dist = float('inf')\n",
    "\n",
    "        for idx_1, point_1 in enumerate(point_list):\n",
    "            for idx_2, point_2 in enumerate(point_list):\n",
    "                if idx_1 < idx_2:\n",
    "                    dist = np.sqrt((point_1[0] - point_2[0])**2 + (point_1[1] - point_2[1])**2)\n",
    "                    min_dist = min(min_dist, dist)\n",
    "\n",
    "        lst_of_min_distances.append(min_dist)\n",
    "    \n",
    "    return lst_of_min_distances"
   ]
  },
  {
   "cell_type": "code",
   "execution_count": 4,
   "metadata": {},
   "outputs": [],
   "source": [
    "n = 1000\n",
    "delta = 1.0 / n\n",
    "T = 25"
   ]
  },
  {
   "cell_type": "code",
   "execution_count": 11,
   "metadata": {},
   "outputs": [],
   "source": [
    "%lprun -f main_original lst_min_dist = main_original(n, delta, T)"
   ]
  },
  {
   "cell_type": "code",
   "execution_count": 12,
   "metadata": {},
   "outputs": [
    {
     "name": "stdout",
     "output_type": "stream",
     "text": [
      "len: 50\n"
     ]
    },
    {
     "data": {
      "image/png": "[encoded data removed]",
      "text/plain": [
       "<Figure size 432x288 with 1 Axes>"
      ]
     },
     "metadata": {
      "needs_background": "light"
     },
     "output_type": "display_data"
    }
   ],
   "source": [
    "# plot the diagram of the minimum distances:\n",
    "# where we rescale distance with by factor $\\sqrt{n}$:\n",
    "print(\"len:\", len(lst_min_dist))\n",
    "plt.plot(range(T), np.squeeze(np.array(lst_min_dist)) * np.sqrt(n))\n",
    "plt.show()"
   ]
  },
  {
   "cell_type": "markdown",
   "metadata": {},
   "source": [
    "Timer unit: 1e-06 s\n",
    "\n",
    "Total time: 148.865 s\n",
    "File: <ipython-input-3-08290b8bdab6>\n",
    "Function: main_original at line 1\n",
    "\n",
    "Line #      Hits         Time  Per Hit   % Time  Line Contents\n",
    "==============================================================\n",
    "     1                                           def main_original(n, delta, T): \n",
    "     2                                               \"\"\" \n",
    "     3                                               n: is the number of uniformly at random generated points in the unit square \n",
    "     4                                               delta: a maximal move of a point in one of four random directions: left, right, up, or down \n",
    "     5                                               T: number of iterations\n",
    "     6                                               return: \n",
    "     7                                               lst_of_min_distances: of the minimum distances among all n points over times: t=0, 1, 2, \\dots, T - 1,\n",
    "     8                                               it is a list of reals of length T\"\"\"\n",
    "     9                                               \n",
    "    10                                               # initialize n points\n",
    "    11         1       1032.0   1032.0      0.0      point_list = [[random.random(), random.random()] for i in range(n)]\n",
    "    12                                               \n",
    "    13                                               # initialize moving directions\n",
    "    14         1          4.0      4.0      0.0      direction_list= [[-1,0], [1,0], [0,-1], [0,1]]\n",
    "    15                                               \n",
    "    16         1          2.0      2.0      0.0      lst_of_min_distances = []\n",
    "    17                                           \n",
    "    18        51         46.0      0.9      0.0      for step in range(T):\n",
    "    19     50050      30515.0      0.6      0.0          for idx in range(len(point_list)):\n",
    "    20     50000      34409.0      0.7      0.0              p_i = point_list[idx]\n",
    "    21     50000      68796.0      1.4      0.0              r_i = random.uniform(0, delta)\n",
    "    22     50000     254058.0      5.1      0.2              u_i = np.array(random.choice(direction_list))\n",
    "    23                                                       # calculate new coordinates for each point\n",
    "    24     50000     251262.0      5.0      0.2              p_i_new = p_i + r_i * u_i\n",
    "    25                                                       # constrain the points to be within the unit square\n",
    "    26     50000     136480.0      2.7      0.1              point_list[idx] = [min(max(p_i_new[0], 0), 1), min(max(p_i_new[1], 0), 1)]\n",
    "    27                                                   \n",
    "    28                                                   # naive way to find the minimal distance\n",
    "    29        50        109.0      2.2      0.0          min_dist = float('inf')\n",
    "    30                                           \n",
    "    31     50050      32215.0      0.6      0.0          for idx_1, point_1 in enumerate(point_list):\n",
    "    32  50050000   28866056.0      0.6     19.4              for idx_2, point_2 in enumerate(point_list):\n",
    "    33  50000000   27479795.0      0.5     18.5                  if idx_1 < idx_2:\n",
    "    34  24975000   71906201.0      2.9     48.3                      dist = np.sqrt((point_1[0] - point_2[0])**2 + (point_1[1] - point_2[1])**2)\n",
    "    35  24975000   19804264.0      0.8     13.3                      min_dist = min(min_dist, dist)\n",
    "    36                                           \n",
    "    37        50        118.0      2.4      0.0          lst_of_min_distances.append(min_dist)\n",
    "    38                                               \n",
    "    39         1          0.0      0.0      0.0      return lst_of_min_distances\n"
   ]
  },
  {
   "cell_type": "markdown",
   "metadata": {},
   "source": [
    "### Optimized solution using pdist\n",
    "---\n",
    "\n",
    "Most of the time is spent in calculating the euclidean distance between each pair of points. We can use pdist function from scipy to make it faster. pdist calculates Pairwise distances between observations in n-dimensional space.\n",
    "\n",
    "---\n"
   ]
  },
  {
   "cell_type": "code",
   "execution_count": 13,
   "metadata": {},
   "outputs": [],
   "source": [
    "from scipy.spatial.distance import pdist\n",
    "\n",
    "def main_optimized(n, delta, T): \n",
    "    \"\"\" \n",
    "    n: is the number of uniformly at random generated points in the unit square \n",
    "    delta: a maximal move of a point in one of four random directions: left, right, up, or down \n",
    "    T: number of iterations\n",
    "    return: \n",
    "    lst_of_min_distances: of the minimum distances among all n points over times: t=0, 1, 2, \\dots, T - 1,\n",
    "    it is a list of reals of length T\"\"\"\n",
    "    \n",
    "    point_list = [[random.random(), random.random()] for i in range(n)]\n",
    "    \n",
    "    # initialize moving directions\n",
    "    direction_list= [[-1,0], [1,0], [0,-1], [0,1]]\n",
    "    \n",
    "    lst_of_min_distances = []\n",
    "        \n",
    "\n",
    "    for step in range(T):\n",
    "        for idx in range(len(point_list)):\n",
    "            p_i = point_list[idx]\n",
    "            r_i = random.uniform(0, delta)\n",
    "            u_i = np.array(random.choice(direction_list))\n",
    "            # calculate new coordinates for each point\n",
    "            p_i_new = p_i + r_i * u_i\n",
    "            # constrain the points to be within the unit square\n",
    "            point_list[idx] = [min(max(p_i_new[0], 0), 1), min(max(p_i_new[1], 0), 1)]\n",
    "        \n",
    "        # naive way to find the minimal distance\n",
    "        min_dist = min(pdist(point_list))\n",
    "\n",
    "        lst_of_min_distances.append(min_dist)\n",
    "    \n",
    "    return lst_of_min_distances, "
   ]
  },
  {
   "cell_type": "code",
   "execution_count": 14,
   "metadata": {},
   "outputs": [],
   "source": [
    "n = 1000\n",
    "delta = 1.0 / n\n",
    "T = 50"
   ]
  },
  {
   "cell_type": "code",
   "execution_count": 15,
   "metadata": {},
   "outputs": [],
   "source": [
    "%lprun -f main_optimized lst_min_dist = main_optimized(n, delta, T)"
   ]
  },
  {
   "cell_type": "code",
   "execution_count": 16,
   "metadata": {},
   "outputs": [
    {
     "name": "stdout",
     "output_type": "stream",
     "text": [
      "len: 1\n"
     ]
    },
    {
     "data": {
      "image/png": "[encoded data removed]",
      "text/plain": [
       "<Figure size 432x288 with 1 Axes>"
      ]
     },
     "metadata": {
      "needs_background": "light"
     },
     "output_type": "display_data"
    }
   ],
   "source": [
    "# plot the diagram of the minimum distances:\n",
    "# where we rescale distance by a factor $\\sqrt{n}$:\n",
    "print(\"len:\", len(lst_min_dist))\n",
    "plt.plot(range(T), np.squeeze(np.array(lst_min_dist) * np.sqrt(n)))\n",
    "plt.show()"
   ]
  },
  {
   "cell_type": "code",
   "execution_count": null,
   "metadata": {},
   "outputs": [],
   "source": [
    "Timer unit: 1e-06 s\n",
    "\n",
    "Total time: 2.53935 s\n",
    "File: <ipython-input-13-be5f32d16b92>\n",
    "Function: main_optimized at line 3\n",
    "\n",
    "Line #      Hits         Time  Per Hit   % Time  Line Contents\n",
    "==============================================================\n",
    "     3                                           def main_optimized(n, delta, T): \n",
    "     4                                               \"\"\" \n",
    "     5                                               n: is the number of uniformly at random generated points in the unit square \n",
    "     6                                               delta: a maximal move of a point in one of four random directions: left, right, up, or down \n",
    "     7                                               T: number of iterations\n",
    "     8                                               return: \n",
    "     9                                               lst_of_min_distances: of the minimum distances among all n points over times: t=0, 1, 2, \\dots, T - 1,\n",
    "    10                                               it is a list of reals of length T\"\"\"\n",
    "    11                                               \n",
    "    12         1        375.0    375.0      0.0      point_list = [[random.random(), random.random()] for i in range(n)]\n",
    "    13                                               \n",
    "    14                                               # initialize moving directions\n",
    "    15         1          1.0      1.0      0.0      direction_list= [[-1,0], [1,0], [0,-1], [0,1]]\n",
    "    16                                               \n",
    "    17         1          0.0      0.0      0.0      lst_of_min_distances = []\n",
    "    18                                                   \n",
    "    19                                           \n",
    "    20        51         41.0      0.8      0.0      for step in range(T):\n",
    "    21     50050      25219.0      0.5      1.0          for idx in range(len(point_list)):\n",
    "    22     50000      28982.0      0.6      1.1              p_i = point_list[idx]\n",
    "    23     50000      55756.0      1.1      2.2              r_i = random.uniform(0, delta)\n",
    "    24     50000     225064.0      4.5      8.9              u_i = np.array(random.choice(direction_list))\n",
    "    25                                                       # calculate new coordinates for each point\n",
    "    26     50000     199357.0      4.0      7.9              p_i_new = p_i + r_i * u_i\n",
    "    27                                                       # constrain the points to be within the unit square\n",
    "    28     50000     121218.0      2.4      4.8              point_list[idx] = [min(max(p_i_new[0], 0), 1), min(max(p_i_new[1], 0), 1)]\n",
    "    29                                                   \n",
    "    30                                                   # naive way to find the minimal distance\n",
    "    31        50    1883238.0  37664.8     74.2          min_dist = min(pdist(point_list))\n",
    "    32                                           \n",
    "    33        50        100.0      2.0      0.0          lst_of_min_distances.append(min_dist)\n",
    "    34                                               \n",
    "    35         1          1.0      1.0      0.0      return lst_of_min_distances,\n"
   ]
  },
  {
   "cell_type": "markdown",
   "metadata": {},
   "source": [
    "### Solution without pdist\n",
    "\n",
    "We can use numpy's broadcasting and vectorization to calculate the pairwise distance matrix D where\n",
    "\n",
    "D[i,j] = distance(p[i], p[j])\n",
    "\n",
    "if p is the array of points, shape of p would be (n,2)\n",
    "\n",
    "p[None, :] will be of shape (1,n,2)\n",
    "\n",
    "p[:,None] will be of shape (n,1,2)\n",
    "\n",
    "We obtain the pairwise difference m =  p[None,:] - p[:,None]\n",
    "\n",
    "We want to end up with an nxn matrix, so we sum over the axis with dimension 2. This is axis = 2 or axis = -1, since it is the first axis from the end\n",
    "\n",
    "np.sum((pts[None, :] - pts[:, None])**2, -1)\n",
    "\n",
    "\n",
    "Since the diagonal elements would be zero, we want to calculate the minimum of the non diagonal elements of this matrix. For that we can fill all the diagonal elements with infinity, and use np.min(D) to get the minimum distance\n",
    "\n",
    "\n"
   ]
  },
  {
   "cell_type": "code",
   "execution_count": 45,
   "metadata": {},
   "outputs": [],
   "source": [
    "def pdist2(pts):\n",
    "    return np.sqrt(np.sum((pts[None, :] - pts[:, None])**2, -1))\n",
    "\n",
    "def main_optimized_numpy(n, delta, T): \n",
    "    \"\"\" \n",
    "    n: is the number of uniformly at random generated points in the unit square \n",
    "    delta: a maximal move of a point in one of four random directions: left, right, up, or down \n",
    "    T: number of iterations\n",
    "    return: \n",
    "    lst_of_min_distances: of the minimum distances among all n points over times: t=0, 1, 2, \\dots, T - 1,\n",
    "    it is a list of reals of length T\"\"\"\n",
    "    \n",
    "    point_list = np.array([[random.random(), random.random()] for i in range(n)])\n",
    "    \n",
    "    # initialize moving directions\n",
    "    direction_list= [[-1,0], [1,0], [0,-1], [0,1]]\n",
    "    \n",
    "    lst_of_min_distances = []\n",
    "        \n",
    "\n",
    "    for step in range(T):\n",
    "        for idx in range(len(point_list)):\n",
    "            p_i = point_list[idx]\n",
    "            r_i = random.uniform(0, delta)\n",
    "            u_i = np.array(random.choice(direction_list))\n",
    "            # calculate new coordinates for each point\n",
    "            p_i_new = p_i + r_i * u_i\n",
    "            # constrain the points to be within the unit square\n",
    "            point_list[idx] = [min(max(p_i_new[0], 0), 1), min(max(p_i_new[1], 0), 1)]\n",
    "        \n",
    "        # naive way to find the minimal distance\n",
    "        d_mat = pdist2(point_list)\n",
    "        np.fill_diagonal(d_mat, np.inf)\n",
    "        \n",
    "        min_dist = np.min(d_mat)\n",
    "\n",
    "        lst_of_min_distances.append(min_dist)\n",
    "    \n",
    "    return lst_of_min_distances, "
   ]
  },
  {
   "cell_type": "code",
   "execution_count": 46,
   "metadata": {},
   "outputs": [],
   "source": [
    "%lprun -f main_optimized_numpy lst_min_dist = main_optimized_numpy(n, delta, T)"
   ]
  },
  {
   "cell_type": "code",
   "execution_count": 47,
   "metadata": {},
   "outputs": [
    {
     "name": "stdout",
     "output_type": "stream",
     "text": [
      "len: 1\n"
     ]
    },
    {
     "data": {
      "image/png": "[encoded data removed]",
      "text/plain": [
       "<Figure size 432x288 with 1 Axes>"
      ]
     },
     "metadata": {
      "needs_background": "light"
     },
     "output_type": "display_data"
    }
   ],
   "source": [
    "print(\"len:\", len(lst_min_dist))\n",
    "plt.plot(range(T), np.squeeze(np.array(lst_min_dist) * np.sqrt(n)))\n",
    "plt.show()"
   ]
  },
  {
   "cell_type": "code",
   "execution_count": null,
   "metadata": {},
   "outputs": [],
   "source": [
    "Timer unit: 1e-06 s\n",
    "\n",
    "Total time: 1.67867 s\n",
    "File: <ipython-input-45-a0d4faf2a033>\n",
    "Function: main_optimized_numpy at line 4\n",
    "\n",
    "Line #      Hits         Time  Per Hit   % Time  Line Contents\n",
    "==============================================================\n",
    "     4                                           def main_optimized_numpy(n, delta, T): \n",
    "     5                                               \"\"\" \n",
    "     6                                               n: is the number of uniformly at random generated points in the unit square \n",
    "     7                                               delta: a maximal move of a point in one of four random directions: left, right, up, or down \n",
    "     8                                               T: number of iterations\n",
    "     9                                               return: \n",
    "    10                                               lst_of_min_distances: of the minimum distances among all n points over times: t=0, 1, 2, \\dots, T - 1,\n",
    "    11                                               it is a list of reals of length T\"\"\"\n",
    "    12                                               \n",
    "    13         1        572.0    572.0      0.0      point_list = np.array([[random.random(), random.random()] for i in range(n)])\n",
    "    14                                               \n",
    "    15                                               # initialize moving directions\n",
    "    16         1          1.0      1.0      0.0      direction_list= [[-1,0], [1,0], [0,-1], [0,1]]\n",
    "    17                                               \n",
    "    18         1          1.0      1.0      0.0      lst_of_min_distances = []\n",
    "    19                                                   \n",
    "    20                                           \n",
    "    21        51         36.0      0.7      0.0      for step in range(T):\n",
    "    22     50050      27748.0      0.6      1.7          for idx in range(len(point_list)):\n",
    "    23     50000      31922.0      0.6      1.9              p_i = point_list[idx]\n",
    "    24     50000      56809.0      1.1      3.4              r_i = random.uniform(0, delta)\n",
    "    25     50000     216021.0      4.3     12.9              u_i = np.array(random.choice(direction_list))\n",
    "    26                                                       # calculate new coordinates for each point\n",
    "    27     50000     132305.0      2.6      7.9              p_i_new = p_i + r_i * u_i\n",
    "    28                                                       # constrain the points to be within the unit square\n",
    "    29     50000     169338.0      3.4     10.1              point_list[idx] = [min(max(p_i_new[0], 0), 1), min(max(p_i_new[1], 0), 1)]\n",
    "    30                                                   \n",
    "    31                                                   # naive way to find the minimal distance\n",
    "    32        50    1018644.0  20372.9     60.7          d_mat = pdist2(point_list)\n",
    "    33        50       1233.0     24.7      0.1          np.fill_diagonal(d_mat, np.inf)\n",
    "    34                                                   \n",
    "    35        50      23969.0    479.4      1.4          min_dist = np.min(d_mat)\n",
    "    36                                           \n",
    "    37        50         72.0      1.4      0.0          lst_of_min_distances.append(min_dist)\n",
    "    38                                               \n",
    "    39         1          1.0      1.0      0.0      return lst_of_min_distances,\n"
   ]
  },
  {
   "cell_type": "markdown",
   "metadata": {},
   "source": []
  },
  {
   "cell_type": "code",
   "execution_count": null,
   "metadata": {},
   "outputs": [],
   "source": []
  }
 ],
 "metadata": {
  "kernelspec": {
   "display_name": "Python 3",
   "language": "python",
   "name": "python3"
  },
  "language_info": {
   "codemirror_mode": {
    "name": "ipython",
    "version": 3
   },
   "file_extension": ".py",
   "mimetype": "text/x-python",
   "name": "python",
   "nbconvert_exporter": "python",
   "pygments_lexer": "ipython3",
   "version": "3.6.7"
  }
 },
 "nbformat": 4,
 "nbformat_minor": 4
}
