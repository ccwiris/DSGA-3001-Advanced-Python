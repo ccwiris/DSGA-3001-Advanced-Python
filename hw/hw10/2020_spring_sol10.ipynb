{
 "cells": [
  {
   "cell_type": "markdown",
   "metadata": {},
   "source": [
    "## Homework 10: GPUs\n",
    "\n",
    "## Due Date: May 04, 2020, 08:00am\n",
    "\n",
    "#### Firstname Lastname: \n",
    "\n",
    "#### E-mail: \n",
    "\n",
    "#### Enter your solutions and submit this notebook"
   ]
  },
  {
   "cell_type": "markdown",
   "metadata": {},
   "source": [
    "---\n",
    "\n",
    "**Problem 1 (100p)**\n",
    "\n",
    "\n",
    "Use PyOpenCL to write a program which will be able to run in parallel on GPUs. \n",
    "\n",
    "\n",
    "Your program will:\n",
    "\n",
    "- draw two random vectors $\\vec u$ and $\\vec v$ from $[0,1]^N$ where $N = 10^7$;\n",
    "\n",
    "\n",
    "- calculate and output similarity between $\\vec u$ and $\\vec v$.\n",
    "\n",
    "\n",
    "\n",
    "\n",
    "The similarity between two vectors $\\vec u$ and $\\vec v$ is defined here as a `cosine` value of the angle between them $\\measuredangle \\left( \\vec u, \\vec v \\right)$. That is, the program returns: \n",
    "\n",
    "$$\\cos \\left( \\measuredangle \\left( \\vec u, \\vec v \\right) \\right)$$.\n",
    "\n",
    "\n",
    "Note that the output is a real value and must belong to $[-1, 1]$."
   ]
  },
  {
   "cell_type": "code",
   "execution_count": 1,
   "metadata": {},
   "outputs": [],
   "source": [
    "!export NUMBA_ENABLE_CUDASIM=1"
   ]
  },
  {
   "cell_type": "markdown",
   "metadata": {},
   "source": [
    "We use the following relation that `cosine`of the angle between two vectors is given by the ratio\n",
    "of their inner product and the product of its intensities: \n",
    "\n",
    "$$\\frac{(\\vec u, \\vec v)}{|\\vec u||\\vec v|}.$$\n",
    "\n",
    "               "
   ]
  },
  {
   "cell_type": "code",
   "execution_count": 4,
   "metadata": {},
   "outputs": [
    {
     "name": "stdout",
     "output_type": "stream",
     "text": [
      "time_in_secs: 2.17776132\n",
      "cosine_value: 0.75007637\n"
     ]
    }
   ],
   "source": [
    "# the same above algorithm but written in a different way\n",
    "from time import time\n",
    "import numpy as np\n",
    "import pyopencl as cl\n",
    "\n",
    "\n",
    "n = 10_000_000\n",
    "time_start = time()\n",
    "\n",
    "# generate random vectors\n",
    "u = np.random.rand(n).astype(np.float32)\n",
    "v = np.random.rand(n).astype(np.float32)\n",
    "\n",
    "ctx   = cl.create_some_context()\n",
    "queue = cl.CommandQueue(ctx)\n",
    "\n",
    "mf = cl.mem_flags\n",
    "u_g = cl.Buffer(ctx, mf.READ_ONLY | mf.COPY_HOST_PTR, hostbuf=u)\n",
    "v_g = cl.Buffer(ctx, mf.READ_ONLY | mf.COPY_HOST_PTR, hostbuf=v)\n",
    "\n",
    "prg = cl.Program(ctx, \"\"\"\n",
    "__kernel void fnct(\n",
    "__global const float *u_g, \n",
    "__global const float *v_g, \n",
    "__global float *uu_g,\n",
    "__global float *vv_g,\n",
    "__global float *uv_g){\n",
    "\n",
    "int gid = get_global_id(0);\n",
    "uu_g[gid] = u_g[gid] * u_g[gid];\n",
    "vv_g[gid] = v_g[gid] * v_g[gid];\n",
    "uv_g[gid] = u_g[gid] * v_g[gid];\n",
    "}\"\"\").build()\n",
    "\n",
    "uu_g = cl.Buffer(ctx, mf.WRITE_ONLY, u.nbytes)\n",
    "vv_g = cl.Buffer(ctx, mf.WRITE_ONLY, u.nbytes)\n",
    "uv_g = cl.Buffer(ctx, mf.WRITE_ONLY, u.nbytes)\n",
    "\n",
    "prg.fnct(queue, u.shape, None, u_g, v_g, uu_g, vv_g, uv_g)\n",
    "\n",
    "uu = np.empty_like(u)\n",
    "vv = np.empty_like(u)\n",
    "uv = np.empty_like(u)\n",
    "\n",
    "cl.enqueue_copy(queue, uu, uu_g)\n",
    "cl.enqueue_copy(queue, vv, vv_g)\n",
    "cl.enqueue_copy(queue, uv, uv_g)\n",
    "\n",
    "cosine_value = sum(uv) / np.sqrt(np.sum(uu) * np.sum(vv))\n",
    "\n",
    "print(\"time_in_secs: %0.8f\" % (time() - time_start))\n",
    "print(\"cosine_value: %0.8f\" % cosine_value)"
   ]
  },
  {
   "cell_type": "code",
   "execution_count": null,
   "metadata": {},
   "outputs": [],
   "source": []
  },
  {
   "cell_type": "code",
   "execution_count": null,
   "metadata": {},
   "outputs": [],
   "source": []
  }
 ],
 "metadata": {
  "kernelspec": {
   "display_name": "Python 3",
   "language": "python",
   "name": "python3"
  },
  "language_info": {
   "codemirror_mode": {
    "name": "ipython",
    "version": 3
   },
   "file_extension": ".py",
   "mimetype": "text/x-python",
   "name": "python",
   "nbconvert_exporter": "python",
   "pygments_lexer": "ipython3",
   "version": "3.7.5"
  }
 },
 "nbformat": 4,
 "nbformat_minor": 2
}
