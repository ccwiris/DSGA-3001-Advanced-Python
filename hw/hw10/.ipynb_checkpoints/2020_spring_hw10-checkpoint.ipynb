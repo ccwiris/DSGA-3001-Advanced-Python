{
 "cells": [
  {
   "cell_type": "markdown",
   "metadata": {},
   "source": [
    "## Homework 10: GPUs\n",
    "\n",
    "## Due Date: May 04, 2020, 08:00am\n",
    "\n",
    "#### Firstname Lastname: Chengwei Chen\n",
    "\n",
    "#### E-mail: \n",
    "\n",
    "#### Enter your solutions and submit this notebook"
   ]
  },
  {
   "cell_type": "markdown",
   "metadata": {},
   "source": [
    "---\n",
    "\n",
    "**Problem 1 (100p)**\n",
    "\n",
    "\n",
    "Use PyOpenCL to write a program which will be able to run in parallel on GPUs. \n",
    "\n",
    "\n",
    "Your program will:\n",
    "\n",
    "- draw two random vectors $\\vec u$ and $\\vec v$ from $[0,1]^N$ where $N = 10^7$;\n",
    "\n",
    "\n",
    "- calculate and output similarity between $\\vec u$ and $\\vec v$.\n",
    "\n",
    "\n",
    "\n",
    "\n",
    "The similarity between two vectors $\\vec u$ and $\\vec v$ is defined here as a `cosine` value of the angle between them $\\measuredangle \\left( \\vec u, \\vec v \\right)$. That is, the program returns: \n",
    "\n",
    "$$\\cos \\left( \\measuredangle \\left( \\vec u, \\vec v \\right) \\right)$$.\n",
    "\n",
    "\n",
    "Note that the output is a real value and must belong to $[-1, 1]$."
   ]
  },
  {
   "cell_type": "code",
   "execution_count": null,
   "metadata": {},
   "outputs": [],
   "source": []
  }
 ],
 "metadata": {
  "kernelspec": {
   "display_name": "Python 3",
   "language": "python",
   "name": "python3"
  },
  "language_info": {
   "codemirror_mode": {
    "name": "ipython",
    "version": 3
   },
   "file_extension": ".py",
   "mimetype": "text/x-python",
   "name": "python",
   "nbconvert_exporter": "python",
   "pygments_lexer": "ipython3",
   "version": "3.7.1"
  }
 },
 "nbformat": 4,
 "nbformat_minor": 2
}
