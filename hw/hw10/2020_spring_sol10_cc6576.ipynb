{
 "cells": [
  {
   "cell_type": "markdown",
   "metadata": {},
   "source": [
    "## Homework 10: GPUs\n",
    "\n",
    "## Due Date: May 04, 2020, 08:00am\n",
    "\n",
    "#### Firstname Lastname: Chengwei Chen\n",
    "\n",
    "#### E-mail: cc6576@nyu.edu\n",
    "\n",
    "#### Enter your solutions and submit this notebook"
   ]
  },
  {
   "cell_type": "markdown",
   "metadata": {},
   "source": [
    "---\n",
    "\n",
    "**Problem 1 (100p)**\n",
    "\n",
    "\n",
    "Use PyOpenCL to write a program which will be able to run in parallel on GPUs. \n",
    "\n",
    "\n",
    "Your program will:\n",
    "\n",
    "- draw two random vectors $\\vec u$ and $\\vec v$ from $[0,1]^N$ where $N = 10^7$;\n",
    "\n",
    "\n",
    "- calculate and output similarity between $\\vec u$ and $\\vec v$.\n",
    "\n",
    "\n",
    "\n",
    "\n",
    "The similarity between two vectors $\\vec u$ and $\\vec v$ is defined here as a `cosine` value of the angle between them $\\measuredangle \\left( \\vec u, \\vec v \\right)$. That is, the program returns: \n",
    "\n",
    "$$\\cos \\left( \\measuredangle \\left( \\vec u, \\vec v \\right) \\right)$$.\n",
    "\n",
    "\n",
    "Note that the output is a real value and must belong to $[-1, 1]$."
   ]
  },
  {
   "cell_type": "code",
   "execution_count": 12,
   "metadata": {},
   "outputs": [
    {
     "name": "stdout",
     "output_type": "stream",
     "text": [
      "0.7499447937570847\n"
     ]
    }
   ],
   "source": [
    "import pyopencl as cl  # Import the OpenCL GPU computing API\n",
    "import pyopencl.array as pycl_array  # Import PyOpenCL Array \n",
    "#(a Numpy array plus an OpenCL buffer object)\n",
    "import numpy as np  # Import Numpy number tools\n",
    "\n",
    "platform = cl.get_platforms()[0]\n",
    "device = platform.get_devices()[0]\n",
    "context = cl.create_some_context()  # Initialize the Context\n",
    "queue   = cl.CommandQueue(context)  # Instantiate a Queue\n",
    "\n",
    "N = 10_000_000\n",
    "# Create two random pyopencl arrays\n",
    "u = pycl_array.to_device(queue, np.random.rand(N, 1).astype(np.float32))\n",
    "v = pycl_array.to_device(queue, np.random.rand(N, 1).astype(np.float32))\n",
    "# pycl_array.to_device(queue, np.random.rand(10000000).astype(np.float32))\n",
    "\n",
    "# Create an empty pyopencl destination array\n",
    "res_c = pycl_array.empty_like(u) \n",
    "norm_u = pycl_array.empty_like(u)\n",
    "norm_v = pycl_array.empty_like(u)\n",
    "\n",
    "program = cl.Program(context, \"\"\"\n",
    "__kernel void cosine_similarity(__global const float *u, __global const float *v, __global float *s, __global float *norm_u,__global float *norm_v )\n",
    "{\n",
    "  int i = get_global_id(0);\n",
    "  s[i] = u[i]*v[i];\n",
    "  norm_u[i] = u[i]*u[i];\n",
    "  norm_v[i] = v[i]*v[i];\n",
    "}\"\"\").build()\n",
    "\n",
    "# Enqueue the program for execution and store the result in c\n",
    "program.cosine_similarity(queue, u.shape, None, u.data, v.data, res_c.data, norm_u.data, norm_v.data)\n",
    "\n",
    "s = np.sum(res_c.get())\n",
    "n_u = (np.sum(norm_u.get()))**0.5\n",
    "n_v = (np.sum(norm_v.get()))**0.5\n",
    "\n",
    "print(s / (n_u*n_v))\n",
    "# Check on CPU with Numpy:\n",
    "# print(np.dot(np.transpose(u), v) / (np.linalg.norm(u)*np.linalg.norm(v))) \n"
   ]
  },
  {
   "cell_type": "code",
   "execution_count": null,
   "metadata": {},
   "outputs": [],
   "source": []
  }
 ],
 "metadata": {
  "kernelspec": {
   "display_name": "Python 3",
   "language": "python",
   "name": "python3"
  },
  "language_info": {
   "codemirror_mode": {
    "name": "ipython",
    "version": 3
   },
   "file_extension": ".py",
   "mimetype": "text/x-python",
   "name": "python",
   "nbconvert_exporter": "python",
   "pygments_lexer": "ipython3",
   "version": "3.7.1"
  }
 },
 "nbformat": 4,
 "nbformat_minor": 2
}
