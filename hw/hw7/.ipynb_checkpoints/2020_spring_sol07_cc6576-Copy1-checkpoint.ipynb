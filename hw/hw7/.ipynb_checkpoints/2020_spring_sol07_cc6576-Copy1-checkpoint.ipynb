{
 "cells": [
  {
   "cell_type": "markdown",
   "metadata": {},
   "source": [
    "### Homework 07: Concurrency\n",
    "\n",
    "## Due Date: Apr 13, 2020, 08:00am\n",
    "\n",
    "#### Firstname Lastname: Chengwei Chen\n",
    "\n",
    "#### E-mail: cc6576@nyu.edu\n",
    "\n",
    "#### Enter your solutions and submit this notebook\n"
   ]
  },
  {
   "cell_type": "markdown",
   "metadata": {},
   "source": [
    "---\n",
    "\n",
    "**Problem 1** **(60 Points)**\n",
    "\n",
    "Let us consider the Gamma function, or the Euler integral of the second kind: \n",
    "\n",
    "$$\\Gamma(x) = \\int_{0} ^ \\infty t ^{x - 1} e^{-t} dt, $$\n",
    "\n",
    "and in this HW we consider real $x > 0$."
   ]
  },
  {
   "cell_type": "markdown",
   "metadata": {},
   "source": [
    "(Here is more on the Gamma function https://en.wikipedia.org/wiki/Gamma_function .\n",
    "It is not needed for this HW assignment.) "
   ]
  },
  {
   "cell_type": "markdown",
   "metadata": {},
   "source": [
    "**1.1 (Points 15)**: \n",
    "\n",
    "Write a function (in the cell below) that sequentially calculates the given Gamma integral.\n"
   ]
  },
  {
   "cell_type": "code",
   "execution_count": 1,
   "metadata": {},
   "outputs": [],
   "source": [
    "import numpy as np\n",
    "from time import time"
   ]
  },
  {
   "cell_type": "code",
   "execution_count": 2,
   "metadata": {},
   "outputs": [],
   "source": [
    "def calculate_gamma(x, bound_1, bound_2, number_of_steps):\n",
    "    # sequential version to calculate Gamma(x):\n",
    "    # where we approximate the given integral,\n",
    "    # like this a discrete sum in number_of_steps\n",
    "    # equidistant points on the interval [bound_1, bound_2]\n",
    "    \n",
    "    # return Gamma(x)\n",
    "    ts = time()\n",
    "    gamma = 0\n",
    "    for i in np.linspace(bound_1, bound_2, number_of_steps):\n",
    "        gamma = gamma + ((bound_2-bound_1)/number_of_steps)*(i**(x-1))*np.exp(-i)\n",
    "    print('Took {}ms'.format(time() - ts))\n",
    "    return gamma"
   ]
  },
  {
   "cell_type": "markdown",
   "metadata": {},
   "source": [
    "**1.2 (Points 5)** \n",
    "\n",
    "Evaluate, $\\Gamma(6)$ by using `calculate_gamma(x, bound_1, bound_2, number_of_steps)` and the error of this computation.\n",
    "\n",
    "\n",
    "As arguments, use `x=6, bound_1=0, bound_2=1000, number_of_steps=10_000_000`. We know that $\\Gamma(x) = x!$, so $\\Gamma(6) = 5! = 120$. \n"
   ]
  },
  {
   "cell_type": "code",
   "execution_count": 3,
   "metadata": {},
   "outputs": [
    {
     "name": "stdout",
     "output_type": "stream",
     "text": [
      "Took 39.265263080596924ms\n"
     ]
    }
   ],
   "source": [
    "gamma_6 = calculate_gamma(x=6, bound_1=0, bound_2=1000, number_of_steps=10000000)"
   ]
  },
  {
   "cell_type": "code",
   "execution_count": 4,
   "metadata": {},
   "outputs": [
    {
     "name": "stdout",
     "output_type": "stream",
     "text": [
      "119.99998799994694\n",
      "error =  1.2000053061456128e-05\n"
     ]
    }
   ],
   "source": [
    "print(gamma_6)\n",
    "print(\"error = \", 120-gamma_6)"
   ]
  },
  {
   "cell_type": "markdown",
   "metadata": {},
   "source": [
    "---\n",
    "\n",
    "Write two functions to calculate $\\Gamma(x)$ by using:\n",
    "\n",
    "\n",
    "\n",
    "**1.3.1 (Points 15)**\n",
    "**threading** with N=4 threads; \n",
    "\n",
    "**1.3.2 (Points 15)**\n",
    "**multiprocessing** with N=4 processes. \n",
    "\n",
    "\n",
    "**1.3.3 (Points 10)** \n",
    "Compare the times of the three versions and write a short explanation of what you are observing.\n",
    "\n",
    "How does the answer change when N=8 and why?\n",
    "\n",
    "    "
   ]
  },
  {
   "cell_type": "code",
   "execution_count": 5,
   "metadata": {},
   "outputs": [],
   "source": [
    "x = 6\n",
    "bound_1 = 0\n",
    "bound_2 = 1000\n",
    "number_of_steps = 10000000"
   ]
  },
  {
   "cell_type": "code",
   "execution_count": 6,
   "metadata": {},
   "outputs": [],
   "source": [
    "# Thread version\n",
    "from queue import Queue\n",
    "from threading import Thread\n",
    "from threading import Lock"
   ]
  },
  {
   "cell_type": "code",
   "execution_count": 7,
   "metadata": {
    "scrolled": false
   },
   "outputs": [
    {
     "name": "stdout",
     "output_type": "stream",
     "text": [
      "119.99998799994694 --> 40.321210861206055 ms\n",
      "error =  1.2000053061456128e-05\n"
     ]
    }
   ],
   "source": [
    "lock = Lock()\n",
    "gamma = 0\n",
    "def thread(q):\n",
    "    while True:\n",
    "        global gamma\n",
    "        chuck = q.get()\n",
    "        for i in chuck:\n",
    "            lock.acquire()\n",
    "            gamma = gamma + ((bound_2-bound_1)/number_of_steps)*(i**(x-1))*np.exp(-i)\n",
    "            lock.release()\n",
    "        q.task_done()\n",
    "\n",
    "chucks = [np.linspace(bound_1, bound_2, number_of_steps)[i:int(i+number_of_steps/4)] for i in range(bound_1, number_of_steps, int(number_of_steps/4))]\n",
    "        \n",
    "ts = time()\n",
    "q = Queue()\n",
    "num_threads = 4\n",
    "\n",
    "for i in range(num_threads):\n",
    "    worker = Thread(target=thread, args=(q, ))\n",
    "    worker.setDaemon(True)\n",
    "    worker.start()\n",
    "\n",
    "for chuck in chucks:\n",
    "    q.put(chuck)\n",
    "\n",
    "q.join()\n",
    "print(gamma, '-->', time()-ts,'ms')\n",
    "print(\"error = \", 120-gamma)"
   ]
  },
  {
   "cell_type": "code",
   "execution_count": 8,
   "metadata": {},
   "outputs": [],
   "source": [
    "# Multiprocessing version\n",
    "from multiprocessing.pool import Pool \n",
    "import functools"
   ]
  },
  {
   "cell_type": "code",
   "execution_count": 9,
   "metadata": {},
   "outputs": [
    {
     "name": "stdout",
     "output_type": "stream",
     "text": [
      "119.99998799994694 --> 25.4341881275177 ms\n",
      "error =  1.2000053061456128e-05\n"
     ]
    }
   ],
   "source": [
    "def multi_processes(x, bound_1, bound_2, number_of_steps, chuck):\n",
    "    gamma = 0\n",
    "    for i in chuck:\n",
    "        gamma = gamma + ((bound_2-bound_1)/number_of_steps)*(i**(x-1))*np.exp(-i)\n",
    "    return gamma\n",
    "\n",
    "chucks = [np.linspace(bound_1, bound_2, number_of_steps)[i:int(i+number_of_steps/4)] for i in range(bound_1, number_of_steps, int(number_of_steps/4))]\n",
    "\n",
    "multi_processes_gamma = functools.partial(multi_processes, x, bound_1, bound_2, number_of_steps)\n",
    "ts = time()\n",
    "with Pool(4) as p:\n",
    "    results = p.map(multi_processes_gamma, chucks)\n",
    "\n",
    "print(sum(results), '-->', time()-ts,'ms')\n",
    "print(\"error = \", 120-sum(results))"
   ]
  },
  {
   "cell_type": "markdown",
   "metadata": {},
   "source": [
    "------------\n",
    "\n",
    "**Explanation:**\n",
    "\n",
    "Comparing times of the three versions, multi-processing takes minimal time 25.434188. Threading takes more time than sequential version. \n",
    "\n",
    "------------"
   ]
  },
  {
   "cell_type": "code",
   "execution_count": 10,
   "metadata": {},
   "outputs": [
    {
     "name": "stdout",
     "output_type": "stream",
     "text": [
      "119.99998799994694 --> 42.29123306274414 ms\n",
      "error =  1.2000053061456128e-05\n"
     ]
    }
   ],
   "source": [
    "## N = 8\n",
    "# Thread version\n",
    "lock = Lock()\n",
    "gamma = 0\n",
    "def thread(q):\n",
    "    while True:\n",
    "        global gamma\n",
    "        chuck = q.get()\n",
    "        for i in chuck:\n",
    "            lock.acquire()\n",
    "            gamma = gamma + ((bound_2-bound_1)/number_of_steps)*(i**(x-1))*np.exp(-i) \n",
    "            lock.release()\n",
    "        q.task_done()\n",
    "\n",
    "chucks = [np.linspace(bound_1, bound_2, number_of_steps)[i:int(i+number_of_steps/8)] for i in range(bound_1, number_of_steps, int(number_of_steps/8))]\n",
    "        \n",
    "ts = time()\n",
    "q = Queue()\n",
    "num_threads = 8\n",
    "\n",
    "for i in range(num_threads):\n",
    "    worker = Thread(target=thread, args=(q, ))\n",
    "    worker.setDaemon(True)\n",
    "    worker.start()\n",
    "\n",
    "for chuck in chucks:\n",
    "    q.put(chuck)\n",
    "\n",
    "q.join()\n",
    "print(gamma, '-->', time()-ts,'ms')\n",
    "print(\"error = \", 120-gamma)"
   ]
  },
  {
   "cell_type": "code",
   "execution_count": 11,
   "metadata": {},
   "outputs": [
    {
     "name": "stdout",
     "output_type": "stream",
     "text": [
      "119.99998799994694 --> 23.738280057907104 ms\n",
      "error =  1.2000053061456128e-05\n"
     ]
    }
   ],
   "source": [
    "## N = 8\n",
    "# Multiprocessing version\n",
    "def multi_processes(x, bound_1, bound_2, number_of_steps, chuck):\n",
    "    gamma = 0\n",
    "    for i in chuck:\n",
    "        gamma = gamma + ((bound_2-bound_1)/number_of_steps)*(i**(x-1))*np.exp(-i)\n",
    "    return gamma\n",
    "\n",
    "chucks = [np.linspace(bound_1, bound_2, number_of_steps)[i:int(i+number_of_steps/8)] for i in range(bound_1, number_of_steps, int(number_of_steps/8))]\n",
    "\n",
    "multi_processes_gamma = functools.partial(multi_processes, x, bound_1, bound_2, number_of_steps)\n",
    "ts = time()\n",
    "with Pool(8) as p:\n",
    "    results = p.map(multi_processes_gamma, chucks)\n",
    "\n",
    "print(sum(results), '-->', time()-ts,'ms')\n",
    "print(\"error = \", 120-sum(results))"
   ]
  },
  {
   "cell_type": "markdown",
   "metadata": {},
   "source": [
    "------------\n",
    "\n",
    "**Explanation:**\n",
    "\n",
    "After changing number to 8, we observe that the threading method increases runtime, and multi-processing decreases runtime comparing number of 4. The reason why multi-processing has better performance is that the program is performing a task that was CPU bound and truly parallel in Python.\n",
    "\n",
    "\n",
    "------------"
   ]
  },
  {
   "cell_type": "markdown",
   "metadata": {},
   "source": [
    "---\n",
    "\n",
    "**Problem 2 (40 points)**\n",
    "\n",
    "__Website uptime__ is the time that a website or web service is available to the users over a given period.\n",
    "\n",
    "The task is to build an application that checks the uptime of websites. \n",
    "\n",
    "- The application should go over a list of website URLs and checks if those websites are up.\n",
    "- Instead of performing a classic HTTP GET request, it performs a HEAD request so that it does not affect traffic significantly.\n",
    "- If the HTTP status is in the danger ranges (400+, 500+), a message is casted. \n",
    "\n",
    "Here are some useful functions:"
   ]
  },
  {
   "cell_type": "code",
   "execution_count": 12,
   "metadata": {},
   "outputs": [],
   "source": [
    "#### _website uptimer_ ####\n",
    "\n",
    "import time\n",
    "import logging\n",
    "import requests\n",
    " \n",
    "class WebsiteDownException(Exception):\n",
    "    pass\n",
    " \n",
    "def ping_website(address, timeout=20):\n",
    "    \"\"\"\n",
    "    Check if a website is down. A website is considered down \n",
    "    if either the status_code >= 400 or if the timeout expires\n",
    "     \n",
    "    Throw a WebsiteDownException if any of the website down conditions are met\n",
    "    \"\"\"\n",
    "    try:\n",
    "        response = requests.head(address, timeout=timeout)\n",
    "        if response.status_code >= 400:\n",
    "            logging.warning(\"Website %s returned status_code=%s\" % (address, response.status_code))\n",
    "            raise WebsiteDownException()\n",
    "    except requests.exceptions.RequestException:\n",
    "        logging.warning(\"Timeout expired for website %s\" % address)\n",
    "        raise WebsiteDownException()\n",
    "         \n",
    "def check_website(address):\n",
    "    \"\"\"\n",
    "    Utility function: check if a website is down, if so, notify the user\n",
    "    \"\"\"\n",
    "    try:\n",
    "        ping_website(address)\n",
    "    except WebsiteDownException:\n",
    "        print('The websie ' + address + ' is down')"
   ]
  },
  {
   "cell_type": "markdown",
   "metadata": {},
   "source": [
    "---\n",
    "\n",
    "You need a website list to try our system out. Create your own list or use the following one. \n",
    "\n",
    "---"
   ]
  },
  {
   "cell_type": "code",
   "execution_count": 13,
   "metadata": {},
   "outputs": [],
   "source": [
    "WEBSITE_LIST = [\n",
    "    'http://amazon.co.uk',\n",
    "    'http://amazon.com',\n",
    "    'http://facebook.com',\n",
    "    'http://google.com',\n",
    "    'http://google.fr',\n",
    "    'http://google.es',\n",
    "    'http://google.co.uk',\n",
    "    'http://gmail.com',\n",
    "    'http://stackoverflow.com',\n",
    "    'http://github.com',\n",
    "    'http://heroku.com',\n",
    "    'http://really-cool-available-domain.com',\n",
    "    'http://djangoproject.com',\n",
    "    'http://rubyonrails.org',\n",
    "    'http://basecamp.com',\n",
    "    'http://trello.com',\n",
    "    'http://shopify.com',\n",
    "    'http://another-really-interesting-domain.co',\n",
    "    'http://airbnb.com',\n",
    "    'http://instagram.com',\n",
    "    'http://snapchat.com',\n",
    "    'http://youtube.com',\n",
    "    'http://baidu.com',\n",
    "    'http://yahoo.com',\n",
    "    'http://live.com',\n",
    "    'http://linkedin.com',\n",
    "    'http://netflix.com',\n",
    "    'http://wordpress.com',\n",
    "    'http://bing.com',\n",
    "]"
   ]
  },
  {
   "cell_type": "markdown",
   "metadata": {},
   "source": [
    "---\n",
    "\n",
    "A serial version of the _website uptimer_ can be written as: \n",
    "\n",
    "---\n"
   ]
  },
  {
   "cell_type": "code",
   "execution_count": 14,
   "metadata": {},
   "outputs": [
    {
     "name": "stderr",
     "output_type": "stream",
     "text": [
      "WARNING:root:Website http://netflix.com returned status_code=405\n"
     ]
    },
    {
     "name": "stdout",
     "output_type": "stream",
     "text": [
      "The websie http://netflix.com is down\n",
      "Time for Serial: 3.8986947536468506secs\n"
     ]
    }
   ],
   "source": [
    "import time\n",
    " \n",
    "start_time = time.time()\n",
    " \n",
    "for address in WEBSITE_LIST:\n",
    "    check_website(address)\n",
    "         \n",
    "end_time = time.time()        \n",
    " \n",
    "print(\"Time for Serial: %ssecs\" % (end_time - start_time))"
   ]
  },
  {
   "cell_type": "markdown",
   "metadata": {},
   "source": [
    "You should build two versions of the **website uptimer**, by using:\n",
    "\n",
    "**2.1 (Points 15)**\n",
    "**threading** with N=4 threads; \n",
    "\n",
    "**2.2 (Points 15)**\n",
    "**multiprocessing** with N=4 processes. \n",
    "\n",
    "\n",
    "**2.3 (Points 10)** \n",
    "\n",
    "Compare the times of the three versions and write a short explanation of what you are observing.\n",
    "\n",
    "How does the answer change when N=8 and why?\n"
   ]
  },
  {
   "cell_type": "code",
   "execution_count": 15,
   "metadata": {},
   "outputs": [
    {
     "name": "stderr",
     "output_type": "stream",
     "text": [
      "WARNING:root:Website http://netflix.com returned status_code=405\n"
     ]
    },
    {
     "name": "stdout",
     "output_type": "stream",
     "text": [
      "The websie http://netflix.com is down\n",
      "Time for Serial: 1.5670547485351562secs\n"
     ]
    }
   ],
   "source": [
    "from time import time\n",
    "# Thread version\n",
    "def thread_web(q):\n",
    "    while True:\n",
    "        chuck = q.get()\n",
    "        check_website(chuck)\n",
    "        q.task_done()\n",
    "        \n",
    "ts = time()\n",
    "q = Queue()\n",
    "num_threads = 4\n",
    "\n",
    "for i in range(num_threads):\n",
    "    worker = Thread(target=thread_web, args=(q, ))\n",
    "    worker.setDaemon(True)\n",
    "    worker.start()\n",
    "    \n",
    "for web in WEBSITE_LIST:\n",
    "    q.put(web)\n",
    "    \n",
    "q.join()\n",
    "\n",
    "print(\"Time for Serial: %ssecs\" % (time() - ts))"
   ]
  },
  {
   "cell_type": "code",
   "execution_count": 16,
   "metadata": {},
   "outputs": [
    {
     "name": "stderr",
     "output_type": "stream",
     "text": [
      "WARNING:root:Website http://netflix.com returned status_code=405\n"
     ]
    },
    {
     "name": "stdout",
     "output_type": "stream",
     "text": [
      "The websie http://netflix.com is down\n",
      "Time for Serial: 0.967993974685669secs\n"
     ]
    }
   ],
   "source": [
    "from time import time\n",
    "# Multiprocessing version\n",
    "ts = time()\n",
    "with Pool(4) as p:\n",
    "    results = p.map(check_website, WEBSITE_LIST)\n",
    "\n",
    "print(\"Time for Serial: %ssecs\" % (time() - ts))"
   ]
  },
  {
   "cell_type": "markdown",
   "metadata": {},
   "source": [
    "------------\n",
    "\n",
    "**Explanation:**\n",
    "\n",
    "Comparing times of the three versions, both threading and multi-processing version take less time than serial version, and the multi-processing version takes minimal time 0.96799.\n",
    "\n",
    "------------"
   ]
  },
  {
   "cell_type": "code",
   "execution_count": 17,
   "metadata": {},
   "outputs": [
    {
     "name": "stderr",
     "output_type": "stream",
     "text": [
      "WARNING:root:Website http://netflix.com returned status_code=405\n"
     ]
    },
    {
     "name": "stdout",
     "output_type": "stream",
     "text": [
      "The websie http://netflix.com is down\n",
      "Time for Serial: 0.7486000061035156secs\n"
     ]
    }
   ],
   "source": [
    "## N = 8\n",
    "# Thread version\n",
    "from time import time\n",
    "def thread_web(q):\n",
    "    while True:\n",
    "        chuck = q.get()\n",
    "        check_website(chuck)\n",
    "        q.task_done()\n",
    "        \n",
    "ts = time()\n",
    "q = Queue()\n",
    "num_threads = 8\n",
    "\n",
    "for i in range(num_threads):\n",
    "    worker = Thread(target=thread_web, args=(q, ))\n",
    "    worker.setDaemon(True)\n",
    "    worker.start()\n",
    "    \n",
    "for web in WEBSITE_LIST:\n",
    "    q.put(web)\n",
    "    \n",
    "q.join()\n",
    "\n",
    "print(\"Time for Serial: %ssecs\" % (time() - ts))"
   ]
  },
  {
   "cell_type": "code",
   "execution_count": 18,
   "metadata": {},
   "outputs": [
    {
     "name": "stderr",
     "output_type": "stream",
     "text": [
      "WARNING:root:Website http://netflix.com returned status_code=405\n"
     ]
    },
    {
     "name": "stdout",
     "output_type": "stream",
     "text": [
      "The websie http://netflix.com is down\n",
      "Time for Serial: 0.9068851470947266secs\n"
     ]
    }
   ],
   "source": [
    "## N = 8\n",
    "# Multiprocessing version\n",
    "from time import time\n",
    "\n",
    "ts = time()\n",
    "with Pool(8) as p:\n",
    "    results = p.map(check_website, WEBSITE_LIST)\n",
    "\n",
    "print(\"Time for Serial: %ssecs\" % (time() - ts))"
   ]
  },
  {
   "cell_type": "markdown",
   "metadata": {},
   "source": [
    "------------\n",
    "\n",
    "**Explanation:**\n",
    "\n",
    "After changing to number of 8, both threading and multi-processing version improve performance, but the threading version improve performance greater than multi-processing, 1.567054748 --> 0.748600006. \n",
    "\n",
    "Python has a GIL, which makes one thread to be executed at a time throughout this process. The majority of the time is spent waiting for the network. Also threads lower memory requirements, as they share the same memory space. This is why threading can provide a large speed increase.\n",
    "\n",
    "------------"
   ]
  },
  {
   "cell_type": "code",
   "execution_count": null,
   "metadata": {},
   "outputs": [],
   "source": []
  }
 ],
 "metadata": {
  "kernelspec": {
   "display_name": "Python 3",
   "language": "python",
   "name": "python3"
  },
  "language_info": {
   "codemirror_mode": {
    "name": "ipython",
    "version": 3
   },
   "file_extension": ".py",
   "mimetype": "text/x-python",
   "name": "python",
   "nbconvert_exporter": "python",
   "pygments_lexer": "ipython3",
   "version": "3.7.1"
  }
 },
 "nbformat": 4,
 "nbformat_minor": 2
}
