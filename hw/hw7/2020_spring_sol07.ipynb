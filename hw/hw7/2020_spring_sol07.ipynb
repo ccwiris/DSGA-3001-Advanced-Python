{
 "cells": [
  {
   "cell_type": "markdown",
   "metadata": {},
   "source": [
    "### Solutions - Homework 07: Concurrency\n",
    "\n",
    "## Due Date: Apr 13, 2020, 08:00am\n",
    "\n",
    "#### Firstname Lastname: \n",
    "\n",
    "#### E-mail: \n",
    "\n",
    "#### Enter your solutions and submit this notebook\n"
   ]
  },
  {
   "cell_type": "markdown",
   "metadata": {},
   "source": [
    "---\n",
    "\n",
    "**Problem 1** **(60 Points)**\n",
    "\n",
    "Let us consider the Gamma function, or the Euler integral of the second kind: \n",
    "\n",
    "$$\\Gamma(x) = \\int_{0} ^ \\infty t ^{x - 1} e^{-t} dt, $$\n",
    "\n",
    "and in this HW we consider real $x > 0$."
   ]
  },
  {
   "cell_type": "markdown",
   "metadata": {},
   "source": [
    "(Here is more on the Gamma function https://en.wikipedia.org/wiki/Gamma_function .\n",
    "It is not needed for this HW assignment.) "
   ]
  },
  {
   "cell_type": "markdown",
   "metadata": {},
   "source": [
    "**1.1 (Points 15)**: \n",
    "\n",
    "Write a function (in the cell below) that sequentially calculates the given Gamma integral.\n"
   ]
  },
  {
   "cell_type": "code",
   "execution_count": 52,
   "metadata": {},
   "outputs": [],
   "source": [
    "def calculate_gamma(x, bound_1, bound_2, number_of_steps):\n",
    "    # sequential version to calculate Gamma(x):\n",
    "    # where we approximate the given integral,\n",
    "    # like this a discrete sum in number_of_steps\n",
    "    # equidistant points on the interval [bound_1, bound_2]\n",
    "    \n",
    "    # return Gamma(x)\n",
    "\n",
    "    pass\n"
   ]
  },
  {
   "cell_type": "code",
   "execution_count": 53,
   "metadata": {},
   "outputs": [],
   "source": [
    "def calculate_gamma(x, bound_1, bound_2, number_of_steps):\n",
    "    # sequential version to calculate Gamma(x):\n",
    "    # where we approximate the given integral,\n",
    "    # like this a discrete sum in number_of_steps\n",
    "    # equidistant points on the interval [bound_1, bound_2]\n",
    "    \n",
    "    # return Gamma(x)\n",
    "    s = 0.0\n",
    "    for t in np.linspace(bound_1, bound_2, number_of_steps):\n",
    "        s += t ** (x - 1) * exp(-t) * ((bound_2 - bound_1) / number_of_steps)\n",
    "\n",
    "    return s"
   ]
  },
  {
   "cell_type": "markdown",
   "metadata": {},
   "source": [
    "**1.2 (Points 5)** \n",
    "\n",
    "Evaluate, $\\Gamma(6)$ by using `calculate_gamma(x, bound_1, bound_2, number_of_steps)` and the error of this computation.\n",
    "\n",
    "\n",
    "As arguments, use `x=6, bound_1=0, bound_2=1000, number_of_steps=10_000_000`. We know that $\\Gamma(x) = x!$, so $\\Gamma(6) = 5! = 120$. \n"
   ]
  },
  {
   "cell_type": "code",
   "execution_count": 54,
   "metadata": {},
   "outputs": [
    {
     "name": "stdout",
     "output_type": "stream",
     "text": [
      "-1.2000053061456128e-05\n"
     ]
    }
   ],
   "source": [
    "gamma_num = calculate_gamma(x=6, bound_1=0, bound_2=1000, number_of_steps=10_000_000)\n",
    "print(gamma_num - 120)"
   ]
  },
  {
   "cell_type": "markdown",
   "metadata": {},
   "source": [
    "---\n",
    "\n",
    "Write two functions to calculate $\\Gamma(x)$ by using:\n",
    "\n",
    "\n",
    "\n",
    "**1.3.1 (Points 15)**\n",
    "**threading** with N=4 threads; \n",
    "\n",
    "**1.3.2 (Points 15)**\n",
    "**multiprocessing** with N=4 processes. \n",
    "\n",
    "\n",
    "**1.3.3 (Points 10)** \n",
    "Compare the times of the three versions and write a short explanation of what you are observing.\n",
    "\n",
    "How does the answer change when N=8 and why?\n",
    "\n",
    "    "
   ]
  },
  {
   "cell_type": "code",
   "execution_count": 55,
   "metadata": {},
   "outputs": [
    {
     "name": "stdout",
     "output_type": "stream",
     "text": [
      "119.99995199994225 --> 6.642161846160889 ms\n"
     ]
    }
   ],
   "source": [
    "from queue import Queue\n",
    "from time import time\n",
    "from threading import Thread, Lock\n",
    "\n",
    "global integral \n",
    "integral = 0.0\n",
    "lock = Lock()\n",
    "\n",
    "class DownloadWorker(Thread):\n",
    "    def __init__(self, queue):\n",
    "        Thread.__init__(self)\n",
    "        self.queue = queue\n",
    "    \n",
    "    def run(self):\n",
    "        while True:\n",
    "            global integral \n",
    "            (x, bound_1, bound_2, number_of_steps) = self.queue.get()\n",
    "            lock.acquire()\n",
    "            integral += calculate_gamma(x, bound_1, bound_2, number_of_steps)\n",
    "            lock.release()\n",
    "            self.queue.task_done()\n",
    "    \n",
    "N = 4\n",
    "number_of_steps = 10_000_000\n",
    "bound_1 = 0 \n",
    "bound_2 = 1000\n",
    "x = 6\n",
    "\n",
    "ts = time()\n",
    "# Create a queue to communicate with the worker threads\n",
    "queue = Queue()\n",
    "    \n",
    "# Create N worker threads\n",
    "for _ in range(N):\n",
    "    worker = DownloadWorker(queue)\n",
    "    worker.daemon = True\n",
    "    worker.start()\n",
    "\n",
    "# Put the tasks into the queue as a tuple\n",
    "for i in range(N):\n",
    "    queue.put([x, i * (bound_2 - bound_1) / N, (i + 1)  * (bound_2 - bound_1) / N, \\\n",
    "           int(number_of_steps/N)])\n",
    "    \n",
    "\n",
    "queue.join()\n",
    "print(integral, '-->', time()-ts,'ms')       "
   ]
  },
  {
   "cell_type": "code",
   "execution_count": 56,
   "metadata": {},
   "outputs": [
    {
     "name": "stdout",
     "output_type": "stream",
     "text": [
      "119.99995199994225 --> 2.3473944664001465 ms\n"
     ]
    }
   ],
   "source": [
    "# multiprocessor version\n",
    "from time import time\n",
    "from multiprocessing.pool import Pool\n",
    "from math import exp, pi\n",
    "import numpy as np\n",
    "\n",
    "\n",
    "def calculate_gamma_parallel(input_values):\n",
    "    x, bound_1, bound_2, number_of_steps = input_values\n",
    "    s = 0\n",
    "    for t in np.linspace(bound_1, bound_2, number_of_steps):\n",
    "        s += t ** (x - 1) * exp(-t) * ((bound_2 - bound_1) / number_of_steps)\n",
    "    return s\n",
    "\n",
    "N = 4\n",
    "number_of_steps = 10_000_000\n",
    "bound_1 = 0 \n",
    "bound_2 = 1_000\n",
    "x = 6\n",
    "chunks = [[x, i * (bound_2 - bound_1) / N, (i + 1)  * (bound_2 - bound_1) / N, \\\n",
    "           int(number_of_steps/N)] for i in range(N)]\n",
    "\n",
    "ts = time()\n",
    "with Pool(N) as p:\n",
    "      results = p.map(calculate_gamma_parallel, chunks)\n",
    "\n",
    "print(sum(results), '-->', time()-ts,'ms') "
   ]
  },
  {
   "cell_type": "markdown",
   "metadata": {},
   "source": [
    "---\n",
    "\n",
    "**Problem 2 (40 points)**\n",
    "\n",
    "__Website uptime__ is the time that a website or web service is available to the users over a given period.\n",
    "\n",
    "The task is to build an application that checks the uptime of websites. \n",
    "\n",
    "- The application should go over a list of website URLs and checks if those websites are up.\n",
    "- Instead of performing a classic HTTP GET request, it performs a HEAD request so that it does not affect traffic significantly.\n",
    "- If the HTTP status is in the danger ranges (400+, 500+), a message is casted. \n",
    "\n",
    "Here are some useful functions:"
   ]
  },
  {
   "cell_type": "code",
   "execution_count": 57,
   "metadata": {},
   "outputs": [],
   "source": [
    "#### _website uptimer_ ####\n",
    "\n",
    "import time\n",
    "import logging\n",
    "import requests\n",
    " \n",
    "class WebsiteDownException(Exception):\n",
    "    pass\n",
    " \n",
    "def ping_website(address, timeout=20):\n",
    "    \"\"\"\n",
    "    Check if a website is down. A website is considered down \n",
    "    if either the status_code >= 400 or if the timeout expires\n",
    "     \n",
    "    Throw a WebsiteDownException if any of the website down conditions are met\n",
    "    \"\"\"\n",
    "    try:\n",
    "        response = requests.head(address, timeout=timeout)\n",
    "        if response.status_code >= 400:\n",
    "            logging.warning(\"Website %s returned status_code=%s\" % (address, response.status_code))\n",
    "            raise WebsiteDownException()\n",
    "    except requests.exceptions.RequestException:\n",
    "        logging.warning(\"Timeout expired for website %s\" % address)\n",
    "        raise WebsiteDownException()\n",
    "         \n",
    "def check_website(address):\n",
    "    \"\"\"\n",
    "    Utility function: check if a website is down, if so, notify the user\n",
    "    \"\"\"\n",
    "    try:\n",
    "        ping_website(address)\n",
    "    except WebsiteDownException:\n",
    "        print('The websie ' + address + ' is down')"
   ]
  },
  {
   "cell_type": "markdown",
   "metadata": {},
   "source": [
    "---\n",
    "\n",
    "You need a website list to try our system out. Create your own list or use the following one. \n",
    "\n",
    "---"
   ]
  },
  {
   "cell_type": "code",
   "execution_count": 60,
   "metadata": {},
   "outputs": [],
   "source": [
    "WEBSITE_LIST = [\n",
    "    'http://amazon.co.uk',\n",
    "    'http://amazon.com',\n",
    "    'http://facebook.com',\n",
    "    'http://google.com',\n",
    "    'http://google.fr',\n",
    "    'http://google.es',\n",
    "    'http://google.co.uk',\n",
    "    'http://gmail.com',\n",
    "    'http://stackoverflow.com',\n",
    "    'http://github.com',\n",
    "    'http://heroku.com',\n",
    "    'http://really-cool-available-domain.com',\n",
    "    'http://djangoproject.com',\n",
    "    'http://rubyonrails.org',\n",
    "    'http://basecamp.com',\n",
    "    'http://trello.com',\n",
    "    'http://shopify.com',\n",
    "    'http://another-really-interesting-domain.co',\n",
    "    'http://airbnb.com',\n",
    "    'http://instagram.com',\n",
    "    'http://snapchat.com',\n",
    "    'http://youtube.com',\n",
    "    'http://baidu.com',\n",
    "    'http://yahoo.com',\n",
    "    'http://live.com',\n",
    "    'http://linkedin.com',\n",
    "    'http://netflix.com',\n",
    "    'http://wordpress.com',\n",
    "    'http://bing.com',\n",
    "]"
   ]
  },
  {
   "cell_type": "markdown",
   "metadata": {},
   "source": [
    "---\n",
    "\n",
    "A serial version of the _website uptimer_ can be written as: \n",
    "\n",
    "---\n"
   ]
  },
  {
   "cell_type": "code",
   "execution_count": 61,
   "metadata": {},
   "outputs": [
    {
     "name": "stderr",
     "output_type": "stream",
     "text": [
      "WARNING:root:Timeout expired for website http://really-cool-available-domain.com\n"
     ]
    },
    {
     "name": "stdout",
     "output_type": "stream",
     "text": [
      "The websie http://really-cool-available-domain.com is down\n"
     ]
    },
    {
     "name": "stderr",
     "output_type": "stream",
     "text": [
      "WARNING:root:Timeout expired for website http://another-really-interesting-domain.co\n"
     ]
    },
    {
     "name": "stdout",
     "output_type": "stream",
     "text": [
      "The websie http://another-really-interesting-domain.co is down\n"
     ]
    },
    {
     "name": "stderr",
     "output_type": "stream",
     "text": [
      "WARNING:root:Website http://netflix.com returned status_code=405\n"
     ]
    },
    {
     "name": "stdout",
     "output_type": "stream",
     "text": [
      "The websie http://netflix.com is down\n",
      "Time for Serial: 13.558212757110596secs\n"
     ]
    }
   ],
   "source": [
    "import time\n",
    " \n",
    "start_time = time.time()\n",
    " \n",
    "for address in WEBSITE_LIST:\n",
    "    check_website(address)\n",
    "         \n",
    "end_time = time.time()        \n",
    " \n",
    "print(\"Time for Serial: %ssecs\" % (end_time - start_time))"
   ]
  },
  {
   "cell_type": "markdown",
   "metadata": {},
   "source": [
    "You should build two versions of the **website uptimer**, by using:\n",
    "\n",
    "**2.1 (Points 15)**\n",
    "**threading** with N=4 threads; \n",
    "\n",
    "**2.2 (Points 15)**\n",
    "**multiprocessing** with N=4 processes. \n",
    "\n",
    "\n",
    "**2.3 (Points 10)** \n",
    "\n",
    "Compare the times of the three versions and write a short explanation of what you are observing.\n",
    "\n",
    "How does the answer change when N=8 and why?\n"
   ]
  },
  {
   "cell_type": "code",
   "execution_count": 62,
   "metadata": {},
   "outputs": [
    {
     "name": "stderr",
     "output_type": "stream",
     "text": [
      "WARNING:root:Timeout expired for website http://really-cool-available-domain.com\n",
      "WARNING:root:Timeout expired for website http://another-really-interesting-domain.co\n"
     ]
    },
    {
     "name": "stdout",
     "output_type": "stream",
     "text": [
      "The websie http://really-cool-available-domain.com is down\n",
      "The websie http://another-really-interesting-domain.co is down\n"
     ]
    },
    {
     "name": "stderr",
     "output_type": "stream",
     "text": [
      "WARNING:root:Website http://netflix.com returned status_code=405\n"
     ]
    },
    {
     "name": "stdout",
     "output_type": "stream",
     "text": [
      "The websie http://netflix.com is down\n",
      "Time for ThreadedSquirrel: 3.7716572284698486secs\n"
     ]
    }
   ],
   "source": [
    "####\n",
    "#### Solution with threads ###\n",
    "####\n",
    "\n",
    "import time\n",
    "from queue import Queue\n",
    "from threading import Thread\n",
    " \n",
    "NUM_WORKERS = 4\n",
    "task_queue = Queue()\n",
    " \n",
    "def worker():\n",
    "    # Constantly check the queue for addresses\n",
    "    while True:\n",
    "        address = task_queue.get()\n",
    "        check_website(address)\n",
    "         \n",
    "        # Mark the processed task as done\n",
    "        task_queue.task_done()\n",
    "\n",
    "start_time = time.time()\n",
    "         \n",
    "# Create the worker threads\n",
    "threads = [Thread(target=worker) for _ in range(NUM_WORKERS)]\n",
    " \n",
    "# Add the websites to the task queue\n",
    "[task_queue.put(item) for item in WEBSITE_LIST]\n",
    " \n",
    "# Start all the workers\n",
    "[thread.start() for thread in threads]\n",
    " \n",
    "# Wait for all the tasks in the queue to be processed\n",
    "task_queue.join()\n",
    " \n",
    "         \n",
    "end_time = time.time()        \n",
    " \n",
    "print(\"Time for ThreadedSquirrel: %ssecs\" % (end_time - start_time))"
   ]
  },
  {
   "cell_type": "code",
   "execution_count": 63,
   "metadata": {},
   "outputs": [
    {
     "name": "stderr",
     "output_type": "stream",
     "text": [
      "WARNING:root:Timeout expired for website http://really-cool-available-domain.com\n"
     ]
    },
    {
     "name": "stdout",
     "output_type": "stream",
     "text": [
      "The websie http://really-cool-available-domain.com is down\n"
     ]
    },
    {
     "name": "stderr",
     "output_type": "stream",
     "text": [
      "WARNING:root:Timeout expired for website http://another-really-interesting-domain.co\n"
     ]
    },
    {
     "name": "stdout",
     "output_type": "stream",
     "text": [
      "The websie http://another-really-interesting-domain.co is down\n"
     ]
    },
    {
     "name": "stderr",
     "output_type": "stream",
     "text": [
      "WARNING:root:Website http://netflix.com returned status_code=405\n"
     ]
    },
    {
     "name": "stdout",
     "output_type": "stream",
     "text": [
      "The websie http://netflix.com is down\n",
      "Time for MultiProcessingSquirrel: 2.5546627044677734secs\n"
     ]
    }
   ],
   "source": [
    "####\n",
    "#### Solution with multiprocessing ###\n",
    "####\n",
    "\n",
    "import time\n",
    "# import socket\n",
    "import multiprocessing\n",
    " \n",
    "NUM_WORKERS = 4\n",
    " \n",
    "start_time = time.time()\n",
    " \n",
    "with multiprocessing.Pool(processes=NUM_WORKERS) as pool:\n",
    "    results = pool.map_async(check_website, WEBSITE_LIST)\n",
    "    results.wait()\n",
    "\n",
    "end_time = time.time()        \n",
    " \n",
    "print(\"Time for MultiProcessingSquirrel: %ssecs\" % (end_time - start_time))"
   ]
  },
  {
   "cell_type": "code",
   "execution_count": null,
   "metadata": {},
   "outputs": [],
   "source": []
  }
 ],
 "metadata": {
  "kernelspec": {
   "display_name": "Python 3",
   "language": "python",
   "name": "python3"
  },
  "language_info": {
   "codemirror_mode": {
    "name": "ipython",
    "version": 3
   },
   "file_extension": ".py",
   "mimetype": "text/x-python",
   "name": "python",
   "nbconvert_exporter": "python",
   "pygments_lexer": "ipython3",
   "version": "3.7.5"
  }
 },
 "nbformat": 4,
 "nbformat_minor": 2
}
