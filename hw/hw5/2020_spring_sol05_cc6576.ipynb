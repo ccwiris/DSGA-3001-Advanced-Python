{
 "cells": [
  {
   "cell_type": "markdown",
   "metadata": {},
   "source": [
    "## Homework 05:\n",
    "\n",
    "## Due Date: Mar 09, 2020, 10:00am\n",
    "\n",
    "#### Firstname Lastname: Chengwei Chen\n",
    "\n",
    "#### E-mail: cc6576@nyu.edu\n",
    "\n",
    "#### Enter your solutions and submit this notebook"
   ]
  },
  {
   "cell_type": "markdown",
   "metadata": {},
   "source": [
    "---\n",
    "\n",
    "### Part of Lecture 04\n",
    "\n",
    "---"
   ]
  },
  {
   "cell_type": "code",
   "execution_count": 1,
   "metadata": {},
   "outputs": [],
   "source": [
    "from itertools import product\n",
    "import numpy as np\n",
    "import matplotlib.pyplot as plt\n",
    "\n",
    "def build_grid(n):\n",
    "    '''defines the grid'''\n",
    "    G = np.zeros((n, n))\n",
    "    return G\n",
    "\n",
    "# def set_boundary_grid(G):\n",
    "#     '''set the boundary values'''\n",
    "#     n = G.shape[0]\n",
    "#     G[:, 0]  = np.ones((1, n))\n",
    "#     G[0, : ] = np.ones((1, n)) \n",
    "#     G[-1, :] = np.ones((1, n))\n",
    "#     G[:, -1] = np.ones((1, n))\n",
    "    \n",
    "# in this assignment we will consider real matrices;\n",
    "# hence we use the following function instead\n",
    "# to assign the boundary values for G\n",
    "def set_boundary_grid(G):\n",
    "    '''set the boundary values'''\n",
    "    n = G.shape[0]\n",
    "    G[:,  0] = [1.0] * n\n",
    "    G[0,  :] = [1.0] * n\n",
    "    G[-1, :] = [1.0] * n\n",
    "    G[:, -1] = [1.0] * n \n",
    "\n",
    "def plot_grid(G):\n",
    "    img = plt.imshow(G)\n",
    "    img.set_cmap('rainbow')\n",
    "    plt.axis('off')\n",
    "    plt.show()\n",
    "\n",
    "# using iterators to traverse the grid\n",
    "def iteration_gen(G):\n",
    "    n = G.shape[0]\n",
    "    indices = product(range(1, n-1), repeat=2)\n",
    "    for e in indices:\n",
    "        G[e]=(G[e[0] + 1, e[1]] + G[e[0] - 1, e[1]] + G[e[0], e[1] + 1] + G[e[0], e[1] - 1])/4\n",
    "    \n",
    "\n",
    "# using numpy built-in functions to compute the error\n",
    "def calc_error_np(G1, G2):\n",
    "    error = np.square(np.subtract(G1, G2)).mean()\n",
    "    return(error)\n",
    "\n",
    "# deep copy of G1 to G2\n",
    "def copy_array(G1, G2):\n",
    "    G2[:, :] = G1[:, :]\n",
    "\n",
    "    \n",
    "def solve_heat_equation4(n):\n",
    "    '''changing to both calc_error_np and iteration_gen functions'''\n",
    "    G = build_grid(n)\n",
    "    set_boundary_grid(G)\n",
    "    \n",
    "    G_prev = build_grid(n)\n",
    "    copy_array(G, G_prev)\n",
    "    \n",
    "    error = np.float(\"inf\")\n",
    "    while error > 1e-7:\n",
    "        iteration_gen(G)\n",
    "        error = calc_error_np(G, G_prev) \n",
    "        copy_array(G, G_prev)          \n",
    "    return(G)"
   ]
  },
  {
   "cell_type": "code",
   "execution_count": 2,
   "metadata": {},
   "outputs": [
    {
     "data": {
      "image/png": "[encoded data removed]",
      "text/plain": [
       "<Figure size 432x288 with 1 Axes>"
      ]
     },
     "metadata": {
      "needs_background": "light"
     },
     "output_type": "display_data"
    }
   ],
   "source": [
    "size_of_grid = 100\n",
    "G = build_grid(n=size_of_grid)\n",
    "set_boundary_grid(G)\n",
    "plot_grid(G) "
   ]
  },
  {
   "cell_type": "code",
   "execution_count": 3,
   "metadata": {},
   "outputs": [],
   "source": [
    "%load_ext line_profiler\n",
    "%lprun -f solve_heat_equation4 G4 = solve_heat_equation4(size_of_grid)"
   ]
  },
  {
   "cell_type": "code",
   "execution_count": 4,
   "metadata": {},
   "outputs": [
    {
     "data": {
      "image/png": "[encoded data removed]",
      "text/plain": [
       "<Figure size 432x288 with 1 Axes>"
      ]
     },
     "metadata": {
      "needs_background": "light"
     },
     "output_type": "display_data"
    }
   ],
   "source": [
    "plot_grid(G4)"
   ]
  },
  {
   "cell_type": "markdown",
   "metadata": {},
   "source": [
    "\n",
    "---"
   ]
  },
  {
   "cell_type": "markdown",
   "metadata": {},
   "source": [
    "# Problem 1. (100 points)\n",
    "\n",
    "\n",
    "In Lecture 04 we considered the heat equation over a homogeneous material for which an iteration is given by the following equation:\n",
    "$$\n",
    "f_{i,j} = \\frac{f_{i+1,j}+f_{i-1,j} + f_{i,j+1} + f_{i,j-1}}{4} \\,.\n",
    "$$\n",
    "\n",
    "This was implemented by: \n",
    "```\n",
    "# using iterators to traverse the grid\n",
    "def iteration_gen(G):\n",
    "\"\"\"the iteration function from lect04\"\"\"\n",
    "    n = G.shape[0]\n",
    "    indices = product(range(1, n-1), repeat=2)\n",
    "    for e in indices:\n",
    "        G[e]=(G[e[0] + 1, e[1]] + G[e[0] - 1, e[1]] + G[e[0], e[1] + 1] + G[e[0], e[1] - 1])/4\n",
    "```\n",
    "\n",
    "\n",
    "----\n",
    "\n",
    "Now imagine, you are given a non-homogeneous material for which the iteration, i.e. the corresponding equation,  depends on the position $(i, j)$ and is given by:\n",
    "$$\n",
    "f_{i,j} := \\frac{ h_{i + 1,j} f_{i + 1, j} + h_{i - 1,j} f_{i - 1,j} + h_{i,j + 1} f_{i,j+1} + h_{i,j - 1} f_{i,j-1}}{ h_{i + 1,j} + h_{i - 1,j} + h_{i,j + 1} + h_{i,j - 1} } \\,.\n",
    "$$\n",
    "Here \"weight\"\n",
    "$$h(i, j) = \\exp\\left(-\\frac{|i - j|} {\\sqrt{n}}\\right) \\,,$$\n",
    "corresponds to the point $(i, j)$, where $n$ is the size of the grid.\n",
    "\n",
    "----\n",
    "\n",
    "Write a new function:\n",
    "```\n",
    "def iteration_gen_nonhomogeneous(G):\n",
    "    \"\"\"the iteration function in hw05\"\"\"\n",
    "```\n",
    "to solve the non-homogeneous case defined as above. \n",
    "\n",
    "\n",
    "The task here is to examine run-time improvements that can be obtained by Cython for this non-homogeneous material. Consider **solve_heat_equation4** from Lect04, which now becomes.\n",
    "\n",
    "```\n",
    "def solve_heat_nonhomogeneous_equation4(n):\n",
    "    '''changing to both calc_error_np and iteration_gen functions'''\n",
    "    G = build_grid(n)\n",
    "    set_boundary_grid(G)\n",
    "    \n",
    "    G_prev = build_grid(n)\n",
    "    copy_array(G, G_prev)\n",
    "    \n",
    "    error = np.float(\"inf\")\n",
    "    while error > 1e-7:\n",
    "        iteration_gen_nonhomogeneous(G)\n",
    "        error = calc_error_np(G, G_prev) \n",
    "        copy_array(G, G_prev)          \n",
    "    return(G)\n",
    "```\n",
    "\n",
    "----\n",
    "\n",
    "Concretely, as presented in Lect05, perform the following steps and measure their run-times:\n",
    "\n",
    "(i) simply compile the python code with Cython, without any changes;\n",
    "\n",
    "\n",
    "(ii) introduce variables and arrays with ctypes (by using the command cdef);  \n",
    "\n",
    "\n",
    "(iii) besides (ii), also use the content of ndarray objects in order to efficiently access the data buffer of the arrays.\n",
    "\n",
    "---\n",
    "\n",
    "In the sequel of the notebook, as your solution, submit codes, run-times, and plots of the following tasks:\n",
    "\n",
    "**2.1 (30pt)** solve_heat_nonhomogeneous_equation4(100)\n",
    "\n",
    "**2.2 (10pt)** solve_heat_nonhomogeneous_equation4(100) when applied (i)  \n",
    "\n",
    "**2.3 (30pt)** solve_heat_nonhomogeneous_equation4(100) when applied (ii)  \n",
    "\n",
    "**2.4 (30pt)** solve_heat_nonhomogeneous_equation4(100) when applied (iii)  \n",
    "\n",
    "Notice that to obtain a best performance for the heat equation you also need to apply (i), (ii), (iii) to the functions called within \"solve_heat_equation4\".\n"
   ]
  },
  {
   "cell_type": "code",
   "execution_count": 2,
   "metadata": {},
   "outputs": [],
   "source": [
    "%load_ext Cython"
   ]
  },
  {
   "cell_type": "code",
   "execution_count": 3,
   "metadata": {},
   "outputs": [],
   "source": [
    "%load_ext line_profiler"
   ]
  },
  {
   "cell_type": "code",
   "execution_count": 4,
   "metadata": {},
   "outputs": [],
   "source": [
    "size_of_grid = 100"
   ]
  },
  {
   "cell_type": "markdown",
   "metadata": {},
   "source": [
    "### Part 1: solve_heat_equation4(100)"
   ]
  },
  {
   "cell_type": "code",
   "execution_count": 5,
   "metadata": {},
   "outputs": [],
   "source": [
    "def iteration_gen_nonhomogeneous(G):\n",
    "    \"\"\"the iteration function in hw05\"\"\"\n",
    "    n = G.shape[0]\n",
    "    indices = product(range(1, n-1), repeat=2)\n",
    "    for e in indices:\n",
    "        i = e[0]\n",
    "        j = e[1]\n",
    "        h_1 = np.exp(-np.abs(i+1-j)/np.sqrt(n))\n",
    "        h_2 = np.exp(-np.abs(i-1-j)/np.sqrt(n))\n",
    "        h_3 = np.exp(-np.abs(i-(j+1))/np.sqrt(n))\n",
    "        h_4 = np.exp(-np.abs(i-(j-1))/np.sqrt(n))\n",
    "        G[e] = (h_1*G[i+1, j] + h_2*G[i-1, j] + h_3*G[i, j+1] + h_4*G[i, j-1])/(h_1+h_2+h_3+h_4)\n"
   ]
  },
  {
   "cell_type": "code",
   "execution_count": 6,
   "metadata": {},
   "outputs": [],
   "source": [
    "def solve_heat_nonhomogeneous_equation4(n):\n",
    "    '''changing to both calc_error_np and iteration_gen functions'''\n",
    "    G = build_grid(n)\n",
    "    set_boundary_grid(G)\n",
    "\n",
    "    G_prev = build_grid(n)\n",
    "    copy_array(G, G_prev)\n",
    "\n",
    "    error = np.float(\"inf\")\n",
    "    while error > 1e-7:\n",
    "        iteration_gen_nonhomogeneous(G)\n",
    "        error = calc_error_np(G, G_prev) \n",
    "        copy_array(G, G_prev)          \n",
    "    return(G)"
   ]
  },
  {
   "cell_type": "code",
   "execution_count": 7,
   "metadata": {},
   "outputs": [
    {
     "data": {
      "image/png": "[encoded data removed]",
      "text/plain": [
       "<Figure size 432x288 with 1 Axes>"
      ]
     },
     "metadata": {
      "needs_background": "light"
     },
     "output_type": "display_data"
    }
   ],
   "source": [
    "%lprun -f solve_heat_nonhomogeneous_equation4 G = solve_heat_nonhomogeneous_equation4(size_of_grid)\n",
    "plot_grid(G)"
   ]
  },
  {
   "cell_type": "raw",
   "metadata": {},
   "source": [
    "### HERE COPY-PASTE THE OUTPUT FROM LINE-PROFILER:\n",
    "Timer unit: 1e-06 s\n",
    "\n",
    "Total time: 115.149 s\n",
    "File: <ipython-input-6-55a7ef3b79e3>\n",
    "Function: solve_heat_nonhomogeneous_equation4 at line 1\n",
    "\n",
    "Line #      Hits         Time  Per Hit   % Time  Line Contents\n",
    "==============================================================\n",
    "     1                                           def solve_heat_nonhomogeneous_equation4(n):\n",
    "     2                                               '''changing to both calc_error_np and iteration_gen functions'''\n",
    "     3         1        303.0    303.0      0.0      G = build_grid(n)\n",
    "     4         1         82.0     82.0      0.0      set_boundary_grid(G)\n",
    "     5                                           \n",
    "     6         1         16.0     16.0      0.0      G_prev = build_grid(n)\n",
    "     7         1         24.0     24.0      0.0      copy_array(G, G_prev)\n",
    "     8                                           \n",
    "     9         1          5.0      5.0      0.0      error = np.float(\"inf\")\n",
    "    10       310        536.0      1.7      0.0      while error > 1e-7:\n",
    "    11       309  115105536.0 372509.8    100.0          iteration_gen_nonhomogeneous(G)\n",
    "    12       309      37097.0    120.1      0.0          error = calc_error_np(G, G_prev) \n",
    "    13       309       4911.0     15.9      0.0          copy_array(G, G_prev)          \n",
    "    14         1          1.0      1.0      0.0      return(G)"
   ]
  },
  {
   "cell_type": "markdown",
   "metadata": {},
   "source": [
    "### Part 2: solve_heat_equation4(100) after applying (i)\n"
   ]
  },
  {
   "cell_type": "code",
   "execution_count": 8,
   "metadata": {},
   "outputs": [
    {
     "name": "stdout",
     "output_type": "stream",
     "text": [
      "The Cython extension is already loaded. To reload it, use:\n",
      "  %reload_ext Cython\n"
     ]
    }
   ],
   "source": [
    "%load_ext Cython"
   ]
  },
  {
   "cell_type": "code",
   "execution_count": 9,
   "metadata": {},
   "outputs": [],
   "source": [
    "%%cython \n",
    "# cython: linetrace=True\n",
    "# cython: binding=True\n",
    "# distutils: define_macros=CYTHON_TRACE_NOGIL=1\n",
    "# cython: profile=True\n",
    "\n",
    "from itertools import product\n",
    "import numpy as np\n",
    "import matplotlib.pyplot as plt\n",
    "\n",
    "def build_grid(n):\n",
    "    '''defines the grid'''\n",
    "    G = np.zeros((n, n))\n",
    "    return G\n",
    "    \n",
    "def set_boundary_grid(G):\n",
    "    '''set the boundary values'''\n",
    "    n = G.shape[0]\n",
    "    G[:,  0] = [1.0] * n\n",
    "    G[0,  :] = [1.0] * n\n",
    "    G[-1, :] = [1.0] * n\n",
    "    G[:, -1] = [1.0] * n \n",
    "\n",
    "def plot_grid(G):\n",
    "    img = plt.imshow(G)\n",
    "    img.set_cmap('rainbow')\n",
    "    plt.axis('off')\n",
    "    plt.show()\n",
    "\n",
    "def iteration_gen_nonhomogeneous(G):\n",
    "    \"\"\"the iteration function in hw05\"\"\"\n",
    "    n = G.shape[0]\n",
    "    indices = product(range(1, n-1), repeat=2)\n",
    "    for e in indices:\n",
    "        i = e[0]\n",
    "        j = e[1]\n",
    "        h_1 = np.exp(-np.abs(i+1-j)/np.sqrt(n))\n",
    "        h_2 = np.exp(-np.abs(i-1-j)/np.sqrt(n))\n",
    "        h_3 = np.exp(-np.abs(i-(j+1))/np.sqrt(n))\n",
    "        h_4 = np.exp(-np.abs(i-(j-1))/np.sqrt(n))\n",
    "        G[e] = (h_1*G[i+1, j] + h_2*G[i-1, j] + h_3*G[i, j+1] + h_4*G[i, j-1])/(h_1+h_2+h_3+h_4)\n",
    "\n",
    "def calc_error_np(G1, G2):\n",
    "    error = np.square(np.subtract(G1, G2)).mean()\n",
    "    return(error)\n",
    "\n",
    "def copy_array(G1, G2):\n",
    "    G2[:, :] = G1[:, :]\n",
    "\n",
    "def solve_heat_nonhomogeneous_equation4(n):\n",
    "    '''changing to both calc_error_np and iteration_gen functions'''\n",
    "    G = build_grid(n)\n",
    "    set_boundary_grid(G)\n",
    "\n",
    "    G_prev = build_grid(n)\n",
    "    copy_array(G, G_prev)\n",
    "\n",
    "    error = np.float(\"inf\")\n",
    "    while error > 1e-7:\n",
    "        iteration_gen_nonhomogeneous(G)\n",
    "        error = calc_error_np(G, G_prev) \n",
    "        copy_array(G, G_prev)          \n",
    "    return(G)"
   ]
  },
  {
   "cell_type": "code",
   "execution_count": 10,
   "metadata": {},
   "outputs": [
    {
     "data": {
      "image/png": "[encoded data removed]",
      "text/plain": [
       "<Figure size 432x288 with 1 Axes>"
      ]
     },
     "metadata": {
      "needs_background": "light"
     },
     "output_type": "display_data"
    }
   ],
   "source": [
    "%lprun -f solve_heat_nonhomogeneous_equation4 G = solve_heat_nonhomogeneous_equation4(size_of_grid)\n",
    "plot_grid(G)"
   ]
  },
  {
   "cell_type": "raw",
   "metadata": {},
   "source": [
    "### HERE COPY-PASTE THE OUTPUT FROM LINE-PROFILER:\n",
    "Timer unit: 1e-06 s\n",
    "\n",
    "Total time: 104.477 s\n",
    "File: /Users/chengweichen/.ipython/cython/_cython_magic_43b9e8bc2323592bda4745f59bff59cc.pyx\n",
    "Function: solve_heat_nonhomogeneous_equation4 at line 49\n",
    "\n",
    "Line #      Hits         Time  Per Hit   % Time  Line Contents\n",
    "==============================================================\n",
    "    49                                           def solve_heat_nonhomogeneous_equation4(n):\n",
    "    50                                               '''changing to both calc_error_np and iteration_gen functions'''\n",
    "    51         1        205.0    205.0      0.0      G = build_grid(n)\n",
    "    52         1        156.0    156.0      0.0      set_boundary_grid(G)\n",
    "    53                                           \n",
    "    54         1         64.0     64.0      0.0      G_prev = build_grid(n)\n",
    "    55         1         31.0     31.0      0.0      copy_array(G, G_prev)\n",
    "    56                                           \n",
    "    57         1         10.0     10.0      0.0      error = np.float(\"inf\")\n",
    "    58         1          1.0      1.0      0.0      while error > 1e-7:\n",
    "    59       309  104429376.0 337959.1    100.0          iteration_gen_nonhomogeneous(G)\n",
    "    60       309      41841.0    135.4      0.0          error = calc_error_np(G, G_prev) \n",
    "    61       309       4974.0     16.1      0.0          copy_array(G, G_prev)          \n",
    "    62         1          2.0      2.0      0.0      return(G)"
   ]
  },
  {
   "cell_type": "markdown",
   "metadata": {},
   "source": [
    "### Part 3: solve_heat_equation4(100) after applying (ii)"
   ]
  },
  {
   "cell_type": "code",
   "execution_count": 11,
   "metadata": {},
   "outputs": [
    {
     "name": "stdout",
     "output_type": "stream",
     "text": [
      "The Cython extension is already loaded. To reload it, use:\n",
      "  %reload_ext Cython\n"
     ]
    }
   ],
   "source": [
    "%load_ext Cython"
   ]
  },
  {
   "cell_type": "code",
   "execution_count": 12,
   "metadata": {
    "scrolled": false
   },
   "outputs": [],
   "source": [
    "%%cython \n",
    "# cython: linetrace=True\n",
    "# cython: binding=True\n",
    "# distutils: define_macros=CYTHON_TRACE_NOGIL=1\n",
    "# cython: profile=True\n",
    "\n",
    "from itertools import product\n",
    "import numpy as np\n",
    "import matplotlib.pyplot as plt\n",
    "\n",
    "def build_grid(n):\n",
    "    '''defines the grid'''\n",
    "    G = np.zeros((n, n))\n",
    "    return G\n",
    "    \n",
    "def set_boundary_grid(G):\n",
    "    '''set the boundary values'''\n",
    "    cdef int n = G.shape[0]\n",
    "    G[:,  0] = [1.0] * n\n",
    "    G[0,  :] = [1.0] * n\n",
    "    G[-1, :] = [1.0] * n\n",
    "    G[:, -1] = [1.0] * n \n",
    "\n",
    "def plot_grid(G):\n",
    "    img = plt.imshow(G)\n",
    "    img.set_cmap('rainbow')\n",
    "    plt.axis('off')\n",
    "    plt.show()\n",
    "\n",
    "\n",
    "def iteration_gen_nonhomogeneous(G):\n",
    "    \"\"\"the iteration function in hw05\"\"\"\n",
    "    cdef int n = G.shape[0]\n",
    "    indices = product(range(1, n-1), repeat=2)\n",
    "    cdef int i\n",
    "    cdef int j\n",
    "    cdef double h_1, h_2, h_3, h_4\n",
    "    for e in indices:\n",
    "        i = e[0]\n",
    "        j = e[1]\n",
    "        h_1 = np.exp(-np.abs(i+1-j)/np.sqrt(n))\n",
    "        h_2 = np.exp(-np.abs(i-1-j)/np.sqrt(n))\n",
    "        h_3 = np.exp(-np.abs(i-(j+1))/np.sqrt(n))\n",
    "        h_4 = np.exp(-np.abs(i-(j-1))/np.sqrt(n))\n",
    "        G[e] = (h_1*G[i+1, j] + h_2*G[i-1, j] + h_3*G[i, j+1] + h_4*G[i, j-1])/(h_1+h_2+h_3+h_4)\n",
    "\n",
    "\n",
    "def calc_error_np(G1, G2):\n",
    "    cdef double error = np.square(np.subtract(G1, G2)).mean()\n",
    "    return(error)\n",
    "\n",
    "def copy_array(G1, G2):\n",
    "    G2[:, :] = G1[:, :]\n",
    "\n",
    "def solve_heat_nonhomogeneous_equation4(n):\n",
    "    '''changing to both calc_error_np and iteration_gen functions'''\n",
    "    G = build_grid(n)\n",
    "    set_boundary_grid(G)\n",
    "\n",
    "    G_prev = build_grid(n)\n",
    "    copy_array(G, G_prev)\n",
    "\n",
    "    cdef float error = np.float(\"inf\")\n",
    "    while error > 1e-7:\n",
    "        iteration_gen_nonhomogeneous(G)\n",
    "        error = calc_error_np(G, G_prev) \n",
    "        copy_array(G, G_prev)          \n",
    "    return(G)"
   ]
  },
  {
   "cell_type": "code",
   "execution_count": 13,
   "metadata": {},
   "outputs": [
    {
     "data": {
      "image/png": "[encoded data removed]",
      "text/plain": [
       "<Figure size 432x288 with 1 Axes>"
      ]
     },
     "metadata": {
      "needs_background": "light"
     },
     "output_type": "display_data"
    }
   ],
   "source": [
    "%lprun -f solve_heat_nonhomogeneous_equation4 G = solve_heat_nonhomogeneous_equation4(size_of_grid)\n",
    "plot_grid(G)"
   ]
  },
  {
   "cell_type": "raw",
   "metadata": {},
   "source": [
    "### HERE COPY-PASTE THE OUTPUT FROM LINE-PROFILER:\n",
    "Timer unit: 1e-06 s\n",
    "\n",
    "Total time: 109.705 s\n",
    "File: /Users/chengweichen/.ipython/cython/_cython_magic_91d60da2526687543195ffb1e2727c7f.pyx\n",
    "Function: solve_heat_nonhomogeneous_equation4 at line 54\n",
    "\n",
    "Line #      Hits         Time  Per Hit   % Time  Line Contents\n",
    "==============================================================\n",
    "    54                                           def solve_heat_nonhomogeneous_equation4(n):\n",
    "    55                                               '''changing to both calc_error_np and iteration_gen functions'''\n",
    "    56         1         41.0     41.0      0.0      G = build_grid(n)\n",
    "    57         1         72.0     72.0      0.0      set_boundary_grid(G)\n",
    "    58                                           \n",
    "    59         1        379.0    379.0      0.0      G_prev = build_grid(n)\n",
    "    60         1       1101.0   1101.0      0.0      copy_array(G, G_prev)\n",
    "    61                                           \n",
    "    62         1         20.0     20.0      0.0      cdef float error = np.float(\"inf\")\n",
    "    63         1          1.0      1.0      0.0      while error > 1e-7:\n",
    "    64       309  109653145.0 354864.5    100.0          iteration_gen_nonhomogeneous(G)\n",
    "    65       309      45398.0    146.9      0.0          error = calc_error_np(G, G_prev) \n",
    "    66       309       4843.0     15.7      0.0          copy_array(G, G_prev)          \n",
    "    67         1         77.0     77.0      0.0      return(G)"
   ]
  },
  {
   "cell_type": "markdown",
   "metadata": {},
   "source": [
    "### Part 4: solve_heat_equation4(100) after applying (iii)"
   ]
  },
  {
   "cell_type": "code",
   "execution_count": 14,
   "metadata": {},
   "outputs": [
    {
     "name": "stdout",
     "output_type": "stream",
     "text": [
      "The Cython extension is already loaded. To reload it, use:\n",
      "  %reload_ext Cython\n"
     ]
    }
   ],
   "source": [
    "%load_ext Cython"
   ]
  },
  {
   "cell_type": "code",
   "execution_count": 15,
   "metadata": {},
   "outputs": [],
   "source": [
    "%%cython \n",
    "# cython: linetrace=True\n",
    "# cython: binding=True\n",
    "# distutils: define_macros=CYTHON_TRACE_NOGIL=1\n",
    "# cython: profile=True\n",
    "\n",
    "from itertools import product\n",
    "import numpy as np\n",
    "cimport numpy as np\n",
    "import matplotlib.pyplot as plt\n",
    "\n",
    "def build_grid(n):\n",
    "    '''defines the grid'''\n",
    "    cdef np.ndarray G = np.zeros((n, n))\n",
    "    return G\n",
    "    \n",
    "def set_boundary_grid(np.ndarray G):\n",
    "    '''set the boundary values'''\n",
    "    cdef int n = G.shape[0]\n",
    "    G[:,  0] = [1.0] * n\n",
    "    G[0,  :] = [1.0] * n\n",
    "    G[-1, :] = [1.0] * n\n",
    "    G[:, -1] = [1.0] * n \n",
    "\n",
    "def plot_grid(np.ndarray G):\n",
    "    img = plt.imshow(G)\n",
    "    img.set_cmap('rainbow')\n",
    "    plt.axis('off')\n",
    "    plt.show()\n",
    "\n",
    "\n",
    "def iteration_gen_nonhomogeneous(np.ndarray G):\n",
    "    \"\"\"the iteration function in hw05\"\"\"\n",
    "    cdef int n = G.shape[0]\n",
    "    indices = product(range(1, n-1), repeat=2)\n",
    "    cdef int i\n",
    "    cdef int j\n",
    "    cdef double h_1, h_2, h_3, h_4\n",
    "    for e in indices:\n",
    "        i = e[0]\n",
    "        j = e[1]\n",
    "        h_1 = np.exp(-np.abs(i+1-j)/np.sqrt(n))\n",
    "        h_2 = np.exp(-np.abs(i-1-j)/np.sqrt(n))\n",
    "        h_3 = np.exp(-np.abs(i-(j+1))/np.sqrt(n))\n",
    "        h_4 = np.exp(-np.abs(i-(j-1))/np.sqrt(n))\n",
    "        G[e] = (h_1*G[i+1, j] + h_2*G[i-1, j] + h_3*G[i, j+1] + h_4*G[i, j-1])/(h_1+h_2+h_3+h_4)\n",
    "\n",
    "def calc_error_np(np.ndarray G1, np.ndarray G2):\n",
    "    cdef double error = np.square(np.subtract(G1, G2)).mean()\n",
    "    return(error)\n",
    "\n",
    "def copy_array(np.ndarray G1, np.ndarray G2):\n",
    "    G2[:, :] = G1[:, :]\n",
    "\n",
    "def solve_heat_nonhomogeneous_equation4(n):\n",
    "    '''changing to both calc_error_np and iteration_gen functions'''\n",
    "    G = build_grid(n)\n",
    "    set_boundary_grid(G)\n",
    "\n",
    "    G_prev = build_grid(n)\n",
    "    copy_array(G, G_prev)\n",
    "\n",
    "    cdef float error = np.float(\"inf\")\n",
    "    while error > 1e-7:\n",
    "        iteration_gen_nonhomogeneous(G)\n",
    "        error = calc_error_np(G, G_prev) \n",
    "        copy_array(G, G_prev)          \n",
    "    return(G)"
   ]
  },
  {
   "cell_type": "code",
   "execution_count": 16,
   "metadata": {
    "scrolled": true
   },
   "outputs": [
    {
     "data": {
      "image/png": "[encoded data removed]",
      "text/plain": [
       "<Figure size 432x288 with 1 Axes>"
      ]
     },
     "metadata": {
      "needs_background": "light"
     },
     "output_type": "display_data"
    }
   ],
   "source": [
    "%lprun -f solve_heat_nonhomogeneous_equation4 G = solve_heat_nonhomogeneous_equation4(size_of_grid)\n",
    "plot_grid(G)"
   ]
  },
  {
   "cell_type": "raw",
   "metadata": {},
   "source": [
    "### HERE COPY-PASTE THE OUTPUT FROM LINE-PROFILER:\n",
    "Timer unit: 1e-06 s\n",
    "\n",
    "Total time: 103.559 s\n",
    "File: /Users/chengweichen/.ipython/cython/_cython_magic_77071a46e870d446496f7422725ebed1.pyx\n",
    "Function: solve_heat_nonhomogeneous_equation4 at line 54\n",
    "\n",
    "Line #      Hits         Time  Per Hit   % Time  Line Contents\n",
    "==============================================================\n",
    "    54                                           def solve_heat_nonhomogeneous_equation4(n):\n",
    "    55                                               '''changing to both calc_error_np and iteration_gen functions'''\n",
    "    56         1        153.0    153.0      0.0      G = build_grid(n)\n",
    "    57         1         99.0     99.0      0.0      set_boundary_grid(G)\n",
    "    58                                           \n",
    "    59         1        101.0    101.0      0.0      G_prev = build_grid(n)\n",
    "    60         1         39.0     39.0      0.0      copy_array(G, G_prev)\n",
    "    61                                           \n",
    "    62         1         10.0     10.0      0.0      cdef float error = np.float(\"inf\")\n",
    "    63         1          1.0      1.0      0.0      while error > 1e-7:\n",
    "    64       309  103510844.0 334986.6    100.0          iteration_gen_nonhomogeneous(G)\n",
    "    65       309      43346.0    140.3      0.0          error = calc_error_np(G, G_prev) \n",
    "    66       309       4729.0     15.3      0.0          copy_array(G, G_prev)          \n",
    "    67         1          3.0      3.0      0.0      return(G)"
   ]
  },
  {
   "cell_type": "raw",
   "metadata": {},
   "source": []
  }
 ],
 "metadata": {
  "kernelspec": {
   "display_name": "Python 3",
   "language": "python",
   "name": "python3"
  },
  "language_info": {
   "codemirror_mode": {
    "name": "ipython",
    "version": 3
   },
   "file_extension": ".py",
   "mimetype": "text/x-python",
   "name": "python",
   "nbconvert_exporter": "python",
   "pygments_lexer": "ipython3",
   "version": "3.7.1"
  },
  "toc": {
   "base_numbering": 1,
   "nav_menu": {},
   "number_sections": true,
   "sideBar": true,
   "skip_h1_title": false,
   "title_cell": "Table of Contents",
   "title_sidebar": "Contents",
   "toc_cell": false,
   "toc_position": {},
   "toc_section_display": true,
   "toc_window_display": false
  },
  "varInspector": {
   "cols": {
    "lenName": 16,
    "lenType": 16,
    "lenVar": 40
   },
   "kernels_config": {
    "python": {
     "delete_cmd_postfix": "",
     "delete_cmd_prefix": "del ",
     "library": "var_list.py",
     "varRefreshCmd": "print(var_dic_list())"
    },
    "r": {
     "delete_cmd_postfix": ") ",
     "delete_cmd_prefix": "rm(",
     "library": "var_list.r",
     "varRefreshCmd": "cat(var_dic_list()) "
    }
   },
   "types_to_exclude": [
    "module",
    "function",
    "builtin_function_or_method",
    "instance",
    "_Feature"
   ],
   "window_display": false
  }
 },
 "nbformat": 4,
 "nbformat_minor": 2
}
