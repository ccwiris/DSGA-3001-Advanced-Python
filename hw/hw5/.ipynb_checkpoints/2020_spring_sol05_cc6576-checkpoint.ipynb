{
 "cells": [
  {
   "cell_type": "markdown",
   "metadata": {},
   "source": [
    "## Homework 05:\n",
    "\n",
    "## Due Date: Mar 09, 2020, 10:00am\n",
    "\n",
    "#### Firstname Lastname: Chengwei Chen\n",
    "\n",
    "#### E-mail: cc6576@nyu.edu\n",
    "\n",
    "#### Enter your solutions and submit this notebook"
   ]
  },
  {
   "cell_type": "markdown",
   "metadata": {},
   "source": [
    "---\n",
    "\n",
    "### Part of Lecture 04\n",
    "\n",
    "---"
   ]
  },
  {
   "cell_type": "code",
   "execution_count": null,
   "metadata": {},
   "outputs": [],
   "source": [
    "from itertools import product\n",
    "import numpy as np\n",
    "import matplotlib.pyplot as plt\n",
    "\n",
    "def build_grid(n):\n",
    "    '''defines the grid'''\n",
    "    G = np.zeros((n, n))\n",
    "    return G\n",
    "\n",
    "# def set_boundary_grid(G):\n",
    "#     '''set the boundary values'''\n",
    "#     n = G.shape[0]\n",
    "#     G[:, 0]  = np.ones((1, n))\n",
    "#     G[0, : ] = np.ones((1, n)) \n",
    "#     G[-1, :] = np.ones((1, n))\n",
    "#     G[:, -1] = np.ones((1, n))\n",
    "    \n",
    "# in this assignment we will consider real matrices;\n",
    "# hence we use the following function instead\n",
    "# to assign the boundary values for G\n",
    "def set_boundary_grid(G):\n",
    "    '''set the boundary values'''\n",
    "    n = G.shape[0]\n",
    "    G[:,  0] = [1.0] * n\n",
    "    G[0,  :] = [1.0] * n\n",
    "    G[-1, :] = [1.0] * n\n",
    "    G[:, -1] = [1.0] * n \n",
    "\n",
    "def plot_grid(G):\n",
    "    img = plt.imshow(G)\n",
    "    img.set_cmap('rainbow')\n",
    "    plt.axis('off')\n",
    "    plt.show()\n",
    "\n",
    "# using iterators to traverse the grid\n",
    "def iteration_gen(G):\n",
    "    n = G.shape[0]\n",
    "    indices = product(range(1, n-1), repeat=2)\n",
    "    for e in indices:\n",
    "        G[e]=(G[e[0] + 1, e[1]] + G[e[0] - 1, e[1]] + G[e[0], e[1] + 1] + G[e[0], e[1] - 1])/4\n",
    "    \n",
    "\n",
    "# using numpy built-in functions to compute the error\n",
    "def calc_error_np(G1, G2):\n",
    "    error = np.square(np.subtract(G1, G2)).mean()\n",
    "    return(error)\n",
    "\n",
    "# deep copy of G1 to G2\n",
    "def copy_array(G1, G2):\n",
    "    G2[:, :] = G1[:, :]\n",
    "\n",
    "    \n",
    "def solve_heat_equation4(n):\n",
    "    '''changing to both calc_error_np and iteration_gen functions'''\n",
    "    G = build_grid(n)\n",
    "    set_boundary_grid(G)\n",
    "    \n",
    "    G_prev = build_grid(n)\n",
    "    copy_array(G, G_prev)\n",
    "    \n",
    "    error = np.float(\"inf\")\n",
    "    while error > 1e-7:\n",
    "        iteration_gen(G)\n",
    "        error = calc_error_np(G, G_prev) \n",
    "        copy_array(G, G_prev)          \n",
    "    return(G)"
   ]
  },
  {
   "cell_type": "code",
   "execution_count": null,
   "metadata": {},
   "outputs": [],
   "source": [
    "size_of_grid = 100\n",
    "G = build_grid(n=size_of_grid)\n",
    "set_boundary_grid(G)\n",
    "plot_grid(G) "
   ]
  },
  {
   "cell_type": "code",
   "execution_count": null,
   "metadata": {},
   "outputs": [],
   "source": [
    "%load_ext line_profiler\n",
    "%lprun -f solve_heat_equation4 G4 = solve_heat_equation4(size_of_grid)"
   ]
  },
  {
   "cell_type": "code",
   "execution_count": null,
   "metadata": {},
   "outputs": [],
   "source": [
    "plot_grid(G4)"
   ]
  },
  {
   "cell_type": "markdown",
   "metadata": {},
   "source": [
    "\n",
    "---"
   ]
  },
  {
   "cell_type": "markdown",
   "metadata": {},
   "source": [
    "# Problem 1. (100 points)\n",
    "\n",
    "\n",
    "In Lecture 04 we considered the heat equation over a homogeneous material for which an iteration is given by the following equation:\n",
    "$$\n",
    "f_{i,j} = \\frac{f_{i+1,j}+f_{i-1,j} + f_{i,j+1} + f_{i,j-1}}{4} \\,.\n",
    "$$\n",
    "\n",
    "This was implemented by: \n",
    "```\n",
    "# using iterators to traverse the grid\n",
    "def iteration_gen(G):\n",
    "\"\"\"the iteration function from lect04\"\"\"\n",
    "    n = G.shape[0]\n",
    "    indices = product(range(1, n-1), repeat=2)\n",
    "    for e in indices:\n",
    "        G[e]=(G[e[0] + 1, e[1]] + G[e[0] - 1, e[1]] + G[e[0], e[1] + 1] + G[e[0], e[1] - 1])/4\n",
    "```\n",
    "\n",
    "\n",
    "----\n",
    "\n",
    "Now imagine, you are given a non-homogeneous material for which the iteration, i.e. the corresponding equation,  depends on the position $(i, j)$ and is given by:\n",
    "$$\n",
    "f_{i,j} := \\frac{ h_{i + 1,j} f_{i + 1, j} + h_{i - 1,j} f_{i - 1,j} + h_{i,j + 1} f_{i,j+1} + h_{i,j - 1} f_{i,j-1}}{ h_{i + 1,j} + h_{i - 1,j} + h_{i,j + 1} + h_{i,j - 1} } \\,.\n",
    "$$\n",
    "Here \"weight\"\n",
    "$$h(i, j) = \\exp\\left(-\\frac{|i - j|} {\\sqrt{n}}\\right) \\,,$$\n",
    "corresponds to the point $(i, j)$, where $n$ is the size of the grid.\n",
    "\n",
    "----\n",
    "\n",
    "Write a new function:\n",
    "```\n",
    "def iteration_gen_nonhomogeneous(G):\n",
    "    \"\"\"the iteration function in hw05\"\"\"\n",
    "```\n",
    "to solve the non-homogeneous case defined as above. \n",
    "\n",
    "\n",
    "The task here is to examine run-time improvements that can be obtained by Cython for this non-homogeneous material. Consider **solve_heat_equation4** from Lect04, which now becomes.\n",
    "\n",
    "```\n",
    "def solve_heat_nonhomogeneous_equation4(n):\n",
    "    '''changing to both calc_error_np and iteration_gen functions'''\n",
    "    G = build_grid(n)\n",
    "    set_boundary_grid(G)\n",
    "    \n",
    "    G_prev = build_grid(n)\n",
    "    copy_array(G, G_prev)\n",
    "    \n",
    "    error = np.float(\"inf\")\n",
    "    while error > 1e-7:\n",
    "        iteration_gen_nonhomogeneous(G)\n",
    "        error = calc_error_np(G, G_prev) \n",
    "        copy_array(G, G_prev)          \n",
    "    return(G)\n",
    "```\n",
    "\n",
    "----\n",
    "\n",
    "Concretely, as presented in Lect05, perform the following steps and measure their run-times:\n",
    "\n",
    "(i) simply compile the python code with Cython, without any changes;\n",
    "\n",
    "\n",
    "(ii) introduce variables and arrays with ctypes (by using the command cdef);  \n",
    "\n",
    "\n",
    "(iii) besides (ii), also use the content of ndarray objects in order to efficiently access the data buffer of the arrays.\n",
    "\n",
    "---\n",
    "\n",
    "In the sequel of the notebook, as your solution, submit codes, run-times, and plots of the following tasks:\n",
    "\n",
    "**2.1 (30pt)** solve_heat_nonhomogeneous_equation4(100)\n",
    "\n",
    "**2.2 (10pt)** solve_heat_nonhomogeneous_equation4(100) when applied (i)  \n",
    "\n",
    "**2.3 (30pt)** solve_heat_nonhomogeneous_equation4(100) when applied (ii)  \n",
    "\n",
    "**2.4 (30pt)** solve_heat_nonhomogeneous_equation4(100) when applied (iii)  \n",
    "\n",
    "Notice that to obtain a best performance for the heat equation you also need to apply (i), (ii), (iii) to the functions called within \"solve_heat_equation4\".\n"
   ]
  },
  {
   "cell_type": "code",
   "execution_count": null,
   "metadata": {},
   "outputs": [],
   "source": [
    "%load_ext Cython"
   ]
  },
  {
   "cell_type": "code",
   "execution_count": null,
   "metadata": {},
   "outputs": [],
   "source": [
    "%load_ext line_profiler"
   ]
  },
  {
   "cell_type": "code",
   "execution_count": null,
   "metadata": {},
   "outputs": [],
   "source": [
    "size_of_grid = 100"
   ]
  },
  {
   "cell_type": "markdown",
   "metadata": {},
   "source": [
    "### Part 1: solve_heat_equation4(100)"
   ]
  },
  {
   "cell_type": "code",
   "execution_count": null,
   "metadata": {},
   "outputs": [],
   "source": []
  },
  {
   "cell_type": "code",
   "execution_count": null,
   "metadata": {},
   "outputs": [],
   "source": [
    "%lprun -f solve_heat_nonhomogeneous_equation4 G = solve_heat_nonhomogeneous_equation4(size_of_grid)\n",
    "plot_grid(G)"
   ]
  },
  {
   "cell_type": "raw",
   "metadata": {},
   "source": [
    "### HERE COPY-PASTE THE OUTPUT FROM LINE-PROFILER:\n"
   ]
  },
  {
   "cell_type": "raw",
   "metadata": {},
   "source": []
  },
  {
   "cell_type": "markdown",
   "metadata": {},
   "source": [
    "### Part 2: solve_heat_equation4(100) after applying (i)\n"
   ]
  },
  {
   "cell_type": "code",
   "execution_count": null,
   "metadata": {},
   "outputs": [],
   "source": [
    "%load_ext Cython"
   ]
  },
  {
   "cell_type": "code",
   "execution_count": null,
   "metadata": {},
   "outputs": [],
   "source": []
  },
  {
   "cell_type": "code",
   "execution_count": null,
   "metadata": {},
   "outputs": [],
   "source": [
    "%lprun -f solve_heat_nonhomogenous_equation4 G = solve_heat_nonhomogenous_equation4(size_of_grid)\n",
    "plot_grid(G)"
   ]
  },
  {
   "cell_type": "raw",
   "metadata": {},
   "source": [
    "### HERE COPY-PASTE THE OUTPUT FROM LINE-PROFILER:"
   ]
  },
  {
   "cell_type": "raw",
   "metadata": {},
   "source": []
  },
  {
   "cell_type": "markdown",
   "metadata": {},
   "source": [
    "### Part 3: solve_heat_equation4(100) after applying (ii)"
   ]
  },
  {
   "cell_type": "code",
   "execution_count": null,
   "metadata": {},
   "outputs": [],
   "source": []
  },
  {
   "cell_type": "code",
   "execution_count": null,
   "metadata": {},
   "outputs": [],
   "source": [
    "%lprun -f solve_heat_nonhomogenous_equation4 G = solve_heat_nonhomogenous_equation4(size_of_grid)\n",
    "plot_grid(G)"
   ]
  },
  {
   "cell_type": "code",
   "execution_count": null,
   "metadata": {},
   "outputs": [],
   "source": [
    "### HERE COPY-PASTE THE OUTPUT FROM LINE-PROFILER:"
   ]
  },
  {
   "cell_type": "raw",
   "metadata": {},
   "source": []
  },
  {
   "cell_type": "markdown",
   "metadata": {},
   "source": [
    "### Part 4: solve_heat_equation4(100) after applying (iii)"
   ]
  },
  {
   "cell_type": "code",
   "execution_count": null,
   "metadata": {},
   "outputs": [],
   "source": []
  },
  {
   "cell_type": "code",
   "execution_count": null,
   "metadata": {},
   "outputs": [],
   "source": [
    "%lprun -f solve_heat_nonhomogenous_equation4 G = solve_heat_nonhomogenous_equation4(size_of_grid)\n",
    "plot_grid(G)"
   ]
  },
  {
   "cell_type": "code",
   "execution_count": null,
   "metadata": {},
   "outputs": [],
   "source": [
    "### HERE COPY-PASTE THE OUTPUT FROM LINE-PROFILER:"
   ]
  },
  {
   "cell_type": "raw",
   "metadata": {},
   "source": []
  }
 ],
 "metadata": {
  "kernelspec": {
   "display_name": "Python 3",
   "language": "python",
   "name": "python3"
  },
  "language_info": {
   "codemirror_mode": {
    "name": "ipython",
    "version": 3
   },
   "file_extension": ".py",
   "mimetype": "text/x-python",
   "name": "python",
   "nbconvert_exporter": "python",
   "pygments_lexer": "ipython3",
   "version": "3.7.1"
  },
  "toc": {
   "base_numbering": 1,
   "nav_menu": {},
   "number_sections": true,
   "sideBar": true,
   "skip_h1_title": false,
   "title_cell": "Table of Contents",
   "title_sidebar": "Contents",
   "toc_cell": false,
   "toc_position": {},
   "toc_section_display": true,
   "toc_window_display": false
  },
  "varInspector": {
   "cols": {
    "lenName": 16,
    "lenType": 16,
    "lenVar": 40
   },
   "kernels_config": {
    "python": {
     "delete_cmd_postfix": "",
     "delete_cmd_prefix": "del ",
     "library": "var_list.py",
     "varRefreshCmd": "print(var_dic_list())"
    },
    "r": {
     "delete_cmd_postfix": ") ",
     "delete_cmd_prefix": "rm(",
     "library": "var_list.r",
     "varRefreshCmd": "cat(var_dic_list()) "
    }
   },
   "types_to_exclude": [
    "module",
    "function",
    "builtin_function_or_method",
    "instance",
    "_Feature"
   ],
   "window_display": false
  }
 },
 "nbformat": 4,
 "nbformat_minor": 2
}
