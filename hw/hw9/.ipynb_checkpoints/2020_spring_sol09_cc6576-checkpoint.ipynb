{
 "cells": [
  {
   "cell_type": "markdown",
   "metadata": {},
   "source": [
    "## Homework 09:  Parallel Programming 02\n",
    "\n",
    "## Due Date: Apr 27, 2020, 08:00am\n",
    "\n",
    "#### Firstname Lastname: Chengwei Chen\n",
    "\n",
    "#### E-mail: cc6576@nyu.edu\n",
    "\n",
    "#### Enter your solutions and submit this notebook"
   ]
  },
  {
   "cell_type": "markdown",
   "metadata": {},
   "source": [
    "---\n",
    "\n",
    "**Problem 1 (40p)**\n",
    "\n",
    "In this problem the goal is to calculate the mean and standard deviation of a large list of numbers by using Reduction as one of Collective Operations, see Lecture 11. \n",
    "\n",
    "\n",
    "Consider $N = 256000$ random variables uniform on $[0, 1]$, call these $x_0, x_1, \\dots, x_{N - 1}$.  \n",
    "\n",
    "\n",
    "Write an MPI program with $N=16$ processes that outputs the average and standard deviation of $x_0, x_1, \\dots, x_{N - 1}$.\n",
    "\n",
    "\n",
    "To simplify the problem, let one process say `Process 0`, initialize $N$ random uniform variables. \n",
    "\n",
    "\n",
    "How do you explain the results?\n",
    "\n",
    "\n",
    "**Instructions:** \n",
    "Your program should use MPI4PY and collective operations. \n",
    "Save your program as 2020_spring_sol09_pr01.py and run it from the terminal as:\n",
    "\n",
    "```\n",
    "mpirun -n 16 python3 2020_spring_sol09_pr01.py\n",
    "```\n",
    "\n",
    "here `python3` is your path to Python."
   ]
  },
  {
   "cell_type": "code",
   "execution_count": 72,
   "metadata": {},
   "outputs": [
    {
     "name": "stdout",
     "output_type": "stream",
     "text": [
      "Overwriting 2020_spring_sol09_pr01.py\n"
     ]
    }
   ],
   "source": [
    "%%writefile 2020_spring_sol09_pr01.py\n",
    "\n",
    "from mpi4py import MPI\n",
    "import numpy as np\n",
    "\n",
    "comm = MPI.COMM_WORLD\n",
    "rank = comm.Get_rank()\n",
    "size = comm.Get_size()\n",
    "\n",
    "N = 256000\n",
    "\n",
    "if rank == 0:\n",
    "    #initialize N random uniform variables from [0,1]\n",
    "    data = np.random.uniform(0.0, 1.0, N).astype('f')\n",
    "    data = data.reshape(size, int(N/size))     \n",
    "else:\n",
    "    data = None\n",
    "\n",
    "recvbuf = np.empty(int(N/size),dtype='f')\n",
    "\n",
    "#Scatter the numbers to all processes\n",
    "comm.Scatter(data, recvbuf, root = 0)\n",
    "\n",
    "local_sum = sum(recvbuf)\n",
    "# print('Process {}, local sum = {:f}'.format(rank, local_sum))\n",
    "\n",
    "#Reduce local sums into a global sum to calculate the mean\n",
    "global_sum = comm.allreduce(local_sum, MPI.SUM)\n",
    "mean = global_sum/N\n",
    "\n",
    "#Compute the local sum of squared differences from the mean\n",
    "local_sq_diff = sum((num-mean)**2 for num in recvbuf)\n",
    "\n",
    "#Reduce the global sum of the squared differences to the root process\n",
    "global_sq_diff = comm.reduce(local_sq_diff, MPI.SUM, 0)\n",
    "\n",
    "if rank == 0:\n",
    "    stddev = np.sqrt(global_sq_diff / N)\n",
    "    print('\\nMean: {:f}, Standard deviation: {:f}'.format(mean, stddev))\n",
    "    print('\\nMean using numpy: {:f}, Standard deviation using numpy: {:f}'.format(np.mean(data), np.std(data)))"
   ]
  },
  {
   "cell_type": "code",
   "execution_count": 73,
   "metadata": {
    "scrolled": false
   },
   "outputs": [
    {
     "name": "stdout",
     "output_type": "stream",
     "text": [
      "\r\n",
      "Mean: 0.499685, Standard deviation: 0.289034\r\n",
      "\r\n",
      "Mean using numpy: 0.499685, Standard deviation using numpy: 0.289034\r\n"
     ]
    }
   ],
   "source": [
    "!mpirun -n 16 python3 2020_spring_sol09_pr01.py"
   ]
  },
  {
   "cell_type": "markdown",
   "metadata": {},
   "source": [
    "---------------------\n",
    "\n",
    "**Explanation:**\n",
    "\n",
    "From result, for large N, the mean approaches population mean $\\frac{a+b}{2}$, which here $0.499857 \\approx \\frac{1}{2} = 0.5$. Also, for large N, the standard deviation approaches population standard deviation $\\sqrt{\\frac{(b-a)^2}{12}}$, which here $0.288267 \\approx \\sqrt{\\frac{1}{12}}$.\n",
    "\n",
    "--------------------"
   ]
  },
  {
   "cell_type": "markdown",
   "metadata": {},
   "source": [
    "\n",
    "---\n",
    "**Problem 2 (60p)**\n",
    "\n",
    "In this problem the goal is to demonstrate how one can use a Domain Decomposition and  Collective Operations. \n",
    "\n",
    "Consider the exponential distribution $X \\sim \\textrm{Exp}(1)$ with the unit mean. Find numerical approximations of moments of the exponential random variable. \n",
    "\n",
    "That is, for a random variable $X$ with the distribution $f(x) = e^{-x}$ for $x \\geq 0$, compute the first $15$ moments, where the $k$-th moment is defined as:\n",
    "$$I_k = \\int_{0}^{\\infty} x^k f(x) dx.$$\n",
    "\n",
    "\n",
    "Your program should use MPI parallel collective instructions, where the integration is performed in parallel over $N=16$ processes, over a finite range $[0, M)$, where $M=1000$, with $N = 16$ partitions and $1000$ increments per partition, see Lecture 10 and 11.\n",
    "\n",
    "Provide evaluations of $J_1, J_2, \\dots, J_{15}$, where $$J_k = \\int_{0}^{M} x^k f(x) dx.$$\n",
    "\n",
    "\n",
    "**Instructions:** \n",
    "\n",
    "Save your program as 2020_sol09_pr02.py; and run it from the terminal as:\n",
    "\n",
    "```\n",
    "mpirun -n 16 python3 2020_spring_sol09_pr02.py\n",
    "```\n",
    "\n",
    "here `python3` is your path to Python.\n",
    "\n",
    "\n",
    "**Bonus Question (10 points):** \n",
    "\n",
    "What is the value of $I_k$, as a function of $k$? How can it be derived?"
   ]
  },
  {
   "cell_type": "code",
   "execution_count": 69,
   "metadata": {},
   "outputs": [
    {
     "name": "stdout",
     "output_type": "stream",
     "text": [
      "Overwriting 2020_spring_sol09_pr02.py\n"
     ]
    }
   ],
   "source": [
    "%%writefile 2020_spring_sol09_pr02.py\n",
    "\n",
    "from mpi4py import MPI\n",
    "import numpy as np\n",
    "\n",
    "comm = MPI.COMM_WORLD\n",
    "rank = comm.Get_rank()\n",
    "size = comm.Get_size()\n",
    "\n",
    "def f(x):\n",
    "    return np.exp(-x)\n",
    "\n",
    "def integral(a_r, h, n, k):\n",
    "    integ = 0.0\n",
    "    for j in range(n):\n",
    "        x = a_r + (j + 0.5) * h\n",
    "        integ += (x**k*f(x)) * h\n",
    "    return integ\n",
    "\n",
    "\n",
    "a = 0.0\n",
    "b = 1000\n",
    "dest = 0\n",
    "k = 16\n",
    "my_int = np.zeros((1,15))\n",
    "integral_sum = np.zeros((1, 15))\n",
    "\n",
    "# Initialize value of n only if this is rank 0\n",
    "if rank == 0:\n",
    "    n = np.full(1, b, dtype=int) # default value\n",
    "else:\n",
    "    n = np.zeros(1, dtype=int)\n",
    "\n",
    "# Broadcast n to all processes\n",
    "# print(\"Process \", rank, \" before n =\", n[0])\n",
    "comm.Bcast(n, root=0)\n",
    "# print(\"Process \", rank, \" after n =\", n[0])\n",
    "\n",
    "# Compute partition\n",
    "h = (b - a) / (n * size) # calculate h *after* we receive n\n",
    "a_r = a + rank * h * n\n",
    "for i in range(1, k):\n",
    "    my_int[0][i-1] = integral(a_r, h, n[0], i)\n",
    "\n",
    "# Send partition back to root process, computing sum across all partitions\n",
    "# print(\"Process \", rank, \" has the partial integral \", my_int[0])\n",
    "comm.Reduce(my_int, integral_sum, MPI.SUM, dest)\n",
    "\n",
    "# Only print the result in process 0\n",
    "if rank == 0:\n",
    "    for i in range(1, k):\n",
    "        print('J', i, \"=\", integral_sum[0][i-1])"
   ]
  },
  {
   "cell_type": "code",
   "execution_count": 71,
   "metadata": {
    "scrolled": false
   },
   "outputs": [
    {
     "name": "stdout",
     "output_type": "stream",
     "text": [
      "J 1 = 1.0001627047952104\r\n",
      "J 2 = 2.0000001112238226\r\n",
      "J 3 = 5.99999988885252\r\n",
      "J 4 = 23.999999999771028\r\n",
      "J 5 = 120.00000000022848\r\n",
      "J 6 = 719.9999999999999\r\n",
      "J 7 = 5040.000000000001\r\n",
      "J 8 = 40320.00000000004\r\n",
      "J 9 = 362879.9999999999\r\n",
      "J 10 = 3628800.0000000023\r\n",
      "J 11 = 39916799.99999997\r\n",
      "J 12 = 479001600.0000007\r\n",
      "J 13 = 6227020800.000004\r\n",
      "J 14 = 87178291200.0002\r\n",
      "J 15 = 1307674368000.0007\r\n"
     ]
    }
   ],
   "source": [
    "!mpirun -n 16 python3 2020_spring_sol09_pr02.py"
   ]
  },
  {
   "cell_type": "markdown",
   "metadata": {},
   "source": [
    "**Bonus Question (10 points):** \n",
    "\n",
    "What is the value of $I_k$, as a function of $k$? How can it be derived?"
   ]
  },
  {
   "cell_type": "markdown",
   "metadata": {},
   "source": [
    "$\\begin{align}\n",
    "I_k &= \\int_{0}^{\\infty} x^k f(x) dx \\\\\n",
    "&= \\int_{0}^{\\infty} x^k e^{-x} dx \\\\\n",
    "&= [-e^{-x}x^{k}]^{\\infty}_{0} + k \\int_{0}^{\\infty} x^{k-1}e^{-x} dx \\\\\n",
    "&= 0 + k(k-1)! \\\\\n",
    "&= k!\n",
    "\\end{align}$"
   ]
  },
  {
   "cell_type": "code",
   "execution_count": null,
   "metadata": {},
   "outputs": [],
   "source": []
  }
 ],
 "metadata": {
  "kernelspec": {
   "display_name": "Python 3",
   "language": "python",
   "name": "python3"
  },
  "language_info": {
   "codemirror_mode": {
    "name": "ipython",
    "version": 3
   },
   "file_extension": ".py",
   "mimetype": "text/x-python",
   "name": "python",
   "nbconvert_exporter": "python",
   "pygments_lexer": "ipython3",
   "version": "3.7.1"
  }
 },
 "nbformat": 4,
 "nbformat_minor": 2
}
