{
 "cells": [
  {
   "cell_type": "markdown",
   "metadata": {},
   "source": [
    "## Homework 09:  Parallel Programming 02\n",
    "\n",
    "## Due Date: Apr 27, 2020, 08:00am\n",
    "\n",
    "#### Firstname Lastname: \n",
    "\n",
    "#### E-mail: \n",
    "\n",
    "#### Enter your solutions and submit this notebook"
   ]
  },
  {
   "cell_type": "markdown",
   "metadata": {},
   "source": [
    "---\n",
    "\n",
    "**Problem 1 (40p)**\n",
    "\n",
    "In this problem the goal is to calculate the mean and standard deviation of a large list of numbers by using Reduction as one of Collective Operations, see Lecture 11. \n",
    "\n",
    "\n",
    "Consider $N = 256000$ random variables uniform on $[0, 1]$, call these $x_0, x_1, \\dots, x_{N - 1}$.  \n",
    "\n",
    "\n",
    "Write an MPI program with $N=16$ processes that outputs the average and standard deviation of $x_0, x_1, \\dots, x_{N - 1}$.\n",
    "\n",
    "\n",
    "To simplify the problem, let one process say `Process 0`, initialize $N$ random uniform variables. \n",
    "\n",
    "\n",
    "**Instructions:** \n",
    "Your program should use MPI4PY and collective operations. \n",
    "Save your program as 2020_spring_sol09_pr01.py and run it from the terminal as:\n",
    "\n",
    "```\n",
    "mpirun -n 16 python3 2020_spring_sol09_pr01.py\n",
    "```\n",
    "\n",
    "here `python3` is your path to Python."
   ]
  },
  {
   "cell_type": "markdown",
   "metadata": {},
   "source": [
    "\n",
    "---\n",
    "**Problem 2 (60p)**\n",
    "\n",
    "In this problem the goal is to demonstrate how one can use a Domain Decomposition and  Collective Operations. \n",
    "\n",
    "Consider the exponential distribution $X \\sim \\textrm{Exp}(1)$ with the unit mean. Find numerical approximations of moments of the exponential random variable. \n",
    "\n",
    "That is, for a random variable $X$ with the distribution $f(x) = e^{-x}$ for $x \\geq 0$, compute the first $15$ moments, where the $k$-th moment is defined as:\n",
    "$$I_k = \\int_{0}^{\\infty} x^k f(x) dx.$$\n",
    "\n",
    "\n",
    "Your program should use MPI parallel collective instructions, where the integration is performed in parallel over $N=16$ processes, over a finite range $[0, M)$, where $M=1000$, with $N = 16$ partitions and $1000$ increments per partition, see Lecture 10 and 11.\n",
    "\n",
    "Provide evaluations of $J_1, J_2, \\dots, J_{15}$, where $$J_k = \\int_{0}^{M} x^k f(x) dx.$$\n",
    "\n",
    "\n",
    "**Instructions:** \n",
    "\n",
    "Save your program as 2020_sol09_pr02.py; and run it from the terminal as:\n",
    "\n",
    "```\n",
    "mpirun -n 16 python3 2020_spring_sol09_pr01.py\n",
    "```\n",
    "\n",
    "here `python3` is your path to Python.\n",
    "\n",
    "\n",
    "**Bonus Question (10 points):** \n",
    "\n",
    "What is the value of $I_k$, as a function of $k$? How can it be derived?"
   ]
  },
  {
   "cell_type": "markdown",
   "metadata": {},
   "source": [
    "### Solution Problem 1 \n",
    "\n",
    "### This problem was demonstrated in Lab.11\n"
   ]
  },
  {
   "cell_type": "code",
   "execution_count": 1,
   "metadata": {},
   "outputs": [
    {
     "name": "stdout",
     "output_type": "stream",
     "text": [
      "Overwriting 2020_spring_sol09_pr01.py\n"
     ]
    }
   ],
   "source": [
    "%%writefile 2020_spring_sol09_pr01.py\n",
    "\n",
    "\n",
    "from mpi4py import MPI\n",
    "import numpy as np\n",
    "\n",
    "\n",
    "comm = MPI.COMM_WORLD\n",
    "\n",
    "my_rank = comm.Get_rank()\n",
    "p = comm.Get_size()\n",
    "\n",
    "n = 256000\n",
    "\n",
    "if my_rank == 0:\n",
    "    data = np.random.random(n).astype('f')       \n",
    "    data = data.reshape(p, int(n/p))    \n",
    "    \n",
    "else:\n",
    "    data = None\n",
    "\n",
    "recvbuf = np.empty(int(n/p), dtype='f')\n",
    "\n",
    "#Scatter the numbers to all processes\n",
    "comm.Scatter(data,recvbuf, root = 0)\n",
    "\n",
    "local_sum = sum(recvbuf)\n",
    "print('Process {:02d}, local sum = {:.4f}'.format(my_rank, local_sum))\n",
    "\n",
    "#Reduce local sums into a global sum to calculate the mean\n",
    "global_sum = comm.allreduce(local_sum, MPI.SUM)\n",
    "mean = global_sum / n\n",
    "\n",
    "#Compute the local sum of squared differences from the mean\n",
    "\n",
    "local_sq_diff = sum((num - mean) ** 2 for num in recvbuf)\n",
    "\n",
    "#Reduce the global sum of the squared differences to the root process\n",
    "global_sq_diff = comm.reduce(local_sq_diff, MPI.SUM, 0)\n",
    "\n",
    "if my_rank == 0:\n",
    "    stddev = np.sqrt(global_sq_diff / n)\n",
    "    print('\\nMean: {:.4f}, Standard deviation: {:.4f}'.format(mean, stddev))\n",
    "    print('Standard deviation using numpy: {:.4f}'.format(np.std(data)))\n"
   ]
  },
  {
   "cell_type": "markdown",
   "metadata": {},
   "source": [
    "### Solution Problem 2"
   ]
  },
  {
   "cell_type": "code",
   "execution_count": 2,
   "metadata": {},
   "outputs": [
    {
     "name": "stdout",
     "output_type": "stream",
     "text": [
      "Overwriting 2020_spring_sol09_pr02.py\n"
     ]
    }
   ],
   "source": [
    "%%writefile 2020_spring_sol09_pr02.py\n",
    "\n",
    "import numpy as np\n",
    "from numpy import pi, exp, sqrt\n",
    "from mpi4py import MPI\n",
    "\n",
    "comm = MPI.COMM_WORLD\n",
    "rank = comm.Get_rank()\n",
    "size = comm.Get_size()\n",
    "\n",
    "def integral(ar, h, n, K):\n",
    "    \n",
    "    integ = np.zeros(K)\n",
    "    for j in range(n):\n",
    "        arj = ar + (j + 0.5) * h\n",
    "        integ += np.array([arj ** k * exp(- arj) for k in range(1, K + 1)])\n",
    "    \n",
    "    # multiply with h so to get \n",
    "    # the approximate area under the curve\n",
    "    integ *= h\n",
    "    return integ\n",
    "\n",
    "\n",
    "K = 15\n",
    "M = 1000\n",
    "n = 1000\n",
    "\n",
    "my_int = np.zeros(K)\n",
    "integral_sum = np.zeros(K)\n",
    "n = np.array(10_000)\n",
    "\n",
    "# Compute partition\n",
    "h = M / (n * size) \n",
    "ar = rank * h * n\n",
    "\n",
    "my_int = integral(ar, h, n, K)\n",
    "# Send partition back to root process, computing sum across all partitions\n",
    "comm.Reduce(my_int, integral_sum, MPI.SUM, root=0)\n",
    "\n",
    "# Only print the result in process 0\n",
    "if rank == 0:\n",
    "    for i in range(K):\n",
    "        print(\"moment %02d; val, approx: %d %0.6f\" % (i + 1, round(integral_sum[i]), integral_sum[i]))\n"
   ]
  },
  {
   "cell_type": "markdown",
   "metadata": {},
   "source": [
    "Results: \n",
    "\n",
    "```\n",
    "moment 01; val, approx: 1 1.000002\n",
    "moment 02; val, approx: 2 2.000000\n",
    "moment 03; val, approx: 6 6.000000\n",
    "moment 04; val, approx: 24 24.000000\n",
    "moment 05; val, approx: 120 120.000000\n",
    "moment 06; val, approx: 720 720.000000\n",
    "moment 07; val, approx: 5040 5040.000000\n",
    "moment 08; val, approx: 40320 40320.000000\n",
    "moment 09; val, approx: 362880 362880.000000\n",
    "moment 10; val, approx: 3628800 3628800.000000\n",
    "moment 11; val, approx: 39916800 39916800.000000\n",
    "moment 12; val, approx: 479001600 479001600.000000\n",
    "moment 13; val, approx: 6227020800 6227020799.999996\n",
    "moment 14; val, approx: 87178291200 87178291200.000168\n",
    "moment 15; val, approx: 1307674368000 1307674368000.008301```\n"
   ]
  },
  {
   "cell_type": "markdown",
   "metadata": {},
   "source": [
    "**Bonus Question: 10p** \n",
    "\n",
    "By definition $\\Gamma(k) = \\int_{0}^\\infty x^{k - 1}e^{-x}dx$, hence $I_k = \\Gamma(k + 1) = k!$. Moreover one can show it as follows. \n",
    "\n",
    "\n",
    "By using the partial integration, for every $k \\geq 1$ it yields\n",
    "$$\\int_{0}^\\infty x^{k}e^{-x}dx = \\left[x^k e^{-k}\\right]_0^{\\infty} + k \\int_{0}^\\infty x^{k - 1}e^{-x}dx.$$\n",
    "\n",
    "\n",
    "Note that $\\left[x^k e^{-k}\\right]_0^{\\infty} = 0$, so the relation between the two consecutive moments is given by $I_{k} = k I_{k - 1}$. From $I_0 =\\int_0^\\infty e^{-x} = 1$ (moreover $I_0 = 1$ as the integral of a probability density function), finally we obtain $I_k = k!$\n",
    "\n",
    "\n",
    "\n",
    "\n",
    "\n",
    "\n",
    "\n"
   ]
  },
  {
   "cell_type": "raw",
   "metadata": {},
   "source": []
  }
 ],
 "metadata": {
  "kernelspec": {
   "display_name": "Python 3",
   "language": "python",
   "name": "python3"
  },
  "language_info": {
   "codemirror_mode": {
    "name": "ipython",
    "version": 3
   },
   "file_extension": ".py",
   "mimetype": "text/x-python",
   "name": "python",
   "nbconvert_exporter": "python",
   "pygments_lexer": "ipython3",
   "version": "3.7.5"
  }
 },
 "nbformat": 4,
 "nbformat_minor": 2
}
