{
 "cells": [
  {
   "cell_type": "markdown",
   "metadata": {},
   "source": [
    "**Advanced Python for Data Science**  \n",
    "**DS-GA-3001.001/.002**\n",
    "\n",
    "\n",
    "## Assignment 02  \n",
    "**Due date: Feb, 12 2020, 11:00AM**  "
   ]
  },
  {
   "cell_type": "markdown",
   "metadata": {},
   "source": [
    "Chengwei Chen (cc6576)"
   ]
  },
  {
   "cell_type": "markdown",
   "metadata": {},
   "source": [
    "# Problem 1. (30pt)\n",
    "\n",
    "Write a function f(n) to calculate the number of ways of representing $n$ as a sum of 1, 2, and 3, where the order of summands is important. For example: \n",
    "\n",
    "---\n",
    "\n",
    "n = 1  \n",
    "1 = 1  \n",
    "f(1) = 1  \n",
    "\n",
    "---\n",
    "\n",
    "n = 2  \n",
    "2 = 1 + 1  \n",
    "2 = 2  \n",
    "f(2) = 2  \n",
    "\n",
    "---\n",
    "\n",
    "n = 3  \n",
    "3 = 1 + 1 + 1  \n",
    "3 = 1 + 2  \n",
    "3 = 2 + 1  \n",
    "3 = 3  \n",
    "f(3) = 4  \n",
    "\n",
    "---\n",
    "\n",
    "n = 4  \n",
    "4 = 1 + 1 + 1 + 1  \n",
    "4 = 1 + 1 + 2  \n",
    "4 = 1 + 2 + 1  \n",
    "4 = 2 + 1 + 1  \n",
    "4 = 1 + 3  \n",
    "4 = 3 + 1  \n",
    "4 = 2 + 2  \n",
    "f(4) = 7  \n",
    "\n",
    "---\n",
    "\n",
    "(10pt) Write a recursive solution f_rec() without memoization and time it for $n=10, 25$.  \n",
    "\n",
    "(10pt) Write a recursive solution with memoization or a wrapper function f_memo() and time it for $n=10, 25, 50, 100$.  \n",
    "\n",
    "(10pt) Write an iterative solution f_it() and time it for $n=10, 25, 50, 100$.  \n",
    "\n"
   ]
  },
  {
   "cell_type": "code",
   "execution_count": 1,
   "metadata": {},
   "outputs": [],
   "source": [
    "import timeit\n",
    "import time\n",
    "from functools import wraps"
   ]
  },
  {
   "cell_type": "code",
   "execution_count": 2,
   "metadata": {},
   "outputs": [],
   "source": [
    "## a recursive solution f_rec() without memoization\n",
    "def f_rec(n):\n",
    "    if n == 0 | n == 1:\n",
    "        return 1\n",
    "    if n == 2:\n",
    "        return 2\n",
    "    if n == 3:\n",
    "        return 4\n",
    "\n",
    "    return f_rec(n - 1) + f_rec(n - 2) + f_rec(n - 3)"
   ]
  },
  {
   "cell_type": "code",
   "execution_count": 3,
   "metadata": {},
   "outputs": [
    {
     "name": "stdout",
     "output_type": "stream",
     "text": [
      "time: 0.0003360000; number of ways: 274\n"
     ]
    }
   ],
   "source": [
    "## n = 10\n",
    "t = time.process_time()\n",
    "f_rec_result_10 = f_rec(10)\n",
    "elapsed_time = time.process_time() - t\n",
    "print(\"time: %0.10f; number of ways: %d\" % (elapsed_time, f_rec_result_10))"
   ]
  },
  {
   "cell_type": "code",
   "execution_count": 4,
   "metadata": {},
   "outputs": [
    {
     "name": "stdout",
     "output_type": "stream",
     "text": [
      "time: 0.9145040000; number of ways: 2555757\n"
     ]
    }
   ],
   "source": [
    "## n = 25\n",
    "t = time.process_time()\n",
    "f_rec_result_25 = f_rec(25)\n",
    "elapsed_time = time.process_time() - t\n",
    "print(\"time: %0.10f; number of ways: %d\" % (elapsed_time, f_rec_result_25))"
   ]
  },
  {
   "cell_type": "code",
   "execution_count": null,
   "metadata": {},
   "outputs": [],
   "source": [
    "## a recursive solution with wrapper function f_memo()\n",
    "# def cache(f): \n",
    "#     memory = {}\n",
    "#     @wraps(f)\n",
    "#     def function_wrapper(*arg):\n",
    "#         if arg not in memory:\n",
    "#             memory[arg] = f(*arg)\n",
    "#         return memory[arg]\n",
    "    \n",
    "#     return function_wrapper\n",
    "\n",
    "# @cache\n",
    "# def f_memo(num):\n",
    "#     if num == 1:\n",
    "#         return 1\n",
    "#     if num == 2:\n",
    "#         return 2\n",
    "#     if num == 3:\n",
    "#         return 4\n",
    "#     return f_rec(num - 1) + f_rec(num - 2) + f_rec(num - 3)"
   ]
  },
  {
   "cell_type": "code",
   "execution_count": 5,
   "metadata": {},
   "outputs": [],
   "source": [
    "# The idea is a memoization: \n",
    "# introduce a map (dictionary) \"memo\"\n",
    "# in which to save intermediate steps\n",
    "# of calculations\n",
    "\n",
    "def f_rec_memo(n, memo=dict()):\n",
    "    if n == 0 | n == 1:\n",
    "        return 1\n",
    "    if n == 2:\n",
    "        return 2\n",
    "    if n == 3:\n",
    "        return 4\n",
    "    if n in memo: \n",
    "        return memo[n]\n",
    "\n",
    "    memo[n] = f_rec_memo(n - 1, memo) + f_rec_memo(n - 2, memo) + f_rec_memo(n - 3, memo)\n",
    "    return memo[n]"
   ]
  },
  {
   "cell_type": "code",
   "execution_count": 6,
   "metadata": {},
   "outputs": [
    {
     "name": "stdout",
     "output_type": "stream",
     "text": [
      "time: 0.0002320000; number of ways: 274\n"
     ]
    }
   ],
   "source": [
    "## n = 10\n",
    "t = time.process_time()\n",
    "f_rec_memo_result_10 = f_rec_memo(10)\n",
    "elapsed_time = time.process_time() - t\n",
    "print(\"time: %0.10f; number of ways: %d\" % (elapsed_time, f_rec_memo_result_10))"
   ]
  },
  {
   "cell_type": "code",
   "execution_count": 7,
   "metadata": {},
   "outputs": [
    {
     "name": "stdout",
     "output_type": "stream",
     "text": [
      "time: 0.0005040000; number of ways: 2555757\n"
     ]
    }
   ],
   "source": [
    "## n = 25\n",
    "t = time.process_time()\n",
    "f_rec_memo_result_25 = f_rec_memo(25)\n",
    "elapsed_time = time.process_time() - t\n",
    "print(\"time: %0.10f; number of ways: %d\" % (elapsed_time, f_rec_memo_result_25))"
   ]
  },
  {
   "cell_type": "code",
   "execution_count": 8,
   "metadata": {},
   "outputs": [
    {
     "name": "stdout",
     "output_type": "stream",
     "text": [
      "time: 0.0005100000; number of ways: 10562230626642\n"
     ]
    }
   ],
   "source": [
    "## n = 50\n",
    "t = time.process_time()\n",
    "f_rec_memo_result_50 = f_rec_memo(50)\n",
    "elapsed_time = time.process_time() - t\n",
    "print(\"time: %0.10f; number of ways: %d\" % (elapsed_time, f_rec_memo_result_50))"
   ]
  },
  {
   "cell_type": "code",
   "execution_count": 9,
   "metadata": {},
   "outputs": [
    {
     "name": "stdout",
     "output_type": "stream",
     "text": [
      "time: 0.0004500000; number of ways: 180396380815100901214157639\n"
     ]
    }
   ],
   "source": [
    "## n = 100\n",
    "t = time.process_time()\n",
    "f_rec_memo_result_100 = f_rec_memo(100)\n",
    "elapsed_time = time.process_time() - t\n",
    "print(\"time: %0.10f; number of ways: %d\" % (elapsed_time, f_rec_memo_result_100))"
   ]
  },
  {
   "cell_type": "code",
   "execution_count": 10,
   "metadata": {},
   "outputs": [],
   "source": [
    "## an iterative solution f_it() \n",
    "def f_it(n):\n",
    "    ways = [0 for i in range(0, n + 1)]\n",
    "    # base cases \n",
    "    ways[0] = ways[1] = 1;\n",
    "    ways[2] = 2\n",
    "    \n",
    "    # Iterate for all values from 3 to n \n",
    "    for i in range(3, n + 1):\n",
    "        ways[i] = ways[i - 1] + ways[i - 2] + ways[i - 3]\n",
    "\n",
    "    return ways[n]"
   ]
  },
  {
   "cell_type": "code",
   "execution_count": 11,
   "metadata": {},
   "outputs": [
    {
     "name": "stdout",
     "output_type": "stream",
     "text": [
      "time: 0.0002200000; number of ways: 274\n"
     ]
    }
   ],
   "source": [
    "## n = 10\n",
    "t = time.process_time()\n",
    "f_it_result_10 = f_it(10)\n",
    "elapsed_time = time.process_time() - t\n",
    "print(\"time: %0.10f; number of ways: %d\" % (elapsed_time, f_it_result_10))"
   ]
  },
  {
   "cell_type": "code",
   "execution_count": 12,
   "metadata": {},
   "outputs": [
    {
     "name": "stdout",
     "output_type": "stream",
     "text": [
      "time: 0.0002320000; number of ways: 2555757\n"
     ]
    }
   ],
   "source": [
    "## n = 25\n",
    "t = time.process_time()\n",
    "f_it_result_25 = f_it(25)\n",
    "elapsed_time = time.process_time() - t\n",
    "print(\"time: %0.10f; number of ways: %d\" % (elapsed_time, f_it_result_25))"
   ]
  },
  {
   "cell_type": "code",
   "execution_count": 13,
   "metadata": {},
   "outputs": [
    {
     "name": "stdout",
     "output_type": "stream",
     "text": [
      "time: 0.0002440000; number of ways: 10562230626642\n"
     ]
    }
   ],
   "source": [
    "## n = 50\n",
    "t = time.process_time()\n",
    "f_it_result_50 = f_it(50)\n",
    "elapsed_time = time.process_time() - t\n",
    "print(\"time: %0.10f; number of ways: %d\" % (elapsed_time, f_it_result_50))"
   ]
  },
  {
   "cell_type": "code",
   "execution_count": 14,
   "metadata": {},
   "outputs": [
    {
     "name": "stdout",
     "output_type": "stream",
     "text": [
      "time: 0.0004620000; number of ways: 180396380815100901214157639\n"
     ]
    }
   ],
   "source": [
    "## n = 100\n",
    "t = time.process_time()\n",
    "f_it_result_100 = f_it(100)\n",
    "elapsed_time = time.process_time() - t\n",
    "print(\"time: %0.10f; number of ways: %d\" % (elapsed_time, f_it_result_100))"
   ]
  },
  {
   "cell_type": "markdown",
   "metadata": {},
   "source": [
    "### Instructions for submitting solutions for problem 2: \n",
    "\n",
    "- Please submit only one zip file to NYU Classes, which contains **all your python solutions** and **one pdf file** with all of your answers.  \n",
    "\n",
    "- The submitted zip-file name should be as **\"2020_spring_sol02_*nyuid*.zip\"**  \n",
    "\n",
    "\n",
    "- **e.g.** If your nyuid is \"ab1234\", the submission is \"2020_spring_sol02_ab1234.zip\"  \n",
    "\n",
    "\n",
    "\n"
   ]
  },
  {
   "cell_type": "markdown",
   "metadata": {},
   "source": [
    "# Problem 2. (70%)\n",
    "\n",
    "An astrophysicist colleague was recently complaining about how long it was taking to run an N-body simulation. “It’s really just a simple calculation, and I’m only simulating four planets, but it takes nearly a minute and a half to run one simulation. I really need it done in under 30 seconds.” You kindly offer to take a look at code to see if it is possible to speed it up. Your colleague provides you with a link to the source: https://nyu-cds.github.io/courses/code/nbody.py\n",
    "\n",
    "\n",
    "Although your colleague said the code was simple, it is still fairly complex, so you decide to tackle the problem in stages. A first scan of the code reveals a number of potential areas that could be improved. These include:\n",
    "\n",
    "- Reducing function call overhead\n",
    "\n",
    "- Using alternatives to membership testing of lists \n",
    "\n",
    "- Using local rather than global variables \n",
    "\n",
    "- Using data aggregation to reduce loop overheads.\n",
    "\n",
    "As you’re a cautious programmer, you decide to address each of these in turn. This will ensure that it is possible to check the program is still working correctly after each change, and to assess the performance improvement that the change achieved. You are also aware that the program has to be maintained by others in the future, so you want to make sure that the changes do not make this more difficult, especially if the performance improvement is only minor.\n",
    "\n",
    "For each of these areas, create a new version of nbody.py, call them nbody_1.py, nbody_2.py, nbody_3.py, nbody_4.py. Finally, create another file called nbody_opt.py that contains all of the optimizations you made. \n",
    "\n",
    "\n",
    "Finally, generate a .pdf file with the four logs produced by the command in shell:\n",
    "\n",
    "for f in nbody_*.py; do python -m cProfile -s cumulative $f; done\n",
    "\n",
    "How much speedup do you get (time_original/time_optimized)?\n",
    "\n"
   ]
  },
  {
   "cell_type": "code",
   "execution_count": null,
   "metadata": {},
   "outputs": [],
   "source": []
  }
 ],
 "metadata": {
  "kernelspec": {
   "display_name": "Python 3",
   "language": "python",
   "name": "python3"
  },
  "language_info": {
   "codemirror_mode": {
    "name": "ipython",
    "version": 3
   },
   "file_extension": ".py",
   "mimetype": "text/x-python",
   "name": "python",
   "nbconvert_exporter": "python",
   "pygments_lexer": "ipython3",
   "version": "3.7.1"
  }
 },
 "nbformat": 4,
 "nbformat_minor": 2
}
