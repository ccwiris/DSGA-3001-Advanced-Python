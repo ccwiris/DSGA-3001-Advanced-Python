{
 "cells": [
  {
   "cell_type": "markdown",
   "metadata": {},
   "source": [
    "**Advanced Python for Data Science**  \n",
    "**DS-GA-3001.001/.002**\n",
    "\n",
    "\n",
    "## Assignment 02  \n",
    "**Due date: Feb, 12 2020, 11:00AM**  "
   ]
  },
  {
   "cell_type": "markdown",
   "metadata": {},
   "source": [
    "# Problem 1. (30pt)\n",
    "\n",
    "Write a function f(n) to calculate the number of ways of representing $n$ as a sum of 1, 2, and 3, where the order of summands is important. For example: \n",
    "\n",
    "---\n",
    "\n",
    "n = 1  \n",
    "1 = 1  \n",
    "f(1) = 1  \n",
    "\n",
    "---\n",
    "\n",
    "n = 2  \n",
    "2 = 1 + 1  \n",
    "2 = 2  \n",
    "f(2) = 2  \n",
    "\n",
    "---\n",
    "\n",
    "n = 3  \n",
    "3 = 1 + 1 + 1  \n",
    "3 = 1 + 2  \n",
    "3 = 2 + 1  \n",
    "3 = 3  \n",
    "f(3) = 4  \n",
    "\n",
    "---\n",
    "\n",
    "n = 4  \n",
    "4 = 1 + 1 + 1 + 1  \n",
    "4 = 1 + 1 + 2  \n",
    "4 = 1 + 2 + 1  \n",
    "4 = 2 + 1 + 1  \n",
    "4 = 1 + 3  \n",
    "4 = 3 + 1  \n",
    "4 = 2 + 2  \n",
    "f(4) = 7  \n",
    "\n",
    "---\n",
    "\n",
    "(10pt) Write a recursive solution f_rec() without memoization and time it for $n=10, 25$.  \n",
    "\n",
    "(10pt) Write a recursive solution with memoization or a wrapper function f_memo() and time it for $n=10, 25, 50, 100$.  \n",
    "\n",
    "(10pt) Write an iterative solution f_it() and time it for $n=10, 25, 50, 100$.  \n",
    "\n"
   ]
  },
  {
   "cell_type": "code",
   "execution_count": 1,
   "metadata": {},
   "outputs": [],
   "source": [
    "def f_rec(n):\n",
    "    if n <= 2:\n",
    "        return n\n",
    "    if n == 3:\n",
    "        return 4\n",
    "    \n",
    "    return f_rec(n-1) + f_rec(n-2) + f_rec(n-3)"
   ]
  },
  {
   "cell_type": "code",
   "execution_count": 2,
   "metadata": {},
   "outputs": [
    {
     "name": "stdout",
     "output_type": "stream",
     "text": [
      "21.8 µs ± 332 ns per loop (mean ± std. dev. of 7 runs, 10 loops each)\n",
      "127 ms ± 3.43 ms per loop (mean ± std. dev. of 7 runs, 10 loops each)\n"
     ]
    }
   ],
   "source": [
    "%timeit -n 10 f_rec(10)\n",
    "%timeit -n 10 f_rec(25)"
   ]
  },
  {
   "cell_type": "code",
   "execution_count": 3,
   "metadata": {},
   "outputs": [],
   "source": [
    "def wrapper_memo(f): \n",
    "    memory = {} \n",
    "      \n",
    "    def inner(num):         \n",
    "        if num not in memory:          \n",
    "            memory[num] = f(num) \n",
    "        return memory[num] \n",
    "  \n",
    "    return inner\n",
    "\n",
    "@wrapper_memo\n",
    "def f_memo(n):\n",
    "    if n <= 2:\n",
    "        return n\n",
    "    if n == 3:\n",
    "        return 4\n",
    "\n",
    "    return f_memo(n-1) + f_memo(n-2) + f_memo(n-3)"
   ]
  },
  {
   "cell_type": "code",
   "execution_count": 4,
   "metadata": {},
   "outputs": [
    {
     "name": "stdout",
     "output_type": "stream",
     "text": [
      "212 ns ± 118 ns per loop (mean ± std. dev. of 7 runs, 100 loops each)\n",
      "171 ns ± 53.7 ns per loop (mean ± std. dev. of 7 runs, 100 loops each)\n",
      "186 ns ± 85.7 ns per loop (mean ± std. dev. of 7 runs, 100 loops each)\n",
      "236 ns ± 205 ns per loop (mean ± std. dev. of 7 runs, 100 loops each)\n"
     ]
    }
   ],
   "source": [
    "%timeit -n 100 f_memo(10)\n",
    "%timeit -n 100 f_memo(25)\n",
    "%timeit -n 100 f_memo(50)\n",
    "%timeit -n 100 f_memo(100)"
   ]
  },
  {
   "cell_type": "code",
   "execution_count": 5,
   "metadata": {},
   "outputs": [],
   "source": [
    "def f_it(n):\n",
    "    c, b, a = 4, 2, 1\n",
    "    \n",
    "    if n == 1: return a\n",
    "    if n == 2: return b\n",
    "    if n == 3: return c\n",
    "\n",
    "    for i in range(n - 3):\n",
    "        a, b, c = b, c, a + b + c\n",
    "        \n",
    "    return c\n"
   ]
  },
  {
   "cell_type": "code",
   "execution_count": 6,
   "metadata": {},
   "outputs": [
    {
     "name": "stdout",
     "output_type": "stream",
     "text": [
      "869 ns ± 8.04 ns per loop (mean ± std. dev. of 7 runs, 100 loops each)\n",
      "2.19 µs ± 76.4 ns per loop (mean ± std. dev. of 7 runs, 100 loops each)\n",
      "4.68 µs ± 56.8 ns per loop (mean ± std. dev. of 7 runs, 100 loops each)\n",
      "13.5 µs ± 3.09 µs per loop (mean ± std. dev. of 7 runs, 100 loops each)\n"
     ]
    }
   ],
   "source": [
    "%timeit -n 100 f_it(10)\n",
    "%timeit -n 100 f_it(25)\n",
    "%timeit -n 100 f_it(50)\n",
    "%timeit -n 100 f_it(100)"
   ]
  },
  {
   "cell_type": "markdown",
   "metadata": {},
   "source": [
    "### Instructions for submitting solutions for problem 2: \n",
    "\n",
    "- Please submit only one zip file to NYU Classes, which contains **all your python solutions** and **one pdf file** with all of your answers.  \n",
    "\n",
    "- The submitted zip-file name should be as **\"2020_spring_sol02_*nyuid*.zip\"**  \n",
    "\n",
    "\n",
    "- **e.g.** If your nyuid is \"ab1234\", the submission is \"2020_spring_sol02_ab1234.zip\"  \n",
    "\n",
    "\n",
    "\n"
   ]
  },
  {
   "cell_type": "markdown",
   "metadata": {},
   "source": [
    "# Problem 2. (70%)\n",
    "\n",
    "An astrophysicist colleague was recently complaining about how long it was taking to run an N-body simulation. “It’s really just a simple calculation, and I’m only simulating four planets, but it takes nearly a minute and a half to run one simulation. I really need it done in under 30 seconds.” You kindly offer to take a look at code to see if it is possible to speed it up. Your colleague provides you with a link to the source: https://nyu-cds.github.io/courses/code/nbody.py\n",
    "\n",
    "\n",
    "Although your colleague said the code was simple, it is still fairly complex, so you decide to tackle the problem in stages. A first scan of the code reveals a number of potential areas that could be improved. These include:\n",
    "\n",
    "- Reducing function call overhead\n",
    "\n",
    "- Using alternatives to membership testing of lists \n",
    "\n",
    "- Using local rather than global variables \n",
    "\n",
    "- Using data aggregation to reduce loop overheads.\n",
    "\n",
    "As you’re a cautious programmer, you decide to address each of these in turn. This will ensure that it is possible to check the program is still working correctly after each change, and to assess the performance improvement that the change achieved. You are also aware that the program has to be maintained by others in the future, so you want to make sure that the changes do not make this more difficult, especially if the performance improvement is only minor.\n",
    "\n",
    "For each of these areas, create a new version of nbody.py, call them nbody_1.py, nbody_2.py, nbody_3.py, nbody_4.py. Finally, create another file called nbody_opt.py that contains all of the optimizations you made. \n",
    "\n",
    "\n",
    "Finally, generate a .pdf file with the four logs produced by the command in shell:\n",
    "\n",
    "for f in nbody_*.py; do python -m cProfile -s cumulative $f; done\n",
    "\n",
    "How much speedup do you get (time_original/time_optimized)?\n",
    "\n"
   ]
  },
  {
   "cell_type": "code",
   "execution_count": null,
   "metadata": {},
   "outputs": [],
   "source": [
    "Solutions attached. "
   ]
  }
 ],
 "metadata": {
  "kernelspec": {
   "display_name": "Python 3",
   "language": "python",
   "name": "python3"
  },
  "language_info": {
   "codemirror_mode": {
    "name": "ipython",
    "version": 3
   },
   "file_extension": ".py",
   "mimetype": "text/x-python",
   "name": "python",
   "nbconvert_exporter": "python",
   "pygments_lexer": "ipython3",
   "version": "3.7.5"
  }
 },
 "nbformat": 4,
 "nbformat_minor": 2
}
