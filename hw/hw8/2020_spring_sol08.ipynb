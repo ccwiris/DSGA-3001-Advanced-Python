{
 "cells": [
  {
   "cell_type": "markdown",
   "metadata": {},
   "source": [
    "## Homework 08:  Parallel Programming 01\n",
    "\n",
    "## Due Date: Apr 20, 2020, 08:00am\n",
    "\n",
    "#### Firstname Lastname: \n",
    "\n",
    "#### E-mail: \n",
    "\n",
    "#### Enter your solutions and submit this notebook"
   ]
  },
  {
   "cell_type": "markdown",
   "metadata": {},
   "source": [
    "---\n",
    "\n",
    "**Problem 1 (50p)**\n",
    "\n",
    "Write an MPI program `sol08pr01.py` that does the following for some arbitrary number of processes $N \\geq 2$. Here the the number of processes $N$ is given as `N` while calling the code `sol08pr01.py` as: \n",
    "\n",
    "`mpirun -n N python3 sol08pr01.py`\n",
    "\n",
    "\n",
    "Every process will contain one buffer with one integer variable, each of which is initialized to $0$.\n",
    "\n",
    "Consequently, for $r=0, 1, \\dots, N - 1$, Process $r$ squares its rank $r$, adds the result $r^2$ to the value of its own buffer, and then sends the sum to Process $r + 1$. Note that for $r=N-1$ the result will be sent to Process $0$, i.e. by convention, Process $N$ is the same as Process $0$. At the end Process $0$ will print the received value. \n",
    "\n",
    "Provide results for: $N = 10$, $N = 15$, $N = 20$, $N = 25$.\n",
    "\n",
    "\n",
    "\n",
    "**Note**: You can use either blocking or non-blocking operations. Any input read from the user must be validated correctly. Make sure to provide adequate comments and documentation in the code. \n",
    "\n"
   ]
  },
  {
   "cell_type": "markdown",
   "metadata": {},
   "source": [
    "### Solution: Problem 1"
   ]
  },
  {
   "cell_type": "code",
   "execution_count": 1,
   "metadata": {},
   "outputs": [
    {
     "name": "stdout",
     "output_type": "stream",
     "text": [
      "Overwriting 2020_spring_sol08_pr01.py\n"
     ]
    }
   ],
   "source": [
    "%%writefile 2020_spring_sol08_pr01.py\n",
    "\n",
    "import sys\n",
    "\n",
    "import numpy as np\n",
    "from mpi4py import MPI\n",
    "comm = MPI.COMM_WORLD\n",
    "rank = comm.Get_rank()\n",
    "size = comm.Get_size()\n",
    "\n",
    "var_buffer = np.array([0], dtype=np.int64)\n",
    "\n",
    "if rank == 0:\n",
    "    comm.Send(var_buffer, dest = 1 % size)\n",
    "    print(\"Process\", rank, \"sent\", var_buffer, \"to Process\", (rank + 1) % size)\n",
    "    comm.Recv(var_buffer, source=size - 1)\n",
    "    print(\"Process\", rank, \"received\", var_buffer, \"from Process\", (rank - 1) % size)\n",
    "    print(\"Process\", rank, \"final evaluation:\", var_buffer)\n",
    "    \n",
    "for r in range(1, size):\n",
    "    if rank == r:\n",
    "        comm.Recv(var_buffer, source=r - 1)\n",
    "        print(\"Process\", rank, \"received\", var_buffer, \"from Process\", (r - 1) % size)\n",
    "        var_buffer += r ** 2\n",
    "        comm.Send(var_buffer, dest = (r + 1) % size)\n",
    "        print(\"Process\", rank, \"sent\", var_buffer, \"to Process\", (r + 1) % size)\n",
    "\n",
    "        "
   ]
  },
  {
   "cell_type": "markdown",
   "metadata": {},
   "source": [
    "The output will be the sum of the squares of the first $N - 1$ natural numbers\n",
    "\n",
    "\\begin{equation}\n",
    "\\sum_{r = 1}^{N-1} r^2 = (N - 1) N (2 N - 1) / 6,\n",
    "\\end{equation}\n",
    "\n",
    "\n",
    "which is equal to $285, 1015, 2470, 4900$, evaluated at $N=10, 15, 20, 25$, respectively.\n"
   ]
  },
  {
   "cell_type": "markdown",
   "metadata": {},
   "source": [
    "---\n",
    "\n",
    "**Problem 2 (50p)**\n",
    "\n",
    "Write an MPI program that does the following. There are two processes 0 and 1 that have to exchange $T=10$ messages.  \n",
    "\n",
    "\n",
    "Process 0 initially reads two float variables from the standard input, call them $x, y$, and must ensure $x \\neq 0$ and $y \\neq 0$. For example this can be done as:\n",
    "\n",
    "```\n",
    "import sys\n",
    "\n",
    "\n",
    "for line in sys.stdin:\n",
    "    x = float(line)        \n",
    "    if x != 0.0:\n",
    "        break\n",
    "for line in sys.stdin:\n",
    "    y = float(line)        \n",
    "    if y != 0.0:\n",
    "        break\n",
    "```\n",
    "\n",
    "\n",
    "Both Process 0 and Process 1 will carry main results in an element that is part of a process buffer and called $p$. The value in $p$ is initially set to $1$. \n",
    "\n",
    "\n",
    "Now the exchange of messages is as follows.\n",
    "\n",
    "\n",
    "0. Message00: Process 0 multiplies its own value in $p$ by $x$ and sends the whole buffer to Process 1.\n",
    "\n",
    "1. Message01: Process 1 divides its own value in $p$ by $y$ and sends the whole buffer to Process 0.\n",
    "\n",
    "2. Message01: Process 0 multiplies its own value in $p$ by $x$ and sends the whole buffer to Process 1.\n",
    "\n",
    "3. Message02: Process 1 divides its own value in $p$ by $y$ and sends the whole buffer to Process 0.\n",
    "\n",
    "\n",
    "etc.\n",
    "\n",
    "8. Message08: Process 0 multiplies its own value in $p$ by $x$ and sends the whole buffer to Process 1.\n",
    "\n",
    "9. Message09: Process 1 divides its own value in $p$ by $y$ and sends the whole buffer to Process 0.\n",
    "\n",
    "Finally, Process 0 prints the value in $p$ as a final result. \n",
    "\n",
    "\n",
    "Write the code that implements the protocol above. Additionally, provide results for: $(x, y) = (2, 4)$, $(x, y) = (1, 3)$, $(x, y) = (5, 7)$ and $(x, y) = (5, 10)$.\n",
    "\n",
    "\n",
    "**Note**: You can use either blocking or non-blocking operations. Any input read from the user must be validated correctly. Make sure to provide adequate comments and documentation in the code.\n",
    "\n"
   ]
  },
  {
   "cell_type": "markdown",
   "metadata": {},
   "source": [
    "### Solution: Problem 2"
   ]
  },
  {
   "cell_type": "code",
   "execution_count": 2,
   "metadata": {},
   "outputs": [
    {
     "name": "stdout",
     "output_type": "stream",
     "text": [
      "Overwriting 2020_spring_sol08_pr02.py\n"
     ]
    }
   ],
   "source": [
    "%%writefile 2020_spring_sol08_pr02.py\n",
    "\n",
    "import sys\n",
    "\n",
    "import numpy as np\n",
    "from mpi4py import MPI\n",
    "comm = MPI.COMM_WORLD\n",
    "rank = comm.Get_rank()\n",
    "\n",
    "T = 10\n",
    "\n",
    "# var_buffer = [x, y, p, message_counter]\n",
    "var_buffer = np.array([1, 1, 1, 0], dtype=np.float64)\n",
    "\n",
    "# Read x and y and Message00\n",
    "if var_buffer[-1] == 0 and rank == 0:\n",
    "    for line in sys.stdin:\n",
    "        x = float(line)        \n",
    "        if x != 0.0:\n",
    "            break\n",
    "    for line in sys.stdin:\n",
    "        y = float(line)        \n",
    "        if y != 0.0:\n",
    "            break\n",
    "\n",
    "    print(\"x, y:\", x, y)\n",
    "\n",
    "    var_buffer[0] = x\n",
    "    var_buffer[1] = y\n",
    "    var_buffer[2] = x\n",
    "    # increase the  message counter\n",
    "    var_buffer[-1] += 1\n",
    "\n",
    "    comm.Send(var_buffer, dest=1)\n",
    "    print(\"Msg 0\", \"Process 0 sent: \", var_buffer, \"to Process 1\")\n",
    "    \n",
    "\n",
    "for i in range(1, T):\n",
    "    if rank == i % 2:\n",
    "        comm.Recv(var_buffer, source = (i + 1) % 2)\n",
    "        print(\"Msg\", i, \" Process\", i % 2, \"received\", var_buffer, \"from Process\", (i + 1) % 2)\n",
    "        \n",
    "        if rank == 0:\n",
    "            var_buffer[2] *= var_buffer[0]\n",
    "        else:\n",
    "            var_buffer[2] /= var_buffer[1]\n",
    "        # increase the  message counter\n",
    "        var_buffer[-1] += 1\n",
    "\n",
    "        comm.Send(var_buffer, dest = (i + 1) % 2)\n",
    "        print(\"Msg\", i, \" Process\", i % 2, \"sent\", var_buffer, \"to Process\", (i + 1) % 2)\n",
    "        if i == T - 1:\n",
    "            print(\"Msg\", i, \" Process\", i % 2, \"Final Value:\", var_buffer[2])\n",
    "\n",
    "        \n"
   ]
  },
  {
   "cell_type": "markdown",
   "metadata": {},
   "source": [
    "The results for: $(x, y) = (2, 4), (1, 3), (5, 7), (5, 10)$ are: $(1/2)^ 5, (1/3)^5, (5/7)^5, (1/2)^5$ respectively. \n",
    "\n",
    "In fact, the result is $(x/y) ^ {N/2}$ given $N$ is divisible by $2$.\n"
   ]
  },
  {
   "cell_type": "code",
   "execution_count": null,
   "metadata": {},
   "outputs": [],
   "source": []
  }
 ],
 "metadata": {
  "kernelspec": {
   "display_name": "Python 3",
   "language": "python",
   "name": "python3"
  },
  "language_info": {
   "codemirror_mode": {
    "name": "ipython",
    "version": 3
   },
   "file_extension": ".py",
   "mimetype": "text/x-python",
   "name": "python",
   "nbconvert_exporter": "python",
   "pygments_lexer": "ipython3",
   "version": "3.7.5"
  }
 },
 "nbformat": 4,
 "nbformat_minor": 2
}
