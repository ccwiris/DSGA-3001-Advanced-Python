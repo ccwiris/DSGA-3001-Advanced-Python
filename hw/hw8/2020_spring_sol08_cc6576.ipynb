{
 "cells": [
  {
   "cell_type": "markdown",
   "metadata": {},
   "source": [
    "## Homework 08:  Parallel Programming 01\n",
    "\n",
    "## Due Date: Apr 20, 2020, 08:00am\n",
    "\n",
    "#### Firstname Lastname: Chengwei Chen\n",
    "\n",
    "#### E-mail: cc6576@nyu.edu\n",
    "\n",
    "#### Enter your solutions and submit this notebook"
   ]
  },
  {
   "cell_type": "markdown",
   "metadata": {},
   "source": [
    "---\n",
    "\n",
    "**Problem 1 (50p)**\n",
    "\n",
    "Write an MPI program `sol08pr01.py` that does the following for some arbitrary number of processes $N \\geq 2$. Here the number of processes $N$ is given as `N` while calling the code `sol08pr01.py` as: \n",
    "\n",
    "`mpirun -n N python3 sol08pr01.py`\n",
    "\n",
    "\n",
    "Every process will contain one buffer with one integer variable, each of which is initialized to $0$.\n",
    "\n",
    "Consequently, for $r=0, 1, \\dots, N - 1$, Process $r$ squares its rank $r$, adds the result $r^2$ to the value of its own buffer, and then sends the sum to Process $r + 1$. Note that for $r=N-1$ the result will be sent to Process $0$, i.e. by convention, Process $N$ is the same as Process $0$. At the end Process $0$ prints the received value. \n",
    "\n",
    "Provide results for: $N = 10$, $N = 15$, $N = 20$, $N = 25$.\n",
    "\n",
    "\n",
    "\n",
    "**Note**: You can use either blocking or non-blocking operations.Make sure to provide adequate comments and documentation in the code. \n",
    "\n"
   ]
  },
  {
   "cell_type": "code",
   "execution_count": 100,
   "metadata": {},
   "outputs": [
    {
     "name": "stdout",
     "output_type": "stream",
     "text": [
      "Overwriting sol08pr01.py\n"
     ]
    }
   ],
   "source": [
    "%%writefile sol08pr01.py\n",
    "\n",
    "from mpi4py import MPI\n",
    "import numpy as np\n",
    "\n",
    "comm = MPI.COMM_WORLD\n",
    "rank = comm.Get_rank()\n",
    "size = comm.Get_size()\n",
    "data = 0 # initialized to 0\n",
    "\n",
    "if rank == 0:\n",
    "    comm.send(data, dest=1)\n",
    "    data = comm.recv(source=size-1)\n",
    "    print(data)\n",
    "elif rank == size-1:\n",
    "    data = comm.recv(source=rank-1)\n",
    "    data = data + rank**2\n",
    "    comm.send(data, dest=0)\n",
    "else:\n",
    "    data = comm.recv(source=rank-1)\n",
    "    data = data + rank**2\n",
    "    comm.send(data, dest=rank+1)"
   ]
  },
  {
   "cell_type": "code",
   "execution_count": 101,
   "metadata": {},
   "outputs": [
    {
     "name": "stdout",
     "output_type": "stream",
     "text": [
      "285\r\n"
     ]
    }
   ],
   "source": [
    "!mpirun -n 10 python3 sol08pr01.py"
   ]
  },
  {
   "cell_type": "code",
   "execution_count": 102,
   "metadata": {},
   "outputs": [
    {
     "name": "stdout",
     "output_type": "stream",
     "text": [
      "1015\r\n"
     ]
    }
   ],
   "source": [
    "!mpirun -n 15 python3 sol08pr01.py"
   ]
  },
  {
   "cell_type": "code",
   "execution_count": 103,
   "metadata": {},
   "outputs": [
    {
     "name": "stdout",
     "output_type": "stream",
     "text": [
      "2470\r\n"
     ]
    }
   ],
   "source": [
    "!mpirun -n 20 python3 sol08pr01.py"
   ]
  },
  {
   "cell_type": "code",
   "execution_count": 104,
   "metadata": {},
   "outputs": [
    {
     "name": "stdout",
     "output_type": "stream",
     "text": [
      "4900\r\n"
     ]
    }
   ],
   "source": [
    "!mpirun -n 25 python3 sol08pr01.py"
   ]
  },
  {
   "cell_type": "markdown",
   "metadata": {},
   "source": [
    "---\n",
    "\n",
    "**Problem 2 (50p)**\n",
    "\n",
    "Write an MPI program that does the following. There are two processes 0 and 1 that have to exchange $T=10$ messages.  \n",
    "\n",
    "\n",
    "Process 0 initially reads two float variables from the standard input, call them $x, y$, and must ensure $x \\neq 0$ and $y \\neq 0$. For example this can be done as:\n",
    "\n",
    "```\n",
    "import sys\n",
    "\n",
    "\n",
    "for line in sys.stdin:\n",
    "    x = float(line)        \n",
    "    if x != 0.0:\n",
    "        break\n",
    "for line in sys.stdin:\n",
    "    y = float(line)        \n",
    "    if y != 0.0:\n",
    "        break\n",
    "```\n",
    "\n",
    "\n",
    "Both Process 0 and Process 1 will carry main results in an element that is part of a process buffer and called $p$. The value in $p$ is initially set to $1$. \n",
    "\n",
    "\n",
    "Now the exchange of messages is as follows.\n",
    "\n",
    "\n",
    "0. Message00: Process 0 multiplies its own value in $p$ by $x$ and sends the whole buffer to Process 1.\n",
    "\n",
    "1. Message01: Process 1 divides its own value in $p$ by $y$ and sends the whole buffer to Process 0.\n",
    "\n",
    "2. Message01: Process 0 multiplies its own value in $p$ by $x$ and sends the whole buffer to Process 1.\n",
    "\n",
    "3. Message02: Process 1 divides its own value in $p$ by $y$ and sends the whole buffer to Process 0.\n",
    "\n",
    "\n",
    "etc.\n",
    "\n",
    "8. Message08: Process 0 multiplies its own value in $p$ by $x$ and sends the whole buffer to Process 1.\n",
    "\n",
    "9. Message09: Process 1 divides its own value in $p$ by $y$ and sends the whole buffer to Process 0.\n",
    "\n",
    "Finally, Process 0 prints the value in $p$ as a final result. \n",
    "\n",
    "\n",
    "Write the code that implements the protocol above. Additionally, provide results for: $(x, y) = (2, 4)$, $(x, y) = (1, 3)$, $(x, y) = (5, 7)$ and $(x, y) = (5, 10)$.\n",
    "\n",
    "\n",
    "**Note**: You can use either blocking or non-blocking operations.Make sure to provide adequate comments and documentation in the code.\n",
    "\n"
   ]
  },
  {
   "cell_type": "code",
   "execution_count": 105,
   "metadata": {},
   "outputs": [
    {
     "name": "stdout",
     "output_type": "stream",
     "text": [
      "Overwriting sol08pr02.py\n"
     ]
    }
   ],
   "source": [
    "%%writefile sol08pr02.py\n",
    "\n",
    "from mpi4py import MPI\n",
    "import numpy as np\n",
    "import sys\n",
    "\n",
    "comm = MPI.COMM_WORLD\n",
    "rank = comm.Get_rank()\n",
    "size = comm.Get_size()\n",
    "\n",
    "p = 1 # initialize to 1\n",
    "\n",
    "if rank == 1:\n",
    "    y = comm.recv(source=0)\n",
    "    for i in range(5):\n",
    "        p = comm.recv(source=0)\n",
    "#         print(\"Process\", rank, \"received the number\", p, \"from process 0\")\n",
    "        p /= y\n",
    "        comm.send(p, dest=0)\n",
    "        \n",
    "if rank == 0:\n",
    "    for line in sys.stdin:\n",
    "        x = float(line)\n",
    "        if x != 0.0:\n",
    "            break\n",
    "    for line in sys.stdin:\n",
    "        y = float(line)\n",
    "        if y != 0.0:\n",
    "            break\n",
    "    comm.send(y, dest=1)\n",
    "    for i in range(5):\n",
    "        p *= x\n",
    "        comm.send(p, dest=1)\n",
    "        p = comm.recv(source=1)\n",
    "#         print(\"Process\", rank, \"received the number\", p, \"from process 1\")\n",
    "    print(\"Process\", rank, \"received the number\", p, \"from process 1\")"
   ]
  },
  {
   "cell_type": "raw",
   "metadata": {},
   "source": [
    "(base) Iris-Chens-MacBook-Air:hw8 ChengweiChen$ mpirun -n 2 python3 sol08pr02.py\n",
    "2\n",
    "4\n",
    "Process 0 received the number 0.03125 from process 1\n",
    "(base) Iris-Chens-MacBook-Air:hw8 ChengweiChen$ mpirun -n 2 python3 sol08pr02.py\n",
    "1\n",
    "3\n",
    "Process 0 received the number 0.004115226337448559 from process 1\n",
    "(base) Iris-Chens-MacBook-Air:hw8 ChengweiChen$ mpirun -n 2 python3 sol08pr02.py\n",
    "5\n",
    "7\n",
    "Process 0 received the number 0.1859344320818706 from process 1\n",
    "(base) Iris-Chens-MacBook-Air:hw8 ChengweiChen$ mpirun -n 2 python3 sol08pr02.py\n",
    "5\n",
    "10\n",
    "Process 0 received the number 0.03125 from process 1"
   ]
  }
 ],
 "metadata": {
  "kernelspec": {
   "display_name": "Python 3",
   "language": "python",
   "name": "python3"
  },
  "language_info": {
   "codemirror_mode": {
    "name": "ipython",
    "version": 3
   },
   "file_extension": ".py",
   "mimetype": "text/x-python",
   "name": "python",
   "nbconvert_exporter": "python",
   "pygments_lexer": "ipython3",
   "version": "3.7.1"
  }
 },
 "nbformat": 4,
 "nbformat_minor": 2
}
