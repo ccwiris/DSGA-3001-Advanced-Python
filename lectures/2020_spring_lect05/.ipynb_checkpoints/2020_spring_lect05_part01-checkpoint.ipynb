{
 "cells": [
  {
   "cell_type": "markdown",
   "metadata": {},
   "source": [
    "# Lecture 05 \n",
    "### Introduction to Cython - Part 01 \n",
    "### February 25, 2020   "
   ]
  },
  {
   "cell_type": "markdown",
   "metadata": {},
   "source": [
    "---\n",
    "\n",
    "Based on the material at: https://nyu-cds.github.io/python-cython/\n",
    "\n",
    "This lecture provides a very brief introduction to Cython. See the [Cython documentation](http://cython.readthedocs.io/en/latest/) for a more detailed description of the Cython language."
   ]
  },
  {
   "cell_type": "markdown",
   "metadata": {},
   "source": [
    "What we will learn:\n",
    "- What cython is\n",
    "- The different manners of using cython\n",
    "- some comparison in terms of computational times"
   ]
  },
  {
   "cell_type": "markdown",
   "metadata": {},
   "source": [
    "----\n",
    "- Cython is a modification of Python that adds C data types and converts python codes to C;\n",
    "\n",
    "- It allows for compilation into a shared library that can be imported into Python;\n",
    "\n",
    "- Almost any piece of Python code is also valid Cython code (with a few limitations).\n",
    "\n",
    "- In Cython, function parameters and variables can be declared to have C data types and code which manipulates Python values and C values can be freely intermixed. Cython takes care of automatically converting from C to Python data types wherever possible.\n",
    "\n",
    "- Parameters of either type of function can be declared to have C data types, using normal C declaration syntax \n",
    "\n",
    "\n",
    "\n"
   ]
  },
  {
   "cell_type": "markdown",
   "metadata": {},
   "source": [
    "---\n",
    "\n",
    "\n",
    "\n",
    "- Speed\n",
    "\n",
    "How much performance improves depends very much on the program. Typical Python numerical programs would tend to gain very little as most time is spent in lower-level C anyway. However, for-loop-style programs can improve by many orders of magnitude.\n",
    "\n",
    "- Easy calling into C code\n",
    "\n",
    "One of Cython’s purposes is to allow easy wrapping of C libraries. When writing code in Cython you can call into C code as easily as into Python code.\n",
    "\n",
    "---"
   ]
  },
  {
   "cell_type": "markdown",
   "metadata": {},
   "source": [
    "<blockquote>\n",
    "<h2 id=\"prerequisites\"><font color='blue'>__Prerequisites__</font></h2>\n",
    "    <p>The examples in this lesson can be run directly using the Python interpreter, using IPython interactively, \n",
    "or using Jupyter notebooks. Anaconda users will already have Cython installed. You will also need a functioning\n",
    "C compiler to be able to use Cython. See the <a href=\"http://cython.readthedocs.io/en/latest/src/quickstart/install.html\">Cython installation guide</a> for more details.</p>\n",
    "</blockquote>"
   ]
  },
  {
   "cell_type": "markdown",
   "metadata": {},
   "source": [
    "---\n",
    "\n",
    "C compiler *gcc* is usually present\n",
    "\n",
    "To install essentials on debian or ubuntu: ```sudo apt-get install build-essential```\n",
    "\n",
    "To install cython with conda run: ```conda install -c anaconda cython```\n",
    "\n",
    "\n",
    "---"
   ]
  },
  {
   "cell_type": "markdown",
   "metadata": {},
   "source": [
    "#### <font color='blue'>Basic C Types</font>\n",
    "| Type        |\tDescription |\n",
    "| :---        | :---: |\n",
    "| char\t| 8-bit signed integer |\n",
    "| short\t| 16-bit signed integer |\n",
    "|int\t| 32-bit signed integer |\n",
    "| long\t| 64-bit signed integer |\n",
    "| long long\t| 64-bit signed integer|\n",
    "| float\t| 32-bit floating point |\n",
    "| double |64-bit floating point |\n",
    "| long double | 80-bit floating point |<br>\n",
    "#### <font color='blue'>Array</font>\n",
    "type name[size]\n",
    "#### <font color='blue'>Pointer</font>\n",
    "type *name\n",
    "#### <font color='blue'>Structure</font>\n",
    "struct name { declaration }"
   ]
  },
  {
   "cell_type": "markdown",
   "metadata": {},
   "source": [
    "----\n",
    "### Using the magic %%cython in jupyter"
   ]
  },
  {
   "cell_type": "code",
   "execution_count": null,
   "metadata": {},
   "outputs": [],
   "source": [
    "import numpy as np\n",
    "\n",
    "# sum non-negative integers \n",
    "\n",
    "a = 0\n",
    "g = np.zeros((10, ))\n",
    "\n",
    "for i in range(10):\n",
    "    g[i] = a\n",
    "    a += i\n",
    "    \n",
    "print(g)"
   ]
  },
  {
   "cell_type": "code",
   "execution_count": null,
   "metadata": {},
   "outputs": [],
   "source": [
    "%load_ext Cython"
   ]
  },
  {
   "cell_type": "markdown",
   "metadata": {},
   "source": [
    "---\n",
    "\n",
    "Cython code can be compiled using the %%cython cell magic command:\n",
    "\n",
    "---"
   ]
  },
  {
   "cell_type": "code",
   "execution_count": null,
   "metadata": {
    "scrolled": false
   },
   "outputs": [],
   "source": [
    "%%cython\n",
    "import numpy as np\n",
    "\n",
    "cdef int a = 0\n",
    "cdef int g[10]\n",
    "cdef int i\n",
    "\n",
    "for i in range(10):\n",
    "    g[i] = a\n",
    "    a += i\n",
    "    \n",
    "print(g)"
   ]
  },
  {
   "cell_type": "code",
   "execution_count": null,
   "metadata": {},
   "outputs": [],
   "source": [
    "%%cython --annotate\n",
    "\n",
    "cdef int a = 0\n",
    "cdef int g[10]\n",
    "cdef int i\n",
    "\n",
    "for i in range(10):\n",
    "    g[i] = a\n",
    "    a += i\n",
    "    \n",
    "print(g)"
   ]
  },
  {
   "cell_type": "markdown",
   "metadata": {},
   "source": [
    "---\n",
    "\n",
    "- Each line can be expanded to show the generated C code  \n",
    "\n",
    "\n",
    "- More yellow: ''more calls into the Python virtual machine''  \n",
    "\n",
    "\n",
    "- More white: ''more non-Python C code''   \n",
    "\n",
    "\n",
    "- ''more yellow lines'' means more calls into the virtual machine -- will not necessarily make the code slower \n",
    "\n",
    "\n",
    "- Each call into the virtual machine has a cost\n",
    "\n",
    "\n",
    "- The cost of those calls will only be significant if the calls occur inside large loops  \n",
    "\n",
    "\n",
    "---"
   ]
  },
  {
   "cell_type": "code",
   "execution_count": null,
   "metadata": {},
   "outputs": [],
   "source": [
    "%%cython\n",
    "\n",
    "cdef struct Student:\n",
    "    unsigned char *name\n",
    "    unsigned char *lastname\n",
    "    unsigned char *university_id\n",
    "    int age\n",
    "    float gpa\n",
    "    \n",
    "cdef Student student\n",
    "\n",
    "student.name = 'John'\n",
    "student.lastname = 'Smith'\n",
    "student.university_id = 'js1234'\n",
    "student.age = 20\n",
    "student.gpa = 4.0\n",
    "\n",
    "print(\"student:\", student)\n",
    "\n",
    "print(\"gpa:\", student.gpa) "
   ]
  },
  {
   "cell_type": "markdown",
   "metadata": {},
   "source": [
    "----\n",
    "## Performance Comparisons\n",
    "The following pure Python example generates a list of kmax prime numbers"
   ]
  },
  {
   "cell_type": "code",
   "execution_count": null,
   "metadata": {},
   "outputs": [],
   "source": [
    "# Pure Python code\n",
    "import time\n",
    "\n",
    "def primes_with_python(kmax):\n",
    "    \n",
    "    kmax = max(1000, kmax)\n",
    "    primes = [None] * kmax # Initialize the list to the max number of elements\n",
    "    \n",
    "    result = []\n",
    "    k = 0\n",
    "    n = 2\n",
    "    \n",
    "    while k < kmax:\n",
    "        \n",
    "        i = 0\n",
    "        while i < k and n % primes[i] != 0:\n",
    "            i = i + 1\n",
    "            \n",
    "        if i == k:\n",
    "            primes[k] = n\n",
    "            k = k + 1\n",
    "            result.append(n)\n",
    "        \n",
    "        n = n + 1\n",
    "    return result\n",
    "\n",
    "t = time.process_time()\n",
    "x = primes_with_python(1000)\n",
    "elapsed_time = time.process_time() - t\n",
    "print(elapsed_time,'s')"
   ]
  },
  {
   "cell_type": "markdown",
   "metadata": {},
   "source": [
    "---\n",
    "\n",
    "The same code can be run without any change in Cython.\n",
    "\n",
    "---"
   ]
  },
  {
   "cell_type": "code",
   "execution_count": null,
   "metadata": {},
   "outputs": [],
   "source": [
    "%load_ext Cython"
   ]
  },
  {
   "cell_type": "code",
   "execution_count": null,
   "metadata": {},
   "outputs": [],
   "source": [
    "%%cython --annotate\n",
    "# Using the magic cython\n",
    "\n",
    "import time\n",
    "\n",
    "def primes_with_cython(kmax):\n",
    "    kmax = max(1000, kmax)\n",
    "    primes = [None] * kmax # Initialize the list to the max number of elements\n",
    "    \n",
    "    result = []\n",
    "    k = 0\n",
    "    n = 2\n",
    "    while k < kmax:\n",
    "        i = 0\n",
    "        while i < k and n % primes[i] != 0:\n",
    "            i = i + 1\n",
    "        \n",
    "        if i == k:\n",
    "            primes[k] = n\n",
    "            k = k + 1\n",
    "            result.append(n)\n",
    "        \n",
    "        n = n + 1\n",
    "    return result\n",
    "\n",
    "t = time.process_time()\n",
    "x = primes_with_cython(1000)\n",
    "elapsed_time = time.process_time() - t\n",
    "print(elapsed_time,'s')"
   ]
  },
  {
   "cell_type": "markdown",
   "metadata": {},
   "source": [
    "---\n",
    "\n",
    "We can define some types to improve the code:"
   ]
  },
  {
   "cell_type": "code",
   "execution_count": null,
   "metadata": {},
   "outputs": [],
   "source": [
    "%%cython \n",
    "#--annotate\n",
    "import time\n",
    "\n",
    "def primes_ctype(int kmax):\n",
    "    \n",
    "    cdef int i, k, n\n",
    "    cdef int primes[1000]\n",
    "    \n",
    "    kmax = max(1000, kmax)\n",
    "    \n",
    "    result = []\n",
    "    k = 0\n",
    "    n = 2\n",
    "    while k < kmax:\n",
    "        i = 0\n",
    "        while i < k and n % primes[i] != 0:\n",
    "            i = i + 1\n",
    "            \n",
    "        if i == k:\n",
    "            primes[k] = n\n",
    "            k = k + 1\n",
    "            result.append(n)\n",
    "        \n",
    "        n = n + 1\n",
    "    return result\n",
    "\n",
    "t = time.process_time()\n",
    "x = primes_ctype(1000)\n",
    "elapsed_time = time.process_time() - t\n",
    "print(elapsed_time,'s')"
   ]
  },
  {
   "cell_type": "markdown",
   "metadata": {},
   "source": [
    "----\n",
    "### Using cython outside jupyter (Compiling with distutils)"
   ]
  },
  {
   "cell_type": "markdown",
   "metadata": {},
   "source": [
    "See https://cython.readthedocs.io/en/latest/src/quickstart/build.html\n",
    "\n",
    "- Cython code is normally saved in files ending with .pyx (the x indicates it is different from standard Python code). \n",
    "\n",
    "\n",
    "- A Cython file can be translated to C using the **distutils** package.\n",
    "\n",
    "The **distutils** package is part of the standard library. It is the standard way of building Python packages, including native extension modules. The following example configures the build for a Cython file called **my_module.pyx** with the following content:\n",
    "\n",
    "```python\n",
    "def cfunc(int n):\n",
    "    cdef int s = 0\n",
    "    cdef int i\n",
    "    for i in range(n + 1):\n",
    "        s += i\n",
    "    return s\n",
    "```"
   ]
  },
  {
   "cell_type": "code",
   "execution_count": null,
   "metadata": {},
   "outputs": [],
   "source": [
    "!ls"
   ]
  },
  {
   "cell_type": "code",
   "execution_count": null,
   "metadata": {},
   "outputs": [],
   "source": [
    "!cat my_module.pyx"
   ]
  },
  {
   "cell_type": "markdown",
   "metadata": {},
   "source": [
    "---\n",
    "\n",
    "In order to use **distutils** we have to create a **setup.py** script. In our example it can be:\n",
    "\n",
    "```python\n",
    "from distutils.core import setup\n",
    "from Cython.Build import cythonize\n",
    "\n",
    "setup(\n",
    "    name = \"my_module_app\",\n",
    "    ext_modules = cythonize(\"my_module.pyx\"), \n",
    ")\n",
    "```\n",
    "\n",
    "---"
   ]
  },
  {
   "cell_type": "code",
   "execution_count": null,
   "metadata": {},
   "outputs": [],
   "source": [
    "!cat setup.py"
   ]
  },
  {
   "cell_type": "markdown",
   "metadata": {},
   "source": [
    "---\n",
    "\n",
    "Now, run this command in your system’s command shell and you are done.\n",
    "\n"
   ]
  },
  {
   "cell_type": "code",
   "execution_count": null,
   "metadata": {},
   "outputs": [],
   "source": [
    "!python setup.py build_ext --inplace\n",
    "\n",
    "# here the flag \"inplace\" is to: \n",
    "# ignore build-lib and put compiled extensions into the source directory alongside your pure Python modules"
   ]
  },
  {
   "cell_type": "code",
   "execution_count": null,
   "metadata": {},
   "outputs": [],
   "source": [
    "!ls"
   ]
  },
  {
   "cell_type": "markdown",
   "metadata": {},
   "source": [
    "---\n",
    "\n",
    "The two files:\n",
    "- my_module.c\n",
    "- my_module.cpython-*.so\n",
    "will be created\n",
    "\n",
    "The .so library can be treated just like any Python module and imported using the normal import statement:\n",
    "```python\n",
    "import my_module\n",
    "```"
   ]
  },
  {
   "cell_type": "code",
   "execution_count": null,
   "metadata": {},
   "outputs": [],
   "source": [
    "import my_module\n",
    "\n",
    "s = my_module.cfunc(100)\n",
    "print(\"sum of the first 100 natural numbers:\", s)"
   ]
  },
  {
   "cell_type": "code",
   "execution_count": null,
   "metadata": {},
   "outputs": [],
   "source": [
    "n = 2000\n",
    "print(\"sum of the first %d natural numbers: %d\" % (n, my_module.cfunc(n)))"
   ]
  }
 ],
 "metadata": {
  "kernelspec": {
   "display_name": "Python 3",
   "language": "python",
   "name": "python3"
  },
  "language_info": {
   "codemirror_mode": {
    "name": "ipython",
    "version": 3
   },
   "file_extension": ".py",
   "mimetype": "text/x-python",
   "name": "python",
   "nbconvert_exporter": "python",
   "pygments_lexer": "ipython3",
   "version": "3.7.1"
  }
 },
 "nbformat": 4,
 "nbformat_minor": 2
}
