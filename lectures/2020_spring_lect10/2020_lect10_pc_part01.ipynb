{
 "cells": [
  {
   "cell_type": "markdown",
   "metadata": {},
   "source": [
    "## Lecture 10\n",
    "\n",
    "## Python Parallel Computing - Part 01\n",
    "\n",
    "### Apr 07, 2020\n"
   ]
  },
  {
   "cell_type": "markdown",
   "metadata": {},
   "source": [
    "Part of this lecture is based on the previous years lectures and the material [parallel computing](https://nyu-cds.github.io/python-mpi/01-introduction/).\n"
   ]
  },
  {
   "cell_type": "markdown",
   "metadata": {},
   "source": [
    "---\n",
    "\n",
    "You will need **mpi4py** \n",
    "\n",
    "To install: [https://mpi4py.readthedocs.io/en/stable/install.html](https://mpi4py.readthedocs.io/en/stable/install.html)\n",
    "\n",
    "\n",
    "Run the following in terminal: \n",
    "\n",
    "1. sudo apt install libopenmpi-dev\n",
    "\n",
    "2. pip install mpi4py\n",
    "\n",
    "\n",
    "or \n",
    "\n",
    "1. brew install open-mpi\n",
    "\n",
    "2. pip3 install mpi4py\n",
    "\n",
    "\n",
    "If errors, see this article for further details: [https://stackoverflow.com/questions/28440834/error-when-installing-mpi4py](https://stackoverflow.com/questions/28440834/error-when-installing-mpi4py)\n",
    "\n",
    "---\n"
   ]
  },
  {
   "cell_type": "code",
   "execution_count": 17,
   "metadata": {},
   "outputs": [
    {
     "name": "stdout",
     "output_type": "stream",
     "text": [
      "Collecting package metadata (repodata.json): done\n",
      "Solving environment: done\n",
      "\n",
      "## Package Plan ##\n",
      "\n",
      "  environment location: /Users/chengweichen/anaconda3\n",
      "\n",
      "  added / updated specs:\n",
      "    - mpi4py\n",
      "\n",
      "\n",
      "The following packages will be downloaded:\n",
      "\n",
      "    package                    |            build\n",
      "    ---------------------------|-----------------\n",
      "    ca-certificates-2020.1.1   |                0         132 KB\n",
      "    certifi-2020.4.5.1         |           py37_0         159 KB\n",
      "    conda-4.8.3                |           py37_0         3.0 MB\n",
      "    mpi-1.0                    |            mpich          13 KB\n",
      "    mpi4py-3.0.3               |   py37h77202c6_0         563 KB\n",
      "    mpich-3.3.2                |       hc856adb_0         4.1 MB\n",
      "    openssl-1.1.1f             |       h1de35cc_0         3.5 MB\n",
      "    ------------------------------------------------------------\n",
      "                                           Total:        11.5 MB\n",
      "\n",
      "The following NEW packages will be INSTALLED:\n",
      "\n",
      "  mpi                pkgs/main/osx-64::mpi-1.0-mpich\n",
      "  mpi4py             pkgs/main/osx-64::mpi4py-3.0.3-py37h77202c6_0\n",
      "  mpich              pkgs/main/osx-64::mpich-3.3.2-hc856adb_0\n",
      "\n",
      "The following packages will be UPDATED:\n",
      "\n",
      "  certifi               anaconda::certifi-2019.11.28-py37_0 --> pkgs/main::certifi-2020.4.5.1-py37_0\n",
      "  conda                        anaconda::conda-4.8.2-py37_0 --> pkgs/main::conda-4.8.3-py37_0\n",
      "\n",
      "The following packages will be SUPERSEDED by a higher-priority channel:\n",
      "\n",
      "  ca-certificates                                  anaconda --> pkgs/main\n",
      "  openssl                anaconda::openssl-1.1.1-h1de35cc_0 --> pkgs/main::openssl-1.1.1f-h1de35cc_0\n",
      "\n",
      "\n",
      "\n",
      "Downloading and Extracting Packages\n",
      "mpi-1.0              | 13 KB     | ##################################### | 100% \n",
      "ca-certificates-2020 | 132 KB    | ##################################### | 100% \n",
      "conda-4.8.3          | 3.0 MB    | ##################################### | 100% \n",
      "certifi-2020.4.5.1   | 159 KB    | ##################################### | 100% \n",
      "mpi4py-3.0.3         | 563 KB    | ##################################### | 100% \n",
      "mpich-3.3.2          | 4.1 MB    | ##################################### | 100% \n",
      "openssl-1.1.1f       | 3.5 MB    | ##################################### | 100% \n",
      "Preparing transaction: done\n",
      "Verifying transaction: done\n",
      "Executing transaction: done\n",
      "\n",
      "Note: you may need to restart the kernel to use updated packages.\n"
     ]
    }
   ],
   "source": [
    "conda install mpi4py"
   ]
  },
  {
   "cell_type": "markdown",
   "metadata": {},
   "source": [
    "### Two basic approaches"
   ]
  },
  {
   "cell_type": "markdown",
   "metadata": {},
   "source": [
    "<img src=\"./figs/shared_memory.png\" alt=\"shared_memory\" style=\"width: 350px;\"/>\n"
   ]
  },
  {
   "cell_type": "markdown",
   "metadata": {},
   "source": [
    "<img src=\"./figs/distributed_memory.png\" alt=\"distributed_memory\" style=\"width: 400px;\"/>"
   ]
  },
  {
   "cell_type": "markdown",
   "metadata": {},
   "source": [
    "---\n",
    "\n",
    "### __MPI__ (Message Passing Interface) \n",
    "\n",
    "- Most widely used standard\n",
    "\n",
    "\n",
    "- For programming distributed-memory multiple instruction--multiple data (MIMD) systems\n",
    "\n",
    "\n",
    "#### __Point to point Communication__\n",
    "\n",
    "Processes should coordinate their activities by explicitly sending and receiving messages\n",
    "\n",
    "MPI operates as follows:\n",
    "- Process A decides a message needs to be sent to process B.\n",
    "- Process A packs up all of its necessary data into a buffer for process B.\n",
    "- Process A indicates that the data should be sent to process B by calling the _Send_ function.\n",
    "- Process B needs to acknowledge it wants to receive the message by calling the _Recv_ function.\n",
    "\n",
    "Every time a process sends a message, there must be a process that also indicates it wants to receive the message, therefore, calls to _Send_ and _Recv_ are always paired.\n",
    "\n",
    "\n",
    "\n",
    "<img src=\"./figs/send_receive.png\" alt=\"distributed_memory\" style=\"width: 400px;\"/>"
   ]
  },
  {
   "cell_type": "markdown",
   "metadata": {},
   "source": [
    "---\n",
    "\n",
    "### The number of processes \n",
    "\n",
    "- Is **fixed** when an MPI program is started \n",
    "\n",
    "- Each of the processes is assigned a unique integer starting from 0. \n",
    "\n",
    "- This integer is know as the rank of the process and is how each process is identified when sending and receiving messages (we will refer to rank K process as \"process K\").\n",
    "\n",
    "- **MPI processes** are arranged in logical collections known as **communicators**. \n",
    "\n",
    "- There is one special communicator (**MPI.COMM_WORLD**) that exists when an MPI program starts, which contains all the processes in the MPI program. \n",
    "\n",
    "\n",
    "- MPI provides a few **methods** on a communicator:\n",
    "\n",
    "\n",
    "> Get_size() - returns the total number of processes contained in the communicator (the size of the communicator).\n",
    "\n",
    "> Get_rank() - returns the rank of the calling process within the communicator. \n",
    "\n",
    "> Send() - sends content to a process\n",
    "\n",
    "> Recv() - receives content from a process\n",
    "\n"
   ]
  },
  {
   "cell_type": "code",
   "execution_count": 3,
   "metadata": {},
   "outputs": [
    {
     "name": "stdout",
     "output_type": "stream",
     "text": [
      "hello world: size = 1, rank = 0\n"
     ]
    }
   ],
   "source": [
    "from mpi4py import MPI\n",
    "\n",
    "comm = MPI.COMM_WORLD\n",
    "size = comm.Get_size()\n",
    "rank = comm.Get_rank()\n",
    "print('hello world: size = %d, rank = %d' % (size, rank))"
   ]
  },
  {
   "cell_type": "code",
   "execution_count": 22,
   "metadata": {},
   "outputs": [
    {
     "name": "stdout",
     "output_type": "stream",
     "text": [
      "Overwriting mpi1.py\n"
     ]
    }
   ],
   "source": [
    "%%writefile mpi1.py\n",
    "#####\n",
    "# writting the code in the mpi1.py file\n",
    "#####\n",
    "\n",
    "from mpi4py import MPI\n",
    "\n",
    "comm = MPI.COMM_WORLD\n",
    "size = comm.Get_size()\n",
    "rank = comm.Get_rank()\n",
    "print('hello world: size = %d, rank = %d' % (size, rank))"
   ]
  },
  {
   "cell_type": "code",
   "execution_count": 23,
   "metadata": {},
   "outputs": [
    {
     "name": "stdout",
     "output_type": "stream",
     "text": [
      "hello world: size = 2, rank = 1\r\n",
      "hello world: size = 2, rank = 0\r\n"
     ]
    }
   ],
   "source": [
    "#####\n",
    "# running MPI from the terminal with n=4 processes\n",
    "#####\n",
    "!mpiexec -n 2 python3 mpi1.py"
   ]
  },
  {
   "cell_type": "markdown",
   "metadata": {},
   "source": [
    "---\n",
    "### One MPI program, multiple MPI processes\n",
    "Making each process to perform a different computation "
   ]
  },
  {
   "cell_type": "code",
   "execution_count": 6,
   "metadata": {},
   "outputs": [
    {
     "name": "stdout",
     "output_type": "stream",
     "text": [
      "Overwriting mpi2.py\n"
     ]
    }
   ],
   "source": [
    "%%writefile mpi2.py\n",
    "\n",
    "from mpi4py import MPI\n",
    "rank = MPI.COMM_WORLD.Get_rank()\n",
    "\n",
    "a = 8.0\n",
    "b = 4.0\n",
    "print('Process rank',rank)\n",
    "if rank == 0:\n",
    "        print(\"addition:\", a + b)\n",
    "if rank == 1:\n",
    "        print(\"multiplication:\", a * b)\n",
    "if rank == 2:\n",
    "        print(\"maximum:\", max(a,b))\n",
    "if rank == 3:\n",
    "        print(\"doing nothing:\")"
   ]
  },
  {
   "cell_type": "code",
   "execution_count": 7,
   "metadata": {},
   "outputs": [
    {
     "name": "stdout",
     "output_type": "stream",
     "text": [
      "Process rank 2\r\n",
      "maximum: 8.0\r\n",
      "Process rank 3\r\n",
      "doing nothing:\r\n",
      "Process rank 0\r\n",
      "addition: 12.0\r\n",
      "Process rank 1\r\n",
      "multiplication: 32.0\r\n"
     ]
    }
   ],
   "source": [
    "!mpiexec -n 4 python3 mpi2.py"
   ]
  },
  {
   "cell_type": "markdown",
   "metadata": {},
   "source": [
    "---\n",
    "### Point-to-point communication\n",
    "Message passing involves two processes: a **sender** and a **receiver** (commands _Send_ and _Recv_)."
   ]
  },
  {
   "cell_type": "code",
   "execution_count": 8,
   "metadata": {},
   "outputs": [
    {
     "name": "stdout",
     "output_type": "stream",
     "text": [
      "Overwriting mpi3.py\n"
     ]
    }
   ],
   "source": [
    "%%writefile mpi3.py\n",
    "#####\n",
    "# Sending a message from one process to another\n",
    "#####\n",
    "import numpy\n",
    "\n",
    "from mpi4py import MPI\n",
    "comm = MPI.COMM_WORLD\n",
    "rank = comm.Get_rank()\n",
    "\n",
    "randNum = numpy.zeros(1)\n",
    "\n",
    "if rank == 1:\n",
    "        # generates a numpy array with one element unif. distr. from [0,1)\n",
    "        randNum = numpy.random.random_sample(1)\n",
    "        print(\"part of Process\", rank, \"- drew the number\", randNum[0])\n",
    "        comm.Send(randNum, dest=0)\n",
    "        \n",
    "if rank == 0:\n",
    "        print(\"part of Process\", rank, \"- before receiving has the number\", randNum[0])\n",
    "        comm.Recv(randNum, source=1)\n",
    "        print(\"part of Process\", rank, \"- received the number\", randNum[0])"
   ]
  },
  {
   "cell_type": "code",
   "execution_count": 9,
   "metadata": {},
   "outputs": [
    {
     "name": "stdout",
     "output_type": "stream",
     "text": [
      "part of Process 1 - drew the number 0.7633146341149917\r\n",
      "part of Process 0 - before receiving has the number 0.0\r\n",
      "part of Process 0 - received the number 0.7633146341149917\r\n"
     ]
    }
   ],
   "source": [
    "!mpiexec -n 2 python3 mpi3.py"
   ]
  },
  {
   "cell_type": "code",
   "execution_count": 10,
   "metadata": {},
   "outputs": [
    {
     "name": "stdout",
     "output_type": "stream",
     "text": [
      "Overwriting mpi4.py\n"
     ]
    }
   ],
   "source": [
    "%%writefile mpi4.py\n",
    "#####\n",
    "# Sending a message to a process and receiving a message back\n",
    "#####\n",
    "\n",
    "import numpy\n",
    "from mpi4py import MPI\n",
    "comm = MPI.COMM_WORLD\n",
    "rank = comm.Get_rank()\n",
    "\n",
    "randNum = numpy.zeros(1) \n",
    "\n",
    "if rank == 1:\n",
    "        randNum = numpy.random.random_sample(1)\n",
    "        print(\"Process\", rank, \"drew the number\", randNum[0])\n",
    "        comm.Send(randNum, dest=0)\n",
    "        comm.Recv(randNum, source=0)\n",
    "        print(\"Process\", rank, \"received the number\", randNum[0], \"from process 0\")\n",
    "        \n",
    "if rank == 0:\n",
    "        print(\"Process\", rank, \"before receiving has the number\", randNum[0])\n",
    "        comm.Recv(randNum, source=1)\n",
    "        print(\"Process\", rank, \"received the number\", randNum[0], \"from process 1\")\n",
    "        randNum *= 2\n",
    "        comm.Send(randNum, dest=1) "
   ]
  },
  {
   "cell_type": "markdown",
   "metadata": {},
   "source": [
    "<img src=\"./figs/send_receive_mul2.png\" style=\"width: 400px;\"/>"
   ]
  },
  {
   "cell_type": "code",
   "execution_count": 11,
   "metadata": {},
   "outputs": [
    {
     "name": "stdout",
     "output_type": "stream",
     "text": [
      "Process 0 before receiving has the number 0.0\r\n",
      "Process 0 received the number 0.029037491033082508 from process 1\r\n",
      "Process 1 drew the number 0.029037491033082508\r\n",
      "Process 1 received the number 0.058074982066165015 from process 0\r\n"
     ]
    }
   ],
   "source": [
    "!mpiexec -n 2 python3 mpi4.py"
   ]
  },
  {
   "cell_type": "markdown",
   "metadata": {},
   "source": [
    "---\n",
    "\n",
    "The receiving process does not always need to specify the source when issuing a Recv. Instead, the process can accept **any message** that is being sent by another process. This is done by setting the source to **MPI.ANY_SOURCE**."
   ]
  },
  {
   "cell_type": "code",
   "execution_count": 12,
   "metadata": {},
   "outputs": [
    {
     "name": "stdout",
     "output_type": "stream",
     "text": [
      "Overwriting mpi5.py\n"
     ]
    }
   ],
   "source": [
    "%%writefile mpi5.py\n",
    "#####\n",
    "# Sending a message to a process and receiving a message back from MPI.ANY_SOURCE\n",
    "#####\n",
    "\n",
    "import numpy\n",
    "from mpi4py import MPI\n",
    "\n",
    "comm = MPI.COMM_WORLD\n",
    "rank = comm.Get_rank()\n",
    "\n",
    "randNum = numpy.zeros(1) \n",
    "\n",
    "if rank == 1:\n",
    "        randNum = numpy.random.random_sample(1)\n",
    "        print(\"Process\", rank, \"drew the number\", randNum[0])\n",
    "        comm.Send(randNum, dest=0)\n",
    "        comm.Recv(randNum, source=MPI.ANY_SOURCE)\n",
    "        print(\"Process\", rank, \"received the number\", randNum[0], \"from process\", MPI.ANY_SOURCE)\n",
    "        \n",
    "if rank == 0:\n",
    "        print(\"Process\", rank, \"before receiving has the number\", randNum[0])\n",
    "        comm.Recv(randNum, source=MPI.ANY_SOURCE)\n",
    "        print(\"Process\", rank, \"received the number\", randNum[0])    \n",
    "        randNum *= 2\n",
    "        comm.Send(randNum, dest=1)"
   ]
  },
  {
   "cell_type": "code",
   "execution_count": 13,
   "metadata": {},
   "outputs": [
    {
     "name": "stdout",
     "output_type": "stream",
     "text": [
      "Process 0 before receiving has the number 0.0\r\n",
      "Process 0 received the number 0.6261875244338339\r\n",
      "Process 1 drew the number 0.6261875244338339\r\n",
      "Process 1 received the number 1.2523750488676677 from process -2\r\n"
     ]
    }
   ],
   "source": [
    "!mpiexec -n 2 python3 mpi5.py"
   ]
  },
  {
   "cell_type": "markdown",
   "metadata": {},
   "source": [
    "---\n",
    "\n",
    "Sometimes there are cases when a process might have to **send many different types of messages to another process**. Instead of having to go through extra measures to differentiate all these messages, MPI allows senders and receivers to also **specify message IDs (known as tags)** with the message. The receiving process can then request a message with a certain tag number and messages with different tags will be buffered until the process requests them.\n",
    "\n",
    "```python\n",
    "Comm.Send(buf, dest=0, tag=0)\n",
    "Comm.Recv(buf, source=0, tag=0, status=None)\n",
    "```\n",
    "\n",
    "The _status_ can provide useful information\n",
    "```python\n",
    "info = MPI.Status()\n",
    "source = info.Get_source()\n",
    "tag = info.Get_tag()\n",
    "count = info.Get_elements()\n",
    "size = info.Get_count()\n",
    "```"
   ]
  },
  {
   "cell_type": "code",
   "execution_count": 14,
   "metadata": {},
   "outputs": [
    {
     "name": "stdout",
     "output_type": "stream",
     "text": [
      "Overwriting mpi_tag.py\n"
     ]
    }
   ],
   "source": [
    "%%writefile mpi_tag.py\n",
    "from mpi4py import MPI\n",
    "\n",
    "comm = MPI.COMM_WORLD\n",
    "size = comm.Get_size()\n",
    "rank = comm.Get_rank() \n",
    "\n",
    "data1 = None\n",
    "data2 = None\n",
    "\n",
    "if rank == 0:\n",
    "    data1 = ('a','b', 'c', 'd')\n",
    "    data2 = (1, 2, 3, 4)\n",
    "    comm.send(data1, dest=1, tag=100)\n",
    "    comm.send(data2, dest=1, tag=200)\n",
    "\n",
    "elif rank == 1:\n",
    "    print('On Process',rank,'before recv: data1 = ', data1)\n",
    "    print('On Process',rank,'before recv: data2 = ', data2)\n",
    "    \n",
    "    data1 = comm.recv(source=0, tag=100)\n",
    "    data2 = comm.recv(source=0, tag=200)\n",
    "    \n",
    "    print('On Process',rank,'after  recv: data1 = ', data1)\n",
    "    print('On Process',rank,'after  recv: data2 = ', data2)\n",
    "    "
   ]
  },
  {
   "cell_type": "code",
   "execution_count": 15,
   "metadata": {},
   "outputs": [
    {
     "name": "stdout",
     "output_type": "stream",
     "text": [
      "On Process 1 before recv: data1 =  None\r\n",
      "On Process 1 before recv: data2 =  None\r\n",
      "On Process 1 after  recv: data1 =  ('a', 'b', 'c', 'd')\r\n",
      "On Process 1 after  recv: data2 =  (1, 2, 3, 4)\r\n"
     ]
    }
   ],
   "source": [
    "!mpiexec -n 2 python3 mpi_tag.py"
   ]
  },
  {
   "cell_type": "code",
   "execution_count": 16,
   "metadata": {},
   "outputs": [
    {
     "name": "stdout",
     "output_type": "stream",
     "text": [
      "Overwriting mpi_status.py\n"
     ]
    }
   ],
   "source": [
    "%%writefile mpi_status.py\n",
    "#####\n",
    "# Sending a message from one process to another\n",
    "#####\n",
    "\n",
    "\n",
    "import numpy\n",
    "from mpi4py import MPI\n",
    "comm = MPI.COMM_WORLD\n",
    "rank = comm.Get_rank()\n",
    "\n",
    "info = MPI.Status()\n",
    "# print(\"info: \", info)\n",
    "\n",
    "randNum = numpy.zeros(1)\n",
    "\n",
    "if rank == 1:\n",
    "        randNum = numpy.random.random_sample(1)\n",
    "        print(\"Process\", rank, \"drew the number\", randNum[0])\n",
    "        comm.Send(randNum, dest=0)\n",
    "\n",
    "if rank == 0:\n",
    "        print(\"Process\", rank, \"before receiving has the number\", randNum[0])\n",
    "        comm.Recv(randNum, source=1, status=info)\n",
    "        print(\"Process\", rank, \"received the number\", randNum[0], \"from Process\", info.Get_source())"
   ]
  },
  {
   "cell_type": "code",
   "execution_count": 17,
   "metadata": {},
   "outputs": [
    {
     "name": "stdout",
     "output_type": "stream",
     "text": [
      "Process 1 drew the number 0.5441525081188491\r\n",
      "Process 0 before receiving has the number 0.0\r\n",
      "Process 0 received the number 0.5441525081188491 from Process 1\r\n"
     ]
    }
   ],
   "source": [
    "!mpiexec -n 2 python3 mpi_status.py"
   ]
  },
  {
   "cell_type": "markdown",
   "metadata": {},
   "source": [
    "---\n",
    "### Non-blocking Communication\n",
    "\n",
    "In the previous examples, the sender and receiver are not able to perform any action when sending or receiving a message, wasting computational times while waiting for the call to complete. \n",
    "\n",
    "__Non-blocking communcation__ avoids this issue by using the _Isend_ and _Irecv_ methods, which start to send and receive operations and _then return immediately to continue computation_.\n",
    "\n",
    "The completion of a send or receive operation can be managed using the _Test_, _Wait_, and _Cancel_ methods.\n"
   ]
  },
  {
   "cell_type": "code",
   "execution_count": 18,
   "metadata": {},
   "outputs": [
    {
     "name": "stdout",
     "output_type": "stream",
     "text": [
      "Overwriting mpi6.py\n"
     ]
    }
   ],
   "source": [
    "%%writefile mpi6.py\n",
    "#####\n",
    "# this code is similar to mpi3.py, \n",
    "# but it uses Wait to block the processes\n",
    "#####\n",
    "\n",
    "import numpy\n",
    "from mpi4py import MPI\n",
    "comm = MPI.COMM_WORLD\n",
    "rank = comm.Get_rank()\n",
    "\n",
    "randNum = numpy.zeros(1)\n",
    "\n",
    "if rank == 1:\n",
    "        randNum = numpy.random.random_sample(1)\n",
    "        print(\"Process\", rank, \"drew the number\", randNum[0])\n",
    "        \n",
    "        req = comm.Isend(randNum, dest=0)\n",
    "#         req.Wait()\n",
    "        \n",
    "        print('something here')\n",
    "        \n",
    "if rank == 0:\n",
    "        print(\"Process\", rank, \"before receiving has the number\", randNum[0])\n",
    "        \n",
    "        req = comm.Irecv(randNum, source=1)\n",
    "        req.Wait()\n",
    "        \n",
    "        print(\"Process\", rank, \"received the number\", randNum[0])"
   ]
  },
  {
   "cell_type": "code",
   "execution_count": 19,
   "metadata": {},
   "outputs": [
    {
     "name": "stdout",
     "output_type": "stream",
     "text": [
      "Process 1 drew the number 0.3059253451245264\r\n",
      "something here\r\n",
      "Process 0 before receiving has the number 0.0\r\n",
      "Process 0 received the number 0.3059253451245264\r\n"
     ]
    }
   ],
   "source": [
    "!mpiexec -n 2 python3 mpi6.py"
   ]
  },
  {
   "cell_type": "markdown",
   "metadata": {},
   "source": [
    "### Overlap communication\n",
    "\n",
    "\n",
    "**Example:** Process 1 overlaps a computation with sending the message and receiving the reply. The computation divides randNum by 10 and prints the result."
   ]
  },
  {
   "cell_type": "code",
   "execution_count": 20,
   "metadata": {},
   "outputs": [
    {
     "name": "stdout",
     "output_type": "stream",
     "text": [
      "Overwriting mpi7.py\n"
     ]
    }
   ],
   "source": [
    "%%writefile mpi7.py\n",
    "#####\n",
    "# overlap communication\n",
    "#####\n",
    "\n",
    "import numpy\n",
    "from mpi4py import MPI\n",
    "comm = MPI.COMM_WORLD\n",
    "rank = comm.Get_rank()\n",
    "\n",
    "randNum = numpy.zeros(1) \n",
    "\n",
    "if rank == 1:\n",
    "        randNum = numpy.random.random_sample(1)\n",
    "        print(\"Process\", rank, \"drew the number\", randNum[0])\n",
    "        comm.Isend(randNum, dest=0)\n",
    "        randNum[0] /= 10 # overlap communication\n",
    "        print(\"Process\", rank, \"number in overlap communication =\", randNum[0])\n",
    "        req = comm.Irecv(randNum, source=0)\n",
    "        req.Wait()\n",
    "        print(\"Process\", rank, \"received the number\", randNum[0])\n",
    "\n",
    "if rank == 0:\n",
    "        print(\"Process\", rank, \"before receiving has the number\", randNum[0])\n",
    "        req = comm.Irecv(randNum, source=1)\n",
    "        req.Wait()\n",
    "        print(\"Process\", rank, \"received the number\", randNum[0])\n",
    "        randNum *= 2\n",
    "        comm.Isend(randNum, dest=1)"
   ]
  },
  {
   "cell_type": "code",
   "execution_count": 21,
   "metadata": {},
   "outputs": [
    {
     "name": "stdout",
     "output_type": "stream",
     "text": [
      "Process 0 before receiving has the number 0.0\r\n",
      "Process 0 received the number 0.8794599647125977\r\n",
      "Process 1 drew the number 0.8794599647125977\r\n",
      "Process 1 number in overlap communication = 0.08794599647125977\r\n",
      "Process 1 received the number 1.7589199294251954\r\n"
     ]
    }
   ],
   "source": [
    "!mpiexec -n 2 python3 mpi7.py"
   ]
  },
  {
   "cell_type": "code",
   "execution_count": null,
   "metadata": {},
   "outputs": [],
   "source": []
  }
 ],
 "metadata": {
  "kernelspec": {
   "display_name": "Python 3",
   "language": "python",
   "name": "python3"
  },
  "language_info": {
   "codemirror_mode": {
    "name": "ipython",
    "version": 3
   },
   "file_extension": ".py",
   "mimetype": "text/x-python",
   "name": "python",
   "nbconvert_exporter": "python",
   "pygments_lexer": "ipython3",
   "version": "3.7.1"
  }
 },
 "nbformat": 4,
 "nbformat_minor": 2
}
