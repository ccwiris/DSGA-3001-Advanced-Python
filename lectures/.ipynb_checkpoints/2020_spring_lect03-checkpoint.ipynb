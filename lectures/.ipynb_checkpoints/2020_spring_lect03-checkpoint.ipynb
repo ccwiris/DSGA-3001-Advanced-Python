{
 "cells": [
  {
   "cell_type": "markdown",
   "metadata": {},
   "source": [
    "# Lecture 03; Feb. 11, 2020        \n",
    "# The itertools Module  \n",
    "see: https://nyu-cds.github.io/python-itertools/"
   ]
  },
  {
   "cell_type": "markdown",
   "metadata": {},
   "source": [
    "---\n",
    "\n",
    "- The concept of iterators\n",
    "- Infinite Iterators\n",
    "- Finite Iterators\n",
    "- Combinatoric Generators"
   ]
  },
  {
   "cell_type": "markdown",
   "metadata": {},
   "source": [
    "---\n",
    "\n",
    "- When to create an array (as well as a list or tuple), we first have to allocate a block of system memory\n",
    "to store these elments.  \n",
    "\n",
    "- In order to look up any specific element in our list, we simply need to know which element we want and a pointer where the object starts.\n",
    "\n",
    "\n",
    "\n",
    "\n"
   ]
  },
  {
   "cell_type": "markdown",
   "metadata": {},
   "source": [
    "---\n",
    "\n",
    "The __itertools__ module implements a number of iterator building blocks that provide fast, memory efficient tools.\n",
    "\n",
    "\n",
    "An iterator behaves like a list of values, with some **important differences**:\n",
    "\n",
    "- The values are generated on demand (sequence is stored in memory)\n",
    "- The values can only be accessed in sequence (not like an array)\n",
    "- The values can only be accessed once\n",
    "\n",
    "\n",
    "\n",
    "An iterator is an object that provides two methods:\n",
    "\n",
    "- __iter__ which returns the iterator itself\n",
    "- __next__ which returns the next value from the iterator\n",
    "\n"
   ]
  },
  {
   "cell_type": "code",
   "execution_count": 1,
   "metadata": {},
   "outputs": [
    {
     "name": "stdout",
     "output_type": "stream",
     "text": [
      "a\n",
      "d\n",
      "v\n",
      "a\n",
      "n\n",
      "c\n",
      "e\n",
      "d\n",
      "\n",
      "lst: ['_', 'p', 'y', 't', 'h', 'o', 'n']\n"
     ]
    },
    {
     "ename": "StopIteration",
     "evalue": "",
     "output_type": "error",
     "traceback": [
      "\u001b[0;31m---------------------------------------------------------------------------\u001b[0m",
      "\u001b[0;31mStopIteration\u001b[0m                             Traceback (most recent call last)",
      "\u001b[0;32m<ipython-input-1-7e17eaad2409>\u001b[0m in \u001b[0;36m<module>\u001b[0;34m\u001b[0m\n\u001b[1;32m     16\u001b[0m \u001b[0;34m\u001b[0m\u001b[0m\n\u001b[1;32m     17\u001b[0m \u001b[0;31m# at this point the iterator is completed\u001b[0m\u001b[0;34m\u001b[0m\u001b[0;34m\u001b[0m\u001b[0;34m\u001b[0m\u001b[0m\n\u001b[0;32m---> 18\u001b[0;31m \u001b[0mprint\u001b[0m\u001b[0;34m(\u001b[0m\u001b[0mit\u001b[0m\u001b[0;34m.\u001b[0m\u001b[0m__next__\u001b[0m\u001b[0;34m(\u001b[0m\u001b[0;34m)\u001b[0m\u001b[0;34m)\u001b[0m\u001b[0;34m\u001b[0m\u001b[0;34m\u001b[0m\u001b[0m\n\u001b[0m",
      "\u001b[0;31mStopIteration\u001b[0m: "
     ]
    }
   ],
   "source": [
    "it = iter('advanced_python')\n",
    "\n",
    "# first 8 elements\n",
    "print(it.__next__())\n",
    "print(it.__next__())\n",
    "print(it.__next__())\n",
    "print(it.__next__())\n",
    "print(it.__next__())\n",
    "print(it.__next__())\n",
    "print(it.__next__())\n",
    "print(it.__next__())\n",
    "\n",
    "# the rest\n",
    "lst = [e for e in it]\n",
    "print(\"\\nlst: %s\" % lst)\n",
    "\n",
    "# at this point the iterator is completed\n",
    "print(it.__next__())"
   ]
  },
  {
   "cell_type": "code",
   "execution_count": 2,
   "metadata": {},
   "outputs": [
    {
     "name": "stdout",
     "output_type": "stream",
     "text": [
      "['a', 'd', 'v', 'a', 'n', 'c', 'e', 'd', '_', 'p', 'y', 't', 'h', 'o', 'n']\n",
      "[]\n"
     ]
    }
   ],
   "source": [
    "it = iter('advanced_python')\n",
    "print(list(it))\n",
    "    \n",
    "# At this point the iterator is finished\n",
    "print(list(it))"
   ]
  },
  {
   "cell_type": "code",
   "execution_count": 3,
   "metadata": {},
   "outputs": [
    {
     "name": "stdout",
     "output_type": "stream",
     "text": [
      "(0, 'a')\n",
      "(1, 'd')\n",
      "(2, 'v')\n",
      "(3, 'a')\n",
      "(4, 'n')\n",
      "(5, 'c')\n",
      "(6, 'e')\n",
      "(7, 'd')\n",
      "(8, '_')\n",
      "(9, 'p')\n",
      "(10, 'y')\n",
      "(11, 't')\n",
      "(12, 'h')\n",
      "(13, 'o')\n",
      "(14, 'n')\n"
     ]
    }
   ],
   "source": [
    "#enumerate() method adds a counter to an iterable \n",
    "it = iter('advanced_python')\n",
    "\n",
    "for e in enumerate(it): \n",
    "    print(e)"
   ]
  },
  {
   "cell_type": "code",
   "execution_count": 4,
   "metadata": {},
   "outputs": [
    {
     "name": "stdout",
     "output_type": "stream",
     "text": [
      "0\n",
      "1\n",
      "2\n",
      "3\n",
      "4\n",
      "5\n",
      "6\n",
      "7\n",
      "8\n",
      "9\n",
      "10\n",
      "11\n",
      "12\n",
      "13\n",
      "14\n",
      "15\n",
      "16\n",
      "17\n",
      "18\n",
      "19\n",
      "20\n",
      "21\n",
      "22\n",
      "23\n",
      "24\n",
      "25\n",
      "26\n",
      "27\n",
      "28\n",
      "29\n",
      "30\n",
      "31\n",
      "32\n",
      "33\n",
      "34\n",
      "35\n",
      "36\n",
      "37\n",
      "38\n",
      "39\n",
      "40\n",
      "41\n",
      "42\n",
      "43\n",
      "44\n",
      "45\n",
      "46\n",
      "47\n",
      "48\n",
      "49\n",
      "50\n",
      "51\n",
      "52\n",
      "53\n",
      "54\n",
      "55\n",
      "56\n",
      "57\n",
      "58\n",
      "59\n",
      "60\n",
      "61\n",
      "62\n",
      "63\n",
      "64\n",
      "65\n",
      "66\n",
      "67\n",
      "68\n",
      "69\n",
      "70\n",
      "71\n",
      "72\n",
      "73\n",
      "74\n",
      "75\n",
      "76\n",
      "77\n",
      "78\n",
      "79\n",
      "80\n",
      "81\n",
      "82\n",
      "83\n",
      "84\n",
      "85\n",
      "86\n",
      "87\n",
      "88\n",
      "89\n",
      "90\n",
      "91\n",
      "92\n",
      "93\n",
      "94\n",
      "95\n",
      "96\n",
      "97\n",
      "98\n",
      "99\n",
      "100\n",
      "101\n",
      "102\n",
      "103\n",
      "104\n",
      "105\n",
      "106\n",
      "107\n",
      "108\n",
      "109\n",
      "110\n",
      "111\n",
      "112\n",
      "113\n",
      "114\n",
      "115\n",
      "116\n",
      "117\n",
      "118\n",
      "119\n",
      "120\n",
      "121\n",
      "122\n",
      "123\n",
      "124\n",
      "125\n",
      "126\n",
      "127\n",
      "128\n",
      "129\n",
      "130\n",
      "131\n",
      "132\n",
      "133\n",
      "134\n",
      "135\n",
      "136\n",
      "137\n",
      "138\n",
      "139\n",
      "140\n",
      "141\n",
      "142\n",
      "143\n",
      "144\n",
      "145\n",
      "146\n",
      "147\n",
      "148\n",
      "149\n",
      "150\n",
      "151\n",
      "152\n",
      "153\n",
      "154\n",
      "155\n",
      "156\n",
      "157\n",
      "158\n",
      "159\n",
      "160\n",
      "161\n",
      "162\n",
      "163\n",
      "164\n",
      "165\n",
      "166\n",
      "167\n",
      "168\n",
      "169\n",
      "170\n",
      "171\n",
      "172\n",
      "173\n",
      "174\n",
      "175\n",
      "176\n",
      "177\n",
      "178\n",
      "179\n",
      "180\n",
      "181\n",
      "182\n",
      "183\n",
      "184\n",
      "185\n",
      "186\n",
      "187\n",
      "188\n",
      "189\n",
      "190\n",
      "191\n",
      "192\n",
      "193\n",
      "194\n",
      "195\n",
      "196\n",
      "197\n",
      "198\n",
      "199\n",
      "200\n",
      "201\n",
      "202\n",
      "203\n",
      "204\n",
      "205\n",
      "206\n",
      "207\n",
      "208\n",
      "209\n",
      "210\n",
      "211\n",
      "212\n",
      "213\n",
      "214\n",
      "215\n",
      "216\n",
      "217\n",
      "218\n",
      "219\n",
      "220\n",
      "221\n",
      "222\n",
      "223\n",
      "224\n",
      "225\n",
      "226\n",
      "227\n",
      "228\n",
      "229\n",
      "230\n",
      "231\n",
      "232\n",
      "233\n",
      "234\n",
      "235\n",
      "236\n",
      "237\n",
      "238\n",
      "239\n",
      "240\n",
      "241\n",
      "242\n",
      "243\n",
      "244\n",
      "245\n",
      "246\n",
      "247\n",
      "248\n",
      "249\n",
      "250\n",
      "251\n",
      "252\n",
      "253\n",
      "254\n",
      "255\n",
      "256\n",
      "257\n",
      "258\n",
      "259\n",
      "260\n",
      "261\n",
      "262\n",
      "263\n",
      "264\n",
      "265\n",
      "266\n",
      "267\n",
      "268\n",
      "269\n",
      "270\n",
      "271\n",
      "272\n",
      "273\n",
      "274\n",
      "275\n",
      "276\n",
      "277\n",
      "278\n",
      "279\n",
      "280\n",
      "281\n",
      "282\n",
      "283\n",
      "284\n",
      "285\n",
      "286\n",
      "287\n",
      "288\n",
      "289\n",
      "290\n",
      "291\n",
      "292\n",
      "293\n",
      "294\n",
      "295\n",
      "296\n",
      "297\n",
      "298\n",
      "299\n",
      "300\n",
      "301\n",
      "302\n",
      "303\n",
      "304\n",
      "305\n",
      "306\n",
      "307\n",
      "308\n",
      "309\n",
      "310\n",
      "311\n",
      "312\n",
      "313\n",
      "314\n",
      "315\n",
      "316\n",
      "317\n",
      "318\n",
      "319\n",
      "320\n",
      "321\n",
      "322\n",
      "323\n",
      "324\n",
      "325\n",
      "326\n",
      "327\n",
      "328\n",
      "329\n",
      "330\n",
      "331\n",
      "332\n",
      "333\n",
      "334\n",
      "335\n",
      "336\n",
      "337\n",
      "338\n",
      "339\n",
      "340\n",
      "341\n",
      "342\n",
      "343\n",
      "344\n",
      "345\n",
      "346\n",
      "347\n",
      "348\n",
      "349\n",
      "350\n",
      "351\n",
      "352\n",
      "353\n",
      "354\n",
      "355\n",
      "356\n",
      "357\n",
      "358\n",
      "359\n",
      "360\n",
      "361\n",
      "362\n",
      "363\n",
      "364\n",
      "365\n",
      "366\n",
      "367\n",
      "368\n",
      "369\n",
      "370\n",
      "371\n",
      "372\n",
      "373\n",
      "374\n",
      "375\n",
      "376\n",
      "377\n",
      "378\n",
      "379\n",
      "380\n",
      "381\n",
      "382\n",
      "383\n",
      "384\n",
      "385\n",
      "386\n",
      "387\n",
      "388\n",
      "389\n",
      "390\n",
      "391\n",
      "392\n",
      "393\n",
      "394\n",
      "395\n",
      "396\n",
      "397\n",
      "398\n",
      "399\n",
      "400\n",
      "401\n",
      "402\n",
      "403\n",
      "404\n",
      "405\n",
      "406\n",
      "407\n",
      "408\n",
      "409\n",
      "410\n",
      "411\n",
      "412\n",
      "413\n",
      "414\n",
      "415\n",
      "416\n",
      "417\n",
      "418\n",
      "419\n",
      "420\n",
      "421\n",
      "422\n",
      "423\n",
      "424\n",
      "425\n",
      "426\n",
      "427\n",
      "428\n",
      "429\n",
      "430\n",
      "431\n",
      "432\n",
      "433\n",
      "434\n",
      "435\n",
      "436\n",
      "437\n",
      "438\n",
      "439\n",
      "440\n",
      "441\n",
      "442\n",
      "443\n",
      "444\n",
      "445\n",
      "446\n",
      "447\n",
      "448\n",
      "449\n",
      "450\n",
      "451\n",
      "452\n",
      "453\n",
      "454\n",
      "455\n",
      "456\n",
      "457\n",
      "458\n",
      "459\n",
      "460\n",
      "461\n",
      "462\n",
      "463\n",
      "464\n",
      "465\n",
      "466\n",
      "467\n",
      "468\n",
      "469\n",
      "470\n",
      "471\n",
      "472\n",
      "473\n",
      "474\n",
      "475\n",
      "476\n",
      "477\n",
      "478\n",
      "479\n",
      "480\n",
      "481\n",
      "482\n",
      "483\n",
      "484\n",
      "485\n",
      "486\n",
      "487\n",
      "488\n",
      "489\n",
      "490\n",
      "491\n",
      "492\n",
      "493\n",
      "494\n",
      "495\n",
      "496\n",
      "497\n",
      "498\n",
      "499\n",
      "500\n",
      "501\n",
      "502\n",
      "503\n",
      "504\n",
      "505\n",
      "506\n",
      "507\n",
      "508\n",
      "509\n",
      "510\n",
      "511\n",
      "512\n",
      "513\n",
      "514\n",
      "515\n",
      "516\n",
      "517\n",
      "518\n",
      "519\n",
      "520\n",
      "521\n",
      "522\n",
      "523\n",
      "524\n",
      "525\n",
      "526\n",
      "527\n",
      "528\n",
      "529\n",
      "530\n",
      "531\n",
      "532\n",
      "533\n",
      "534\n",
      "535\n",
      "536\n",
      "537\n",
      "538\n",
      "539\n",
      "540\n",
      "541\n",
      "542\n",
      "543\n",
      "544\n",
      "545\n",
      "546\n",
      "547\n",
      "548\n",
      "549\n",
      "550\n",
      "551\n",
      "552\n",
      "553\n",
      "554\n",
      "555\n",
      "556\n",
      "557\n",
      "558\n",
      "559\n",
      "560\n",
      "561\n",
      "562\n",
      "563\n",
      "564\n",
      "565\n",
      "566\n",
      "567\n",
      "568\n",
      "569\n",
      "570\n",
      "571\n",
      "572\n",
      "573\n",
      "574\n",
      "575\n",
      "576\n",
      "577\n",
      "578\n",
      "579\n",
      "580\n",
      "581\n",
      "582\n",
      "583\n",
      "584\n",
      "585\n",
      "586\n",
      "587\n",
      "588\n",
      "589\n",
      "590\n",
      "591\n",
      "592\n",
      "593\n",
      "594\n",
      "595\n",
      "596\n",
      "597\n",
      "598\n",
      "599\n",
      "600\n",
      "601\n",
      "602\n",
      "603\n",
      "604\n",
      "605\n",
      "606\n",
      "607\n",
      "608\n",
      "609\n",
      "610\n",
      "611\n",
      "612\n",
      "613\n",
      "614\n",
      "615\n",
      "616\n",
      "617\n",
      "618\n",
      "619\n",
      "620\n",
      "621\n",
      "622\n",
      "623\n",
      "624\n",
      "625\n",
      "626\n",
      "627\n",
      "628\n",
      "629\n",
      "630\n",
      "631\n",
      "632\n",
      "633\n",
      "634\n",
      "635\n",
      "636\n",
      "637\n",
      "638\n",
      "639\n",
      "640\n",
      "641\n",
      "642\n",
      "643\n",
      "644\n",
      "645\n",
      "646\n",
      "647\n",
      "648\n",
      "649\n",
      "650\n",
      "651\n",
      "652\n",
      "653\n",
      "654\n",
      "655\n",
      "656\n",
      "657\n",
      "658\n",
      "659\n",
      "660\n",
      "661\n",
      "662\n",
      "663\n",
      "664\n",
      "665\n",
      "666\n",
      "667\n",
      "668\n",
      "669\n",
      "670\n",
      "671\n",
      "672\n",
      "673\n",
      "674\n",
      "675\n",
      "676\n",
      "677\n",
      "678\n",
      "679\n",
      "680\n",
      "681\n",
      "682\n",
      "683\n",
      "684\n",
      "685\n",
      "686\n",
      "687\n",
      "688\n",
      "689\n",
      "690\n",
      "691\n",
      "692\n",
      "693\n",
      "694\n",
      "695\n",
      "696\n",
      "697\n",
      "698\n",
      "699\n",
      "700\n",
      "701\n",
      "702\n",
      "703\n",
      "704\n",
      "705\n",
      "706\n",
      "707\n",
      "708\n",
      "709\n",
      "710\n",
      "711\n",
      "712\n",
      "713\n",
      "714\n",
      "715\n",
      "716\n",
      "717\n",
      "718\n",
      "719\n",
      "720\n",
      "721\n",
      "722\n",
      "723\n",
      "724\n",
      "725\n",
      "726\n",
      "727\n",
      "728\n",
      "729\n",
      "730\n",
      "731\n",
      "732\n",
      "733\n",
      "734\n",
      "735\n",
      "736\n",
      "737\n",
      "738\n",
      "739\n",
      "740\n",
      "741\n",
      "742\n",
      "743\n",
      "744\n",
      "745\n",
      "746\n",
      "747\n",
      "748\n",
      "749\n",
      "750\n",
      "751\n",
      "752\n",
      "753\n",
      "754\n",
      "755\n",
      "756\n",
      "757\n",
      "758\n",
      "759\n",
      "760\n",
      "761\n",
      "762\n",
      "763\n",
      "764\n",
      "765\n",
      "766\n",
      "767\n",
      "768\n",
      "769\n",
      "770\n",
      "771\n",
      "772\n",
      "773\n",
      "774\n",
      "775\n",
      "776\n",
      "777\n",
      "778\n",
      "779\n",
      "780\n",
      "781\n",
      "782\n",
      "783\n",
      "784\n",
      "785\n",
      "786\n",
      "787\n",
      "788\n",
      "789\n",
      "790\n",
      "791\n",
      "792\n",
      "793\n",
      "794\n",
      "795\n",
      "796\n",
      "797\n",
      "798\n",
      "799\n",
      "800\n",
      "801\n",
      "802\n",
      "803\n",
      "804\n",
      "805\n",
      "806\n",
      "807\n",
      "808\n",
      "809\n",
      "810\n",
      "811\n",
      "812\n",
      "813\n",
      "814\n",
      "815\n",
      "816\n",
      "817\n",
      "818\n",
      "819\n",
      "820\n",
      "821\n",
      "822\n",
      "823\n",
      "824\n",
      "825\n",
      "826\n",
      "827\n",
      "828\n",
      "829\n",
      "830\n",
      "831\n",
      "832\n",
      "833\n",
      "834\n",
      "835\n",
      "836\n",
      "837\n",
      "838\n",
      "839\n",
      "840\n",
      "841\n",
      "842\n",
      "843\n",
      "844\n",
      "845\n",
      "846\n",
      "847\n",
      "848\n",
      "849\n",
      "850\n",
      "851\n",
      "852\n",
      "853\n",
      "854\n",
      "855\n",
      "856\n",
      "857\n",
      "858\n",
      "859\n",
      "860\n",
      "861\n",
      "862\n",
      "863\n",
      "864\n",
      "865\n",
      "866\n",
      "867\n",
      "868\n",
      "869\n",
      "870\n",
      "871\n",
      "872\n",
      "873\n",
      "874\n",
      "875\n",
      "876\n",
      "877\n",
      "878\n",
      "879\n",
      "880\n",
      "881\n",
      "882\n",
      "883\n",
      "884\n",
      "885\n",
      "886\n",
      "887\n",
      "888\n",
      "889\n",
      "890\n",
      "891\n",
      "892\n",
      "893\n",
      "894\n",
      "895\n",
      "896\n",
      "897\n",
      "898\n",
      "899\n",
      "900\n",
      "901\n",
      "902\n",
      "903\n",
      "904\n",
      "905\n",
      "906\n",
      "907\n",
      "908\n",
      "909\n",
      "910\n",
      "911\n",
      "912\n",
      "913\n",
      "914\n",
      "915\n",
      "916\n",
      "917\n",
      "918\n",
      "919\n",
      "920\n",
      "921\n",
      "922\n",
      "923\n",
      "924\n",
      "925\n",
      "926\n",
      "927\n",
      "928\n",
      "929\n",
      "930\n",
      "931\n",
      "932\n",
      "933\n",
      "934\n",
      "935\n",
      "936\n",
      "937\n",
      "938\n",
      "939\n",
      "940\n",
      "941\n",
      "942\n",
      "943\n",
      "944\n",
      "945\n",
      "946\n",
      "947\n",
      "948\n",
      "949\n",
      "950\n",
      "951\n",
      "952\n",
      "953\n",
      "954\n",
      "955\n",
      "956\n",
      "957\n",
      "958\n",
      "959\n",
      "960\n",
      "961\n",
      "962\n",
      "963\n",
      "964\n",
      "965\n",
      "966\n",
      "967\n",
      "968\n",
      "969\n",
      "970\n",
      "971\n",
      "972\n",
      "973\n",
      "974\n",
      "975\n",
      "976\n",
      "977\n",
      "978\n",
      "979\n",
      "980\n",
      "981\n",
      "982\n",
      "983\n",
      "984\n",
      "985\n",
      "986\n",
      "987\n",
      "988\n",
      "989\n",
      "990\n",
      "991\n",
      "992\n",
      "993\n",
      "994\n",
      "995\n",
      "996\n",
      "997\n",
      "998\n",
      "999\n"
     ]
    }
   ],
   "source": [
    "# Additionally look at: \n",
    "for i in range(1000): \n",
    "    print(i)\n",
    "    # some_work(i)"
   ]
  },
  {
   "cell_type": "markdown",
   "metadata": {},
   "source": [
    "---\n",
    "\n",
    "### range() vs xrange()\n",
    "\n",
    "#### In Python2: \n",
    "\n",
    "- range(): returns a list  \n",
    "- xrange(): returns a generator object\n",
    "    \n",
    "#### In Python3: \n",
    "- there is no xrange, and range returns a generator "
   ]
  },
  {
   "cell_type": "code",
   "execution_count": 5,
   "metadata": {},
   "outputs": [],
   "source": [
    "# returns a list\n",
    "\n",
    "def demo_range(start, stop, step=1):\n",
    "    numbers = []\n",
    "    while start < stop:\n",
    "        numbers.append(start)\n",
    "        start += step\n",
    "    return numbers"
   ]
  },
  {
   "cell_type": "markdown",
   "metadata": {},
   "source": [
    "---\n",
    "\n",
    "- Note that the range implementation must precreate the list of all numbers within the range.\n",
    "\n",
    "- We use memory for \"all numbers\".\n"
   ]
  },
  {
   "cell_type": "code",
   "execution_count": 6,
   "metadata": {},
   "outputs": [],
   "source": [
    "# returns a generator\n",
    "\n",
    "def demo_xrange(start, stop, step=1):\n",
    "    while start < stop:\n",
    "        yield start\n",
    "        start += step\n",
    "        \n",
    "# We do not precreate the list of all numbers within the range.\n",
    "# We do not use memory for \"all numbers\"."
   ]
  },
  {
   "cell_type": "markdown",
   "metadata": {},
   "source": [
    "\n",
    "----\n",
    "\n",
    "- The generator is able to 'return' many values. \n",
    "\n",
    "- Every time the code gets to the yield, the function emits its value\n",
    "\n",
    "- when another value is requested the function resumes running (maintaining its previous state) and emits the new value."
   ]
  },
  {
   "cell_type": "code",
   "execution_count": 7,
   "metadata": {},
   "outputs": [
    {
     "name": "stdout",
     "output_type": "stream",
     "text": [
      "divisible_by_three: 334\n"
     ]
    }
   ],
   "source": [
    "# how many numbers in list_of_numbers are divisible by 3?\n",
    "\n",
    "list_of_numbers = demo_range(0, 1000)\n",
    "divisible_by_three = len([n for n in list_of_numbers if n % 3 == 0])\n",
    "\n",
    "print(\"divisible_by_three:\", divisible_by_three)"
   ]
  },
  {
   "cell_type": "raw",
   "metadata": {},
   "source": [
    "Instead of the list:\n",
    "[ <value> for <item> in <sequence> if <condition> ] \n",
    "\n",
    "Alternatively, we can use similar syntax to create a generator:  \n",
    "( <value> for <item> in <sequence> if <condition> )"
   ]
  },
  {
   "cell_type": "code",
   "execution_count": 10,
   "metadata": {},
   "outputs": [
    {
     "name": "stdout",
     "output_type": "stream",
     "text": [
      "generator: <generator object <genexpr> at 0x1055f3840>\n",
      "334\n"
     ]
    }
   ],
   "source": [
    "generator = (1 for n in list_of_numbers if n % 3 == 0)\n",
    "print(\"generator:\", generator)\n",
    "divisible_by_three = sum(generator)\n",
    "print(divisible_by_three)\n",
    "\n",
    "#Here, we have a generator that emits a value of 1 whenever it encounters a number divisible by 3, \n",
    "# and nothing otherwise."
   ]
  },
  {
   "cell_type": "code",
   "execution_count": 9,
   "metadata": {},
   "outputs": [
    {
     "data": {
      "text/plain": [
       "0"
      ]
     },
     "execution_count": 9,
     "metadata": {},
     "output_type": "execute_result"
    }
   ],
   "source": [
    "# at this point, generator is completed\n",
    "\n",
    "for e in generator:\n",
    "    print(e)\n",
    "\n",
    "sum(generator)"
   ]
  },
  {
   "cell_type": "markdown",
   "metadata": {},
   "source": [
    "## Infinite Iterators\n",
    "__itertools__ package comes with three iterators that can iterate infinitely.\n",
    "- useful for generating numbers or cycling over iterables of unknown length\n",
    "- infinite iterators need to be stopped"
   ]
  },
  {
   "cell_type": "markdown",
   "metadata": {},
   "source": [
    "#### itertools.count(start,step)  \n",
    "https://docs.python.org/3/library/itertools.html#itertools.count"
   ]
  },
  {
   "cell_type": "code",
   "execution_count": 13,
   "metadata": {},
   "outputs": [
    {
     "name": "stdout",
     "output_type": "stream",
     "text": [
      "10\n",
      "13\n",
      "16\n",
      "19\n",
      "22\n",
      "25\n",
      "28\n",
      "31\n"
     ]
    }
   ],
   "source": [
    "from itertools import count\n",
    "\n",
    "for i in count(10, 3):\n",
    "    print(i)\n",
    "    if i >= 30: break\n",
    "        "
   ]
  },
  {
   "cell_type": "markdown",
   "metadata": {},
   "source": [
    "#### itertools.islice(seq, [start,] stop [, step])   \n",
    "\n",
    "https://docs.python.org/3/library/itertools.html#itertools.islice\n",
    "\n",
    "Make an iterator that returns selected elements from the iterable.  \n"
   ]
  },
  {
   "cell_type": "code",
   "execution_count": 14,
   "metadata": {},
   "outputs": [
    {
     "name": "stdout",
     "output_type": "stream",
     "text": [
      "[10, 13, 16, 19, 22]\n",
      "[10, 13, 16, 19, 22, 25, 28, 31, 34, 37]\n",
      "[25, 28, 31, 34, 37]\n"
     ]
    }
   ],
   "source": [
    "from itertools import islice\n",
    "\n",
    "print(list(islice(count(10, 3), 5)))     # first 5 elements \n",
    "print(list(islice(count(10, 3), 10)))    # first 10 elements \n",
    "print(list(islice(count(10, 3), 5, 10))) # second 5 elements: from 5th to 9th element (including those)"
   ]
  },
  {
   "cell_type": "code",
   "execution_count": 15,
   "metadata": {},
   "outputs": [
    {
     "name": "stdout",
     "output_type": "stream",
     "text": [
      "[10, 13, 16, 19, 22, 25, 28, 31, 34, 37]\n",
      "[19, 25, 31, 37]\n"
     ]
    }
   ],
   "source": [
    "# itertools.islice(seq, [start,] stop [,step])\n",
    "\n",
    "print(list(islice(count(10,3), 10)))       # first 10 elements \n",
    "print(list(islice(count(10,3), 3, 10, 2))) # from 3rd to 9th element (including those), every second element "
   ]
  },
  {
   "cell_type": "markdown",
   "metadata": {},
   "source": [
    "**None**: \"If stop is None, then iteration continues until the iterator is exhausted, if at all; otherwise, it stops at the specified position.\""
   ]
  },
  {
   "cell_type": "code",
   "execution_count": 16,
   "metadata": {},
   "outputs": [
    {
     "name": "stdout",
     "output_type": "stream",
     "text": [
      "['C', 'D', 'E', 'F', 'G']\n",
      "['A', 'B', 'C', 'D', 'E', 'F', 'G']\n"
     ]
    }
   ],
   "source": [
    "print(list(islice('ABCDEFG', 2, None)))\n",
    "print(list(islice('ABCDEFG', 100))) # and len('ABCDEFG') = 7"
   ]
  },
  {
   "cell_type": "markdown",
   "metadata": {},
   "source": [
    "#### itertools.cycle(seq)\n",
    "\n",
    "https://docs.python.org/2/library/itertools.html#itertools.cycle"
   ]
  },
  {
   "cell_type": "code",
   "execution_count": 17,
   "metadata": {},
   "outputs": [
    {
     "name": "stdout",
     "output_type": "stream",
     "text": [
      "['a', 'b', 'c', 'a', 'b', 'c', 'a', 'b', 'c', 'a', 'b', 'c']\n"
     ]
    }
   ],
   "source": [
    "from itertools import cycle\n",
    "\n",
    "print(list(islice(cycle('abc'), 12)))"
   ]
  },
  {
   "cell_type": "code",
   "execution_count": 18,
   "metadata": {},
   "outputs": [
    {
     "name": "stdout",
     "output_type": "stream",
     "text": [
      "['advanced', 'python', 'for', 'data', 'science', 'advanced', 'python', 'for', 'data', 'science']\n"
     ]
    }
   ],
   "source": [
    "# iterators can be used in different ways\n",
    "lst = ['advanced','python','for','data','science']\n",
    "print(list(islice(cycle(lst), 10)))"
   ]
  },
  {
   "cell_type": "markdown",
   "metadata": {},
   "source": [
    "#### itertools.repeat(elem [,times])\n",
    "\n",
    "https://docs.python.org/2/library/itertools.html#itertools.repeat"
   ]
  },
  {
   "cell_type": "code",
   "execution_count": 19,
   "metadata": {},
   "outputs": [
    {
     "name": "stdout",
     "output_type": "stream",
     "text": [
      "['abcde', 'abcde', 'abcde', 'abcde', 'abcde']\n"
     ]
    }
   ],
   "source": [
    "from itertools import repeat\n",
    "\n",
    "# repeat an object: e.g. string\n",
    "\n",
    "print(list(repeat('abcde', 5)))"
   ]
  },
  {
   "cell_type": "code",
   "execution_count": 20,
   "metadata": {},
   "outputs": [
    {
     "name": "stdout",
     "output_type": "stream",
     "text": [
      "[['CDS', 'Courant', 'NYU'], ['CDS', 'Courant', 'NYU'], ['CDS', 'Courant', 'NYU'], ['CDS', 'Courant', 'NYU'], ['CDS', 'Courant', 'NYU']]\n"
     ]
    }
   ],
   "source": [
    "# repeat an object: e.g. list\n",
    "print(list(repeat(['CDS', 'Courant', 'NYU'], 5)))\n"
   ]
  },
  {
   "cell_type": "markdown",
   "metadata": {},
   "source": [
    "## Finite Iterators\n",
    "itertools also has a number of iterators that terminate."
   ]
  },
  {
   "cell_type": "markdown",
   "metadata": {},
   "source": [
    "#### itertools.accumulate(seq [, func])"
   ]
  },
  {
   "cell_type": "code",
   "execution_count": 21,
   "metadata": {},
   "outputs": [
    {
     "name": "stdout",
     "output_type": "stream",
     "text": [
      "[1, 3, 6, 10, 15, 21, 28, 36, 45, 55]\n"
     ]
    }
   ],
   "source": [
    "from itertools import accumulate\n",
    "\n",
    "print(list(accumulate(range(1, 11)))) # 1, 1 + 2, 1 + 2 + 3, 1 + 2 + 3 + 4,..."
   ]
  },
  {
   "cell_type": "code",
   "execution_count": 22,
   "metadata": {},
   "outputs": [
    {
     "name": "stdout",
     "output_type": "stream",
     "text": [
      "[1, 2, 6, 24, 120, 720, 5040, 40320, 362880, 3628800]\n"
     ]
    }
   ],
   "source": [
    "import operator\n",
    "\n",
    "print(list(accumulate(range(1, 11), operator.mul))) # 1, 1 * 2, 1 * 2 * 3, 1 * 2 * 3 * 4"
   ]
  },
  {
   "cell_type": "code",
   "execution_count": 23,
   "metadata": {},
   "outputs": [
    {
     "name": "stdout",
     "output_type": "stream",
     "text": [
      "['c', 'cd', 'cds', 'cds_', 'cds_n', 'cds_ny', 'cds_nyu']\n",
      "['python ', 'python python ', 'python python python ']\n"
     ]
    }
   ],
   "source": [
    "# it can also handle non-numeric lists such as strings\n",
    "\n",
    "print(list(accumulate('cds_nyu')))\n",
    "\n",
    "print(list(accumulate(repeat('python ', 3))))"
   ]
  },
  {
   "cell_type": "markdown",
   "metadata": {},
   "source": [
    "#### itertools.chain(*iterables)  "
   ]
  },
  {
   "cell_type": "code",
   "execution_count": 24,
   "metadata": {},
   "outputs": [
    {
     "name": "stdout",
     "output_type": "stream",
     "text": [
      "['foo', 'bar', ['ls', '/some/dir'], [0, 1, 2, 3, 4]]\n"
     ]
    }
   ],
   "source": [
    "my_list = ['foo', 'bar']\n",
    "cmd = ['ls', '/some/dir']\n",
    "numbers = list(range(5))\n",
    "my_list.extend([cmd, numbers])\n",
    "\n",
    "print(my_list)"
   ]
  },
  {
   "cell_type": "code",
   "execution_count": 31,
   "metadata": {},
   "outputs": [
    {
     "data": {
      "text/plain": [
       "[0, 1, 2, 3, 4]"
      ]
     },
     "execution_count": 31,
     "metadata": {},
     "output_type": "execute_result"
    }
   ],
   "source": [
    "list(range(5))"
   ]
  },
  {
   "cell_type": "markdown",
   "metadata": {},
   "source": [
    "The chain iterator takes a series of iterables and flattens them down into one long iterable."
   ]
  },
  {
   "cell_type": "code",
   "execution_count": 25,
   "metadata": {},
   "outputs": [
    {
     "name": "stdout",
     "output_type": "stream",
     "text": [
      "['foo', 'bar', 'ls', '/some/dir', 0, 1, 2, 3, 4]\n"
     ]
    }
   ],
   "source": [
    "from itertools import chain\n",
    "\n",
    "my_list = list(chain(['foo', 'bar'], cmd, numbers))\n",
    "\n",
    "print(my_list)"
   ]
  },
  {
   "cell_type": "markdown",
   "metadata": {},
   "source": [
    "#### itertools.compress(seq, selectors)\n",
    "Useful for filtering an iterable using a second boolean iterable (i.e. an indicator)\n",
    "\n",
    "https://docs.python.org/2/library/itertools.html#itertools.compress\n"
   ]
  },
  {
   "cell_type": "code",
   "execution_count": 26,
   "metadata": {},
   "outputs": [
    {
     "name": "stdout",
     "output_type": "stream",
     "text": [
      "['A', 'B', 'D', 'F', 'G', 'H', 'J']\n"
     ]
    }
   ],
   "source": [
    "from itertools import compress\n",
    "\n",
    "letters = 'ABCDEFGHIJKJM'\n",
    "bools = [True, True, False, True, False, True, True, True, False, True]\n",
    "\n",
    "# notice the sizes do not need to match\n",
    "print(list(compress(letters, bools)))"
   ]
  },
  {
   "cell_type": "code",
   "execution_count": 27,
   "metadata": {},
   "outputs": [
    {
     "name": "stdout",
     "output_type": "stream",
     "text": [
      "['A', 'E', 'I']\n"
     ]
    }
   ],
   "source": [
    "def either_aeiou(e):\n",
    "    return (e == 'A') or (e == 'E') or (e == 'I') or (e == 'O') or (e == 'U')\n",
    "\n",
    "print(list(compress(letters, [either_aeiou(e) for e in letters])))"
   ]
  },
  {
   "cell_type": "markdown",
   "metadata": {},
   "source": [
    "---\n",
    "\n",
    "### itertools.dropwhile(predicate, seq)  \n",
    "\n",
    "- Drop the elements while the predicate is True; afterwards, returns every element.\n",
    "\n",
    "### itertools.takewhile(predicate, seq)  \n",
    "\n",
    "- Take the elements while the predicate is True"
   ]
  },
  {
   "cell_type": "code",
   "execution_count": 45,
   "metadata": {},
   "outputs": [
    {
     "name": "stdout",
     "output_type": "stream",
     "text": [
      "[1, 2, 3, 10]\n",
      "[6, 7, 8, 9, 10]\n"
     ]
    }
   ],
   "source": [
    "from itertools import dropwhile, takewhile\n",
    "\n",
    "print(list(dropwhile(lambda x: x > 5, [7, 8, 9, 10, 1, 2, 3, 10])))\n",
    "\n",
    "print(list(takewhile(lambda x: x > 5, [6, 7, 8, 9, 10, 1, 2, 3, 20])))"
   ]
  },
  {
   "cell_type": "code",
   "execution_count": 33,
   "metadata": {},
   "outputs": [
    {
     "name": "stdout",
     "output_type": "stream",
     "text": [
      "lst_take_while: ['parrot', 'pelican']\n",
      "lst_drop_while: ['lion', 'cat', 'panther', 'dolphin', 'dog']\n"
     ]
    }
   ],
   "source": [
    "lst = ['parrot', 'pelican', 'lion', 'cat', 'panther', 'dolphin', 'dog']\n",
    "\n",
    "print(\"lst_take_while:\", list(takewhile(lambda word: word[0] == 'p', lst)))\n",
    "\n",
    "print(\"lst_drop_while:\", list(dropwhile(lambda word: word[0] == 'p', lst)))\n"
   ]
  },
  {
   "cell_type": "markdown",
   "metadata": {},
   "source": [
    "#### itertools.filterfalse(predicate, seq) \n",
    "\n",
    "https://docs.python.org/2/library/itertools.html#itertools.ifilterfalse\n",
    "\n",
    "Filter all elements for which the predicate is False."
   ]
  },
  {
   "cell_type": "code",
   "execution_count": 47,
   "metadata": {},
   "outputs": [
    {
     "name": "stdout",
     "output_type": "stream",
     "text": [
      "[6, 7, 8, 9, 10, 20]\n"
     ]
    }
   ],
   "source": [
    "from itertools import filterfalse\n",
    "\n",
    "# filter *all* elements for which the predicate is false\n",
    "\n",
    "print(list(filterfalse(lambda x: x < 5, [6, 7, 8, 9, 10, 1, 2, 3, 20])))"
   ]
  },
  {
   "cell_type": "markdown",
   "metadata": {},
   "source": [
    "#### itertools.groupby(seq, key=None)  \n",
    "https://docs.python.org/2/library/itertools.html#itertools.groupby  \n",
    "Make an iterator that returns consecutive keys and groups from the iterable.  \n",
    "The key is a function computing a key value for each element."
   ]
  },
  {
   "cell_type": "code",
   "execution_count": 48,
   "metadata": {},
   "outputs": [
    {
     "name": "stdout",
     "output_type": "stream",
     "text": [
      "0 [0, 1, 2, 3, 4]\n",
      "1 [5, 6, 7, 8, 9]\n",
      "2 [10, 11, 12, 13, 14]\n",
      "3 [15, 16, 17, 18, 19]\n"
     ]
    }
   ],
   "source": [
    "from itertools import groupby\n",
    " \n",
    "numbers = range(20)\n",
    "# to group consecutive ones from range(20) by the same **quotient** when divided by 5; \n",
    "# i.e. for x in range(20) group by x // 5\n",
    "\n",
    "for (key, group) in groupby(numbers, lambda x: x // 5):\n",
    "    print(key, list(group))"
   ]
  },
  {
   "cell_type": "code",
   "execution_count": 49,
   "metadata": {},
   "outputs": [
    {
     "name": "stdout",
     "output_type": "stream",
     "text": [
      "0 [0]\n",
      "1 [1]\n",
      "2 [2]\n",
      "3 [3]\n",
      "4 [4]\n",
      "0 [5]\n",
      "1 [6]\n",
      "2 [7]\n",
      "3 [8]\n",
      "4 [9]\n",
      "0 [10]\n",
      "1 [11]\n",
      "2 [12]\n",
      "3 [13]\n",
      "4 [14]\n",
      "0 [15]\n",
      "1 [16]\n",
      "2 [17]\n",
      "3 [18]\n",
      "4 [19]\n"
     ]
    }
   ],
   "source": [
    "# group the list of elements by the same **reminder** \n",
    "for (key, group) in groupby(numbers, lambda x: x % 5):\n",
    "    print(key, list(group))"
   ]
  },
  {
   "cell_type": "code",
   "execution_count": 50,
   "metadata": {},
   "outputs": [
    {
     "name": "stdout",
     "output_type": "stream",
     "text": [
      "reminder_number:\n",
      "[(0, 0), (0, 5), (0, 10), (0, 15), (1, 1), (1, 6), (1, 11), (1, 16), (2, 2), (2, 7), (2, 12), (2, 17), (3, 3), (3, 8), (3, 13), (3, 18), (4, 4), (4, 9), (4, 14), (4, 19)]\n",
      "\n",
      "0 [0, 5, 10, 15]\n",
      "1 [1, 6, 11, 16]\n",
      "2 [2, 7, 12, 17]\n",
      "3 [3, 8, 13, 18]\n",
      "4 [4, 9, 14, 19]\n"
     ]
    }
   ],
   "source": [
    "# how to combine the previous output by the keys?\n",
    "reminder_number = [(x % 5, x) for x in numbers]\n",
    "reminder_number = sorted(reminder_number)\n",
    "print(\"reminder_number:\\n%s\\n\" % reminder_number)\n",
    "\n",
    "for (key, group) in groupby(reminder_number, lambda x: x[0]):\n",
    "    print(key, [n for r, n in group])"
   ]
  },
  {
   "cell_type": "markdown",
   "metadata": {},
   "source": [
    "#### itertools.starmap(function, seq)\n",
    "https://docs.python.org/3/library/itertools.html#itertools.starmap\n",
    "\n",
    "Iterator that computes the function using arguments obtained from the iterable. "
   ]
  },
  {
   "cell_type": "code",
   "execution_count": 51,
   "metadata": {},
   "outputs": [
    {
     "name": "stdout",
     "output_type": "stream",
     "text": [
      "3\n",
      "7\n",
      "11\n"
     ]
    }
   ],
   "source": [
    "from itertools import starmap\n",
    "\n",
    "# here is the iterable: [(1,2), (3,4), (5,6)]\n",
    "\n",
    "for item in starmap(lambda u, v: u + v, [(1, 2), (3, 4), (5, 6)]):\n",
    "    print(item)"
   ]
  },
  {
   "cell_type": "code",
   "execution_count": 52,
   "metadata": {},
   "outputs": [
    {
     "name": "stdout",
     "output_type": "stream",
     "text": [
      "3\n",
      "7\n",
      "11\n"
     ]
    }
   ],
   "source": [
    "def add(u, v):\n",
    "    return u + v\n",
    " \n",
    "for item in starmap(add, [(1, 2), (3, 4), (5, 6)]):\n",
    "    print(item)"
   ]
  },
  {
   "cell_type": "markdown",
   "metadata": {},
   "source": [
    "#### itertools.tee(seq, n=2)\n",
    "Creates n iterators from the given sequence"
   ]
  },
  {
   "cell_type": "code",
   "execution_count": 56,
   "metadata": {},
   "outputs": [
    {
     "name": "stdout",
     "output_type": "stream",
     "text": [
      "iterator:0\n",
      "ABCDE\n",
      "\n",
      "iterator:1\n",
      "ABCDE\n",
      "\n",
      "iterator:2\n",
      "ABCDE\n",
      "\n",
      "iterator:3\n",
      "ABCDE\n",
      "\n",
      "iterator:4\n",
      "ABCDE\n",
      "\n"
     ]
    }
   ],
   "source": [
    "from itertools import tee\n",
    "data = 'ABCDE'\n",
    "iters = tee(data, 5)\n",
    "\n",
    "for i in range(5):\n",
    "    print('iterator:%d' % i)\n",
    "    for item in iters[i]:\n",
    "        print(item, end=\"\")\n",
    "    print(\"\\n\")"
   ]
  },
  {
   "cell_type": "markdown",
   "metadata": {},
   "source": [
    "#### itertools.zip_longest(*seq, fillvalue=None)  \n",
    "https://docs.python.org/2/library/itertools.html#itertools.izip_longest  \n",
    "An iterator that aggregates elements from each of the iterables.  "
   ]
  },
  {
   "cell_type": "code",
   "execution_count": 57,
   "metadata": {},
   "outputs": [
    {
     "name": "stdout",
     "output_type": "stream",
     "text": [
      "[('A', 'x'), ('B', 'y'), ('_', 'z'), ('_', 'w')]\n"
     ]
    }
   ],
   "source": [
    "from itertools import zip_longest\n",
    "\n",
    "print(list(zip_longest('AB', 'xyzw', fillvalue='_')))"
   ]
  },
  {
   "cell_type": "code",
   "execution_count": 58,
   "metadata": {},
   "outputs": [
    {
     "name": "stdout",
     "output_type": "stream",
     "text": [
      "[('A', 'x', 0), ('B', 'y', 1), ('_', 'z', 2), ('_', 'w', 3), ('_', '_', 4)]\n"
     ]
    }
   ],
   "source": [
    "print(list(zip_longest('AB', 'xyzw', range(5), fillvalue='_')))"
   ]
  },
  {
   "cell_type": "code",
   "execution_count": 59,
   "metadata": {},
   "outputs": [
    {
     "name": "stdout",
     "output_type": "stream",
     "text": [
      "dict: {'1': 'pqr', '2': 'uvw', '3': 'xyz', '4': 'blank_value', '5': 'blank_value', '6': 'blank_value', '7': 'blank_value'}\n"
     ]
    }
   ],
   "source": [
    "# usefull to create dictionaries\n",
    "\n",
    "vals = ['pqr', 'uvw', 'xyz']\n",
    "\n",
    "dc = dict(zip_longest('1234567', vals, fillvalue='blank_value'))\n",
    "print(\"dict:\", dc)"
   ]
  },
  {
   "cell_type": "markdown",
   "metadata": {},
   "source": [
    "## Combinatoric Generators\n",
    "Iterators that can be used for creating combinations and permutations of data"
   ]
  },
  {
   "cell_type": "markdown",
   "metadata": {},
   "source": [
    "#### itertools.combinations(seq, r) \n",
    "#### itertools.combinations_with_replacement(seq, r)"
   ]
  },
  {
   "cell_type": "markdown",
   "metadata": {},
   "source": [
    "---\n",
    "\n",
    "E.g. There is an urn with four balls: yellow, green, red, and blue.  \n",
    "\n",
    "Q: In how many ways can one pick two (three) balls without replacement?  \n",
    "\n",
    "Q: In how many ways can one pick two (three) balls with replacement?"
   ]
  },
  {
   "cell_type": "code",
   "execution_count": 60,
   "metadata": {},
   "outputs": [
    {
     "name": "stdout",
     "output_type": "stream",
     "text": [
      "combinations without replacement:\n",
      " [('R', 'B'), ('R', 'G'), ('R', 'Y'), ('B', 'G'), ('B', 'Y'), ('G', 'Y')]\n",
      "\n",
      "\n",
      "combinations with replacement:\n",
      " [('R', 'R'), ('R', 'B'), ('R', 'G'), ('R', 'Y'), ('B', 'B'), ('B', 'G'), ('B', 'Y'), ('G', 'G'), ('G', 'Y'), ('Y', 'Y')]\n"
     ]
    }
   ],
   "source": [
    "from itertools import combinations, combinations_with_replacement\n",
    "\n",
    "print(\"combinations without replacement:\\n\", list(combinations('RBGY', 2))) \n",
    "print(\"\\n\")\n",
    "print(\"combinations with replacement:\\n\", list(combinations_with_replacement('RBGY', 2)))"
   ]
  },
  {
   "cell_type": "code",
   "execution_count": 61,
   "metadata": {},
   "outputs": [
    {
     "name": "stdout",
     "output_type": "stream",
     "text": [
      "RB; RG; RY; BG; BY; GY; "
     ]
    }
   ],
   "source": [
    "for item in combinations('RBGY', 2):\n",
    "    print(''.join(item), end=\"; \")"
   ]
  },
  {
   "cell_type": "code",
   "execution_count": 62,
   "metadata": {},
   "outputs": [
    {
     "name": "stdout",
     "output_type": "stream",
     "text": [
      "RR; RB; RG; RY; BB; BG; BY; GG; GY; YY; "
     ]
    }
   ],
   "source": [
    "for item in combinations_with_replacement('RBGY', 2):\n",
    "    print(''.join(item), end=\"; \")"
   ]
  },
  {
   "cell_type": "markdown",
   "metadata": {},
   "source": [
    "#### itertools.permutations(iterable, r=None)"
   ]
  },
  {
   "cell_type": "code",
   "execution_count": 63,
   "metadata": {},
   "outputs": [
    {
     "name": "stdout",
     "output_type": "stream",
     "text": [
      "RB; RG; RY; BR; BG; BY; GR; GB; GY; YR; YB; YG; "
     ]
    }
   ],
   "source": [
    "from itertools import permutations\n",
    "\n",
    "for item in permutations('RBGY', 2): ## 4*3=12\n",
    "    print(''.join(item), end=\"; \")"
   ]
  },
  {
   "cell_type": "markdown",
   "metadata": {},
   "source": [
    "#### itertools.product(*seq repeat=1)\n",
    "Produces the **cartesian product** of sequences"
   ]
  },
  {
   "cell_type": "code",
   "execution_count": 64,
   "metadata": {},
   "outputs": [
    {
     "name": "stdout",
     "output_type": "stream",
     "text": [
      "[('A', 'a'), ('A', 'b'), ('A', 'c'), ('B', 'a'), ('B', 'b'), ('B', 'c')]\n"
     ]
    }
   ],
   "source": [
    "from itertools import product\n",
    "\n",
    "arrays = [('A', 'B'), ('a', 'b', 'c')]\n",
    "cart_prod = list(product(*arrays))\n",
    "print(cart_prod)\n",
    "\n",
    "# size (cardinality) is 2 * 3  = 6\n"
   ]
  },
  {
   "cell_type": "code",
   "execution_count": 72,
   "metadata": {},
   "outputs": [
    {
     "name": "stdout",
     "output_type": "stream",
     "text": [
      "cids: <itertools.product object at 0x106a3cca8>\n",
      "\n",
      "i = 0, e = (0, 0)\n",
      "i = 1, e = (0, 1)\n",
      "i = 2, e = (1, 0)\n",
      "i = 3, e = (1, 1)\n",
      "\n",
      "M=\n",
      "[[  0. 100.]\n",
      " [200. 300.]]\n"
     ]
    }
   ],
   "source": [
    "import numpy as np\n",
    "\n",
    "M = np.zeros((2, 2))\n",
    "cids = product((0, 1), (0,1))\n",
    "\n",
    "print(\"cids: %s\\n\" % cids)\n",
    "\n",
    "for i, e  in enumerate(cids):\n",
    "    M[e] = i * 100\n",
    "    print(\"i = %s, e = %s\" %(i, e))\n",
    "\n",
    "print(\"\\nM=\\n%s\" % M)"
   ]
  },
  {
   "cell_type": "code",
   "execution_count": 71,
   "metadata": {},
   "outputs": [
    {
     "data": {
      "text/plain": [
       "[(0, 0), (0, 1), (1, 0), (1, 1)]"
      ]
     },
     "execution_count": 71,
     "metadata": {},
     "output_type": "execute_result"
    }
   ],
   "source": [
    "list(product((0, 1), (0,1)))"
   ]
  },
  {
   "cell_type": "code",
   "execution_count": 79,
   "metadata": {},
   "outputs": [
    {
     "name": "stdout",
     "output_type": "stream",
     "text": [
      "0 (0, 0)\n",
      "1 (0, 1)\n",
      "2 (1, 0)\n",
      "3 (1, 1)\n"
     ]
    }
   ],
   "source": [
    "for i, e in enumerate(product((0, 1), (0,1))): \n",
    "    print(i,e)"
   ]
  },
  {
   "cell_type": "code",
   "execution_count": 70,
   "metadata": {},
   "outputs": [
    {
     "data": {
      "text/plain": [
       "array([  0., 100.])"
      ]
     },
     "execution_count": 70,
     "metadata": {},
     "output_type": "execute_result"
    }
   ],
   "source": [
    "M[0]"
   ]
  },
  {
   "cell_type": "code",
   "execution_count": 80,
   "metadata": {
    "scrolled": true
   },
   "outputs": [
    {
     "name": "stdout",
     "output_type": "stream",
     "text": [
      "cids:  <itertools.product object at 0x1068621b0>\n",
      "i =  0, e = (0, 0, 0)\n",
      "i =  1, e = (0, 0, 1)\n",
      "i =  2, e = (0, 0, 2)\n",
      "i =  3, e = (0, 1, 0)\n",
      "i =  4, e = (0, 1, 1)\n",
      "i =  5, e = (0, 1, 2)\n",
      "i =  6, e = (0, 2, 0)\n",
      "i =  7, e = (0, 2, 1)\n",
      "i =  8, e = (0, 2, 2)\n",
      "i =  9, e = (1, 0, 0)\n",
      "i = 10, e = (1, 0, 1)\n",
      "i = 11, e = (1, 0, 2)\n",
      "i = 12, e = (1, 1, 0)\n",
      "i = 13, e = (1, 1, 1)\n",
      "i = 14, e = (1, 1, 2)\n",
      "i = 15, e = (1, 2, 0)\n",
      "i = 16, e = (1, 2, 1)\n",
      "i = 17, e = (1, 2, 2)\n",
      "i = 18, e = (2, 0, 0)\n",
      "i = 19, e = (2, 0, 1)\n",
      "i = 20, e = (2, 0, 2)\n",
      "i = 21, e = (2, 1, 0)\n",
      "i = 22, e = (2, 1, 1)\n",
      "i = 23, e = (2, 1, 2)\n",
      "i = 24, e = (2, 2, 0)\n",
      "i = 25, e = (2, 2, 1)\n",
      "i = 26, e = (2, 2, 2)\n",
      "\n",
      "M=\n",
      "[[[   0.  100.  200.]\n",
      "  [ 300.  400.  500.]\n",
      "  [ 600.  700.  800.]]\n",
      "\n",
      " [[ 900. 1000. 1100.]\n",
      "  [1200. 1300. 1400.]\n",
      "  [1500. 1600. 1700.]]\n",
      "\n",
      " [[1800. 1900. 2000.]\n",
      "  [2100. 2200. 2300.]\n",
      "  [2400. 2500. 2600.]]]\n"
     ]
    }
   ],
   "source": [
    "import numpy as np\n",
    "\n",
    "M = np.zeros((3, 3, 3))\n",
    "cids = product((0,1,2), (0,1,2), (0,1,2))\n",
    "\n",
    "\n",
    "print(\"cids: \", cids)\n",
    "\n",
    "for i, e  in enumerate(cids):\n",
    "    M[e] = i * 100\n",
    "    print(\"i = %2d, e = %s\" %(i, e))\n",
    "\n",
    "print(\"\\nM=\\n%s\" % M)"
   ]
  },
  {
   "cell_type": "code",
   "execution_count": null,
   "metadata": {},
   "outputs": [],
   "source": []
  }
 ],
 "metadata": {
  "kernelspec": {
   "display_name": "Python 3",
   "language": "python",
   "name": "python3"
  },
  "language_info": {
   "codemirror_mode": {
    "name": "ipython",
    "version": 3
   },
   "file_extension": ".py",
   "mimetype": "text/x-python",
   "name": "python",
   "nbconvert_exporter": "python",
   "pygments_lexer": "ipython3",
   "version": "3.7.1"
  }
 },
 "nbformat": 4,
 "nbformat_minor": 2
}
