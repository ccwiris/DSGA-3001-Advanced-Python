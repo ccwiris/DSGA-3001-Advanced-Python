{
 "cells": [
  {
   "cell_type": "markdown",
   "metadata": {},
   "source": [
    "## Lecture: Python Concurrency\n",
    "### March 31, 2020  \n",
    "\n",
    "Part of lecture is based on [https://nyu-cds.github.io/python-concurrency/](https://nyu-cds.github.io/python-concurrency/)"
   ]
  },
  {
   "cell_type": "markdown",
   "metadata": {},
   "source": [
    "---\n",
    "\n",
    "**Main goal to explore techniques for improving performance by introducing different forms of concurrency.**\n"
   ]
  },
  {
   "cell_type": "markdown",
   "metadata": {},
   "source": [
    "---\n",
    "\n",
    "For this you will need to:\n",
    "\n",
    "- create an account in [imgur.com](https://imgur.com/)\n",
    "- register your application [here](https://api.imgur.com/oauth2/addclient)\n",
    "  - Authorization Type: __OAuth 2 authorization with a callback URL__\n",
    "  - Authorization Callback URL: __https://www.getpostman.com/oauth2/callback__\n",
    "  - email:\n",
    "  - Description:\n",
    "  "
   ]
  },
  {
   "cell_type": "markdown",
   "metadata": {},
   "source": [
    "---\n",
    "The functions below fetchs a list of images and download them __imgur__ repository: \n",
    "[https://imgur.com/](https://imgur.com/)\n",
    "\n",
    "- We will start with a version that downloads images sequentially, or one at a time\n",
    "\n",
    "- Then improve the performance by introducing multiprocessing and threading"
   ]
  },
  {
   "cell_type": "markdown",
   "metadata": {},
   "source": [
    "---\n",
    "We will split the functionality into three separate functions:\n",
    "- get_links\n",
    "- download_link\n",
    "- setup_download_dir"
   ]
  },
  {
   "cell_type": "code",
   "execution_count": 1,
   "metadata": {},
   "outputs": [],
   "source": [
    "import json\n",
    "import os\n",
    "from pathlib import Path\n",
    "from urllib.request import urlopen, Request\n",
    "from time import time\n",
    "\n",
    "types = {'image/jpeg', 'image/png', 'image/gif'}\n",
    "\n",
    "def get_links(client_id):\n",
    "    '''used to obtain a list of available images'''\n",
    "    headers = {'Authorization': 'Client-ID {}'.format(client_id)}\n",
    "    req = Request('https://api.imgur.com/3/gallery/random/random/', headers=headers, method='GET')\n",
    "    \n",
    "    with urlopen(req) as response:\n",
    "        data = json.loads(response.read().decode('utf-8'))\n",
    "    return [item['link'] for item in data['data'] if 'type' in item and item['type'] in types]\n",
    "\n",
    "def download_link(directory, link):\n",
    "    '''downloads the image given by the URL _link_ into _directory_'''\n",
    "    download_path = directory / os.path.basename(link)\n",
    "    with urlopen(link) as image, download_path.open('wb') as f:\n",
    "        f.write(image.read())\n",
    "\n",
    "def setup_download_dir():\n",
    "    '''creates a download destination directory if it doesn’t already exist'''\n",
    "    download_dir = Path('images')\n",
    "    if not download_dir.exists():\n",
    "        download_dir.mkdir()\n",
    "    return download_dir"
   ]
  },
  {
   "cell_type": "code",
   "execution_count": 2,
   "metadata": {},
   "outputs": [
    {
     "name": "stdout",
     "output_type": "stream",
     "text": [
      " 0 https://i.imgur.com/duS7yj7.jpg\n",
      " 1 https://i.imgur.com/du3jYSE.gif\n",
      " 2 https://i.imgur.com/du2O02E.jpg\n",
      " 3 https://i.imgur.com/duwQD7j.jpg\n",
      " 4 https://i.imgur.com/duzvmBp.jpg\n",
      " 5 https://i.imgur.com/dumqlWP.png\n",
      " 6 https://i.imgur.com/duIuRsn.jpg\n",
      " 7 https://i.imgur.com/duZmSVH.jpg\n",
      " 8 https://i.imgur.com/duTC7jl.jpg\n",
      " 9 https://i.imgur.com/duc6s6x.jpg\n",
      "10 http://i.imgur.com/duuC6AXh.gif\n",
      "11 http://i.imgur.com/duPy05bh.gif\n",
      "12 https://i.imgur.com/du3WNes.gif\n",
      "13 https://i.imgur.com/duKKVo1.gif\n",
      "14 https://i.imgur.com/dugvMdt.png\n",
      "15 https://i.imgur.com/durPn.jpg\n",
      "16 https://i.imgur.com/duztvQ9.jpg\n",
      "17 https://i.imgur.com/duCVZNo.jpg\n",
      "18 https://i.imgur.com/dulZb.jpg\n",
      "19 https://i.imgur.com/dujAVMp.png\n",
      "20 https://i.imgur.com/duR9HLM.jpg\n",
      "21 https://i.imgur.com/duNhd.jpg\n",
      "22 https://i.imgur.com/dueKLpp.jpg\n",
      "Took 12.596888065338135s\n"
     ]
    }
   ],
   "source": [
    "# 'replace with your client ID'\n",
    "CLIENT_ID = '49142d088194030'\n",
    "\n",
    "ts = time()\n",
    "download_dir = setup_download_dir()\n",
    "\n",
    "links = [l for l in get_links(CLIENT_ID)]\n",
    "\n",
    "for i, link in enumerate(links):\n",
    "    print(\"%2d %s\" % (i, link))\n",
    "    download_link(download_dir, link)\n",
    "\n",
    "print('Took {}s'.format(time() - ts))\n",
    "\n"
   ]
  },
  {
   "cell_type": "markdown",
   "metadata": {},
   "source": [
    "---\n",
    "\n",
    "- To improve the performance of the image downloader we can run **multiple copies** of the program at the same time. \n",
    "\n",
    "\n",
    "- However, we would need to know what images are available so that we could ensure that one process didn’t download an image that had already been downloaded by a different process.  \n",
    "\n",
    "\n",
    "- Fortunately the multiprocessing module is available for this purpose.\n",
    "\n",
    "---"
   ]
  },
  {
   "cell_type": "markdown",
   "metadata": {},
   "source": [
    "### Pool\n",
    "\n",
    "- To use multiple processes we need a multiprocessing **Pool**. \n",
    "\n",
    "\n",
    "- The Pool class provides a map method that runs a function as a separate process, passing arguments from a supplied iterable. \n",
    "\n",
    "\n",
    "- The iterable is divided into a number of chunks, so that each process gets roughly the same number of elements. \n",
    "\n",
    "\n",
    "- We will pass the list of URLs to the pool, which starts 8 new processes and use each one to download the images in parallel."
   ]
  },
  {
   "cell_type": "code",
   "execution_count": 3,
   "metadata": {},
   "outputs": [
    {
     "name": "stdout",
     "output_type": "stream",
     "text": [
      "number of CPU cores: 8\n"
     ]
    }
   ],
   "source": [
    "from multiprocessing import cpu_count\n",
    "print(\"number of CPU cores:\", cpu_count())"
   ]
  },
  {
   "cell_type": "code",
   "execution_count": 4,
   "metadata": {},
   "outputs": [
    {
     "name": "stdout",
     "output_type": "stream",
     "text": [
      "Took 5.019102573394775s\n"
     ]
    }
   ],
   "source": [
    "from functools import partial\n",
    "from multiprocessing.pool import Pool\n",
    "\n",
    "def multi_processes_download():\n",
    "    ts = time()\n",
    "    download_dir = setup_download_dir()\n",
    "    links = [l for l in get_links(CLIENT_ID)]\n",
    "\n",
    "    # functools.partial makes a new version of a function \n",
    "    # with one or more fixed arguments\n",
    "    download = partial(download_link, download_dir)\n",
    "   \n",
    "    with Pool(8) as p:\n",
    "        p.map(download, links)\n",
    "        \n",
    "    print('Took {}s'.format(time() - ts))\n",
    "\n",
    "multi_processes_download()"
   ]
  },
  {
   "cell_type": "markdown",
   "metadata": {},
   "source": [
    "---\n",
    "\n",
    "Although easy to implement, the parallelism bears some drawbacks:\n",
    "- each process contains **a copy of the entire memory**\n",
    "- it does not handle processes that depend on each other\n",
    "\n",
    "Those issues can be tackled by shared memory and message passing mechanisms, which we will learn from later lessons."
   ]
  },
  {
   "cell_type": "markdown",
   "metadata": {},
   "source": [
    "---\n",
    "## Using Threads\n",
    "\n",
    "Threading is a well known approach to attaining concurrency: \n",
    "- typically threads are lighter weight than processes\n",
    "- **lower memory requirements**, as **they share the same memory space**\n",
    "\n",
    "We will relay on __Thread class__, which provides a run method that should be overridden with a method that does the actual work of the thread."
   ]
  },
  {
   "cell_type": "markdown",
   "metadata": {},
   "source": [
    "### Thread Safety\n",
    "\n",
    "- Variables in the program are shared by all the threads and cannot be accessed the way you would normally access a variable. One thread may change the variable while another thread is reading it, or worse, two threads may try to update the variable at the same time. \n",
    "\n",
    "\n",
    "- This is known as a **race condition**, it is one of the leading sources of errors in threaded programs and needs to be addressed properly.\n",
    "\n",
    "\n",
    "\n",
    "- A way to deal with thread safety is using the __Queue Class__"
   ]
  },
  {
   "cell_type": "code",
   "execution_count": 5,
   "metadata": {},
   "outputs": [
    {
     "name": "stdout",
     "output_type": "stream",
     "text": [
      "0\n",
      "1\n",
      "2\n",
      "3\n",
      "4\n",
      "5\n",
      "6\n",
      "7\n",
      "8\n",
      "9\n",
      "10\n",
      "11\n",
      "12\n",
      "13\n",
      "14\n",
      "15\n",
      "16\n",
      "17\n",
      "18\n",
      "19\n"
     ]
    }
   ],
   "source": [
    "# Understanding Queue \n",
    "from queue import Queue\n",
    "\n",
    "def do_work(q):\n",
    "    while not q.empty():\n",
    "        item = q.get()\n",
    "        print(str(item)) \n",
    "        q.task_done()  # this is important when combining Queue with Threads\n",
    "\n",
    "q = Queue() # FIFO queue\n",
    "\n",
    "for i in range(20):\n",
    "    q.put(i)\n",
    "\n",
    "do_work(q)"
   ]
  },
  {
   "cell_type": "markdown",
   "metadata": {},
   "source": [
    "---\n",
    "A simpler example before going back to the image downloader code"
   ]
  },
  {
   "cell_type": "code",
   "execution_count": 3,
   "metadata": {},
   "outputs": [],
   "source": [
    "from time import sleep"
   ]
  },
  {
   "cell_type": "code",
   "execution_count": 4,
   "metadata": {},
   "outputs": [
    {
     "name": "stdout",
     "output_type": "stream",
     "text": [
      "0 1 2 3 4 5 6 7 8 9 \n",
      "\n",
      "\n",
      "\n",
      "\n",
      "\n",
      "\n",
      "\n",
      "\n",
      "\n",
      "10 11 12 \n",
      "\n",
      "\n",
      "13 14 15 16 \n",
      "17 \n",
      "\n",
      "\n",
      "\n",
      "18 19 \n",
      "\n",
      "20 21 22 \n",
      "\n",
      "\n",
      "23 24 25 \n",
      "\n",
      "\n",
      "26 27 28 29 \n",
      "\n",
      "\n",
      "\n",
      "30 31 32 33 \n",
      "34 35 \n",
      "\n",
      "\n",
      "\n",
      "36 \n",
      "37 \n",
      "38 \n",
      "\n",
      "39 \n",
      "40 41 42 \n",
      "\n",
      "\n",
      "43 44 45 46 47 48 \n",
      "49 \n",
      "\n",
      "\n",
      "\n",
      "\n",
      "\n"
     ]
    }
   ],
   "source": [
    "# in this example each thread prints an element of the queue\n",
    "\n",
    "from queue import Queue\n",
    "from threading import Thread\n",
    "import logging  \n",
    "\n",
    "logging.basicConfig(format='(%(threadName)-9s) %(message)s',)\n",
    "\n",
    "def do_work(q):\n",
    "    while True:\n",
    "        item = q.get()\n",
    "        logging.debug(\"e\" + str(item) + ' ')\n",
    "        print(str(item) + ' ')\n",
    "        q.task_done()\n",
    "        sleep(2)\n",
    "           \n",
    "    \n",
    "q = Queue()\n",
    "num_threads = 10\n",
    "\n",
    "for i in range(num_threads):\n",
    "    worker = Thread(target=do_work, args=(q,), name='thread_' + str(i))\n",
    "    worker.setDaemon(True) # this stop the threads when the program quits  \n",
    "    worker.start()         # start the threads\n",
    "\n",
    "# now we have started 10 threads:\n",
    "\n",
    "for i in range(50):\n",
    "    q.put(i)\n",
    "\n",
    "q.join() # wait untill all threads have finished"
   ]
  },
  {
   "cell_type": "code",
   "execution_count": 8,
   "metadata": {},
   "outputs": [
    {
     "name": "stdout",
     "output_type": "stream",
     "text": [
      "Queueing: http://i.imgur.com/8VJeSdQh.gif\n",
      "Queueing: https://i.imgur.com/8VhvuCN.jpg\n",
      "Queueing: https://i.imgur.com/8V4rC.jpg\n",
      "Queueing: http://i.imgur.com/8VGPNH3h.gif\n",
      "Queueing: https://i.imgur.com/8VoBj0H.gif\n",
      "Queueing: http://i.imgur.com/8VbL2sxh.gif\n",
      "Queueing: https://i.imgur.com/8VbtBs3.jpg\n",
      "Queueing: https://i.imgur.com/8V3ciah.jpg\n",
      "Queueing: https://i.imgur.com/8VfN6UE.gif\n",
      "Queueing: http://i.imgur.com/8Vjw6JGh.gif\n",
      "Queueing: https://i.imgur.com/8V90Kod.gif\n",
      "Queueing: http://i.imgur.com/8VU7HJ5h.gif\n",
      "Queueing: http://i.imgur.com/8V466Tih.gif\n",
      "Queueing: https://i.imgur.com/8VhsCzu.jpg\n",
      "Queueing: https://i.imgur.com/8VwCDvM.jpg\n",
      "Queueing: https://i.imgur.com/8VengAs.jpg\n",
      "Queueing: https://i.imgur.com/8VgdD.png\n",
      "Queueing: https://i.imgur.com/8VVQG.jpg\n",
      "Queueing: https://i.imgur.com/8VfyT7I.jpg\n",
      "Queueing: https://i.imgur.com/8Vzvn9a.jpg\n",
      "Queueing: https://i.imgur.com/8VmYyn8.jpg\n",
      "Queueing: https://i.imgur.com/8VNXQQ7.png\n",
      "Queueing: https://i.imgur.com/8VeVEoa.jpg\n",
      "Queueing: https://i.imgur.com/8VgOB.jpg\n",
      "Queueing: https://i.imgur.com/8VxgBMK.jpg\n",
      "Queueing: http://i.imgur.com/8VDgjD3h.gif\n",
      "Queueing: https://i.imgur.com/8V97Zmu.gif\n",
      "Took 6.061229705810547\n"
     ]
    }
   ],
   "source": [
    "from queue import Queue\n",
    "from threading import Thread\n",
    "\n",
    "class DownloadWorker(Thread):\n",
    "    def __init__(self, queue):\n",
    "        Thread.__init__(self)\n",
    "        self.queue = queue\n",
    "    \n",
    "    def run(self):\n",
    "        while True:\n",
    "            # Get the work from the queue and expand the tuple\n",
    "            (directory, link) = self.queue.get()\n",
    "            # call the function donwload_link (previously defined)\n",
    "            download_link(directory, link)\n",
    "            self.queue.task_done()\n",
    "\n",
    "            \n",
    "def threaded_download():\n",
    "    ts = time()\n",
    "    download_dir = setup_download_dir()\n",
    "    links = [l for l in get_links(CLIENT_ID)]\n",
    "    \n",
    "    \n",
    "    # Create a queue to communicate with the worker threads\n",
    "    queue = Queue()\n",
    "    \n",
    "    # Create 8 worker threads\n",
    "    for _ in range(8):\n",
    "        worker = DownloadWorker(queue)\n",
    "        # Setting daemon to True will let the main thread exit \n",
    "        # even though the workers are blocking\n",
    "        worker.daemon = True\n",
    "        worker.start()\n",
    "\n",
    "    \n",
    "    # Put the tasks into the queue as a tuple\n",
    "    for link in links:\n",
    "        print('Queueing: {}'.format(link))\n",
    "        queue.put((download_dir, link))\n",
    "    \n",
    "    # Causes the main thread to wait for the queue to finish processing all the tasks\n",
    "    queue.join()\n",
    "    \n",
    "    print('Took {}'.format(time() - ts))\n",
    "\n",
    "threaded_download()"
   ]
  },
  {
   "cell_type": "markdown",
   "metadata": {},
   "source": [
    "---\n",
    "\n",
    "#### Not really parallel !\n",
    "\n",
    "- Python  has a **Global Interpreter Lock (GIL)**, which makes **one thread to be executed at a time** throughout this process. Therefore, **this code is concurrent but not parallel**. \n",
    "\n",
    "- The reason it is still faster is because the image downloader is an input/output (I/O) bound task. \n",
    "The majority of the time is spent waiting for the network. This is why threading can provide a large speed increase. \n",
    "\n",
    "- **The processor can switch between the threads** whenever one of them is **ready** to do some work."
   ]
  },
  {
   "cell_type": "markdown",
   "metadata": {},
   "source": [
    "\n",
    "\n",
    "- If the program was performing a task that was CPU bound, using the threading module in Python or any other interpreted language with a GIL could actually result in reduced performance. \n",
    "\n",
    "- For CPU bound tasks and truly parallel execution in Python, the multiprocessing module is a better option."
   ]
  },
  {
   "cell_type": "markdown",
   "metadata": {},
   "source": [
    "---\n",
    "\n",
    "### Sum of array elements in parallel"
   ]
  },
  {
   "cell_type": "code",
   "execution_count": 5,
   "metadata": {},
   "outputs": [],
   "source": [
    "\n",
    "n = int(1e6)"
   ]
  },
  {
   "cell_type": "code",
   "execution_count": 9,
   "metadata": {},
   "outputs": [
    {
     "name": "stdout",
     "output_type": "stream",
     "text": [
      "10 --> 0.00011992454528808594 ms\n"
     ]
    }
   ],
   "source": [
    "# Sequencial version\n",
    "from time import time\n",
    "\n",
    "ts = time()\n",
    "s = 0\n",
    "for i in range(5):\n",
    "    s = s + i\n",
    "print(s, '-->', time()-ts,'ms')   "
   ]
  },
  {
   "cell_type": "code",
   "execution_count": 17,
   "metadata": {},
   "outputs": [
    {
     "name": "stdout",
     "output_type": "stream",
     "text": [
      "499999500000 --> 0.1749110221862793 ms\n"
     ]
    }
   ],
   "source": [
    "# multiprocessor version\n",
    "from time import time\n",
    "from multiprocessing.pool import Pool\n",
    "\n",
    "\n",
    "def sum_multi_processes(chunk):\n",
    "    y = 0\n",
    "    for i in chunk:\n",
    "        y = y + i\n",
    "    return(y)\n",
    "\n",
    "chunks = [list(range(i,i + 100)) for i in range(0, n, 100)]\n",
    "\n",
    "ts = time()\n",
    "with Pool(10) as p:\n",
    "     results = p.map(sum_multi_processes, chunks)\n",
    "\n",
    "print(sum(results), '-->', time()-ts,'ms')   "
   ]
  },
  {
   "cell_type": "code",
   "execution_count": 18,
   "metadata": {},
   "outputs": [
    {
     "name": "stdout",
     "output_type": "stream",
     "text": [
      "499999500000 --> 0.3288083076477051 ms\n"
     ]
    }
   ],
   "source": [
    "# Thread version\n",
    "from queue import Queue\n",
    "from threading import Thread\n",
    "from threading import Lock\n",
    "\n",
    "x = 0\n",
    "def sum_chunk(q):\n",
    "    while True:\n",
    "        global x\n",
    "        chunk = q.get()\n",
    "        for i in chunk:\n",
    "            with Lock():  # force synchronization\n",
    "                x = x + i\n",
    "        q.task_done()\n",
    "\n",
    "n = int(1e6)\n",
    "chunks = [list(range(i, i + 100)) for i in range(0, n, 100)]\n",
    "\n",
    "ts = time()\n",
    "q = Queue()\n",
    "num_threads = 10\n",
    "\n",
    "for i in range(num_threads):\n",
    "    worker = Thread(target=sum_chunk, args=(q, ))\n",
    "    worker.setDaemon(True) # this stop the threads when the program quits  \n",
    "    worker.start()         # start the threads\n",
    "\n",
    "for chunk in chunks:\n",
    "    q.put(chunk)\n",
    "\n",
    "q.join()\n",
    "print(x, '-->', time() - ts, 'ms')    "
   ]
  },
  {
   "cell_type": "markdown",
   "metadata": {},
   "source": [
    "### Example: Pi Simultation"
   ]
  },
  {
   "cell_type": "code",
   "execution_count": 22,
   "metadata": {},
   "outputs": [],
   "source": [
    "import numpy as np\n",
    "\n",
    "def monte_carlo_pi(n):\n",
    "    s = 0\n",
    "    for i in range(n):\n",
    "        x = np.random.uniform(0, 1)\n",
    "        y = np.random.uniform(0, 1)\n",
    "        if (x**2 + y**2) < 1:\n",
    "            s += 1\n",
    "    return 4*s/n"
   ]
  },
  {
   "cell_type": "code",
   "execution_count": 23,
   "metadata": {},
   "outputs": [
    {
     "name": "stdout",
     "output_type": "stream",
     "text": [
      "CPU times: user 13.3 s, sys: 0 ns, total: 13.3 s\n",
      "Wall time: 13.3 s\n"
     ]
    }
   ],
   "source": [
    "%%time\n",
    "result = [monte_carlo_pi(int(1e6)) for _ in range(10)]"
   ]
  },
  {
   "cell_type": "code",
   "execution_count": 24,
   "metadata": {},
   "outputs": [
    {
     "data": {
      "text/plain": [
       "array([3.140836, 3.139644, 3.141024, 3.142308, 3.142552, 3.14224 ,\n",
       "       3.141252, 3.141348, 3.142184, 3.14512 ])"
      ]
     },
     "execution_count": 24,
     "metadata": {},
     "output_type": "execute_result"
    }
   ],
   "source": [
    "np.array(result)"
   ]
  },
  {
   "cell_type": "code",
   "execution_count": 25,
   "metadata": {},
   "outputs": [],
   "source": [
    "from multiprocessing.pool import Pool"
   ]
  },
  {
   "cell_type": "code",
   "execution_count": 26,
   "metadata": {},
   "outputs": [
    {
     "name": "stdout",
     "output_type": "stream",
     "text": [
      "CPU times: user 42.9 ms, sys: 24.8 ms, total: 67.7 ms\n",
      "Wall time: 5.27 s\n"
     ]
    }
   ],
   "source": [
    "%%time\n",
    "with Pool(8) as pool:\n",
    "    result = pool.map(monte_carlo_pi, [int(1e6) for _ in range(10)])"
   ]
  },
  {
   "cell_type": "code",
   "execution_count": 27,
   "metadata": {},
   "outputs": [
    {
     "data": {
      "text/plain": [
       "array([3.14078 , 3.14078 , 3.14078 , 3.14078 , 3.14078 , 3.14078 ,\n",
       "       3.14078 , 3.14078 , 3.141616, 3.141616])"
      ]
     },
     "execution_count": 27,
     "metadata": {},
     "output_type": "execute_result"
    }
   ],
   "source": [
    "np.array(result)"
   ]
  }
 ],
 "metadata": {
  "kernelspec": {
   "display_name": "Python 3",
   "language": "python",
   "name": "python3"
  },
  "language_info": {
   "codemirror_mode": {
    "name": "ipython",
    "version": 3
   },
   "file_extension": ".py",
   "mimetype": "text/x-python",
   "name": "python",
   "nbconvert_exporter": "python",
   "pygments_lexer": "ipython3",
   "version": "3.7.1"
  }
 },
 "nbformat": 4,
 "nbformat_minor": 2
}
