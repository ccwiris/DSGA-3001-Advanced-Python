{
 "cells": [
  {
   "cell_type": "code",
   "execution_count": 1,
   "metadata": {},
   "outputs": [],
   "source": [
    "import pandas as pd\n",
    "import numpy as np\n",
    "import re\n",
    "import time\n",
    "import string\n",
    "import warnings\n",
    "import matplotlib.pyplot as plt\n",
    "%matplotlib inline\n",
    "warnings.filterwarnings('ignore')\n",
    "import sklearn \n",
    "from sklearn import *\n",
    "from sklearn.metrics import roc_curve, auc\n",
    "from sklearn.metrics import accuracy_score\n",
    "from sklearn import preprocessing\n",
    "from sklearn.model_selection import train_test_split\n",
    "from sklearn.metrics import roc_curve, auc\n",
    "from sklearn.model_selection import KFold\n",
    "from sklearn import metrics\n",
    "from sklearn.metrics import roc_auc_score\n",
    "from sklearn.ensemble import RandomForestClassifier"
   ]
  },
  {
   "cell_type": "markdown",
   "metadata": {},
   "source": [
    "### Load Data"
   ]
  },
  {
   "cell_type": "code",
   "execution_count": 2,
   "metadata": {},
   "outputs": [],
   "source": [
    "df = pd.read_csv('final_metadata.csv')"
   ]
  },
  {
   "cell_type": "markdown",
   "metadata": {},
   "source": [
    "### Split training and testing data"
   ]
  },
  {
   "cell_type": "code",
   "execution_count": 3,
   "metadata": {},
   "outputs": [
    {
     "name": "stdout",
     "output_type": "stream",
     "text": [
      "Shape of the X_train: (36276, 37)\n",
      "Shape of the Y_test: (9070, 1)\n"
     ]
    }
   ],
   "source": [
    "X = pd.DataFrame()\n",
    "for i in ['runtime', 'budget', 'revenue', 'popularity', 'year', \n",
    "         'Action', 'Adventure', 'Animation', 'Aniplex', 'BROSTA TV',\n",
    "       'Carousel Productions', 'Comedy', 'Crime', 'Documentary', 'Drama',\n",
    "       'Family', 'Fantasy', 'Foreign', 'GoHands', 'History', 'Horror',\n",
    "       'Mardock Scramble Production Committee', 'Music', 'Mystery',\n",
    "       'Odyssey Media', 'Pulser Productions', 'Rogue State', 'Romance',\n",
    "       'Science Fiction', 'Sentai Filmworks', 'TV Movie',\n",
    "       'Telescene Film Group Productions', 'The Cartel', 'Thriller',\n",
    "       'Vision View Entertainment', 'War', 'Western']:\n",
    "    X[i] = df[i]\n",
    "Y = pd.DataFrame(df['Y'])\n",
    "X_train, X_test, y_train, y_test = train_test_split(X, Y, train_size = 0.8)\n",
    "print ('Shape of the X_train:', X_train.shape)\n",
    "print ('Shape of the Y_test:', y_test.shape)"
   ]
  },
  {
   "cell_type": "markdown",
   "metadata": {},
   "source": [
    "### Feature transform"
   ]
  },
  {
   "cell_type": "code",
   "execution_count": 4,
   "metadata": {},
   "outputs": [],
   "source": [
    "from sklearn.preprocessing import StandardScaler"
   ]
  },
  {
   "cell_type": "code",
   "execution_count": 5,
   "metadata": {},
   "outputs": [],
   "source": [
    "S = StandardScaler()\n",
    "X_train = S.fit_transform(X_train)\n",
    "X_test = S.fit_transform(X_test)"
   ]
  },
  {
   "cell_type": "markdown",
   "metadata": {},
   "source": [
    "# Logistic Regression"
   ]
  },
  {
   "cell_type": "code",
   "execution_count": 6,
   "metadata": {},
   "outputs": [],
   "source": [
    "lr = sklearn.linear_model.LogisticRegression(C = 1e30)\n",
    "lr.fit(X_train, y_train)\n",
    "y_prob = lr.predict_proba(X_test)[:,1]\n",
    "y_pred = lr.predict(X_test)"
   ]
  },
  {
   "cell_type": "code",
   "execution_count": 7,
   "metadata": {},
   "outputs": [
    {
     "data": {
      "text/plain": [
       "<matplotlib.legend.Legend at 0x108a6ef90>"
      ]
     },
     "execution_count": 7,
     "metadata": {},
     "output_type": "execute_result"
    },
    {
     "data": {
      "image/png": "[encoded data removed]",
      "text/plain": [
       "<Figure size 432x288 with 1 Axes>"
      ]
     },
     "metadata": {
      "needs_background": "light"
     },
     "output_type": "display_data"
    }
   ],
   "source": [
    "fpr, tpr, thresholds = roc_curve(y_test, y_prob)\n",
    "roc_auc = sklearn.metrics.auc(fpr, tpr)\n",
    "plt.plot(fpr, tpr,label = '(AUC = %0.2f)' % roc_auc)\n",
    "plt.plot([0, 1], [0, 1], 'k--')\n",
    "plt.xlim([0.0, 1.0])\n",
    "plt.ylim([0.0, 1.0])\n",
    "plt.xlabel('FPR')\n",
    "plt.ylabel('TPR')\n",
    "plt.title('ROC')\n",
    "plt.legend(loc=\"lower right\")"
   ]
  },
  {
   "cell_type": "code",
   "execution_count": 8,
   "metadata": {},
   "outputs": [
    {
     "data": {
      "text/plain": [
       "0.7515919899595729"
      ]
     },
     "execution_count": 8,
     "metadata": {},
     "output_type": "execute_result"
    }
   ],
   "source": [
    "auc = roc_auc_score(y_test,y_prob)\n",
    "auc"
   ]
  },
  {
   "cell_type": "markdown",
   "metadata": {},
   "source": [
    "### Pyspark on Logistics Regression\n"
   ]
  },
  {
   "cell_type": "code",
   "execution_count": 9,
   "metadata": {},
   "outputs": [
    {
     "name": "stdout",
     "output_type": "stream",
     "text": [
      "The auc is 0.7109342612368751:\n",
      "run_time: 24.830640 s\n"
     ]
    }
   ],
   "source": [
    "from pyspark import SparkContext\n",
    "from pyspark.sql import SparkSession\n",
    "from operator import add # Required for reduceByKey\n",
    "import re\n",
    "from pyspark.ml.feature import OneHotEncoderEstimator, StringIndexer, VectorAssembler\n",
    "from numpy import array\n",
    "from pyspark.mllib.classification import LogisticRegressionWithLBFGS\n",
    "from time import time\n",
    "from pyspark.mllib.regression import LabeledPoint\n",
    "from pyspark.mllib.evaluation import BinaryClassificationMetrics\n",
    "import time\n",
    "\n",
    "start_time = time.time()\n",
    "sc = SparkContext(master=\"local\", appName=\"lg\")\n",
    "#create RDD\n",
    "text = sc.textFile('final_metadata.csv')\n",
    "\n",
    "#remove header\n",
    "header = text.first() #extract header\n",
    "header1 = sc.parallelize([header])\n",
    "text = text.subtract(header1)  #filter out header\n",
    "\n",
    "#split train and test\n",
    "train, test = text.randomSplit([0.8, 0.2])\n",
    "\n",
    "#mapping function\n",
    "def parse_interaction(line):\n",
    "    row = line.split(\",\")\n",
    "    final_row = row[1:-2]\n",
    "    ll = row[-1]\n",
    "    return LabeledPoint(ll, array([float(i) for i in final_row]))\n",
    "\n",
    "#map\n",
    "train = train.map(parse_interaction)\n",
    "test = test.map(parse_interaction)\n",
    "\n",
    "#logistics regression trainning\n",
    "lm = LogisticRegressionWithLBFGS.train(train)\n",
    "\n",
    "pred_auc = test.map(lambda y: (float(y.label), float(lm.predict(y.features))))\n",
    "metrics = BinaryClassificationMetrics(pred_auc)\n",
    "print('The auc is %s:'% metrics.areaUnderROC)\n",
    "\n",
    "#run time\n",
    "end_time = time.time()\n",
    "print(\"run_time: %f s\" % (end_time - start_time))"
   ]
  },
  {
   "cell_type": "code",
   "execution_count": null,
   "metadata": {},
   "outputs": [],
   "source": []
  }
 ],
 "metadata": {
  "kernelspec": {
   "display_name": "Python 3",
   "language": "python",
   "name": "python3"
  },
  "language_info": {
   "codemirror_mode": {
    "name": "ipython",
    "version": 3
   },
   "file_extension": ".py",
   "mimetype": "text/x-python",
   "name": "python",
   "nbconvert_exporter": "python",
   "pygments_lexer": "ipython3",
   "version": "3.7.4"
  }
 },
 "nbformat": 4,
 "nbformat_minor": 4
}
