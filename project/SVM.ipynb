{
 "cells": [
  {
   "cell_type": "code",
   "execution_count": 8,
   "metadata": {},
   "outputs": [],
   "source": [
    "import pandas as pd\n",
    "import numpy as np\n",
    "import re\n",
    "import time\n",
    "import string\n",
    "import warnings\n",
    "import matplotlib.pyplot as plt\n",
    "%matplotlib inline\n",
    "warnings.filterwarnings('ignore')\n",
    "import sklearn \n",
    "from sklearn import *\n",
    "from sklearn.metrics import roc_curve, auc\n",
    "from sklearn.metrics import accuracy_score\n",
    "from sklearn import preprocessing\n",
    "from sklearn.model_selection import train_test_split\n",
    "from sklearn.metrics import roc_curve, auc\n",
    "from sklearn.model_selection import KFold\n",
    "from sklearn import metrics\n",
    "from sklearn.metrics import roc_auc_score\n",
    "from sklearn.ensemble import RandomForestClassifier"
   ]
  },
  {
   "cell_type": "markdown",
   "metadata": {},
   "source": [
    "## Load Data"
   ]
  },
  {
   "cell_type": "code",
   "execution_count": 9,
   "metadata": {},
   "outputs": [],
   "source": [
    "df = pd.read_csv('final_metadata.csv')"
   ]
  },
  {
   "cell_type": "markdown",
   "metadata": {},
   "source": [
    "### Split training and testing data"
   ]
  },
  {
   "cell_type": "code",
   "execution_count": 10,
   "metadata": {},
   "outputs": [
    {
     "name": "stdout",
     "output_type": "stream",
     "text": [
      "Shape of the X_train: (36276, 37)\n",
      "Shape of the Y_test: (9070, 1)\n"
     ]
    }
   ],
   "source": [
    "X = pd.DataFrame()\n",
    "for i in ['runtime', 'budget', 'revenue', 'popularity', 'year', \n",
    "         'Action', 'Adventure', 'Animation', 'Aniplex', 'BROSTA TV',\n",
    "       'Carousel Productions', 'Comedy', 'Crime', 'Documentary', 'Drama',\n",
    "       'Family', 'Fantasy', 'Foreign', 'GoHands', 'History', 'Horror',\n",
    "       'Mardock Scramble Production Committee', 'Music', 'Mystery',\n",
    "       'Odyssey Media', 'Pulser Productions', 'Rogue State', 'Romance',\n",
    "       'Science Fiction', 'Sentai Filmworks', 'TV Movie',\n",
    "       'Telescene Film Group Productions', 'The Cartel', 'Thriller',\n",
    "       'Vision View Entertainment', 'War', 'Western']:\n",
    "    X[i] = df[i]\n",
    "Y = pd.DataFrame(df['Y'])\n",
    "X_train, X_test, y_train, y_test = train_test_split(X, Y, train_size = 0.8)\n",
    "print ('Shape of the X_train:', X_train.shape)\n",
    "print ('Shape of the Y_test:', y_test.shape)"
   ]
  },
  {
   "cell_type": "markdown",
   "metadata": {},
   "source": [
    "## Feature transform for SVM"
   ]
  },
  {
   "cell_type": "code",
   "execution_count": 11,
   "metadata": {},
   "outputs": [],
   "source": [
    "from sklearn.preprocessing import StandardScaler"
   ]
  },
  {
   "cell_type": "code",
   "execution_count": 12,
   "metadata": {},
   "outputs": [],
   "source": [
    "S = StandardScaler()\n",
    "X_train = S.fit_transform(X_train)\n",
    "X_test = S.fit_transform(X_test)"
   ]
  },
  {
   "cell_type": "markdown",
   "metadata": {},
   "source": [
    "## Logistic Regression"
   ]
  },
  {
   "cell_type": "code",
   "execution_count": 13,
   "metadata": {},
   "outputs": [],
   "source": [
    "lr = sklearn.linear_model.LogisticRegression(C = 1e30)\n",
    "lr.fit(X_train, y_train)\n",
    "y_prob = lr.predict_proba(X_test)[:,1]\n",
    "y_pred = lr.predict(X_test)"
   ]
  },
  {
   "cell_type": "code",
   "execution_count": 16,
   "metadata": {},
   "outputs": [
    {
     "data": {
      "text/plain": [
       "<matplotlib.legend.Legend at 0x1a1b539208>"
      ]
     },
     "execution_count": 16,
     "metadata": {},
     "output_type": "execute_result"
    },
    {
     "data": {
      "image/png": "[encoded data removed]",
      "text/plain": [
       "<Figure size 432x288 with 1 Axes>"
      ]
     },
     "metadata": {
      "needs_background": "light"
     },
     "output_type": "display_data"
    }
   ],
   "source": [
    "fpr, tpr, thresholds = roc_curve(y_test, y_prob)\n",
    "roc_auc = sklearn.metrics.auc(fpr, tpr)\n",
    "plt.plot(fpr, tpr,label = '(AUC = %0.2f)' % roc_auc)\n",
    "plt.plot([0, 1], [0, 1], 'k--')\n",
    "plt.xlim([0.0, 1.0])\n",
    "plt.ylim([0.0, 1.0])\n",
    "plt.xlabel('FPR')\n",
    "plt.ylabel('TPR')\n",
    "plt.title('ROC')\n",
    "plt.legend(loc=\"lower right\")"
   ]
  },
  {
   "cell_type": "code",
   "execution_count": 14,
   "metadata": {},
   "outputs": [
    {
     "data": {
      "text/plain": [
       "0.7442698624803181"
      ]
     },
     "execution_count": 14,
     "metadata": {},
     "output_type": "execute_result"
    }
   ],
   "source": [
    "auc = roc_auc_score(y_test,y_prob)\n",
    "auc"
   ]
  },
  {
   "cell_type": "markdown",
   "metadata": {},
   "source": [
    "## SVM - too slow in python"
   ]
  },
  {
   "cell_type": "code",
   "execution_count": 8,
   "metadata": {},
   "outputs": [],
   "source": [
    "from sklearn import svm"
   ]
  },
  {
   "cell_type": "code",
   "execution_count": 9,
   "metadata": {},
   "outputs": [
    {
     "name": "stdout",
     "output_type": "stream",
     "text": [
      "AUC: 0.6175460623120722\n",
      "run_time: 102.146010 s\n"
     ]
    }
   ],
   "source": [
    "start_time = time.time()\n",
    "\n",
    "clf = svm.SVC(kernel='linear') \n",
    "clf.fit(X_train, y_train)\n",
    "y_pred = clf.predict(X_test)\n",
    "\n",
    "end_time = time.time()\n",
    "print(\"AUC:\", metrics.roc_auc_score(y_test, y_pred))\n",
    "print(\"run_time: %f s\" % (end_time - start_time))"
   ]
  },
  {
   "cell_type": "markdown",
   "metadata": {},
   "source": [
    "## SVM in PySpark"
   ]
  },
  {
   "cell_type": "code",
   "execution_count": 1,
   "metadata": {
    "scrolled": false
   },
   "outputs": [
    {
     "name": "stdout",
     "output_type": "stream",
     "text": [
      "AUC: 0.582696\n",
      "run_time: 28.345416 s\n"
     ]
    }
   ],
   "source": [
    "from pyspark import SparkContext\n",
    "from pyspark.sql import SparkSession\n",
    "from operator import add\n",
    "from pyspark.mllib.classification import SVMWithSGD\n",
    "from pyspark.ml.feature import OneHotEncoderEstimator, StringIndexer, VectorAssembler\n",
    "from numpy import array\n",
    "from time import time\n",
    "from pyspark.mllib.evaluation import BinaryClassificationMetrics\n",
    "from pyspark.mllib.regression import LabeledPoint\n",
    "import time\n",
    "\n",
    "start_time = time.time()\n",
    "sc = SparkContext(master=\"local\", appName=\"svm\")\n",
    "#create RDD\n",
    "text = sc.textFile('final_metadata.csv')\n",
    "\n",
    "#remove header\n",
    "header = text.first() #extract header\n",
    "header1 = sc.parallelize([header])\n",
    "text = text.subtract(header1)  #filter out header\n",
    "\n",
    "#split train and test\n",
    "train, test = text.randomSplit([0.8, 0.2], seed=22)\n",
    "\n",
    "#mapping function\n",
    "def parse_interaction(line):\n",
    "    row = line.split(\",\")\n",
    "    final_row = row[1:-2]\n",
    "    ll = row[-1]\n",
    "    return LabeledPoint(ll, array([float(i) for i in final_row]))\n",
    "\n",
    "#map\n",
    "train = train.map(parse_interaction)\n",
    "test = test.map(parse_interaction)\n",
    "\n",
    "#svm model\n",
    "svm = SVMWithSGD.train(train, iterations=100, step=20.0)\n",
    "\n",
    "pred_auc = test.map(lambda y: (float(y.label), float(svm.predict(y.features))))\n",
    "\n",
    "def evaluate(pred_auc):\n",
    "    metrics = BinaryClassificationMetrics(pred_auc)\n",
    "    print(\"AUC: %f\" % metrics.areaUnderROC)\n",
    "\n",
    "evaluate(pred_auc)\n",
    "\n",
    "#run time\n",
    "end_time = time.time()\n",
    "print(\"run_time: %f s\" % (end_time - start_time))"
   ]
  },
  {
   "cell_type": "markdown",
   "metadata": {},
   "source": [
    "Time speeds up a lot!"
   ]
  }
 ],
 "metadata": {
  "kernelspec": {
   "display_name": "Python 3",
   "language": "python",
   "name": "python3"
  },
  "language_info": {
   "codemirror_mode": {
    "name": "ipython",
    "version": 3
   },
   "file_extension": ".py",
   "mimetype": "text/x-python",
   "name": "python",
   "nbconvert_exporter": "python",
   "pygments_lexer": "ipython3",
   "version": "3.7.1"
  }
 },
 "nbformat": 4,
 "nbformat_minor": 4
}
