{
 "cells": [
  {
   "cell_type": "markdown",
   "metadata": {},
   "source": [
    "# Lab 10: MPI"
   ]
  },
  {
   "cell_type": "markdown",
   "metadata": {},
   "source": [
    "MPI is a standard specification of a message passing interface"
   ]
  },
  {
   "cell_type": "markdown",
   "metadata": {},
   "source": [
    "<img align=\"right\"  src=\"images/mpi1.png\" alt=\"Drawing\" style=\"width: 300px;\"/>\n",
    "\n",
    "<div style=\"text-align: left\"> \n",
    "\n",
    "    SPMD (Single program multiple data):\n",
    "    \n",
    "    - Execution starts in parallel\n",
    "    \n",
    "    - MPI implements SPMD\n",
    "    \n",
    "    -Static parallelism: #processes doesn't change\n",
    "    \n",
    "    \n",
    "    Fork / Join :\n",
    "    \n",
    "    - Execution starts serial\n",
    "    \n",
    "    - New processes created at fork\n",
    "    \n",
    "    - Used in pthreads\n",
    "    \n",
    "    - Dynamic parallelism\n",
    "    \n",
    "    \n",
    "</div>\n"
   ]
  },
  {
   "cell_type": "markdown",
   "metadata": {},
   "source": [
    "### MPI - system components\n",
    "\n",
    "<img  src=\"images/mpi2.png\" alt=\"Drawing\" style=\"width: 600px;\"/>\n",
    "\n",
    "- Node: A single host on network\n",
    "\n",
    "- Rank: Process executing the MPI program"
   ]
  },
  {
   "cell_type": "markdown",
   "metadata": {},
   "source": [
    "### MPI - programmer view\n",
    "\n",
    "<img  src=\"images/mpi3.png\" alt=\"Drawing\" style=\"width: 600px;\"/>\n",
    "\n",
    "- Nodes are transparent to the programmer, only ranks matter\n",
    "\n",
    "- Communicator: Group of ranks that can communicate\n",
    "\n",
    "- Comm world: Communicator that includes all the ranks"
   ]
  },
  {
   "cell_type": "markdown",
   "metadata": {},
   "source": [
    "^ Images source: HPML lectures"
   ]
  },
  {
   "cell_type": "markdown",
   "metadata": {
    "slideshow": {
     "slide_type": "subslide"
    }
   },
   "source": [
    "### Point-to-Point Communication\n",
    "\n",
    "- send() : Comm.send(self, obj, int dest, int tag=0)\n",
    "\n",
    "\n",
    "    - obj: object to be sent\n",
    "    - dest: Rank of destination process\n",
    "    - Tag: Used to differentiate among messages\n",
    "    \n",
    "    \n",
    "- recv() : Comm.recv(self, buf=None, int source=ANY_SOURCE, int tag=ANY_TAG, Status status=None)\n",
    "\n",
    "    \n",
    "    - buf: Optional buffer for the data to be received\n",
    "    - source: Rank of source process\n",
    "    - Tag: Used to differentiate among messages\n",
    "    - status: information about the data received, e.g. rank of source, tag"
   ]
  },
  {
   "cell_type": "markdown",
   "metadata": {},
   "source": [
    "- comm.Get_rank(): Returns the rank of current process\n",
    "\n",
    "- comm.Get_size(): Returns the total number of processes"
   ]
  },
  {
   "cell_type": "markdown",
   "metadata": {},
   "source": [
    "#### Python objects (pickle under the hood)\n",
    "\n",
    "Use lowercase send() and recv() for python objects"
   ]
  },
  {
   "cell_type": "code",
   "execution_count": null,
   "metadata": {},
   "outputs": [],
   "source": [
    "%%writefile ex1.py\n",
    "\n",
    "from mpi4py import MPI\n",
    "\n",
    "comm = MPI.COMM_WORLD\n",
    "rank = comm.Get_rank()\n",
    "\n",
    "if rank == 0:\n",
    "    data = {'a': 7, 'b': 3.14}\n",
    "    comm.send(data, dest=1, tag=11)\n",
    "elif rank == 1:\n",
    "    data = comm.recv(source=0, tag=11)\n",
    "    \n",
    "    print('Message {} received at rank{}:'.format(data, rank))\n"
   ]
  },
  {
   "cell_type": "code",
   "execution_count": null,
   "metadata": {},
   "outputs": [],
   "source": [
    "!mpiexec -n 2 python ex1.py"
   ]
  },
  {
   "cell_type": "markdown",
   "metadata": {},
   "source": [
    "#### Numpy arrays\n",
    "\n",
    "Use uppercase Send() and Recv()\n",
    "\n",
    "Buffer argument must be specified as [data, TYPE (MPI.DOUBLE)]"
   ]
  },
  {
   "cell_type": "code",
   "execution_count": null,
   "metadata": {},
   "outputs": [],
   "source": [
    "%%writefile ex2.py\n",
    "\n",
    "from mpi4py import MPI\n",
    "import numpy\n",
    "\n",
    "comm = MPI.COMM_WORLD\n",
    "rank = comm.Get_rank()\n",
    "\n",
    "# passing MPI datatypes explicitly\n",
    "if rank == 0:\n",
    "    data = numpy.arange(1000, dtype='i')\n",
    "    comm.Send([data, MPI.INT], dest=1, tag=77)\n",
    "elif rank == 1:\n",
    "    data = numpy.empty(1000, dtype='i')\n",
    "    comm.Recv([data, MPI.INT], source=0, tag=77)\n",
    "    \n",
    "    print('Message {} received at rank{}:'.format(data, rank))\n",
    "\n",
    "# automatic MPI datatype discovery\n",
    "if rank == 0:\n",
    "    data = numpy.arange(100, dtype=numpy.float64)\n",
    "    comm.Send(data, dest=1, tag=13)\n",
    "elif rank == 1:\n",
    "    data = numpy.empty(100, dtype=numpy.float64)\n",
    "    comm.Recv(data, source=0, tag=13)\n",
    "    \n",
    "    print('Message {} received at rank{}:'.format(data, rank))"
   ]
  },
  {
   "cell_type": "code",
   "execution_count": null,
   "metadata": {
    "scrolled": true
   },
   "outputs": [],
   "source": [
    "!mpiexec -n 2 python ex2.py"
   ]
  },
  {
   "cell_type": "code",
   "execution_count": null,
   "metadata": {},
   "outputs": [],
   "source": [
    "%%writefile ex3.py\n",
    "\n",
    "from mpi4py import MPI\n",
    "\n",
    "comm = MPI.COMM_WORLD\n",
    "\n",
    "my_rank = comm.Get_rank()\n",
    "p = comm.Get_size()\n",
    "\n",
    "if my_rank != 0:\n",
    "    message = 'Hello from the other rank {}'.format(my_rank)\n",
    "    comm.send(message, dest = 0)\n",
    "\n",
    "else:\n",
    "    for pid in range(1,p):\n",
    "        message = comm.recv(source = pid)\n",
    "        print('Process {} receives message: {}'.format(my_rank, message))"
   ]
  },
  {
   "cell_type": "code",
   "execution_count": null,
   "metadata": {},
   "outputs": [],
   "source": [
    "!mpiexec -n 4 python ex3.py"
   ]
  },
  {
   "cell_type": "markdown",
   "metadata": {},
   "source": [
    "### Non-blocking communication:\n",
    "\n",
    "Isend(), Irecv() are non blocking:\n",
    "    \n",
    "    Process can continue execution and wait later"
   ]
  },
  {
   "cell_type": "code",
   "execution_count": null,
   "metadata": {},
   "outputs": [],
   "source": [
    "%%writefile ex4.py\n",
    "\n",
    "from mpi4py import MPI\n",
    "import time\n",
    "\n",
    "comm = MPI.COMM_WORLD\n",
    "rank = comm.Get_rank()\n",
    "\n",
    "if rank == 0:\n",
    "    data = {'a': 7, 'b': 3.14}\n",
    "    req = comm.isend(data, dest=1, tag=11)\n",
    "    req.wait()\n",
    "    print('Process {} sent {}'.format(rank, data))\n",
    "    \n",
    "elif rank == 1:\n",
    "    req = comm.irecv(source=0, tag=11)\n",
    "    # do something\n",
    "    time.sleep(2)\n",
    "    \n",
    "    data = req.wait()\n",
    "    print('Process {} received {}'.format(rank, data))\n"
   ]
  },
  {
   "cell_type": "code",
   "execution_count": null,
   "metadata": {},
   "outputs": [],
   "source": [
    "!mpiexec -n 2 python ex4.py"
   ]
  },
  {
   "cell_type": "markdown",
   "metadata": {},
   "source": [
    "### Performance gain"
   ]
  },
  {
   "cell_type": "code",
   "execution_count": null,
   "metadata": {},
   "outputs": [],
   "source": [
    "%%writefile ex5.py\n",
    "\n",
    "from mpi4py import MPI\n",
    "import timeit\n",
    "\n",
    "comm = MPI.COMM_WORLD\n",
    "rank = comm.Get_rank()\n",
    "\n",
    "N = 10000000\n",
    "\n",
    "def parSum():\n",
    "    if rank == 0: \n",
    "        s = sum(range(N//2))\n",
    "        comm.send(s,dest=2)\n",
    "        \n",
    "    elif rank == 1:\n",
    "        s = sum(range(N//2+1,N))\n",
    "        comm.send(s,dest=2)\n",
    "        \n",
    "    elif rank == 2:\n",
    "        s1 = comm.recv(source=0)\n",
    "        s2 = comm.recv(source=1)\n",
    "        print (s1+s2)\n",
    "\n",
    "\n",
    "def serSum():\n",
    "    s = sum(range(N))\n",
    "\n",
    "if rank == 0:\n",
    "    \n",
    "    tp = timeit.Timer(\"parSum()\",\"from __main__ import parSum\")\n",
    "    print ('Parallel time: {:.4f} sec'.format(tp.timeit(number=10))) \n",
    "\n",
    "    ts = timeit.Timer(\"serSum()\",\"from __main__ import serSum\")\n",
    "    print ('Serial time: {:.4f} sec'.format(ts.timeit(number=10))) \n",
    "\n"
   ]
  },
  {
   "cell_type": "code",
   "execution_count": null,
   "metadata": {},
   "outputs": [],
   "source": [
    "!mpiexec -n 3 python ex5.py"
   ]
  },
  {
   "cell_type": "code",
   "execution_count": null,
   "metadata": {},
   "outputs": [],
   "source": []
  }
 ],
 "metadata": {
  "kernelspec": {
   "display_name": "Python 3",
   "language": "python",
   "name": "python3"
  },
  "language_info": {
   "codemirror_mode": {
    "name": "ipython",
    "version": 3
   },
   "file_extension": ".py",
   "mimetype": "text/x-python",
   "name": "python",
   "nbconvert_exporter": "python",
   "pygments_lexer": "ipython3",
   "version": "3.7.1"
  }
 },
 "nbformat": 4,
 "nbformat_minor": 4
}
