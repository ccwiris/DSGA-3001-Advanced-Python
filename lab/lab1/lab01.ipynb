{
 "cells": [
  {
   "cell_type": "markdown",
   "metadata": {
    "extensions": {
     "jupyter_dashboards": {
      "version": 1,
      "views": {
       "grid_default": {
        "col": 0,
        "height": 5,
        "hidden": false,
        "row": 0,
        "width": 12
       },
       "report_default": {
        "hidden": false
       }
      }
     }
    },
    "slideshow": {
     "slide_type": "slide"
    }
   },
   "source": [
    "## About Me:\n",
    "```text\n",
    "Manikanta Srikar Yellapragada\n",
    "msy290@nyu.edu\n",
    "\n",
    "```"
   ]
  },
  {
   "cell_type": "markdown",
   "metadata": {
    "extensions": {
     "jupyter_dashboards": {
      "version": 1,
      "views": {
       "grid_default": {
        "col": 0,
        "height": 4,
        "hidden": false,
        "row": 5,
        "width": 12
       },
       "report_default": {
        "hidden": false
       }
      }
     }
    },
    "slideshow": {
     "slide_type": "slide"
    }
   },
   "source": [
    "## 1. Shell Script: Producing Reuseable Commands "
   ]
  },
  {
   "cell_type": "markdown",
   "metadata": {
    "slideshow": {
     "slide_type": "slide"
    }
   },
   "source": [
    "- `flightdelays.csv` - data set containing the arrival and departure details of all commercial flights in the US from 2007 \n",
    "- Check `flightdelays_with_header.csv` for headers\n",
    "    1. Column 15 - Departure delay\n",
    "    2. Column 17- Destination airport"
   ]
  },
  {
   "cell_type": "markdown",
   "metadata": {
    "slideshow": {
     "slide_type": "slide"
    }
   },
   "source": [
    "### e.g 0. parse a csv file (process_data.sh)\n",
    "```text\n",
    "#!/usr/bin/env bash \n",
    "# Tells OS that the script is in bash\n",
    "\n",
    "echo \"Data Processing\"\n",
    "# To store the output of a command as a variable in bash:\n",
    "# var=$(command)\n",
    "\n",
    "echo -e \"The name of the file is:\" $1 \"\\n\"\n",
    "\n",
    "lines=$(wc -l < $1)\n",
    "echo -e \"The file has\" $lines \"lines\\n\"\n",
    "\n",
    "colnames=$(head -n 1 < $1)\n",
    "echo \"Column names are: \"\n",
    "echo $colnames\n",
    "```"
   ]
  },
  {
   "cell_type": "code",
   "execution_count": null,
   "metadata": {
    "slideshow": {
     "slide_type": "slide"
    }
   },
   "outputs": [],
   "source": [
    "#To run:\n",
    "!bash process_data.sh flightdelays_with_header.csv "
   ]
  },
  {
   "cell_type": "markdown",
   "metadata": {
    "slideshow": {
     "slide_type": "slide"
    }
   },
   "source": [
    "### e.g 1. Calculate minimum, maximum delay in departure (delay.sh)\n",
    "\n",
    "```text\n",
    "#!/usr/bin/env bash \n",
    "\n",
    "echo -n \"Min delay: \"\n",
    "cut -d ',' -f 5 $1|sort -n|head -1\n",
    "\n",
    "echo -n \"Max delay: \"\n",
    "cut -d ',' -f 5 $1|sort -n|tail -1\n",
    "\n",
    "```"
   ]
  },
  {
   "cell_type": "code",
   "execution_count": 1,
   "metadata": {},
   "outputs": [
    {
     "name": "stdout",
     "output_type": "stream",
     "text": [
      "Min delay: 53\r\n",
      "Max delay: 2355\r\n"
     ]
    }
   ],
   "source": [
    "#To run:\n",
    "!bash delay.sh flightdelays.csv"
   ]
  },
  {
   "cell_type": "markdown",
   "metadata": {
    "extensions": {
     "jupyter_dashboards": {
      "version": 1,
      "views": {
       "grid_default": {
        "col": 0,
        "height": 11,
        "hidden": false,
        "row": 9,
        "width": 12
       },
       "report_default": {
        "hidden": false
       }
      }
     }
    },
    "slideshow": {
     "slide_type": "slide"
    }
   },
   "source": [
    "### e.g 2. Top 3 destination airports (by the number of arriving planes), unique airports (demoscript.sh)\n",
    "```text\n",
    "#!/usr/bin/env bash\n",
    "\n",
    "echo \"The top 3 airports:\"\n",
    "cut -d ',' -f 18 $1|sort |uniq -c |sort -n |tail -3\n",
    "# uniq -c \n",
    "# Precede each output line with the count of the number \n",
    "# of times the line occurred in the input,\n",
    "# followed by a single space\n",
    "\n",
    "echo \"The number of unique airports:\"\n",
    "cut -d ',' -f 18 $1|sort |uniq |wc -l\n",
    "```"
   ]
  },
  {
   "cell_type": "code",
   "execution_count": null,
   "metadata": {
    "extensions": {
     "jupyter_dashboards": {
      "version": 1,
      "views": {
       "grid_default": {
        "col": 0,
        "height": 5,
        "hidden": false,
        "row": 20,
        "width": 12
       },
       "report_default": {
        "hidden": false
       }
      }
     }
    },
    "slideshow": {
     "slide_type": "slide"
    }
   },
   "outputs": [],
   "source": [
    "#To run:\n",
    "!bash demoscript.sh flightdelays.csv"
   ]
  },
  {
   "cell_type": "markdown",
   "metadata": {
    "slideshow": {
     "slide_type": "slide"
    }
   },
   "source": [
    "### e.g 3. executing a python program with argments\n",
    "```text\n",
    "#!/bin/bash\n",
    "python greeting_arg.py -n $1 -g $2\n",
    "```"
   ]
  },
  {
   "cell_type": "code",
   "execution_count": null,
   "metadata": {
    "slideshow": {
     "slide_type": "-"
    }
   },
   "outputs": [],
   "source": [
    "#To run:\n",
    "!bash python_shell.sh Alice Hello"
   ]
  },
  {
   "cell_type": "markdown",
   "metadata": {
    "extensions": {
     "jupyter_dashboards": {
      "version": 1,
      "views": {
       "grid_default": {
        "col": 0,
        "height": 9,
        "hidden": false,
        "row": 37,
        "width": 12
       },
       "report_default": {
        "hidden": false
       }
      }
     }
    },
    "slideshow": {
     "slide_type": "slide"
    }
   },
   "source": [
    "### e.g 4. executing program on a set of file (do-stats.sh)\n",
    "```text\n",
    "#!/usr/bin/env bash\n",
    "for datafile in \"$@\" # $@ in refers to all of a shell script's command-line arguments. $1 , $2 , etc.,\n",
    "                     # Place variables in quotes if the values might have spaces in them\n",
    "do\n",
    "    echo $datafile\n",
    "    bash goostats $datafile stats-$datafile\n",
    "done\n",
    "```"
   ]
  },
  {
   "cell_type": "code",
   "execution_count": null,
   "metadata": {
    "extensions": {
     "jupyter_dashboards": {
      "version": 1,
      "views": {
       "grid_default": {
        "col": 0,
        "height": 5,
        "hidden": false,
        "row": 46,
        "width": 12
       },
       "report_default": {
        "hidden": false
       }
      }
     }
    },
    "slideshow": {
     "slide_type": "slide"
    }
   },
   "outputs": [],
   "source": [
    "#To run:\n",
    "!bash do-stats.sh NENE*[AB].txt"
   ]
  },
  {
   "cell_type": "markdown",
   "metadata": {
    "extensions": {
     "jupyter_dashboards": {
      "version": 1,
      "views": {
       "grid_default": {
        "col": 0,
        "height": 4,
        "hidden": false,
        "row": 60,
        "width": 12
       },
       "report_default": {
        "hidden": false
       }
      }
     }
    },
    "slideshow": {
     "slide_type": "slide"
    }
   },
   "source": [
    "## 2. Useful Shell Commands in Scrubbing Data"
   ]
  },
  {
   "cell_type": "markdown",
   "metadata": {
    "extensions": {
     "jupyter_dashboards": {
      "version": 1,
      "views": {
       "grid_default": {
        "col": 0,
        "height": 4,
        "hidden": false,
        "row": 64,
        "width": 12
       },
       "report_default": {
        "hidden": false
       }
      }
     }
    },
    "slideshow": {
     "slide_type": "slide"
    }
   },
   "source": [
    "### Get part of the file: head, sed, tail\n"
   ]
  },
  {
   "cell_type": "code",
   "execution_count": null,
   "metadata": {
    "extensions": {
     "jupyter_dashboards": {
      "version": 1,
      "views": {
       "grid_default": {
        "col": 0,
        "height": 14,
        "hidden": false,
        "row": 68,
        "width": 12
       },
       "report_default": {
        "hidden": false
       }
      }
     }
    },
    "slideshow": {
     "slide_type": "fragment"
    }
   },
   "outputs": [],
   "source": [
    "!seq -f \"Line %g\" 10 | tee lines\n",
    "# tee: copies standard input to standard output"
   ]
  },
  {
   "cell_type": "code",
   "execution_count": null,
   "metadata": {
    "slideshow": {
     "slide_type": "slide"
    }
   },
   "outputs": [],
   "source": [
    "!head -n 3 lines "
   ]
  },
  {
   "cell_type": "code",
   "execution_count": null,
   "metadata": {
    "slideshow": {
     "slide_type": "fragment"
    }
   },
   "outputs": [],
   "source": [
    "!sed '4,10d' lines \n",
    "# sed 'm,nd' file"
   ]
  },
  {
   "cell_type": "code",
   "execution_count": null,
   "metadata": {
    "slideshow": {
     "slide_type": "fragment"
    }
   },
   "outputs": [],
   "source": [
    "!tail -n 3 lines"
   ]
  },
  {
   "cell_type": "markdown",
   "metadata": {
    "extensions": {
     "jupyter_dashboards": {
      "version": 1,
      "views": {
       "grid_default": {
        "col": 0,
        "height": 4,
        "hidden": false,
        "row": 82,
        "width": 12
       },
       "report_default": {
        "hidden": false
       }
      }
     }
    },
    "slideshow": {
     "slide_type": "slide"
    }
   },
   "source": [
    "### Get part of file using pattern matching (grep)"
   ]
  },
  {
   "cell_type": "code",
   "execution_count": null,
   "metadata": {
    "extensions": {
     "jupyter_dashboards": {
      "version": 1,
      "views": {
       "grid_default": {
        "col": 0,
        "height": 11,
        "hidden": false,
        "row": 86,
        "width": 12
       },
       "report_default": {
        "hidden": false
       }
      }
     }
    },
    "scrolled": true,
    "slideshow": {
     "slide_type": "slide"
    }
   },
   "outputs": [],
   "source": [
    "!grep -i chapter alice.txt # case insensitive\n",
    "\n",
    "!echo\n",
    "!grep -E '^CHAPTER .* The' alice.txt \n",
    "# regular expression"
   ]
  },
  {
   "cell_type": "markdown",
   "metadata": {
    "extensions": {
     "jupyter_dashboards": {
      "version": 1,
      "views": {
       "grid_default": {
        "col": 0,
        "height": 4,
        "hidden": false,
        "row": 97,
        "width": 12
       },
       "report_default": {
        "hidden": false
       }
      }
     }
    },
    "slideshow": {
     "slide_type": "slide"
    }
   },
   "source": [
    "### Replacing and Deleting Values: tr"
   ]
  },
  {
   "cell_type": "code",
   "execution_count": null,
   "metadata": {
    "extensions": {
     "jupyter_dashboards": {
      "version": 1,
      "views": {
       "grid_default": {
        "col": 0,
        "height": 4,
        "hidden": false,
        "row": 105,
        "width": 12
       },
       "report_default": {
        "hidden": false
       }
      }
     }
    },
    "slideshow": {
     "slide_type": "slide"
    }
   },
   "outputs": [],
   "source": [
    "!echo 'hello world!' | tr ' ' '_'\n",
    "\n",
    "!echo 'hello world!' | tr ' !' '_?'\n",
    "\n",
    "!echo 'hello world!' | tr '[a-z]' '[A-Z]'"
   ]
  },
  {
   "cell_type": "markdown",
   "metadata": {
    "extensions": {
     "jupyter_dashboards": {
      "version": 1,
      "views": {
       "grid_default": {
        "col": 0,
        "height": 4,
        "hidden": false,
        "row": 109,
        "width": 12
       },
       "report_default": {
        "hidden": false
       }
      }
     }
    },
    "slideshow": {
     "slide_type": "slide"
    }
   },
   "source": [
    "## 3. Numpy and Pandas Review "
   ]
  },
  {
   "cell_type": "code",
   "execution_count": null,
   "metadata": {
    "extensions": {
     "jupyter_dashboards": {
      "version": 1,
      "views": {
       "grid_default": {
        "hidden": true
       },
       "report_default": {
        "hidden": true
       }
      }
     }
    },
    "slideshow": {
     "slide_type": "slide"
    }
   },
   "outputs": [],
   "source": [
    "import numpy as np\n",
    "import pandas as pd"
   ]
  },
  {
   "cell_type": "code",
   "execution_count": null,
   "metadata": {
    "extensions": {
     "jupyter_dashboards": {
      "version": 1,
      "views": {
       "grid_default": {
        "col": 0,
        "height": 5,
        "hidden": false,
        "row": 113,
        "width": 12
       },
       "report_default": {
        "hidden": false
       }
      }
     }
    },
    "slideshow": {
     "slide_type": "slide"
    }
   },
   "outputs": [],
   "source": [
    "a = np.array([[1,2,3],[4,5,6]])\n",
    "#a tuple of integers indicating the shape of the array \n",
    "# in each dimension\n",
    "print('Shape of the array:', a.shape) \n",
    "#the total number of elements of the array\n",
    "print('Total number of elements:', a.size) \n",
    "# an object describing the type of the elements in the array\n",
    "print('Dtype:',a.dtype) \n",
    "print('Size in bytes:',a.itemsize) \n",
    "#the size in bytes of each element of the array\n",
    "print('Buffer:',a.data) \n",
    "#buffer pointing to the start of array"
   ]
  },
  {
   "cell_type": "code",
   "execution_count": null,
   "metadata": {
    "extensions": {
     "jupyter_dashboards": {
      "version": 1,
      "views": {
       "grid_default": {
        "col": 0,
        "height": 10,
        "hidden": false,
        "row": 118,
        "width": 12
       },
       "report_default": {
        "hidden": false
       }
      }
     }
    },
    "slideshow": {
     "slide_type": "slide"
    }
   },
   "outputs": [],
   "source": [
    "print(np.ones((3, 3))) # Create an array of all zeros\n",
    "print(np.zeros((3, 3))) # Create an array of all ones\n",
    "print(np.full((2,2), 7)) #Create a constant array\n",
    "print(np.random.rand(3, 3)) # Create an array filled with random values"
   ]
  },
  {
   "cell_type": "code",
   "execution_count": null,
   "metadata": {
    "extensions": {
     "jupyter_dashboards": {
      "version": 1,
      "views": {
       "grid_default": {
        "col": 0,
        "height": 4,
        "hidden": false,
        "row": 128,
        "width": 12
       },
       "report_default": {
        "hidden": false
       }
      }
     }
    },
    "slideshow": {
     "slide_type": "slide"
    }
   },
   "outputs": [],
   "source": [
    "#Array indexing:\n",
    "a = np.array([[1, 2, 3], [4, 5, 6]])\n",
    "print(a[:2, 1:],'\\n')\n",
    "print(a[0, 1])"
   ]
  },
  {
   "cell_type": "code",
   "execution_count": null,
   "metadata": {
    "extensions": {
     "jupyter_dashboards": {
      "version": 1,
      "views": {
       "grid_default": {
        "col": 0,
        "height": 4,
        "hidden": false,
        "row": 132,
        "width": 12
       },
       "report_default": {
        "hidden": false
       }
      }
     }
    },
    "slideshow": {
     "slide_type": "slide"
    }
   },
   "outputs": [],
   "source": [
    "x = np.arange(4).reshape((2,2))\n",
    "print(np.transpose(x)) #transposes matrix"
   ]
  },
  {
   "cell_type": "code",
   "execution_count": null,
   "metadata": {
    "extensions": {
     "jupyter_dashboards": {
      "version": 1,
      "views": {
       "grid_default": {
        "col": 0,
        "height": 4,
        "hidden": false,
        "row": 136,
        "width": 12
       },
       "report_default": {
        "hidden": false
       }
      }
     }
    },
    "slideshow": {
     "slide_type": "slide"
    }
   },
   "outputs": [],
   "source": [
    "#Assignment operation\n",
    "a = np.arange(12)\n",
    "b = a\n",
    "a[1] =5\n",
    "print('b:',b)\n",
    "#Creates a copy of the array\n",
    "c = np.copy(b)\n",
    "b[1] = -2;\n",
    "print('b:',b)\n",
    "print('c:',c)"
   ]
  },
  {
   "cell_type": "code",
   "execution_count": null,
   "metadata": {
    "extensions": {
     "jupyter_dashboards": {
      "version": 1,
      "views": {
       "grid_default": {
        "col": 0,
        "height": 5,
        "hidden": false,
        "row": 140,
        "width": 12
       },
       "report_default": {
        "hidden": false
       }
      }
     }
    },
    "slideshow": {
     "slide_type": "slide"
    }
   },
   "outputs": [],
   "source": [
    "index = ['a','b','c','d','e']\n",
    "series = pd.Series(np.random.randint(0,10,5), index=index) \n",
    "# One-dimensional ndarray with axis labels \n",
    "# (including time series)\n",
    "print(series)"
   ]
  },
  {
   "cell_type": "code",
   "execution_count": null,
   "metadata": {
    "extensions": {
     "jupyter_dashboards": {
      "version": 1,
      "views": {
       "grid_default": {
        "col": 0,
        "height": 6,
        "hidden": false,
        "row": 145,
        "width": 12
       },
       "report_default": {
        "hidden": false
       }
      }
     }
    },
    "slideshow": {
     "slide_type": "slide"
    }
   },
   "outputs": [],
   "source": [
    "print(series[['a', 'c']],'\\n') #how to access\n",
    "#Slicing\n",
    "print(series['b':'e'])"
   ]
  },
  {
   "cell_type": "code",
   "execution_count": null,
   "metadata": {},
   "outputs": [],
   "source": [
    "data = [['tom', 10], ['nick', 15], ['juli', 14]] \n",
    "df = pd.DataFrame(data, columns = ['Name', 'Age'])\n",
    "print(df)"
   ]
  },
  {
   "cell_type": "markdown",
   "metadata": {
    "extensions": {
     "jupyter_dashboards": {
      "version": 1,
      "views": {
       "grid_default": {
        "col": 0,
        "height": 8,
        "hidden": false,
        "row": 162,
        "width": 12
       },
       "report_default": {
        "hidden": false
       }
      }
     }
    },
    "slideshow": {
     "slide_type": "slide"
    }
   },
   "source": [
    "### References:\n",
    "[Introduction to shell script](https://data36.com/command-line-data-science-introduction-to-bash/)\n",
    "\n",
    "[Shebang for shell](https://scriptingosx.com/2017/10/on-the-shebang/)\n",
    "\n",
    "[More about scrubbing data o shell](https://www.datascienceatthecommandline.com/chapter-5-scrubbing-data.html)\n",
    "\n",
    "[Bash for pipelines](https://towardsdatascience.com/using-bash-for-data-pipelines-cf05af6ded6f)\n",
    "\n",
    "[More about scripts](https://www.macs.hw.ac.uk/~hwloidl/Courses/LinuxIntro/x961.html)\n",
    "[regular expression](https://en.wikipedia.org/wiki/Regular_expression)\n",
    "\n",
    "[Numpy tutorial](https://docs.scipy.org/doc/numpy/user/quickstart.html)"
   ]
  }
 ],
 "metadata": {
  "celltoolbar": "Slideshow",
  "extensions": {
   "jupyter_dashboards": {
    "activeView": "grid_default",
    "version": 1,
    "views": {
     "grid_default": {
      "cellMargin": 10,
      "defaultCellHeight": 20,
      "maxColumns": 12,
      "name": "grid",
      "type": "grid"
     },
     "report_default": {
      "name": "report",
      "type": "report"
     }
    }
   }
  },
  "kernelspec": {
   "display_name": "Python 3",
   "language": "python",
   "name": "python3"
  },
  "language_info": {
   "codemirror_mode": {
    "name": "ipython",
    "version": 3
   },
   "file_extension": ".py",
   "mimetype": "text/x-python",
   "name": "python",
   "nbconvert_exporter": "python",
   "pygments_lexer": "ipython3",
   "version": "3.7.1"
  }
 },
 "nbformat": 4,
 "nbformat_minor": 2
}
