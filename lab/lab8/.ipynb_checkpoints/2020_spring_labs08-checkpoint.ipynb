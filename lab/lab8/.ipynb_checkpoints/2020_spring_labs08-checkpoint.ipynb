{
 "cells": [
  {
   "cell_type": "markdown",
   "metadata": {
    "slideshow": {
     "slide_type": "slide"
    }
   },
   "source": [
    "## Lab 8: Optimization\n",
    "\n",
    "The basic components\n",
    "\n",
    "- The objective function (also called the 'cost' function)\n"
   ]
  },
  {
   "cell_type": "code",
   "execution_count": null,
   "metadata": {
    "slideshow": {
     "slide_type": "slide"
    }
   },
   "outputs": [],
   "source": [
    "import numpy as np\n",
    "objective = np.poly1d([1.3, 4.0, 0.6])\n",
    "print(objective)"
   ]
  },
  {
   "cell_type": "markdown",
   "metadata": {
    "slideshow": {
     "slide_type": "slide"
    }
   },
   "source": [
    "- The optimizer\n"
   ]
  },
  {
   "cell_type": "code",
   "execution_count": null,
   "metadata": {
    "slideshow": {
     "slide_type": "fragment"
    }
   },
   "outputs": [],
   "source": [
    "import scipy.optimize as opt\n",
    "x_ = opt.fmin(objective, [3])\n",
    "print(\"solution: x={}\".format(x_))\n"
   ]
  },
  {
   "cell_type": "code",
   "execution_count": null,
   "metadata": {
    "slideshow": {
     "slide_type": "slide"
    }
   },
   "outputs": [],
   "source": [
    "import matplotlib.pyplot as plt\n",
    "\n",
    "x = np.linspace(-4,1,101)\n",
    "plt.plot(x, objective(x))\n",
    "plt.plot(x_, objective(x_), 'ro')\n",
    "plt.show()"
   ]
  },
  {
   "cell_type": "markdown",
   "metadata": {
    "slideshow": {
     "slide_type": "slide"
    }
   },
   "source": [
    "- With bounds"
   ]
  },
  {
   "cell_type": "code",
   "execution_count": null,
   "metadata": {
    "slideshow": {
     "slide_type": "slide"
    }
   },
   "outputs": [],
   "source": [
    "f = lambda x : x ** 3 + x ** 2 - 12 * x - 1\n",
    "x = np.linspace(- 5, 5, 1000)\n",
    "\n",
    "plt.plot(x, f(x))\n",
    "\n",
    "result = opt.minimize_scalar(f, method=\"bounded\", bounds=[0, 4])\n",
    "\n",
    "f_min = f(result.x)\n",
    "plt.plot(result.x, f_min,'ro')\n",
    "plt.show()"
   ]
  },
  {
   "cell_type": "markdown",
   "metadata": {
    "slideshow": {
     "slide_type": "slide"
    }
   },
   "source": [
    "### Optimization with constraints\n",
    "\n",
    "min $x_1x_4(x_1+x_2+x_3)+x_3$\n",
    "    \n",
    "such that $x_1 x_2 x_3 x_4 \\geq 25$  \n",
    "\n",
    "$x_1^2 + x_2^2 + x_3^2 + x_4^2 = 40$\n",
    "\n",
    "$1 \\leq x_1, x_2, x_3, x_4 \\leq 5$"
   ]
  },
  {
   "cell_type": "code",
   "execution_count": null,
   "metadata": {
    "slideshow": {
     "slide_type": "slide"
    }
   },
   "outputs": [],
   "source": [
    "def objective(x):\n",
    "    x1 = x[0]\n",
    "    x2 = x[1]\n",
    "    x3 = x[2]\n",
    "    x4 = x[3]\n",
    "    return x1*x4*(x1+x2+x3) + x3\n",
    "\n",
    "def constraint1(x):\n",
    "    return x[0]*x[1]*x[2]*x[3] - 25\n",
    "\n",
    "def constraint2(x):\n",
    "    return sum(p**2 for p in x) - 40"
   ]
  },
  {
   "cell_type": "code",
   "execution_count": null,
   "metadata": {
    "slideshow": {
     "slide_type": "slide"
    }
   },
   "outputs": [],
   "source": [
    "x0 = [2,4,4,2]\n",
    "print(objective(x0))\n"
   ]
  },
  {
   "cell_type": "code",
   "execution_count": null,
   "metadata": {
    "slideshow": {
     "slide_type": "slide"
    }
   },
   "outputs": [],
   "source": [
    "b = (1,5)\n",
    "bounds = [b,b,b,b]\n",
    "con1 = {'type':'ineq','fun':constraint1}\n",
    "con2 = {'type':'eq','fun':constraint2}\n",
    "\n",
    "cons = [con1, con2]"
   ]
  },
  {
   "cell_type": "code",
   "execution_count": null,
   "metadata": {
    "slideshow": {
     "slide_type": "slide"
    }
   },
   "outputs": [],
   "source": [
    "solution = opt.minimize(objective, x0, bounds= bounds, constraints = cons)"
   ]
  },
  {
   "cell_type": "code",
   "execution_count": null,
   "metadata": {
    "slideshow": {
     "slide_type": "fragment"
    }
   },
   "outputs": [],
   "source": [
    "solution"
   ]
  },
  {
   "cell_type": "markdown",
   "metadata": {
    "slideshow": {
     "slide_type": "slide"
    }
   },
   "source": [
    "### Sympy"
   ]
  },
  {
   "cell_type": "code",
   "execution_count": null,
   "metadata": {
    "slideshow": {
     "slide_type": "slide"
    }
   },
   "outputs": [],
   "source": [
    "import math\n",
    "from sympy import *\n",
    "init_printing()"
   ]
  },
  {
   "cell_type": "code",
   "execution_count": null,
   "metadata": {
    "slideshow": {
     "slide_type": "slide"
    }
   },
   "outputs": [],
   "source": [
    "math.sqrt(2)\n"
   ]
  },
  {
   "cell_type": "code",
   "execution_count": null,
   "metadata": {
    "slideshow": {
     "slide_type": "fragment"
    }
   },
   "outputs": [],
   "source": [
    "sqrt(2)"
   ]
  },
  {
   "cell_type": "markdown",
   "metadata": {
    "slideshow": {
     "slide_type": "slide"
    }
   },
   "source": [
    "Symbol represents a mathematical variable"
   ]
  },
  {
   "cell_type": "code",
   "execution_count": null,
   "metadata": {
    "slideshow": {
     "slide_type": "slide"
    }
   },
   "outputs": [],
   "source": [
    "x,y,z = symbols('x,y,z')"
   ]
  },
  {
   "cell_type": "code",
   "execution_count": null,
   "metadata": {
    "slideshow": {
     "slide_type": "fragment"
    }
   },
   "outputs": [],
   "source": [
    "sin(x)**2 + cos(x)**2\n"
   ]
  },
  {
   "cell_type": "code",
   "execution_count": null,
   "metadata": {
    "slideshow": {
     "slide_type": "slide"
    }
   },
   "outputs": [],
   "source": [
    "f = (x**2 + x*y + y**2)"
   ]
  },
  {
   "cell_type": "code",
   "execution_count": null,
   "metadata": {
    "slideshow": {
     "slide_type": "fragment"
    }
   },
   "outputs": [],
   "source": [
    "f.diff(x)"
   ]
  },
  {
   "cell_type": "markdown",
   "metadata": {
    "slideshow": {
     "slide_type": "slide"
    }
   },
   "source": [
    "Hessian: Matrix of second partial derivatives\n",
    "\n",
    "$H_{i,j} = \\frac{\\partial^2 f}{\\partial x_i \\partial x_j}$"
   ]
  },
  {
   "cell_type": "code",
   "execution_count": null,
   "metadata": {
    "slideshow": {
     "slide_type": "fragment"
    }
   },
   "outputs": [],
   "source": [
    "fhessian_sym = [[f.diff(u, v) for u in (x, y)] for v in (x, y)]"
   ]
  },
  {
   "cell_type": "code",
   "execution_count": null,
   "metadata": {
    "slideshow": {
     "slide_type": "fragment"
    }
   },
   "outputs": [],
   "source": [
    "fhessian_sym"
   ]
  },
  {
   "cell_type": "markdown",
   "metadata": {
    "slideshow": {
     "slide_type": "slide"
    }
   },
   "source": [
    "### Implementing a neural network  : Logical OR\n",
    "\n",
    "| x_1 | x_2 | y   |\n",
    "|---- | ----| --- |\n",
    "| 1 | 0 | 1|\n",
    "| 0 | 1 | 1|\n",
    "| 1 | 1 | 1|\n",
    "| 0 | 0 | 0|"
   ]
  },
  {
   "cell_type": "code",
   "execution_count": null,
   "metadata": {
    "slideshow": {
     "slide_type": "slide"
    }
   },
   "outputs": [],
   "source": [
    "data = np.array([[1,0,1],[0,1,1],[1,1,1],[0,0,0]])"
   ]
  },
  {
   "cell_type": "code",
   "execution_count": null,
   "metadata": {
    "slideshow": {
     "slide_type": "fragment"
    }
   },
   "outputs": [],
   "source": [
    "X = data[:,0:2]\n",
    "y = data[:,2].reshape(-1,1)\n",
    "print(X)\n",
    "print(y)"
   ]
  },
  {
   "cell_type": "markdown",
   "metadata": {
    "slideshow": {
     "slide_type": "slide"
    }
   },
   "source": [
    "$y_{pred} = g(w_1 . x) . w_2 $\n",
    "\n",
    "where $g(z) = \\frac{1}{1+e^{-z}}$ is the sigmoid function"
   ]
  },
  {
   "cell_type": "code",
   "execution_count": null,
   "metadata": {
    "slideshow": {
     "slide_type": "-"
    }
   },
   "outputs": [],
   "source": [
    "def sigmoid(z):\n",
    "\n",
    "    return 1/(1+np.exp(-z))"
   ]
  },
  {
   "cell_type": "code",
   "execution_count": null,
   "metadata": {
    "slideshow": {
     "slide_type": "slide"
    }
   },
   "outputs": [],
   "source": [
    "class NeuralNetwork:\n",
    "    def __init__(self,x,y,n):\n",
    "        self.inputs = x\n",
    "        self.targets = y\n",
    "        \n",
    "        self.w1 = np.random.rand(x.shape[1],n)        \n",
    "        self.w2 = np.random.rand(n,1)                  \n",
    "    \n",
    "    def update(self,theta):\n",
    "        self.w1 = theta.reshape(3,-1)[:-1,:]\n",
    "        self.w2 = theta.reshape(3,-1)[-1,:].reshape(-1,1)\n",
    "        \n",
    "        return self.cost()\n",
    "    \n",
    "    def cost(self):\n",
    "                \n",
    "        preds = self.predictions()\n",
    "\n",
    "        J = np.mean((self.targets - np.array(preds))**2)\n",
    "        \n",
    "        return J\n",
    "    \n",
    "    def predictions(self):\n",
    "        preds = []\n",
    "        for i in self.inputs:\n",
    "        \n",
    "            pred = sigmoid(i.dot(self.w1)).dot(self.w2)\n",
    "            preds.append(pred)\n",
    "        return preds\n",
    "\n",
    "net = NeuralNetwork(X,y,2)\n"
   ]
  },
  {
   "cell_type": "code",
   "execution_count": null,
   "metadata": {
    "slideshow": {
     "slide_type": "slide"
    }
   },
   "outputs": [],
   "source": [
    "def fit(self):\n",
    "    param_init = np.concatenate([net.w1,net.w2.T]).reshape(-1,)\n",
    "\n",
    "    res = opt.minimize(net.update,param_init)\n",
    "    \n",
    "    return res\n"
   ]
  },
  {
   "cell_type": "code",
   "execution_count": null,
   "metadata": {
    "scrolled": false,
    "slideshow": {
     "slide_type": "slide"
    }
   },
   "outputs": [],
   "source": [
    "fit(net)"
   ]
  },
  {
   "cell_type": "code",
   "execution_count": null,
   "metadata": {
    "scrolled": true,
    "slideshow": {
     "slide_type": "slide"
    }
   },
   "outputs": [],
   "source": [
    "net.predictions()"
   ]
  },
  {
   "cell_type": "markdown",
   "metadata": {
    "slideshow": {
     "slide_type": "slide"
    }
   },
   "source": [
    "### Polynomial regression\n",
    "\n",
    "Relationship between x and y is modelled as a nth degree polynomial\n",
    "\n",
    "$y = b_0 + b_1x + b_2x^2 +....+ b_nx^n$"
   ]
  },
  {
   "cell_type": "code",
   "execution_count": null,
   "metadata": {
    "slideshow": {
     "slide_type": "slide"
    }
   },
   "outputs": [],
   "source": [
    "x = np.linspace(0,6.28,10)\n",
    "e = np.random.uniform(low=0,high=0.25,size=10)\n",
    "\n",
    "yn = np.sin(x) + e"
   ]
  },
  {
   "cell_type": "code",
   "execution_count": null,
   "metadata": {
    "slideshow": {
     "slide_type": "slide"
    }
   },
   "outputs": [],
   "source": [
    "plt.scatter(x,yn)"
   ]
  },
  {
   "cell_type": "code",
   "execution_count": null,
   "metadata": {
    "slideshow": {
     "slide_type": "slide"
    }
   },
   "outputs": [],
   "source": [
    "class PolReg:\n",
    "    def __init__(self,x,y,d):\n",
    "        self.inputs = x\n",
    "        self.targets = y\n",
    "        \n",
    "        self.w = np.random.rand(d+1)        \n",
    "                         \n",
    "    \n",
    "    def update(self,theta):\n",
    "        self.w = theta\n",
    "        \n",
    "        return self.cost()\n",
    "    \n",
    "    def cost(self):\n",
    "                \n",
    "        preds = self.predictions()\n",
    "        \n",
    "        J = np.mean((self.targets - np.array(preds))**2)\n",
    "\n",
    "        return J\n",
    "    \n",
    "    def predictions(self,inp=None):\n",
    "        preds = []\n",
    "        if inp is None:\n",
    "            inp = self.inputs\n",
    "            \n",
    "        for i in inp:\n",
    "        \n",
    "            pred = np.poly1d(self.w)(i)\n",
    "            preds.append(pred)\n",
    "            \n",
    "        return preds\n",
    "\n",
    "    def fit(self):\n",
    "        param_init = self.w\n",
    "\n",
    "        res = opt.minimize(self.update,param_init)\n",
    "\n",
    "        return res\n",
    "\n"
   ]
  },
  {
   "cell_type": "code",
   "execution_count": null,
   "metadata": {
    "slideshow": {
     "slide_type": "slide"
    }
   },
   "outputs": [],
   "source": [
    "p2 = PolReg(x,yn,2)\n",
    "p2.fit()"
   ]
  },
  {
   "cell_type": "code",
   "execution_count": null,
   "metadata": {
    "scrolled": false,
    "slideshow": {
     "slide_type": "slide"
    }
   },
   "outputs": [],
   "source": [
    "p3 = PolReg(x,yn,3)\n",
    "p3.fit()"
   ]
  },
  {
   "cell_type": "code",
   "execution_count": null,
   "metadata": {
    "slideshow": {
     "slide_type": "slide"
    }
   },
   "outputs": [],
   "source": [
    "x1 = np.linspace(0,6.28,100)\n",
    "plt.figure(figsize=(10,4))\n",
    "\n",
    "plt.subplot(121)\n",
    "plt.plot(x1,p2.predictions(x1))\n",
    "plt.scatter(x,yn,c='red')\n",
    "plt.title(f'f is linear, loss= {p2.cost():.4f}')\n",
    "\n",
    "plt.subplot(122)\n",
    "plt.plot(x1,p3.predictions(x1))\n",
    "plt.scatter(x,yn,c='red')\n",
    "plt.title(f'f is cubic, loss= {p3.cost():.4f}')\n",
    "\n",
    "plt.show()"
   ]
  }
 ],
 "metadata": {
  "celltoolbar": "Slideshow",
  "kernelspec": {
   "display_name": "Python 3",
   "language": "python",
   "name": "python3"
  },
  "language_info": {
   "codemirror_mode": {
    "name": "ipython",
    "version": 3
   },
   "file_extension": ".py",
   "mimetype": "text/x-python",
   "name": "python",
   "nbconvert_exporter": "python",
   "pygments_lexer": "ipython3",
   "version": "3.7.1"
  }
 },
 "nbformat": 4,
 "nbformat_minor": 4
}
