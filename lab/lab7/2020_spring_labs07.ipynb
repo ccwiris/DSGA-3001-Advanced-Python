{
 "cells": [
  {
   "cell_type": "markdown",
   "metadata": {
    "slideshow": {
     "slide_type": "slide"
    }
   },
   "source": [
    "## Lab 7: Review"
   ]
  },
  {
   "cell_type": "markdown",
   "metadata": {
    "slideshow": {
     "slide_type": "slide"
    }
   },
   "source": [
    "Iterative algorithm to calculate nth fibonacci number. Time complexity: O(N)"
   ]
  },
  {
   "cell_type": "code",
   "execution_count": null,
   "metadata": {
    "slideshow": {
     "slide_type": "fragment"
    }
   },
   "outputs": [],
   "source": [
    "def fib_iter(n):\n",
    "    a,b = 0,1\n",
    "    if n<=1:\n",
    "        return n\n",
    "    \n",
    "    for i in range(2,n+1):\n",
    "        a,b = b,a+b\n",
    "    return b"
   ]
  },
  {
   "cell_type": "markdown",
   "metadata": {
    "slideshow": {
     "slide_type": "slide"
    }
   },
   "source": [
    "### Can we do better?\n",
    "\n",
    "Our recurrence relation is:\n",
    "    f(n) = f(n-1) + f(n-2)\n",
    "    \n",
    "It can be expressed as matrix multiplication\n",
    "\n",
    "$$\n",
    "    \\begin{pmatrix} f(n+1)  \\\\ f(n) \\end{pmatrix} = \\begin{pmatrix} a & b \\\\ c & d \\end{pmatrix} *                                                                  \\begin{pmatrix} f(n)  \\\\ f(n-1) \\end{pmatrix} \\\\\n",
    "$$\n",
    " \n",
    "\n",
    "$$\n",
    "    f(n+1) = a.f(n) + b.f(n-1) \\\\ \n",
    "    f(n) = c.f(n) + d.f(n-1) \n",
    "$$\n",
    "\n",
    "a=1, b=1, c=1, d=0 will satisfy the system of equations\n",
    "\n",
    "$$\n",
    "    \\begin{pmatrix} f(n+1)  \\\\ f(n) \\end{pmatrix} = \\begin{pmatrix} 1 & 1 \\\\ 1 & 0 \\end{pmatrix} *                                                                  \\begin{pmatrix} f(n)  \\\\ f(n-1) \\end{pmatrix} \\\\\n",
    "$$\n",
    "$$\n",
    "     \\qquad\\qquad  = \\begin{pmatrix} 1 & 1 \\\\ 1 & 0 \\end{pmatrix}^n *                                                                  \\begin{pmatrix} f(1)  \\\\ f(0) \\end{pmatrix} \\\\\n",
    "$$\n"
   ]
  },
  {
   "cell_type": "markdown",
   "metadata": {
    "slideshow": {
     "slide_type": "slide"
    }
   },
   "source": [
    "### Matrix exponentiation in log(n)"
   ]
  },
  {
   "cell_type": "code",
   "execution_count": null,
   "metadata": {
    "slideshow": {
     "slide_type": "fragment"
    }
   },
   "outputs": [],
   "source": [
    "import numpy as np\n",
    "def fib_matmul(n):\n",
    "    M = np.array([[1,1],[1,0]]).astype(object)\n",
    "    \n",
    "    M_pow = np.linalg.matrix_power(M,n)\n",
    "    \n",
    "    initial_values = np.array([1,0])\n",
    "    \n",
    "    ans = np.matmul(M_pow, initial_values)[1]\n",
    "\n",
    "    return ans\n",
    "\n"
   ]
  },
  {
   "cell_type": "code",
   "execution_count": null,
   "metadata": {
    "slideshow": {
     "slide_type": "slide"
    }
   },
   "outputs": [],
   "source": [
    "times_matmul = []\n",
    "times_iter = []\n",
    "\n",
    "for i in range(1,10000,10):\n",
    "    \n",
    "    t1 = %timeit -o -n 1 -q fib_matmul(i)\n",
    "    times_matmul.append(t1.average)\n",
    "\n",
    "    t2 = %timeit -o -n 1 -q fib_iter(i)\n",
    "    times_iter.append(t2.average)\n"
   ]
  },
  {
   "cell_type": "code",
   "execution_count": null,
   "metadata": {
    "slideshow": {
     "slide_type": "slide"
    }
   },
   "outputs": [],
   "source": [
    "import matplotlib.pyplot as plt"
   ]
  },
  {
   "cell_type": "code",
   "execution_count": null,
   "metadata": {
    "slideshow": {
     "slide_type": "-"
    }
   },
   "outputs": [],
   "source": [
    "x = np.arange(1,10000,10)\n",
    "plt.plot(x,times_matmul,label = 'Matmul')\n",
    "plt.plot(x, times_iter,label = 'Iterative')\n",
    "plt.xlabel('N')\n",
    "plt.ylabel('Average run time')\n",
    "plt.legend()\n",
    "plt.show()"
   ]
  },
  {
   "cell_type": "markdown",
   "metadata": {
    "slideshow": {
     "slide_type": "slide"
    }
   },
   "source": [
    "### Pairwise distance: Numba vs cython vs numpy\n",
    "\n",
    "This function will take an array representing N points in m dimensions, and return the N x N matrix of pairwise distances."
   ]
  },
  {
   "cell_type": "code",
   "execution_count": null,
   "metadata": {
    "slideshow": {
     "slide_type": "fragment"
    }
   },
   "outputs": [],
   "source": [
    "X = np.random.random((1000, 3))"
   ]
  },
  {
   "cell_type": "markdown",
   "metadata": {
    "slideshow": {
     "slide_type": "slide"
    }
   },
   "source": [
    "#### Numpy Function With Broadcasting\n",
    "\n",
    "We can use numpy's broadcasting and vectorization to calculate the pairwise distance matrix D where\n",
    "\n",
    "```D[i,j] = distance(X[i], XX[j])```\n",
    "\n",
    "if X is the array of points, shape of X would be (N,m)\n",
    "\n",
    "```X[None, :]``` will be of shape (1,N,m)\n",
    "\n",
    "```X[:,None]``` will be of shape (N,1,m)\n",
    "\n",
    "We obtain the pairwise difference ```D =  X[None,:] - X[:,None]```\n",
    "\n",
    "We want to end up with an NxN matrix, so we sum over the axis with dimension m. This is axis = -1, since it is the first axis from the end\n",
    "\n",
    "```np.sum((X[None, :] - X[:, None])**2, -1)```\n"
   ]
  },
  {
   "cell_type": "code",
   "execution_count": null,
   "metadata": {
    "slideshow": {
     "slide_type": "slide"
    }
   },
   "outputs": [],
   "source": [
    "def pairwise_numpy(X):\n",
    "    return np.sqrt(np.sum((X[None, :] - X[:, None])**2, -1))\n",
    "\n",
    "time_np = %timeit -o  pairwise_numpy(X)\n"
   ]
  },
  {
   "cell_type": "markdown",
   "metadata": {
    "slideshow": {
     "slide_type": "slide"
    }
   },
   "source": [
    "### Pure Python Function"
   ]
  },
  {
   "cell_type": "code",
   "execution_count": null,
   "metadata": {
    "slideshow": {
     "slide_type": "slide"
    }
   },
   "outputs": [],
   "source": [
    "def pairwise_python(X):\n",
    "    N = X.shape[0]\n",
    "    m = X.shape[1]\n",
    "    D = np.empty((N, N), dtype=np.float)\n",
    "    for i in range(N):\n",
    "        for j in range(N):\n",
    "            d = 0.0\n",
    "            for k in range(m):\n",
    "                tmp = X[i, k] - X[j, k]\n",
    "                d += tmp * tmp\n",
    "            D[i, j] = np.sqrt(d)\n",
    "    return D\n",
    "\n",
    "time_py = %timeit -o -n 1 pairwise_python(X)"
   ]
  },
  {
   "cell_type": "markdown",
   "metadata": {
    "slideshow": {
     "slide_type": "slide"
    }
   },
   "source": [
    "### Numba Wrapper"
   ]
  },
  {
   "cell_type": "code",
   "execution_count": null,
   "metadata": {
    "slideshow": {
     "slide_type": "slide"
    }
   },
   "outputs": [],
   "source": [
    "from numba import double,jit\n",
    "\n",
    "@jit(nopython=True)\n",
    "def pairwise_numba(X):\n",
    "    N = X.shape[0]\n",
    "    m = X.shape[1]\n",
    "    D = np.empty((N, N), dtype=double)\n",
    "    for i in range(N):\n",
    "        for j in range(N):\n",
    "            d = 0.0\n",
    "            for k in range(m):\n",
    "                tmp = X[i, k] - X[j, k]\n",
    "                d += tmp * tmp\n",
    "            D[i, j] = np.sqrt(d)\n",
    "    return D\n",
    "\n",
    "time_nb = %timeit -o pairwise_numba(X)"
   ]
  },
  {
   "cell_type": "markdown",
   "metadata": {
    "slideshow": {
     "slide_type": "slide"
    }
   },
   "source": [
    "### Numba with parallelism"
   ]
  },
  {
   "cell_type": "code",
   "execution_count": null,
   "metadata": {
    "slideshow": {
     "slide_type": "slide"
    }
   },
   "outputs": [],
   "source": [
    "from numba import prange\n",
    "\n",
    "@jit(nopython=True,parallel=True)\n",
    "def pairwise_numba_parallel(X):\n",
    "    N = X.shape[0]\n",
    "    m = X.shape[1]\n",
    "    D = np.empty((N, N), dtype=double)\n",
    "    for i in prange(N):\n",
    "        for j in prange(N):\n",
    "            d = 0.0\n",
    "            for k in prange(m):\n",
    "                tmp = X[i, k] - X[j, k]\n",
    "                d += tmp * tmp\n",
    "            D[i, j] = np.sqrt(d)\n",
    "    return D\n",
    "\n",
    "time_nb_par = %timeit -o pairwise_numba_parallel(X)"
   ]
  },
  {
   "cell_type": "markdown",
   "metadata": {},
   "source": [
    "### Numba with fast math"
   ]
  },
  {
   "cell_type": "code",
   "execution_count": null,
   "metadata": {},
   "outputs": [],
   "source": [
    "@jit(nopython=True, parallel=True, fastmath=True)\n",
    "def pairwise_numba_parallel_quickmaths(X):\n",
    "    N = X.shape[0]\n",
    "    m = X.shape[1]\n",
    "    D = np.empty((N, N), dtype=double)\n",
    "    for i in prange(N):\n",
    "        for j in prange(N):\n",
    "            d = 0.0\n",
    "            for k in prange(m):\n",
    "                tmp = X[i, k] - X[j, k]\n",
    "                d += tmp * tmp\n",
    "            D[i, j] = np.sqrt(d)\n",
    "    return D\n",
    "\n",
    "time_numba_fastmath = %timeit -o pairwise_numba_parallel_quickmaths(X)"
   ]
  },
  {
   "cell_type": "markdown",
   "metadata": {
    "slideshow": {
     "slide_type": "slide"
    }
   },
   "source": [
    "### Cython Function"
   ]
  },
  {
   "cell_type": "code",
   "execution_count": null,
   "metadata": {
    "slideshow": {
     "slide_type": "slide"
    }
   },
   "outputs": [],
   "source": [
    "%load_ext cython"
   ]
  },
  {
   "cell_type": "code",
   "execution_count": null,
   "metadata": {
    "slideshow": {
     "slide_type": "slide"
    }
   },
   "outputs": [],
   "source": [
    "%%cython\n",
    "import numpy as np\n",
    "cimport cython\n",
    "from libc.math cimport sqrt\n",
    "\n",
    "@cython.boundscheck(False)\n",
    "@cython.wraparound(False)\n",
    "def pairwise_cython(double[:, :] X):\n",
    "    cdef int N = X.shape[0]\n",
    "    cdef int m = X.shape[1]\n",
    "    cdef double tmp, d\n",
    "    cdef double[:, :] D = np.empty((N, N), dtype=np.float64)\n",
    "    for i in range(N):\n",
    "        for j in range(N):\n",
    "            d = 0.0\n",
    "            for k in range(m):\n",
    "                tmp = X[i, k] - X[j, k]\n",
    "                d += tmp * tmp\n",
    "            D[i, j] = sqrt(d)\n",
    "    return np.asarray(D)\n"
   ]
  },
  {
   "cell_type": "code",
   "execution_count": null,
   "metadata": {
    "slideshow": {
     "slide_type": "slide"
    }
   },
   "outputs": [],
   "source": [
    "time_cy = %timeit -o pairwise_cython(X)"
   ]
  },
  {
   "cell_type": "code",
   "execution_count": null,
   "metadata": {
    "slideshow": {
     "slide_type": "slide"
    }
   },
   "outputs": [],
   "source": [
    "from scipy.spatial.distance import cdist\n",
    "time_sp = %timeit -o cdist(X, X)"
   ]
  },
  {
   "cell_type": "code",
   "execution_count": null,
   "metadata": {
    "slideshow": {
     "slide_type": "slide"
    }
   },
   "outputs": [],
   "source": [
    "labels = ['python', 'numpy',  'scipy', 'cython', 'numba','numba\\nparallel','numba\\nmath']\n",
    "timings = [time_py, time_np, time_sp, time_cy, time_nb,time_nb_par,time_numba_fastmath]\n",
    "timings = [t.average for t in timings]\n",
    "\n",
    "x = np.arange(len(labels))\n",
    "plt.axes(xticks=x, yscale='log')\n",
    "plt.bar(x , timings, width=0.6)\n",
    "\n",
    "plt.xlim(-0.5, len(labels) - 0.5)\n",
    "plt.ylim(1E-6, 1E1)\n",
    "plt.xticks(range(len(labels)),labels,size=12)\n",
    "plt.ylabel('time (s)')\n",
    "plt.title(\"Pairwise Distance Timings\")\n",
    "plt.show()\n"
   ]
  },
  {
   "cell_type": "code",
   "execution_count": null,
   "metadata": {
    "slideshow": {
     "slide_type": "slide"
    }
   },
   "outputs": [],
   "source": [
    "@jit(nopython=True, parallel=True, fastmath=True)\n",
    "def pairwise_numba_parallel_fastmath(X):\n",
    "    N = X.shape[0]\n",
    "    m = X.shape[1]\n",
    "    D = np.empty((N, N), dtype=double)\n",
    "    for i in prange(N):\n",
    "        for j in prange(N):\n",
    "            d = 0.0\n",
    "            for k in prange(m):\n",
    "                tmp = X[i, k] - X[j, k]\n",
    "                d += tmp * tmp\n",
    "            D[i, j] = np.sqrt(d)\n",
    "    return D\n",
    "\n",
    "%timeit -o pairwise_numba_parallel_fastmath(X)"
   ]
  },
  {
   "cell_type": "code",
   "execution_count": null,
   "metadata": {
    "slideshow": {
     "slide_type": "slide"
    }
   },
   "outputs": [],
   "source": [
    "import numpy as np\n",
    "from numba import cuda\n",
    "\n",
    "\n",
    "@cuda.jit\n",
    "def distance_matrix(mat, out):\n",
    "    n = mat.shape[0]\n",
    "    m = mat.shape[1]\n",
    "    i, j = cuda.grid(2)\n",
    "    d = 0\n",
    "    if i < n and j < n:\n",
    "        for k in range(m):\n",
    "            tmp = mat[i, k] - mat[j, k]\n",
    "            d += tmp * tmp\n",
    "        out[i, j] = d\n",
    "\n",
    "def pairwise_numba_gpu(mat):\n",
    "    rows = mat.shape[0]\n",
    "\n",
    "    block_dim = (16, 16)\n",
    "    grid_dim = (int(rows/block_dim[0] + 1), int(rows/block_dim[1] + 1))\n",
    "\n",
    "    mat2 = cuda.to_device(mat)\n",
    "    out2 = cuda.device_array((rows, rows))\n",
    "    distance_matrix[grid_dim, block_dim](mat2, out2)\n",
    "    out = out2.copy_to_host()\n",
    "\n",
    "    return out\n"
   ]
  },
  {
   "cell_type": "code",
   "execution_count": null,
   "metadata": {
    "slideshow": {
     "slide_type": "slide"
    }
   },
   "outputs": [],
   "source": [
    "%timeit pairwise_numba_gpu(X)"
   ]
  },
  {
   "cell_type": "markdown",
   "metadata": {
    "slideshow": {
     "slide_type": "slide"
    }
   },
   "source": [
    "#### Why is the GPU slower than the CPU\n",
    "\n",
    "- Our inputs are too small: We need larger arrays to keep the GPU occupied\n",
    "- Copying data from and to the GPU "
   ]
  },
  {
   "cell_type": "code",
   "execution_count": null,
   "metadata": {
    "slideshow": {
     "slide_type": "slide"
    }
   },
   "outputs": [],
   "source": [
    "X = np.random.random((1024,256))"
   ]
  },
  {
   "cell_type": "code",
   "execution_count": null,
   "metadata": {
    "slideshow": {
     "slide_type": "fragment"
    }
   },
   "outputs": [],
   "source": [
    "%timeit pairwise_numba_gpu(X)"
   ]
  },
  {
   "cell_type": "code",
   "execution_count": null,
   "metadata": {
    "slideshow": {
     "slide_type": "fragment"
    }
   },
   "outputs": [],
   "source": [
    "%timeit pairwise_numba_parallel(X)"
   ]
  }
 ],
 "metadata": {
  "celltoolbar": "Slideshow",
  "kernelspec": {
   "display_name": "Python 3",
   "language": "python",
   "name": "python3"
  },
  "language_info": {
   "codemirror_mode": {
    "name": "ipython",
    "version": 3
   },
   "file_extension": ".py",
   "mimetype": "text/x-python",
   "name": "python",
   "nbconvert_exporter": "python",
   "pygments_lexer": "ipython3",
   "version": "3.7.6"
  }
 },
 "nbformat": 4,
 "nbformat_minor": 4
}
